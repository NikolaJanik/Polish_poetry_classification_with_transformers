{
  "nbformat": 4,
  "nbformat_minor": 0,
  "metadata": {
    "colab": {
      "provenance": [],
      "authorship_tag": "ABX9TyMKtajKxL9HSyGrjsVAlNUC",
      "include_colab_link": true
    },
    "kernelspec": {
      "name": "python3",
      "display_name": "Python 3"
    },
    "language_info": {
      "name": "python"
    },
    "widgets": {
      "application/vnd.jupyter.widget-state+json": {
        "e859a929885744949d5f06ef9b2f1e21": {
          "model_module": "@jupyter-widgets/controls",
          "model_name": "HBoxModel",
          "model_module_version": "1.5.0",
          "state": {
            "_dom_classes": [],
            "_model_module": "@jupyter-widgets/controls",
            "_model_module_version": "1.5.0",
            "_model_name": "HBoxModel",
            "_view_count": null,
            "_view_module": "@jupyter-widgets/controls",
            "_view_module_version": "1.5.0",
            "_view_name": "HBoxView",
            "box_style": "",
            "children": [
              "IPY_MODEL_ce949c9ff1314c798f1082f61a372174",
              "IPY_MODEL_a21521fe748e40489e334b11f1ebf07a",
              "IPY_MODEL_ce47bf44dce14f509f54133a9dba176f"
            ],
            "layout": "IPY_MODEL_e4eaa8275c20409a875cd2f01ee6a048"
          }
        },
        "ce949c9ff1314c798f1082f61a372174": {
          "model_module": "@jupyter-widgets/controls",
          "model_name": "HTMLModel",
          "model_module_version": "1.5.0",
          "state": {
            "_dom_classes": [],
            "_model_module": "@jupyter-widgets/controls",
            "_model_module_version": "1.5.0",
            "_model_name": "HTMLModel",
            "_view_count": null,
            "_view_module": "@jupyter-widgets/controls",
            "_view_module_version": "1.5.0",
            "_view_name": "HTMLView",
            "description": "",
            "description_tooltip": null,
            "layout": "IPY_MODEL_c48216d088d9453ab67bd2141ebb94fd",
            "placeholder": "​",
            "style": "IPY_MODEL_983afc7169284f0eaef5161ef5505bf2",
            "value": "tokenizer_config.json: 100%"
          }
        },
        "a21521fe748e40489e334b11f1ebf07a": {
          "model_module": "@jupyter-widgets/controls",
          "model_name": "FloatProgressModel",
          "model_module_version": "1.5.0",
          "state": {
            "_dom_classes": [],
            "_model_module": "@jupyter-widgets/controls",
            "_model_module_version": "1.5.0",
            "_model_name": "FloatProgressModel",
            "_view_count": null,
            "_view_module": "@jupyter-widgets/controls",
            "_view_module_version": "1.5.0",
            "_view_name": "ProgressView",
            "bar_style": "success",
            "description": "",
            "description_tooltip": null,
            "layout": "IPY_MODEL_ce3dfdb893f542a0b080dd115711b2b6",
            "max": 229,
            "min": 0,
            "orientation": "horizontal",
            "style": "IPY_MODEL_0568963534a34a06abeef6a9d1d010a2",
            "value": 229
          }
        },
        "ce47bf44dce14f509f54133a9dba176f": {
          "model_module": "@jupyter-widgets/controls",
          "model_name": "HTMLModel",
          "model_module_version": "1.5.0",
          "state": {
            "_dom_classes": [],
            "_model_module": "@jupyter-widgets/controls",
            "_model_module_version": "1.5.0",
            "_model_name": "HTMLModel",
            "_view_count": null,
            "_view_module": "@jupyter-widgets/controls",
            "_view_module_version": "1.5.0",
            "_view_name": "HTMLView",
            "description": "",
            "description_tooltip": null,
            "layout": "IPY_MODEL_ed170904ce424f4c9ba0eee7a2943b84",
            "placeholder": "​",
            "style": "IPY_MODEL_d473e457e6d84257993b3a512d64ebc3",
            "value": " 229/229 [00:00&lt;00:00, 18.6kB/s]"
          }
        },
        "e4eaa8275c20409a875cd2f01ee6a048": {
          "model_module": "@jupyter-widgets/base",
          "model_name": "LayoutModel",
          "model_module_version": "1.2.0",
          "state": {
            "_model_module": "@jupyter-widgets/base",
            "_model_module_version": "1.2.0",
            "_model_name": "LayoutModel",
            "_view_count": null,
            "_view_module": "@jupyter-widgets/base",
            "_view_module_version": "1.2.0",
            "_view_name": "LayoutView",
            "align_content": null,
            "align_items": null,
            "align_self": null,
            "border": null,
            "bottom": null,
            "display": null,
            "flex": null,
            "flex_flow": null,
            "grid_area": null,
            "grid_auto_columns": null,
            "grid_auto_flow": null,
            "grid_auto_rows": null,
            "grid_column": null,
            "grid_gap": null,
            "grid_row": null,
            "grid_template_areas": null,
            "grid_template_columns": null,
            "grid_template_rows": null,
            "height": null,
            "justify_content": null,
            "justify_items": null,
            "left": null,
            "margin": null,
            "max_height": null,
            "max_width": null,
            "min_height": null,
            "min_width": null,
            "object_fit": null,
            "object_position": null,
            "order": null,
            "overflow": null,
            "overflow_x": null,
            "overflow_y": null,
            "padding": null,
            "right": null,
            "top": null,
            "visibility": null,
            "width": null
          }
        },
        "c48216d088d9453ab67bd2141ebb94fd": {
          "model_module": "@jupyter-widgets/base",
          "model_name": "LayoutModel",
          "model_module_version": "1.2.0",
          "state": {
            "_model_module": "@jupyter-widgets/base",
            "_model_module_version": "1.2.0",
            "_model_name": "LayoutModel",
            "_view_count": null,
            "_view_module": "@jupyter-widgets/base",
            "_view_module_version": "1.2.0",
            "_view_name": "LayoutView",
            "align_content": null,
            "align_items": null,
            "align_self": null,
            "border": null,
            "bottom": null,
            "display": null,
            "flex": null,
            "flex_flow": null,
            "grid_area": null,
            "grid_auto_columns": null,
            "grid_auto_flow": null,
            "grid_auto_rows": null,
            "grid_column": null,
            "grid_gap": null,
            "grid_row": null,
            "grid_template_areas": null,
            "grid_template_columns": null,
            "grid_template_rows": null,
            "height": null,
            "justify_content": null,
            "justify_items": null,
            "left": null,
            "margin": null,
            "max_height": null,
            "max_width": null,
            "min_height": null,
            "min_width": null,
            "object_fit": null,
            "object_position": null,
            "order": null,
            "overflow": null,
            "overflow_x": null,
            "overflow_y": null,
            "padding": null,
            "right": null,
            "top": null,
            "visibility": null,
            "width": null
          }
        },
        "983afc7169284f0eaef5161ef5505bf2": {
          "model_module": "@jupyter-widgets/controls",
          "model_name": "DescriptionStyleModel",
          "model_module_version": "1.5.0",
          "state": {
            "_model_module": "@jupyter-widgets/controls",
            "_model_module_version": "1.5.0",
            "_model_name": "DescriptionStyleModel",
            "_view_count": null,
            "_view_module": "@jupyter-widgets/base",
            "_view_module_version": "1.2.0",
            "_view_name": "StyleView",
            "description_width": ""
          }
        },
        "ce3dfdb893f542a0b080dd115711b2b6": {
          "model_module": "@jupyter-widgets/base",
          "model_name": "LayoutModel",
          "model_module_version": "1.2.0",
          "state": {
            "_model_module": "@jupyter-widgets/base",
            "_model_module_version": "1.2.0",
            "_model_name": "LayoutModel",
            "_view_count": null,
            "_view_module": "@jupyter-widgets/base",
            "_view_module_version": "1.2.0",
            "_view_name": "LayoutView",
            "align_content": null,
            "align_items": null,
            "align_self": null,
            "border": null,
            "bottom": null,
            "display": null,
            "flex": null,
            "flex_flow": null,
            "grid_area": null,
            "grid_auto_columns": null,
            "grid_auto_flow": null,
            "grid_auto_rows": null,
            "grid_column": null,
            "grid_gap": null,
            "grid_row": null,
            "grid_template_areas": null,
            "grid_template_columns": null,
            "grid_template_rows": null,
            "height": null,
            "justify_content": null,
            "justify_items": null,
            "left": null,
            "margin": null,
            "max_height": null,
            "max_width": null,
            "min_height": null,
            "min_width": null,
            "object_fit": null,
            "object_position": null,
            "order": null,
            "overflow": null,
            "overflow_x": null,
            "overflow_y": null,
            "padding": null,
            "right": null,
            "top": null,
            "visibility": null,
            "width": null
          }
        },
        "0568963534a34a06abeef6a9d1d010a2": {
          "model_module": "@jupyter-widgets/controls",
          "model_name": "ProgressStyleModel",
          "model_module_version": "1.5.0",
          "state": {
            "_model_module": "@jupyter-widgets/controls",
            "_model_module_version": "1.5.0",
            "_model_name": "ProgressStyleModel",
            "_view_count": null,
            "_view_module": "@jupyter-widgets/base",
            "_view_module_version": "1.2.0",
            "_view_name": "StyleView",
            "bar_color": null,
            "description_width": ""
          }
        },
        "ed170904ce424f4c9ba0eee7a2943b84": {
          "model_module": "@jupyter-widgets/base",
          "model_name": "LayoutModel",
          "model_module_version": "1.2.0",
          "state": {
            "_model_module": "@jupyter-widgets/base",
            "_model_module_version": "1.2.0",
            "_model_name": "LayoutModel",
            "_view_count": null,
            "_view_module": "@jupyter-widgets/base",
            "_view_module_version": "1.2.0",
            "_view_name": "LayoutView",
            "align_content": null,
            "align_items": null,
            "align_self": null,
            "border": null,
            "bottom": null,
            "display": null,
            "flex": null,
            "flex_flow": null,
            "grid_area": null,
            "grid_auto_columns": null,
            "grid_auto_flow": null,
            "grid_auto_rows": null,
            "grid_column": null,
            "grid_gap": null,
            "grid_row": null,
            "grid_template_areas": null,
            "grid_template_columns": null,
            "grid_template_rows": null,
            "height": null,
            "justify_content": null,
            "justify_items": null,
            "left": null,
            "margin": null,
            "max_height": null,
            "max_width": null,
            "min_height": null,
            "min_width": null,
            "object_fit": null,
            "object_position": null,
            "order": null,
            "overflow": null,
            "overflow_x": null,
            "overflow_y": null,
            "padding": null,
            "right": null,
            "top": null,
            "visibility": null,
            "width": null
          }
        },
        "d473e457e6d84257993b3a512d64ebc3": {
          "model_module": "@jupyter-widgets/controls",
          "model_name": "DescriptionStyleModel",
          "model_module_version": "1.5.0",
          "state": {
            "_model_module": "@jupyter-widgets/controls",
            "_model_module_version": "1.5.0",
            "_model_name": "DescriptionStyleModel",
            "_view_count": null,
            "_view_module": "@jupyter-widgets/base",
            "_view_module_version": "1.2.0",
            "_view_name": "StyleView",
            "description_width": ""
          }
        },
        "ae46300571f34a3fbecdc71f50b0b8c2": {
          "model_module": "@jupyter-widgets/controls",
          "model_name": "HBoxModel",
          "model_module_version": "1.5.0",
          "state": {
            "_dom_classes": [],
            "_model_module": "@jupyter-widgets/controls",
            "_model_module_version": "1.5.0",
            "_model_name": "HBoxModel",
            "_view_count": null,
            "_view_module": "@jupyter-widgets/controls",
            "_view_module_version": "1.5.0",
            "_view_name": "HBoxView",
            "box_style": "",
            "children": [
              "IPY_MODEL_c0fb00b1a8704c9aa03052e57ce03bd1",
              "IPY_MODEL_b3d2d45503d04908bad8f051de08ec7a",
              "IPY_MODEL_662edb8e671d41a0ab6f499e1a5e26d4"
            ],
            "layout": "IPY_MODEL_09597310248449938a5061e7fba53f73"
          }
        },
        "c0fb00b1a8704c9aa03052e57ce03bd1": {
          "model_module": "@jupyter-widgets/controls",
          "model_name": "HTMLModel",
          "model_module_version": "1.5.0",
          "state": {
            "_dom_classes": [],
            "_model_module": "@jupyter-widgets/controls",
            "_model_module_version": "1.5.0",
            "_model_name": "HTMLModel",
            "_view_count": null,
            "_view_module": "@jupyter-widgets/controls",
            "_view_module_version": "1.5.0",
            "_view_name": "HTMLView",
            "description": "",
            "description_tooltip": null,
            "layout": "IPY_MODEL_34b4b68ddbf74d3da6e1d71e86ff3d6c",
            "placeholder": "​",
            "style": "IPY_MODEL_4ddfc04d762540c283e8626a13166d5a",
            "value": "vocab.json: "
          }
        },
        "b3d2d45503d04908bad8f051de08ec7a": {
          "model_module": "@jupyter-widgets/controls",
          "model_name": "FloatProgressModel",
          "model_module_version": "1.5.0",
          "state": {
            "_dom_classes": [],
            "_model_module": "@jupyter-widgets/controls",
            "_model_module_version": "1.5.0",
            "_model_name": "FloatProgressModel",
            "_view_count": null,
            "_view_module": "@jupyter-widgets/controls",
            "_view_module_version": "1.5.0",
            "_view_name": "ProgressView",
            "bar_style": "success",
            "description": "",
            "description_tooltip": null,
            "layout": "IPY_MODEL_68073bdc5832418fa1eb168629fed197",
            "max": 1,
            "min": 0,
            "orientation": "horizontal",
            "style": "IPY_MODEL_782d567090c24f55a80140755322cf57",
            "value": 1
          }
        },
        "662edb8e671d41a0ab6f499e1a5e26d4": {
          "model_module": "@jupyter-widgets/controls",
          "model_name": "HTMLModel",
          "model_module_version": "1.5.0",
          "state": {
            "_dom_classes": [],
            "_model_module": "@jupyter-widgets/controls",
            "_model_module_version": "1.5.0",
            "_model_name": "HTMLModel",
            "_view_count": null,
            "_view_module": "@jupyter-widgets/controls",
            "_view_module_version": "1.5.0",
            "_view_name": "HTMLView",
            "description": "",
            "description_tooltip": null,
            "layout": "IPY_MODEL_c6b9d27e5e3e4294bc623dd3dc94fd89",
            "placeholder": "​",
            "style": "IPY_MODEL_9f480b925a9145b3a5f477a5e2b2cc6c",
            "value": " 907k/? [00:00&lt;00:00, 19.7MB/s]"
          }
        },
        "09597310248449938a5061e7fba53f73": {
          "model_module": "@jupyter-widgets/base",
          "model_name": "LayoutModel",
          "model_module_version": "1.2.0",
          "state": {
            "_model_module": "@jupyter-widgets/base",
            "_model_module_version": "1.2.0",
            "_model_name": "LayoutModel",
            "_view_count": null,
            "_view_module": "@jupyter-widgets/base",
            "_view_module_version": "1.2.0",
            "_view_name": "LayoutView",
            "align_content": null,
            "align_items": null,
            "align_self": null,
            "border": null,
            "bottom": null,
            "display": null,
            "flex": null,
            "flex_flow": null,
            "grid_area": null,
            "grid_auto_columns": null,
            "grid_auto_flow": null,
            "grid_auto_rows": null,
            "grid_column": null,
            "grid_gap": null,
            "grid_row": null,
            "grid_template_areas": null,
            "grid_template_columns": null,
            "grid_template_rows": null,
            "height": null,
            "justify_content": null,
            "justify_items": null,
            "left": null,
            "margin": null,
            "max_height": null,
            "max_width": null,
            "min_height": null,
            "min_width": null,
            "object_fit": null,
            "object_position": null,
            "order": null,
            "overflow": null,
            "overflow_x": null,
            "overflow_y": null,
            "padding": null,
            "right": null,
            "top": null,
            "visibility": null,
            "width": null
          }
        },
        "34b4b68ddbf74d3da6e1d71e86ff3d6c": {
          "model_module": "@jupyter-widgets/base",
          "model_name": "LayoutModel",
          "model_module_version": "1.2.0",
          "state": {
            "_model_module": "@jupyter-widgets/base",
            "_model_module_version": "1.2.0",
            "_model_name": "LayoutModel",
            "_view_count": null,
            "_view_module": "@jupyter-widgets/base",
            "_view_module_version": "1.2.0",
            "_view_name": "LayoutView",
            "align_content": null,
            "align_items": null,
            "align_self": null,
            "border": null,
            "bottom": null,
            "display": null,
            "flex": null,
            "flex_flow": null,
            "grid_area": null,
            "grid_auto_columns": null,
            "grid_auto_flow": null,
            "grid_auto_rows": null,
            "grid_column": null,
            "grid_gap": null,
            "grid_row": null,
            "grid_template_areas": null,
            "grid_template_columns": null,
            "grid_template_rows": null,
            "height": null,
            "justify_content": null,
            "justify_items": null,
            "left": null,
            "margin": null,
            "max_height": null,
            "max_width": null,
            "min_height": null,
            "min_width": null,
            "object_fit": null,
            "object_position": null,
            "order": null,
            "overflow": null,
            "overflow_x": null,
            "overflow_y": null,
            "padding": null,
            "right": null,
            "top": null,
            "visibility": null,
            "width": null
          }
        },
        "4ddfc04d762540c283e8626a13166d5a": {
          "model_module": "@jupyter-widgets/controls",
          "model_name": "DescriptionStyleModel",
          "model_module_version": "1.5.0",
          "state": {
            "_model_module": "@jupyter-widgets/controls",
            "_model_module_version": "1.5.0",
            "_model_name": "DescriptionStyleModel",
            "_view_count": null,
            "_view_module": "@jupyter-widgets/base",
            "_view_module_version": "1.2.0",
            "_view_name": "StyleView",
            "description_width": ""
          }
        },
        "68073bdc5832418fa1eb168629fed197": {
          "model_module": "@jupyter-widgets/base",
          "model_name": "LayoutModel",
          "model_module_version": "1.2.0",
          "state": {
            "_model_module": "@jupyter-widgets/base",
            "_model_module_version": "1.2.0",
            "_model_name": "LayoutModel",
            "_view_count": null,
            "_view_module": "@jupyter-widgets/base",
            "_view_module_version": "1.2.0",
            "_view_name": "LayoutView",
            "align_content": null,
            "align_items": null,
            "align_self": null,
            "border": null,
            "bottom": null,
            "display": null,
            "flex": null,
            "flex_flow": null,
            "grid_area": null,
            "grid_auto_columns": null,
            "grid_auto_flow": null,
            "grid_auto_rows": null,
            "grid_column": null,
            "grid_gap": null,
            "grid_row": null,
            "grid_template_areas": null,
            "grid_template_columns": null,
            "grid_template_rows": null,
            "height": null,
            "justify_content": null,
            "justify_items": null,
            "left": null,
            "margin": null,
            "max_height": null,
            "max_width": null,
            "min_height": null,
            "min_width": null,
            "object_fit": null,
            "object_position": null,
            "order": null,
            "overflow": null,
            "overflow_x": null,
            "overflow_y": null,
            "padding": null,
            "right": null,
            "top": null,
            "visibility": null,
            "width": "20px"
          }
        },
        "782d567090c24f55a80140755322cf57": {
          "model_module": "@jupyter-widgets/controls",
          "model_name": "ProgressStyleModel",
          "model_module_version": "1.5.0",
          "state": {
            "_model_module": "@jupyter-widgets/controls",
            "_model_module_version": "1.5.0",
            "_model_name": "ProgressStyleModel",
            "_view_count": null,
            "_view_module": "@jupyter-widgets/base",
            "_view_module_version": "1.2.0",
            "_view_name": "StyleView",
            "bar_color": null,
            "description_width": ""
          }
        },
        "c6b9d27e5e3e4294bc623dd3dc94fd89": {
          "model_module": "@jupyter-widgets/base",
          "model_name": "LayoutModel",
          "model_module_version": "1.2.0",
          "state": {
            "_model_module": "@jupyter-widgets/base",
            "_model_module_version": "1.2.0",
            "_model_name": "LayoutModel",
            "_view_count": null,
            "_view_module": "@jupyter-widgets/base",
            "_view_module_version": "1.2.0",
            "_view_name": "LayoutView",
            "align_content": null,
            "align_items": null,
            "align_self": null,
            "border": null,
            "bottom": null,
            "display": null,
            "flex": null,
            "flex_flow": null,
            "grid_area": null,
            "grid_auto_columns": null,
            "grid_auto_flow": null,
            "grid_auto_rows": null,
            "grid_column": null,
            "grid_gap": null,
            "grid_row": null,
            "grid_template_areas": null,
            "grid_template_columns": null,
            "grid_template_rows": null,
            "height": null,
            "justify_content": null,
            "justify_items": null,
            "left": null,
            "margin": null,
            "max_height": null,
            "max_width": null,
            "min_height": null,
            "min_width": null,
            "object_fit": null,
            "object_position": null,
            "order": null,
            "overflow": null,
            "overflow_x": null,
            "overflow_y": null,
            "padding": null,
            "right": null,
            "top": null,
            "visibility": null,
            "width": null
          }
        },
        "9f480b925a9145b3a5f477a5e2b2cc6c": {
          "model_module": "@jupyter-widgets/controls",
          "model_name": "DescriptionStyleModel",
          "model_module_version": "1.5.0",
          "state": {
            "_model_module": "@jupyter-widgets/controls",
            "_model_module_version": "1.5.0",
            "_model_name": "DescriptionStyleModel",
            "_view_count": null,
            "_view_module": "@jupyter-widgets/base",
            "_view_module_version": "1.2.0",
            "_view_name": "StyleView",
            "description_width": ""
          }
        },
        "9cfdc8327f4e42dd8d7575450225b8f1": {
          "model_module": "@jupyter-widgets/controls",
          "model_name": "HBoxModel",
          "model_module_version": "1.5.0",
          "state": {
            "_dom_classes": [],
            "_model_module": "@jupyter-widgets/controls",
            "_model_module_version": "1.5.0",
            "_model_name": "HBoxModel",
            "_view_count": null,
            "_view_module": "@jupyter-widgets/controls",
            "_view_module_version": "1.5.0",
            "_view_name": "HBoxView",
            "box_style": "",
            "children": [
              "IPY_MODEL_409c9c63ebc14f3db27f56f4af6be07a",
              "IPY_MODEL_4a5e770e1c8a46988028a4e3faa0b03e",
              "IPY_MODEL_f60916f41a284271be4b4e80cb3db368"
            ],
            "layout": "IPY_MODEL_cd2006ebf9204ff8a9d86473edfcb648"
          }
        },
        "409c9c63ebc14f3db27f56f4af6be07a": {
          "model_module": "@jupyter-widgets/controls",
          "model_name": "HTMLModel",
          "model_module_version": "1.5.0",
          "state": {
            "_dom_classes": [],
            "_model_module": "@jupyter-widgets/controls",
            "_model_module_version": "1.5.0",
            "_model_name": "HTMLModel",
            "_view_count": null,
            "_view_module": "@jupyter-widgets/controls",
            "_view_module_version": "1.5.0",
            "_view_name": "HTMLView",
            "description": "",
            "description_tooltip": null,
            "layout": "IPY_MODEL_ea7be24f42e74f6bbe4596265dd5896c",
            "placeholder": "​",
            "style": "IPY_MODEL_6c4b063b95e446eaa52b76f7f0adf4b2",
            "value": "merges.txt: "
          }
        },
        "4a5e770e1c8a46988028a4e3faa0b03e": {
          "model_module": "@jupyter-widgets/controls",
          "model_name": "FloatProgressModel",
          "model_module_version": "1.5.0",
          "state": {
            "_dom_classes": [],
            "_model_module": "@jupyter-widgets/controls",
            "_model_module_version": "1.5.0",
            "_model_name": "FloatProgressModel",
            "_view_count": null,
            "_view_module": "@jupyter-widgets/controls",
            "_view_module_version": "1.5.0",
            "_view_name": "ProgressView",
            "bar_style": "success",
            "description": "",
            "description_tooltip": null,
            "layout": "IPY_MODEL_eb6070cf032d46268a1c9b21640586a9",
            "max": 1,
            "min": 0,
            "orientation": "horizontal",
            "style": "IPY_MODEL_27fef0aad63f40d6a0db872f9eee7a4c",
            "value": 1
          }
        },
        "f60916f41a284271be4b4e80cb3db368": {
          "model_module": "@jupyter-widgets/controls",
          "model_name": "HTMLModel",
          "model_module_version": "1.5.0",
          "state": {
            "_dom_classes": [],
            "_model_module": "@jupyter-widgets/controls",
            "_model_module_version": "1.5.0",
            "_model_name": "HTMLModel",
            "_view_count": null,
            "_view_module": "@jupyter-widgets/controls",
            "_view_module_version": "1.5.0",
            "_view_name": "HTMLView",
            "description": "",
            "description_tooltip": null,
            "layout": "IPY_MODEL_3ed41be79d1744f4bc5c4b890dec2409",
            "placeholder": "​",
            "style": "IPY_MODEL_51c5f7d66b25486cbd18d19a6cfd807c",
            "value": " 556k/? [00:00&lt;00:00, 27.1MB/s]"
          }
        },
        "cd2006ebf9204ff8a9d86473edfcb648": {
          "model_module": "@jupyter-widgets/base",
          "model_name": "LayoutModel",
          "model_module_version": "1.2.0",
          "state": {
            "_model_module": "@jupyter-widgets/base",
            "_model_module_version": "1.2.0",
            "_model_name": "LayoutModel",
            "_view_count": null,
            "_view_module": "@jupyter-widgets/base",
            "_view_module_version": "1.2.0",
            "_view_name": "LayoutView",
            "align_content": null,
            "align_items": null,
            "align_self": null,
            "border": null,
            "bottom": null,
            "display": null,
            "flex": null,
            "flex_flow": null,
            "grid_area": null,
            "grid_auto_columns": null,
            "grid_auto_flow": null,
            "grid_auto_rows": null,
            "grid_column": null,
            "grid_gap": null,
            "grid_row": null,
            "grid_template_areas": null,
            "grid_template_columns": null,
            "grid_template_rows": null,
            "height": null,
            "justify_content": null,
            "justify_items": null,
            "left": null,
            "margin": null,
            "max_height": null,
            "max_width": null,
            "min_height": null,
            "min_width": null,
            "object_fit": null,
            "object_position": null,
            "order": null,
            "overflow": null,
            "overflow_x": null,
            "overflow_y": null,
            "padding": null,
            "right": null,
            "top": null,
            "visibility": null,
            "width": null
          }
        },
        "ea7be24f42e74f6bbe4596265dd5896c": {
          "model_module": "@jupyter-widgets/base",
          "model_name": "LayoutModel",
          "model_module_version": "1.2.0",
          "state": {
            "_model_module": "@jupyter-widgets/base",
            "_model_module_version": "1.2.0",
            "_model_name": "LayoutModel",
            "_view_count": null,
            "_view_module": "@jupyter-widgets/base",
            "_view_module_version": "1.2.0",
            "_view_name": "LayoutView",
            "align_content": null,
            "align_items": null,
            "align_self": null,
            "border": null,
            "bottom": null,
            "display": null,
            "flex": null,
            "flex_flow": null,
            "grid_area": null,
            "grid_auto_columns": null,
            "grid_auto_flow": null,
            "grid_auto_rows": null,
            "grid_column": null,
            "grid_gap": null,
            "grid_row": null,
            "grid_template_areas": null,
            "grid_template_columns": null,
            "grid_template_rows": null,
            "height": null,
            "justify_content": null,
            "justify_items": null,
            "left": null,
            "margin": null,
            "max_height": null,
            "max_width": null,
            "min_height": null,
            "min_width": null,
            "object_fit": null,
            "object_position": null,
            "order": null,
            "overflow": null,
            "overflow_x": null,
            "overflow_y": null,
            "padding": null,
            "right": null,
            "top": null,
            "visibility": null,
            "width": null
          }
        },
        "6c4b063b95e446eaa52b76f7f0adf4b2": {
          "model_module": "@jupyter-widgets/controls",
          "model_name": "DescriptionStyleModel",
          "model_module_version": "1.5.0",
          "state": {
            "_model_module": "@jupyter-widgets/controls",
            "_model_module_version": "1.5.0",
            "_model_name": "DescriptionStyleModel",
            "_view_count": null,
            "_view_module": "@jupyter-widgets/base",
            "_view_module_version": "1.2.0",
            "_view_name": "StyleView",
            "description_width": ""
          }
        },
        "eb6070cf032d46268a1c9b21640586a9": {
          "model_module": "@jupyter-widgets/base",
          "model_name": "LayoutModel",
          "model_module_version": "1.2.0",
          "state": {
            "_model_module": "@jupyter-widgets/base",
            "_model_module_version": "1.2.0",
            "_model_name": "LayoutModel",
            "_view_count": null,
            "_view_module": "@jupyter-widgets/base",
            "_view_module_version": "1.2.0",
            "_view_name": "LayoutView",
            "align_content": null,
            "align_items": null,
            "align_self": null,
            "border": null,
            "bottom": null,
            "display": null,
            "flex": null,
            "flex_flow": null,
            "grid_area": null,
            "grid_auto_columns": null,
            "grid_auto_flow": null,
            "grid_auto_rows": null,
            "grid_column": null,
            "grid_gap": null,
            "grid_row": null,
            "grid_template_areas": null,
            "grid_template_columns": null,
            "grid_template_rows": null,
            "height": null,
            "justify_content": null,
            "justify_items": null,
            "left": null,
            "margin": null,
            "max_height": null,
            "max_width": null,
            "min_height": null,
            "min_width": null,
            "object_fit": null,
            "object_position": null,
            "order": null,
            "overflow": null,
            "overflow_x": null,
            "overflow_y": null,
            "padding": null,
            "right": null,
            "top": null,
            "visibility": null,
            "width": "20px"
          }
        },
        "27fef0aad63f40d6a0db872f9eee7a4c": {
          "model_module": "@jupyter-widgets/controls",
          "model_name": "ProgressStyleModel",
          "model_module_version": "1.5.0",
          "state": {
            "_model_module": "@jupyter-widgets/controls",
            "_model_module_version": "1.5.0",
            "_model_name": "ProgressStyleModel",
            "_view_count": null,
            "_view_module": "@jupyter-widgets/base",
            "_view_module_version": "1.2.0",
            "_view_name": "StyleView",
            "bar_color": null,
            "description_width": ""
          }
        },
        "3ed41be79d1744f4bc5c4b890dec2409": {
          "model_module": "@jupyter-widgets/base",
          "model_name": "LayoutModel",
          "model_module_version": "1.2.0",
          "state": {
            "_model_module": "@jupyter-widgets/base",
            "_model_module_version": "1.2.0",
            "_model_name": "LayoutModel",
            "_view_count": null,
            "_view_module": "@jupyter-widgets/base",
            "_view_module_version": "1.2.0",
            "_view_name": "LayoutView",
            "align_content": null,
            "align_items": null,
            "align_self": null,
            "border": null,
            "bottom": null,
            "display": null,
            "flex": null,
            "flex_flow": null,
            "grid_area": null,
            "grid_auto_columns": null,
            "grid_auto_flow": null,
            "grid_auto_rows": null,
            "grid_column": null,
            "grid_gap": null,
            "grid_row": null,
            "grid_template_areas": null,
            "grid_template_columns": null,
            "grid_template_rows": null,
            "height": null,
            "justify_content": null,
            "justify_items": null,
            "left": null,
            "margin": null,
            "max_height": null,
            "max_width": null,
            "min_height": null,
            "min_width": null,
            "object_fit": null,
            "object_position": null,
            "order": null,
            "overflow": null,
            "overflow_x": null,
            "overflow_y": null,
            "padding": null,
            "right": null,
            "top": null,
            "visibility": null,
            "width": null
          }
        },
        "51c5f7d66b25486cbd18d19a6cfd807c": {
          "model_module": "@jupyter-widgets/controls",
          "model_name": "DescriptionStyleModel",
          "model_module_version": "1.5.0",
          "state": {
            "_model_module": "@jupyter-widgets/controls",
            "_model_module_version": "1.5.0",
            "_model_name": "DescriptionStyleModel",
            "_view_count": null,
            "_view_module": "@jupyter-widgets/base",
            "_view_module_version": "1.2.0",
            "_view_name": "StyleView",
            "description_width": ""
          }
        },
        "ab2bee132ff94a1bad5d49e190dc4c90": {
          "model_module": "@jupyter-widgets/controls",
          "model_name": "HBoxModel",
          "model_module_version": "1.5.0",
          "state": {
            "_dom_classes": [],
            "_model_module": "@jupyter-widgets/controls",
            "_model_module_version": "1.5.0",
            "_model_name": "HBoxModel",
            "_view_count": null,
            "_view_module": "@jupyter-widgets/controls",
            "_view_module_version": "1.5.0",
            "_view_name": "HBoxView",
            "box_style": "",
            "children": [
              "IPY_MODEL_4b2d5b0dba904ffa96c383c04637007a",
              "IPY_MODEL_adfac564db5d48d690dc7933ecbbab95",
              "IPY_MODEL_87590d67c50941c8bb2959b91aa6ecdc"
            ],
            "layout": "IPY_MODEL_cd5ac808cac0498388b0bd8bc00dc17f"
          }
        },
        "4b2d5b0dba904ffa96c383c04637007a": {
          "model_module": "@jupyter-widgets/controls",
          "model_name": "HTMLModel",
          "model_module_version": "1.5.0",
          "state": {
            "_dom_classes": [],
            "_model_module": "@jupyter-widgets/controls",
            "_model_module_version": "1.5.0",
            "_model_name": "HTMLModel",
            "_view_count": null,
            "_view_module": "@jupyter-widgets/controls",
            "_view_module_version": "1.5.0",
            "_view_name": "HTMLView",
            "description": "",
            "description_tooltip": null,
            "layout": "IPY_MODEL_c8510e1057a24d7fb445d1a9a4063f26",
            "placeholder": "​",
            "style": "IPY_MODEL_a473e726b8d04b0fb72950822c10686d",
            "value": "special_tokens_map.json: 100%"
          }
        },
        "adfac564db5d48d690dc7933ecbbab95": {
          "model_module": "@jupyter-widgets/controls",
          "model_name": "FloatProgressModel",
          "model_module_version": "1.5.0",
          "state": {
            "_dom_classes": [],
            "_model_module": "@jupyter-widgets/controls",
            "_model_module_version": "1.5.0",
            "_model_name": "FloatProgressModel",
            "_view_count": null,
            "_view_module": "@jupyter-widgets/controls",
            "_view_module_version": "1.5.0",
            "_view_name": "ProgressView",
            "bar_style": "success",
            "description": "",
            "description_tooltip": null,
            "layout": "IPY_MODEL_914031adf3244f97aff2ba478aa5eeda",
            "max": 129,
            "min": 0,
            "orientation": "horizontal",
            "style": "IPY_MODEL_02ddbc0c86154ce8a847d82acb566a83",
            "value": 129
          }
        },
        "87590d67c50941c8bb2959b91aa6ecdc": {
          "model_module": "@jupyter-widgets/controls",
          "model_name": "HTMLModel",
          "model_module_version": "1.5.0",
          "state": {
            "_dom_classes": [],
            "_model_module": "@jupyter-widgets/controls",
            "_model_module_version": "1.5.0",
            "_model_name": "HTMLModel",
            "_view_count": null,
            "_view_module": "@jupyter-widgets/controls",
            "_view_module_version": "1.5.0",
            "_view_name": "HTMLView",
            "description": "",
            "description_tooltip": null,
            "layout": "IPY_MODEL_d845d5a7385e45e7b9aa2ec29cac7cf5",
            "placeholder": "​",
            "style": "IPY_MODEL_b2d899bc6de143d6bdca647203ae2f7c",
            "value": " 129/129 [00:00&lt;00:00, 9.97kB/s]"
          }
        },
        "cd5ac808cac0498388b0bd8bc00dc17f": {
          "model_module": "@jupyter-widgets/base",
          "model_name": "LayoutModel",
          "model_module_version": "1.2.0",
          "state": {
            "_model_module": "@jupyter-widgets/base",
            "_model_module_version": "1.2.0",
            "_model_name": "LayoutModel",
            "_view_count": null,
            "_view_module": "@jupyter-widgets/base",
            "_view_module_version": "1.2.0",
            "_view_name": "LayoutView",
            "align_content": null,
            "align_items": null,
            "align_self": null,
            "border": null,
            "bottom": null,
            "display": null,
            "flex": null,
            "flex_flow": null,
            "grid_area": null,
            "grid_auto_columns": null,
            "grid_auto_flow": null,
            "grid_auto_rows": null,
            "grid_column": null,
            "grid_gap": null,
            "grid_row": null,
            "grid_template_areas": null,
            "grid_template_columns": null,
            "grid_template_rows": null,
            "height": null,
            "justify_content": null,
            "justify_items": null,
            "left": null,
            "margin": null,
            "max_height": null,
            "max_width": null,
            "min_height": null,
            "min_width": null,
            "object_fit": null,
            "object_position": null,
            "order": null,
            "overflow": null,
            "overflow_x": null,
            "overflow_y": null,
            "padding": null,
            "right": null,
            "top": null,
            "visibility": null,
            "width": null
          }
        },
        "c8510e1057a24d7fb445d1a9a4063f26": {
          "model_module": "@jupyter-widgets/base",
          "model_name": "LayoutModel",
          "model_module_version": "1.2.0",
          "state": {
            "_model_module": "@jupyter-widgets/base",
            "_model_module_version": "1.2.0",
            "_model_name": "LayoutModel",
            "_view_count": null,
            "_view_module": "@jupyter-widgets/base",
            "_view_module_version": "1.2.0",
            "_view_name": "LayoutView",
            "align_content": null,
            "align_items": null,
            "align_self": null,
            "border": null,
            "bottom": null,
            "display": null,
            "flex": null,
            "flex_flow": null,
            "grid_area": null,
            "grid_auto_columns": null,
            "grid_auto_flow": null,
            "grid_auto_rows": null,
            "grid_column": null,
            "grid_gap": null,
            "grid_row": null,
            "grid_template_areas": null,
            "grid_template_columns": null,
            "grid_template_rows": null,
            "height": null,
            "justify_content": null,
            "justify_items": null,
            "left": null,
            "margin": null,
            "max_height": null,
            "max_width": null,
            "min_height": null,
            "min_width": null,
            "object_fit": null,
            "object_position": null,
            "order": null,
            "overflow": null,
            "overflow_x": null,
            "overflow_y": null,
            "padding": null,
            "right": null,
            "top": null,
            "visibility": null,
            "width": null
          }
        },
        "a473e726b8d04b0fb72950822c10686d": {
          "model_module": "@jupyter-widgets/controls",
          "model_name": "DescriptionStyleModel",
          "model_module_version": "1.5.0",
          "state": {
            "_model_module": "@jupyter-widgets/controls",
            "_model_module_version": "1.5.0",
            "_model_name": "DescriptionStyleModel",
            "_view_count": null,
            "_view_module": "@jupyter-widgets/base",
            "_view_module_version": "1.2.0",
            "_view_name": "StyleView",
            "description_width": ""
          }
        },
        "914031adf3244f97aff2ba478aa5eeda": {
          "model_module": "@jupyter-widgets/base",
          "model_name": "LayoutModel",
          "model_module_version": "1.2.0",
          "state": {
            "_model_module": "@jupyter-widgets/base",
            "_model_module_version": "1.2.0",
            "_model_name": "LayoutModel",
            "_view_count": null,
            "_view_module": "@jupyter-widgets/base",
            "_view_module_version": "1.2.0",
            "_view_name": "LayoutView",
            "align_content": null,
            "align_items": null,
            "align_self": null,
            "border": null,
            "bottom": null,
            "display": null,
            "flex": null,
            "flex_flow": null,
            "grid_area": null,
            "grid_auto_columns": null,
            "grid_auto_flow": null,
            "grid_auto_rows": null,
            "grid_column": null,
            "grid_gap": null,
            "grid_row": null,
            "grid_template_areas": null,
            "grid_template_columns": null,
            "grid_template_rows": null,
            "height": null,
            "justify_content": null,
            "justify_items": null,
            "left": null,
            "margin": null,
            "max_height": null,
            "max_width": null,
            "min_height": null,
            "min_width": null,
            "object_fit": null,
            "object_position": null,
            "order": null,
            "overflow": null,
            "overflow_x": null,
            "overflow_y": null,
            "padding": null,
            "right": null,
            "top": null,
            "visibility": null,
            "width": null
          }
        },
        "02ddbc0c86154ce8a847d82acb566a83": {
          "model_module": "@jupyter-widgets/controls",
          "model_name": "ProgressStyleModel",
          "model_module_version": "1.5.0",
          "state": {
            "_model_module": "@jupyter-widgets/controls",
            "_model_module_version": "1.5.0",
            "_model_name": "ProgressStyleModel",
            "_view_count": null,
            "_view_module": "@jupyter-widgets/base",
            "_view_module_version": "1.2.0",
            "_view_name": "StyleView",
            "bar_color": null,
            "description_width": ""
          }
        },
        "d845d5a7385e45e7b9aa2ec29cac7cf5": {
          "model_module": "@jupyter-widgets/base",
          "model_name": "LayoutModel",
          "model_module_version": "1.2.0",
          "state": {
            "_model_module": "@jupyter-widgets/base",
            "_model_module_version": "1.2.0",
            "_model_name": "LayoutModel",
            "_view_count": null,
            "_view_module": "@jupyter-widgets/base",
            "_view_module_version": "1.2.0",
            "_view_name": "LayoutView",
            "align_content": null,
            "align_items": null,
            "align_self": null,
            "border": null,
            "bottom": null,
            "display": null,
            "flex": null,
            "flex_flow": null,
            "grid_area": null,
            "grid_auto_columns": null,
            "grid_auto_flow": null,
            "grid_auto_rows": null,
            "grid_column": null,
            "grid_gap": null,
            "grid_row": null,
            "grid_template_areas": null,
            "grid_template_columns": null,
            "grid_template_rows": null,
            "height": null,
            "justify_content": null,
            "justify_items": null,
            "left": null,
            "margin": null,
            "max_height": null,
            "max_width": null,
            "min_height": null,
            "min_width": null,
            "object_fit": null,
            "object_position": null,
            "order": null,
            "overflow": null,
            "overflow_x": null,
            "overflow_y": null,
            "padding": null,
            "right": null,
            "top": null,
            "visibility": null,
            "width": null
          }
        },
        "b2d899bc6de143d6bdca647203ae2f7c": {
          "model_module": "@jupyter-widgets/controls",
          "model_name": "DescriptionStyleModel",
          "model_module_version": "1.5.0",
          "state": {
            "_model_module": "@jupyter-widgets/controls",
            "_model_module_version": "1.5.0",
            "_model_name": "DescriptionStyleModel",
            "_view_count": null,
            "_view_module": "@jupyter-widgets/base",
            "_view_module_version": "1.2.0",
            "_view_name": "StyleView",
            "description_width": ""
          }
        },
        "f71899436c584d57a6ded4de9eb6e240": {
          "model_module": "@jupyter-widgets/controls",
          "model_name": "HBoxModel",
          "model_module_version": "1.5.0",
          "state": {
            "_dom_classes": [],
            "_model_module": "@jupyter-widgets/controls",
            "_model_module_version": "1.5.0",
            "_model_name": "HBoxModel",
            "_view_count": null,
            "_view_module": "@jupyter-widgets/controls",
            "_view_module_version": "1.5.0",
            "_view_name": "HBoxView",
            "box_style": "",
            "children": [
              "IPY_MODEL_ba0a1a6279274715a515cece2a2b5028",
              "IPY_MODEL_c348381d22a243ee84703ed085a98367",
              "IPY_MODEL_ed86cbc4ea7342f380f7ecb8d2d5d4f0"
            ],
            "layout": "IPY_MODEL_3ad588281075493c8e95f4c30d518214"
          }
        },
        "ba0a1a6279274715a515cece2a2b5028": {
          "model_module": "@jupyter-widgets/controls",
          "model_name": "HTMLModel",
          "model_module_version": "1.5.0",
          "state": {
            "_dom_classes": [],
            "_model_module": "@jupyter-widgets/controls",
            "_model_module_version": "1.5.0",
            "_model_name": "HTMLModel",
            "_view_count": null,
            "_view_module": "@jupyter-widgets/controls",
            "_view_module_version": "1.5.0",
            "_view_name": "HTMLView",
            "description": "",
            "description_tooltip": null,
            "layout": "IPY_MODEL_117e50a807dc4b468e317dce44425dd2",
            "placeholder": "​",
            "style": "IPY_MODEL_d9e998b3ff264c4bbfbd6e0345c30cc9",
            "value": "config.json: 100%"
          }
        },
        "c348381d22a243ee84703ed085a98367": {
          "model_module": "@jupyter-widgets/controls",
          "model_name": "FloatProgressModel",
          "model_module_version": "1.5.0",
          "state": {
            "_dom_classes": [],
            "_model_module": "@jupyter-widgets/controls",
            "_model_module_version": "1.5.0",
            "_model_name": "FloatProgressModel",
            "_view_count": null,
            "_view_module": "@jupyter-widgets/controls",
            "_view_module_version": "1.5.0",
            "_view_name": "ProgressView",
            "bar_style": "success",
            "description": "",
            "description_tooltip": null,
            "layout": "IPY_MODEL_4255ccb0013c4479b8e9d3942971c796",
            "max": 664,
            "min": 0,
            "orientation": "horizontal",
            "style": "IPY_MODEL_6827b2225a854dc8827ced8c6d0203a0",
            "value": 664
          }
        },
        "ed86cbc4ea7342f380f7ecb8d2d5d4f0": {
          "model_module": "@jupyter-widgets/controls",
          "model_name": "HTMLModel",
          "model_module_version": "1.5.0",
          "state": {
            "_dom_classes": [],
            "_model_module": "@jupyter-widgets/controls",
            "_model_module_version": "1.5.0",
            "_model_name": "HTMLModel",
            "_view_count": null,
            "_view_module": "@jupyter-widgets/controls",
            "_view_module_version": "1.5.0",
            "_view_name": "HTMLView",
            "description": "",
            "description_tooltip": null,
            "layout": "IPY_MODEL_4f03baf25a5e497ab1b4e957facc6144",
            "placeholder": "​",
            "style": "IPY_MODEL_395c0ac88dc449ccace4b4bc2af69ed6",
            "value": " 664/664 [00:00&lt;00:00, 43.3kB/s]"
          }
        },
        "3ad588281075493c8e95f4c30d518214": {
          "model_module": "@jupyter-widgets/base",
          "model_name": "LayoutModel",
          "model_module_version": "1.2.0",
          "state": {
            "_model_module": "@jupyter-widgets/base",
            "_model_module_version": "1.2.0",
            "_model_name": "LayoutModel",
            "_view_count": null,
            "_view_module": "@jupyter-widgets/base",
            "_view_module_version": "1.2.0",
            "_view_name": "LayoutView",
            "align_content": null,
            "align_items": null,
            "align_self": null,
            "border": null,
            "bottom": null,
            "display": null,
            "flex": null,
            "flex_flow": null,
            "grid_area": null,
            "grid_auto_columns": null,
            "grid_auto_flow": null,
            "grid_auto_rows": null,
            "grid_column": null,
            "grid_gap": null,
            "grid_row": null,
            "grid_template_areas": null,
            "grid_template_columns": null,
            "grid_template_rows": null,
            "height": null,
            "justify_content": null,
            "justify_items": null,
            "left": null,
            "margin": null,
            "max_height": null,
            "max_width": null,
            "min_height": null,
            "min_width": null,
            "object_fit": null,
            "object_position": null,
            "order": null,
            "overflow": null,
            "overflow_x": null,
            "overflow_y": null,
            "padding": null,
            "right": null,
            "top": null,
            "visibility": null,
            "width": null
          }
        },
        "117e50a807dc4b468e317dce44425dd2": {
          "model_module": "@jupyter-widgets/base",
          "model_name": "LayoutModel",
          "model_module_version": "1.2.0",
          "state": {
            "_model_module": "@jupyter-widgets/base",
            "_model_module_version": "1.2.0",
            "_model_name": "LayoutModel",
            "_view_count": null,
            "_view_module": "@jupyter-widgets/base",
            "_view_module_version": "1.2.0",
            "_view_name": "LayoutView",
            "align_content": null,
            "align_items": null,
            "align_self": null,
            "border": null,
            "bottom": null,
            "display": null,
            "flex": null,
            "flex_flow": null,
            "grid_area": null,
            "grid_auto_columns": null,
            "grid_auto_flow": null,
            "grid_auto_rows": null,
            "grid_column": null,
            "grid_gap": null,
            "grid_row": null,
            "grid_template_areas": null,
            "grid_template_columns": null,
            "grid_template_rows": null,
            "height": null,
            "justify_content": null,
            "justify_items": null,
            "left": null,
            "margin": null,
            "max_height": null,
            "max_width": null,
            "min_height": null,
            "min_width": null,
            "object_fit": null,
            "object_position": null,
            "order": null,
            "overflow": null,
            "overflow_x": null,
            "overflow_y": null,
            "padding": null,
            "right": null,
            "top": null,
            "visibility": null,
            "width": null
          }
        },
        "d9e998b3ff264c4bbfbd6e0345c30cc9": {
          "model_module": "@jupyter-widgets/controls",
          "model_name": "DescriptionStyleModel",
          "model_module_version": "1.5.0",
          "state": {
            "_model_module": "@jupyter-widgets/controls",
            "_model_module_version": "1.5.0",
            "_model_name": "DescriptionStyleModel",
            "_view_count": null,
            "_view_module": "@jupyter-widgets/base",
            "_view_module_version": "1.2.0",
            "_view_name": "StyleView",
            "description_width": ""
          }
        },
        "4255ccb0013c4479b8e9d3942971c796": {
          "model_module": "@jupyter-widgets/base",
          "model_name": "LayoutModel",
          "model_module_version": "1.2.0",
          "state": {
            "_model_module": "@jupyter-widgets/base",
            "_model_module_version": "1.2.0",
            "_model_name": "LayoutModel",
            "_view_count": null,
            "_view_module": "@jupyter-widgets/base",
            "_view_module_version": "1.2.0",
            "_view_name": "LayoutView",
            "align_content": null,
            "align_items": null,
            "align_self": null,
            "border": null,
            "bottom": null,
            "display": null,
            "flex": null,
            "flex_flow": null,
            "grid_area": null,
            "grid_auto_columns": null,
            "grid_auto_flow": null,
            "grid_auto_rows": null,
            "grid_column": null,
            "grid_gap": null,
            "grid_row": null,
            "grid_template_areas": null,
            "grid_template_columns": null,
            "grid_template_rows": null,
            "height": null,
            "justify_content": null,
            "justify_items": null,
            "left": null,
            "margin": null,
            "max_height": null,
            "max_width": null,
            "min_height": null,
            "min_width": null,
            "object_fit": null,
            "object_position": null,
            "order": null,
            "overflow": null,
            "overflow_x": null,
            "overflow_y": null,
            "padding": null,
            "right": null,
            "top": null,
            "visibility": null,
            "width": null
          }
        },
        "6827b2225a854dc8827ced8c6d0203a0": {
          "model_module": "@jupyter-widgets/controls",
          "model_name": "ProgressStyleModel",
          "model_module_version": "1.5.0",
          "state": {
            "_model_module": "@jupyter-widgets/controls",
            "_model_module_version": "1.5.0",
            "_model_name": "ProgressStyleModel",
            "_view_count": null,
            "_view_module": "@jupyter-widgets/base",
            "_view_module_version": "1.2.0",
            "_view_name": "StyleView",
            "bar_color": null,
            "description_width": ""
          }
        },
        "4f03baf25a5e497ab1b4e957facc6144": {
          "model_module": "@jupyter-widgets/base",
          "model_name": "LayoutModel",
          "model_module_version": "1.2.0",
          "state": {
            "_model_module": "@jupyter-widgets/base",
            "_model_module_version": "1.2.0",
            "_model_name": "LayoutModel",
            "_view_count": null,
            "_view_module": "@jupyter-widgets/base",
            "_view_module_version": "1.2.0",
            "_view_name": "LayoutView",
            "align_content": null,
            "align_items": null,
            "align_self": null,
            "border": null,
            "bottom": null,
            "display": null,
            "flex": null,
            "flex_flow": null,
            "grid_area": null,
            "grid_auto_columns": null,
            "grid_auto_flow": null,
            "grid_auto_rows": null,
            "grid_column": null,
            "grid_gap": null,
            "grid_row": null,
            "grid_template_areas": null,
            "grid_template_columns": null,
            "grid_template_rows": null,
            "height": null,
            "justify_content": null,
            "justify_items": null,
            "left": null,
            "margin": null,
            "max_height": null,
            "max_width": null,
            "min_height": null,
            "min_width": null,
            "object_fit": null,
            "object_position": null,
            "order": null,
            "overflow": null,
            "overflow_x": null,
            "overflow_y": null,
            "padding": null,
            "right": null,
            "top": null,
            "visibility": null,
            "width": null
          }
        },
        "395c0ac88dc449ccace4b4bc2af69ed6": {
          "model_module": "@jupyter-widgets/controls",
          "model_name": "DescriptionStyleModel",
          "model_module_version": "1.5.0",
          "state": {
            "_model_module": "@jupyter-widgets/controls",
            "_model_module_version": "1.5.0",
            "_model_name": "DescriptionStyleModel",
            "_view_count": null,
            "_view_module": "@jupyter-widgets/base",
            "_view_module_version": "1.2.0",
            "_view_name": "StyleView",
            "description_width": ""
          }
        },
        "cb395acf45f44bfab101ed15d425802b": {
          "model_module": "@jupyter-widgets/controls",
          "model_name": "HBoxModel",
          "model_module_version": "1.5.0",
          "state": {
            "_dom_classes": [],
            "_model_module": "@jupyter-widgets/controls",
            "_model_module_version": "1.5.0",
            "_model_name": "HBoxModel",
            "_view_count": null,
            "_view_module": "@jupyter-widgets/controls",
            "_view_module_version": "1.5.0",
            "_view_name": "HBoxView",
            "box_style": "",
            "children": [
              "IPY_MODEL_7a0e73d91ad844b4867e10d9273d24b8",
              "IPY_MODEL_7a6dab74b0bd401cb096e26f466b7068",
              "IPY_MODEL_7b32e6db6696426dbada3be0b92a9b35"
            ],
            "layout": "IPY_MODEL_5f841169e6e74a12a4a179b4c2213d30"
          }
        },
        "7a0e73d91ad844b4867e10d9273d24b8": {
          "model_module": "@jupyter-widgets/controls",
          "model_name": "HTMLModel",
          "model_module_version": "1.5.0",
          "state": {
            "_dom_classes": [],
            "_model_module": "@jupyter-widgets/controls",
            "_model_module_version": "1.5.0",
            "_model_name": "HTMLModel",
            "_view_count": null,
            "_view_module": "@jupyter-widgets/controls",
            "_view_module_version": "1.5.0",
            "_view_name": "HTMLView",
            "description": "",
            "description_tooltip": null,
            "layout": "IPY_MODEL_b1c9b2b2b7e747028b2b41b86104649a",
            "placeholder": "​",
            "style": "IPY_MODEL_2143f344c1794046b3637679f81371f0",
            "value": "pytorch_model.bin: 100%"
          }
        },
        "7a6dab74b0bd401cb096e26f466b7068": {
          "model_module": "@jupyter-widgets/controls",
          "model_name": "FloatProgressModel",
          "model_module_version": "1.5.0",
          "state": {
            "_dom_classes": [],
            "_model_module": "@jupyter-widgets/controls",
            "_model_module_version": "1.5.0",
            "_model_name": "FloatProgressModel",
            "_view_count": null,
            "_view_module": "@jupyter-widgets/controls",
            "_view_module_version": "1.5.0",
            "_view_name": "ProgressView",
            "bar_style": "success",
            "description": "",
            "description_tooltip": null,
            "layout": "IPY_MODEL_5965b63ae63b44d7a48bf66f9b7e98da",
            "max": 1629877663,
            "min": 0,
            "orientation": "horizontal",
            "style": "IPY_MODEL_3f5e143c27e14f7b8a23e261bfd147d7",
            "value": 1629877663
          }
        },
        "7b32e6db6696426dbada3be0b92a9b35": {
          "model_module": "@jupyter-widgets/controls",
          "model_name": "HTMLModel",
          "model_module_version": "1.5.0",
          "state": {
            "_dom_classes": [],
            "_model_module": "@jupyter-widgets/controls",
            "_model_module_version": "1.5.0",
            "_model_name": "HTMLModel",
            "_view_count": null,
            "_view_module": "@jupyter-widgets/controls",
            "_view_module_version": "1.5.0",
            "_view_name": "HTMLView",
            "description": "",
            "description_tooltip": null,
            "layout": "IPY_MODEL_e9aefd66a5ac4e63a583ac59f65ba5ad",
            "placeholder": "​",
            "style": "IPY_MODEL_0e135fb6c75a4d8facf7f2e9b011b758",
            "value": " 1.63G/1.63G [00:11&lt;00:00, 148MB/s]"
          }
        },
        "5f841169e6e74a12a4a179b4c2213d30": {
          "model_module": "@jupyter-widgets/base",
          "model_name": "LayoutModel",
          "model_module_version": "1.2.0",
          "state": {
            "_model_module": "@jupyter-widgets/base",
            "_model_module_version": "1.2.0",
            "_model_name": "LayoutModel",
            "_view_count": null,
            "_view_module": "@jupyter-widgets/base",
            "_view_module_version": "1.2.0",
            "_view_name": "LayoutView",
            "align_content": null,
            "align_items": null,
            "align_self": null,
            "border": null,
            "bottom": null,
            "display": null,
            "flex": null,
            "flex_flow": null,
            "grid_area": null,
            "grid_auto_columns": null,
            "grid_auto_flow": null,
            "grid_auto_rows": null,
            "grid_column": null,
            "grid_gap": null,
            "grid_row": null,
            "grid_template_areas": null,
            "grid_template_columns": null,
            "grid_template_rows": null,
            "height": null,
            "justify_content": null,
            "justify_items": null,
            "left": null,
            "margin": null,
            "max_height": null,
            "max_width": null,
            "min_height": null,
            "min_width": null,
            "object_fit": null,
            "object_position": null,
            "order": null,
            "overflow": null,
            "overflow_x": null,
            "overflow_y": null,
            "padding": null,
            "right": null,
            "top": null,
            "visibility": null,
            "width": null
          }
        },
        "b1c9b2b2b7e747028b2b41b86104649a": {
          "model_module": "@jupyter-widgets/base",
          "model_name": "LayoutModel",
          "model_module_version": "1.2.0",
          "state": {
            "_model_module": "@jupyter-widgets/base",
            "_model_module_version": "1.2.0",
            "_model_name": "LayoutModel",
            "_view_count": null,
            "_view_module": "@jupyter-widgets/base",
            "_view_module_version": "1.2.0",
            "_view_name": "LayoutView",
            "align_content": null,
            "align_items": null,
            "align_self": null,
            "border": null,
            "bottom": null,
            "display": null,
            "flex": null,
            "flex_flow": null,
            "grid_area": null,
            "grid_auto_columns": null,
            "grid_auto_flow": null,
            "grid_auto_rows": null,
            "grid_column": null,
            "grid_gap": null,
            "grid_row": null,
            "grid_template_areas": null,
            "grid_template_columns": null,
            "grid_template_rows": null,
            "height": null,
            "justify_content": null,
            "justify_items": null,
            "left": null,
            "margin": null,
            "max_height": null,
            "max_width": null,
            "min_height": null,
            "min_width": null,
            "object_fit": null,
            "object_position": null,
            "order": null,
            "overflow": null,
            "overflow_x": null,
            "overflow_y": null,
            "padding": null,
            "right": null,
            "top": null,
            "visibility": null,
            "width": null
          }
        },
        "2143f344c1794046b3637679f81371f0": {
          "model_module": "@jupyter-widgets/controls",
          "model_name": "DescriptionStyleModel",
          "model_module_version": "1.5.0",
          "state": {
            "_model_module": "@jupyter-widgets/controls",
            "_model_module_version": "1.5.0",
            "_model_name": "DescriptionStyleModel",
            "_view_count": null,
            "_view_module": "@jupyter-widgets/base",
            "_view_module_version": "1.2.0",
            "_view_name": "StyleView",
            "description_width": ""
          }
        },
        "5965b63ae63b44d7a48bf66f9b7e98da": {
          "model_module": "@jupyter-widgets/base",
          "model_name": "LayoutModel",
          "model_module_version": "1.2.0",
          "state": {
            "_model_module": "@jupyter-widgets/base",
            "_model_module_version": "1.2.0",
            "_model_name": "LayoutModel",
            "_view_count": null,
            "_view_module": "@jupyter-widgets/base",
            "_view_module_version": "1.2.0",
            "_view_name": "LayoutView",
            "align_content": null,
            "align_items": null,
            "align_self": null,
            "border": null,
            "bottom": null,
            "display": null,
            "flex": null,
            "flex_flow": null,
            "grid_area": null,
            "grid_auto_columns": null,
            "grid_auto_flow": null,
            "grid_auto_rows": null,
            "grid_column": null,
            "grid_gap": null,
            "grid_row": null,
            "grid_template_areas": null,
            "grid_template_columns": null,
            "grid_template_rows": null,
            "height": null,
            "justify_content": null,
            "justify_items": null,
            "left": null,
            "margin": null,
            "max_height": null,
            "max_width": null,
            "min_height": null,
            "min_width": null,
            "object_fit": null,
            "object_position": null,
            "order": null,
            "overflow": null,
            "overflow_x": null,
            "overflow_y": null,
            "padding": null,
            "right": null,
            "top": null,
            "visibility": null,
            "width": null
          }
        },
        "3f5e143c27e14f7b8a23e261bfd147d7": {
          "model_module": "@jupyter-widgets/controls",
          "model_name": "ProgressStyleModel",
          "model_module_version": "1.5.0",
          "state": {
            "_model_module": "@jupyter-widgets/controls",
            "_model_module_version": "1.5.0",
            "_model_name": "ProgressStyleModel",
            "_view_count": null,
            "_view_module": "@jupyter-widgets/base",
            "_view_module_version": "1.2.0",
            "_view_name": "StyleView",
            "bar_color": null,
            "description_width": ""
          }
        },
        "e9aefd66a5ac4e63a583ac59f65ba5ad": {
          "model_module": "@jupyter-widgets/base",
          "model_name": "LayoutModel",
          "model_module_version": "1.2.0",
          "state": {
            "_model_module": "@jupyter-widgets/base",
            "_model_module_version": "1.2.0",
            "_model_name": "LayoutModel",
            "_view_count": null,
            "_view_module": "@jupyter-widgets/base",
            "_view_module_version": "1.2.0",
            "_view_name": "LayoutView",
            "align_content": null,
            "align_items": null,
            "align_self": null,
            "border": null,
            "bottom": null,
            "display": null,
            "flex": null,
            "flex_flow": null,
            "grid_area": null,
            "grid_auto_columns": null,
            "grid_auto_flow": null,
            "grid_auto_rows": null,
            "grid_column": null,
            "grid_gap": null,
            "grid_row": null,
            "grid_template_areas": null,
            "grid_template_columns": null,
            "grid_template_rows": null,
            "height": null,
            "justify_content": null,
            "justify_items": null,
            "left": null,
            "margin": null,
            "max_height": null,
            "max_width": null,
            "min_height": null,
            "min_width": null,
            "object_fit": null,
            "object_position": null,
            "order": null,
            "overflow": null,
            "overflow_x": null,
            "overflow_y": null,
            "padding": null,
            "right": null,
            "top": null,
            "visibility": null,
            "width": null
          }
        },
        "0e135fb6c75a4d8facf7f2e9b011b758": {
          "model_module": "@jupyter-widgets/controls",
          "model_name": "DescriptionStyleModel",
          "model_module_version": "1.5.0",
          "state": {
            "_model_module": "@jupyter-widgets/controls",
            "_model_module_version": "1.5.0",
            "_model_name": "DescriptionStyleModel",
            "_view_count": null,
            "_view_module": "@jupyter-widgets/base",
            "_view_module_version": "1.2.0",
            "_view_name": "StyleView",
            "description_width": ""
          }
        },
        "e26ba23d9d5e4e42a4ecfcdd30ecad8d": {
          "model_module": "@jupyter-widgets/controls",
          "model_name": "HBoxModel",
          "model_module_version": "1.5.0",
          "state": {
            "_dom_classes": [],
            "_model_module": "@jupyter-widgets/controls",
            "_model_module_version": "1.5.0",
            "_model_name": "HBoxModel",
            "_view_count": null,
            "_view_module": "@jupyter-widgets/controls",
            "_view_module_version": "1.5.0",
            "_view_name": "HBoxView",
            "box_style": "",
            "children": [
              "IPY_MODEL_9937c6ce576f41fabd99f49ca8cd91fb",
              "IPY_MODEL_a0a4b456c6d94eefa54dfb6033e9eec2",
              "IPY_MODEL_f48b2285dae14ed39ee3e775c4570203"
            ],
            "layout": "IPY_MODEL_e10bfd280fd343f5a16e1ac312f16939"
          }
        },
        "9937c6ce576f41fabd99f49ca8cd91fb": {
          "model_module": "@jupyter-widgets/controls",
          "model_name": "HTMLModel",
          "model_module_version": "1.5.0",
          "state": {
            "_dom_classes": [],
            "_model_module": "@jupyter-widgets/controls",
            "_model_module_version": "1.5.0",
            "_model_name": "HTMLModel",
            "_view_count": null,
            "_view_module": "@jupyter-widgets/controls",
            "_view_module_version": "1.5.0",
            "_view_name": "HTMLView",
            "description": "",
            "description_tooltip": null,
            "layout": "IPY_MODEL_cf16cd848ba0494f91f6a9e6f0a9fcbb",
            "placeholder": "​",
            "style": "IPY_MODEL_27a529e24d684029b1b80cdbd1b28aa2",
            "value": "model.safetensors: 100%"
          }
        },
        "a0a4b456c6d94eefa54dfb6033e9eec2": {
          "model_module": "@jupyter-widgets/controls",
          "model_name": "FloatProgressModel",
          "model_module_version": "1.5.0",
          "state": {
            "_dom_classes": [],
            "_model_module": "@jupyter-widgets/controls",
            "_model_module_version": "1.5.0",
            "_model_name": "FloatProgressModel",
            "_view_count": null,
            "_view_module": "@jupyter-widgets/controls",
            "_view_module_version": "1.5.0",
            "_view_name": "ProgressView",
            "bar_style": "success",
            "description": "",
            "description_tooltip": null,
            "layout": "IPY_MODEL_b5013878192d4a32bbe44966a0dedc8e",
            "max": 1629824372,
            "min": 0,
            "orientation": "horizontal",
            "style": "IPY_MODEL_1aca9beb50ba4f41aac5c431502e4e5c",
            "value": 1629824372
          }
        },
        "f48b2285dae14ed39ee3e775c4570203": {
          "model_module": "@jupyter-widgets/controls",
          "model_name": "HTMLModel",
          "model_module_version": "1.5.0",
          "state": {
            "_dom_classes": [],
            "_model_module": "@jupyter-widgets/controls",
            "_model_module_version": "1.5.0",
            "_model_name": "HTMLModel",
            "_view_count": null,
            "_view_module": "@jupyter-widgets/controls",
            "_view_module_version": "1.5.0",
            "_view_name": "HTMLView",
            "description": "",
            "description_tooltip": null,
            "layout": "IPY_MODEL_a25629f049324c418771d8db824d0d4c",
            "placeholder": "​",
            "style": "IPY_MODEL_2837f0043d6943518960685c0571bc70",
            "value": " 1.63G/1.63G [00:56&lt;00:00, 30.5MB/s]"
          }
        },
        "e10bfd280fd343f5a16e1ac312f16939": {
          "model_module": "@jupyter-widgets/base",
          "model_name": "LayoutModel",
          "model_module_version": "1.2.0",
          "state": {
            "_model_module": "@jupyter-widgets/base",
            "_model_module_version": "1.2.0",
            "_model_name": "LayoutModel",
            "_view_count": null,
            "_view_module": "@jupyter-widgets/base",
            "_view_module_version": "1.2.0",
            "_view_name": "LayoutView",
            "align_content": null,
            "align_items": null,
            "align_self": null,
            "border": null,
            "bottom": null,
            "display": null,
            "flex": null,
            "flex_flow": null,
            "grid_area": null,
            "grid_auto_columns": null,
            "grid_auto_flow": null,
            "grid_auto_rows": null,
            "grid_column": null,
            "grid_gap": null,
            "grid_row": null,
            "grid_template_areas": null,
            "grid_template_columns": null,
            "grid_template_rows": null,
            "height": null,
            "justify_content": null,
            "justify_items": null,
            "left": null,
            "margin": null,
            "max_height": null,
            "max_width": null,
            "min_height": null,
            "min_width": null,
            "object_fit": null,
            "object_position": null,
            "order": null,
            "overflow": null,
            "overflow_x": null,
            "overflow_y": null,
            "padding": null,
            "right": null,
            "top": null,
            "visibility": null,
            "width": null
          }
        },
        "cf16cd848ba0494f91f6a9e6f0a9fcbb": {
          "model_module": "@jupyter-widgets/base",
          "model_name": "LayoutModel",
          "model_module_version": "1.2.0",
          "state": {
            "_model_module": "@jupyter-widgets/base",
            "_model_module_version": "1.2.0",
            "_model_name": "LayoutModel",
            "_view_count": null,
            "_view_module": "@jupyter-widgets/base",
            "_view_module_version": "1.2.0",
            "_view_name": "LayoutView",
            "align_content": null,
            "align_items": null,
            "align_self": null,
            "border": null,
            "bottom": null,
            "display": null,
            "flex": null,
            "flex_flow": null,
            "grid_area": null,
            "grid_auto_columns": null,
            "grid_auto_flow": null,
            "grid_auto_rows": null,
            "grid_column": null,
            "grid_gap": null,
            "grid_row": null,
            "grid_template_areas": null,
            "grid_template_columns": null,
            "grid_template_rows": null,
            "height": null,
            "justify_content": null,
            "justify_items": null,
            "left": null,
            "margin": null,
            "max_height": null,
            "max_width": null,
            "min_height": null,
            "min_width": null,
            "object_fit": null,
            "object_position": null,
            "order": null,
            "overflow": null,
            "overflow_x": null,
            "overflow_y": null,
            "padding": null,
            "right": null,
            "top": null,
            "visibility": null,
            "width": null
          }
        },
        "27a529e24d684029b1b80cdbd1b28aa2": {
          "model_module": "@jupyter-widgets/controls",
          "model_name": "DescriptionStyleModel",
          "model_module_version": "1.5.0",
          "state": {
            "_model_module": "@jupyter-widgets/controls",
            "_model_module_version": "1.5.0",
            "_model_name": "DescriptionStyleModel",
            "_view_count": null,
            "_view_module": "@jupyter-widgets/base",
            "_view_module_version": "1.2.0",
            "_view_name": "StyleView",
            "description_width": ""
          }
        },
        "b5013878192d4a32bbe44966a0dedc8e": {
          "model_module": "@jupyter-widgets/base",
          "model_name": "LayoutModel",
          "model_module_version": "1.2.0",
          "state": {
            "_model_module": "@jupyter-widgets/base",
            "_model_module_version": "1.2.0",
            "_model_name": "LayoutModel",
            "_view_count": null,
            "_view_module": "@jupyter-widgets/base",
            "_view_module_version": "1.2.0",
            "_view_name": "LayoutView",
            "align_content": null,
            "align_items": null,
            "align_self": null,
            "border": null,
            "bottom": null,
            "display": null,
            "flex": null,
            "flex_flow": null,
            "grid_area": null,
            "grid_auto_columns": null,
            "grid_auto_flow": null,
            "grid_auto_rows": null,
            "grid_column": null,
            "grid_gap": null,
            "grid_row": null,
            "grid_template_areas": null,
            "grid_template_columns": null,
            "grid_template_rows": null,
            "height": null,
            "justify_content": null,
            "justify_items": null,
            "left": null,
            "margin": null,
            "max_height": null,
            "max_width": null,
            "min_height": null,
            "min_width": null,
            "object_fit": null,
            "object_position": null,
            "order": null,
            "overflow": null,
            "overflow_x": null,
            "overflow_y": null,
            "padding": null,
            "right": null,
            "top": null,
            "visibility": null,
            "width": null
          }
        },
        "1aca9beb50ba4f41aac5c431502e4e5c": {
          "model_module": "@jupyter-widgets/controls",
          "model_name": "ProgressStyleModel",
          "model_module_version": "1.5.0",
          "state": {
            "_model_module": "@jupyter-widgets/controls",
            "_model_module_version": "1.5.0",
            "_model_name": "ProgressStyleModel",
            "_view_count": null,
            "_view_module": "@jupyter-widgets/base",
            "_view_module_version": "1.2.0",
            "_view_name": "StyleView",
            "bar_color": null,
            "description_width": ""
          }
        },
        "a25629f049324c418771d8db824d0d4c": {
          "model_module": "@jupyter-widgets/base",
          "model_name": "LayoutModel",
          "model_module_version": "1.2.0",
          "state": {
            "_model_module": "@jupyter-widgets/base",
            "_model_module_version": "1.2.0",
            "_model_name": "LayoutModel",
            "_view_count": null,
            "_view_module": "@jupyter-widgets/base",
            "_view_module_version": "1.2.0",
            "_view_name": "LayoutView",
            "align_content": null,
            "align_items": null,
            "align_self": null,
            "border": null,
            "bottom": null,
            "display": null,
            "flex": null,
            "flex_flow": null,
            "grid_area": null,
            "grid_auto_columns": null,
            "grid_auto_flow": null,
            "grid_auto_rows": null,
            "grid_column": null,
            "grid_gap": null,
            "grid_row": null,
            "grid_template_areas": null,
            "grid_template_columns": null,
            "grid_template_rows": null,
            "height": null,
            "justify_content": null,
            "justify_items": null,
            "left": null,
            "margin": null,
            "max_height": null,
            "max_width": null,
            "min_height": null,
            "min_width": null,
            "object_fit": null,
            "object_position": null,
            "order": null,
            "overflow": null,
            "overflow_x": null,
            "overflow_y": null,
            "padding": null,
            "right": null,
            "top": null,
            "visibility": null,
            "width": null
          }
        },
        "2837f0043d6943518960685c0571bc70": {
          "model_module": "@jupyter-widgets/controls",
          "model_name": "DescriptionStyleModel",
          "model_module_version": "1.5.0",
          "state": {
            "_model_module": "@jupyter-widgets/controls",
            "_model_module_version": "1.5.0",
            "_model_name": "DescriptionStyleModel",
            "_view_count": null,
            "_view_module": "@jupyter-widgets/base",
            "_view_module_version": "1.2.0",
            "_view_name": "StyleView",
            "description_width": ""
          }
        }
      }
    }
  },
  "cells": [
    {
      "cell_type": "markdown",
      "metadata": {
        "id": "view-in-github",
        "colab_type": "text"
      },
      "source": [
        "<a href=\"https://colab.research.google.com/github/NikolaJanik/Polish_poetry_classification_with_transformers/blob/main/ML_and_NN_classifier.ipynb\" target=\"_parent\"><img src=\"https://colab.research.google.com/assets/colab-badge.svg\" alt=\"Open In Colab\"/></a>"
      ]
    },
    {
      "cell_type": "markdown",
      "source": [
        "# 1. Install dependencies (for Google Colab)"
      ],
      "metadata": {
        "id": "l4cNjZhfbzfa"
      }
    },
    {
      "cell_type": "code",
      "source": [
        "!pip install transformers sacremoses --quiet\n",
        "!pip install xgboost lightgbm --quiet"
      ],
      "metadata": {
        "id": "CVT1VmO5bwOn",
        "colab": {
          "base_uri": "https://localhost:8080/"
        },
        "outputId": "5c701262-8431-4db6-86b2-b016f200b594"
      },
      "execution_count": 1,
      "outputs": [
        {
          "output_type": "stream",
          "name": "stdout",
          "text": [
            "\u001b[?25l   \u001b[90m━━━━━━━━━━━━━━━━━━━━━━━━━━━━━━━━━━━━━━━━\u001b[0m \u001b[32m0.0/897.5 kB\u001b[0m \u001b[31m?\u001b[0m eta \u001b[36m-:--:--\u001b[0m\r\u001b[2K   \u001b[91m━━━━━━━━━━━━━━━━━━━━━━━━━━━━━━━━━━━━━━━\u001b[0m\u001b[91m╸\u001b[0m \u001b[32m890.9/897.5 kB\u001b[0m \u001b[31m33.8 MB/s\u001b[0m eta \u001b[36m0:00:01\u001b[0m\r\u001b[2K   \u001b[90m━━━━━━━━━━━━━━━━━━━━━━━━━━━━━━━━━━━━━━━━\u001b[0m \u001b[32m897.5/897.5 kB\u001b[0m \u001b[31m16.4 MB/s\u001b[0m eta \u001b[36m0:00:00\u001b[0m\n",
            "\u001b[?25h"
          ]
        }
      ]
    },
    {
      "cell_type": "markdown",
      "source": [
        "# 2. Imports"
      ],
      "metadata": {
        "id": "0k90f2_6buBd"
      }
    },
    {
      "cell_type": "code",
      "source": [
        "import pandas as pd\n",
        "import numpy as np\n",
        "from tqdm import tqdm\n",
        "import matplotlib.pyplot as plt\n",
        "import seaborn as sns\n",
        "import torch\n",
        "\n",
        "from sklearn.model_selection import train_test_split\n",
        "from sklearn.metrics import confusion_matrix, ConfusionMatrixDisplay, accuracy_score\n",
        "from sklearn.tree import DecisionTreeClassifier\n",
        "\n",
        "import tensorflow as tf\n",
        "from tensorflow.keras.models import Sequential\n",
        "from tensorflow.keras.layers import Dense, Dropout\n",
        "from tensorflow.keras.utils import to_categorical\n",
        "\n",
        "from transformers import HerbertTokenizer, RobertaModel"
      ],
      "metadata": {
        "id": "Bgh6HWdBbrYK"
      },
      "execution_count": 2,
      "outputs": []
    },
    {
      "cell_type": "markdown",
      "source": [
        "# 3. Load and prepare data\n"
      ],
      "metadata": {
        "id": "kA9RMcSWboZb"
      }
    },
    {
      "cell_type": "code",
      "source": [
        "df_raw = pd.read_csv('polish_poetry.csv', sep=';')\n",
        "\n",
        "# Remove 'Unnamed' columns\n",
        "drop_cols = [col for col in df_raw.columns if 'Unnamed' in col]\n",
        "df_raw = df_raw.drop(columns=drop_cols)\n",
        "\n",
        "print(\"Numbr of poems:\", df_raw.shape[0])\n",
        "print(\"Number of classes:\", df_raw['Label'].nunique())\n",
        "print(\"Classes:\", df_raw['Author'].unique())"
      ],
      "metadata": {
        "id": "eu8TrOMIbl11",
        "colab": {
          "base_uri": "https://localhost:8080/"
        },
        "outputId": "f2252bd0-273f-4090-88b3-809e3e619c3a"
      },
      "execution_count": 24,
      "outputs": [
        {
          "output_type": "stream",
          "name": "stdout",
          "text": [
            "Numbr of poems: 400\n",
            "Number of classes: 8\n",
            "Classes: ['Jan Kochanowksi' 'Krzysztof Kamil Baczyński' 'Czesław Miłosz'\n",
            " 'Zbigniew Herbert' 'Wisława Szymborska' 'Halina Poświatowska'\n",
            " 'Maria Pawlikowska-Jasnorzewska' 'Ewa Lipska']\n"
          ]
        }
      ]
    },
    {
      "cell_type": "markdown",
      "source": [
        "# 4. Tokenization and embedding function"
      ],
      "metadata": {
        "id": "Mm5PgWshbjyI"
      }
    },
    {
      "cell_type": "code",
      "source": [
        "def make_embedding(df, model_info):\n",
        "    model_name, tokenizer, model = model_info\n",
        "    embeddings = []\n",
        "    labels = []\n",
        "\n",
        "    for text, label in tqdm(zip(df['Text'], df['Label']), total=len(df)):\n",
        "        inputs = tokenizer(\n",
        "            text,\n",
        "            max_length=512,\n",
        "            padding='max_length',\n",
        "            truncation=True,\n",
        "            return_tensors=\"pt\"\n",
        "        )\n",
        "        outputs = model(**inputs)\n",
        "        vector = outputs.last_hidden_state[:, 0, :].detach().numpy()[0]\n",
        "        embeddings.append(vector)\n",
        "        labels.append(label)\n",
        "\n",
        "    return np.array(embeddings), np.array(labels)"
      ],
      "metadata": {
        "id": "oYuJMVKYbg7B"
      },
      "execution_count": 4,
      "outputs": []
    },
    {
      "cell_type": "markdown",
      "source": [
        "# 5. HerBERT initialization"
      ],
      "metadata": {
        "id": "oDgyvP1Vbfb2"
      }
    },
    {
      "cell_type": "code",
      "source": [
        "herbert = (\n",
        "    \"Herbert\",\n",
        "    HerbertTokenizer.from_pretrained(\"allegro/herbert-large-cased\"),\n",
        "    RobertaModel.from_pretrained(\"allegro/herbert-large-cased\")\n",
        ")"
      ],
      "metadata": {
        "colab": {
          "base_uri": "https://localhost:8080/",
          "height": 417,
          "referenced_widgets": [
            "e859a929885744949d5f06ef9b2f1e21",
            "ce949c9ff1314c798f1082f61a372174",
            "a21521fe748e40489e334b11f1ebf07a",
            "ce47bf44dce14f509f54133a9dba176f",
            "e4eaa8275c20409a875cd2f01ee6a048",
            "c48216d088d9453ab67bd2141ebb94fd",
            "983afc7169284f0eaef5161ef5505bf2",
            "ce3dfdb893f542a0b080dd115711b2b6",
            "0568963534a34a06abeef6a9d1d010a2",
            "ed170904ce424f4c9ba0eee7a2943b84",
            "d473e457e6d84257993b3a512d64ebc3",
            "ae46300571f34a3fbecdc71f50b0b8c2",
            "c0fb00b1a8704c9aa03052e57ce03bd1",
            "b3d2d45503d04908bad8f051de08ec7a",
            "662edb8e671d41a0ab6f499e1a5e26d4",
            "09597310248449938a5061e7fba53f73",
            "34b4b68ddbf74d3da6e1d71e86ff3d6c",
            "4ddfc04d762540c283e8626a13166d5a",
            "68073bdc5832418fa1eb168629fed197",
            "782d567090c24f55a80140755322cf57",
            "c6b9d27e5e3e4294bc623dd3dc94fd89",
            "9f480b925a9145b3a5f477a5e2b2cc6c",
            "9cfdc8327f4e42dd8d7575450225b8f1",
            "409c9c63ebc14f3db27f56f4af6be07a",
            "4a5e770e1c8a46988028a4e3faa0b03e",
            "f60916f41a284271be4b4e80cb3db368",
            "cd2006ebf9204ff8a9d86473edfcb648",
            "ea7be24f42e74f6bbe4596265dd5896c",
            "6c4b063b95e446eaa52b76f7f0adf4b2",
            "eb6070cf032d46268a1c9b21640586a9",
            "27fef0aad63f40d6a0db872f9eee7a4c",
            "3ed41be79d1744f4bc5c4b890dec2409",
            "51c5f7d66b25486cbd18d19a6cfd807c",
            "ab2bee132ff94a1bad5d49e190dc4c90",
            "4b2d5b0dba904ffa96c383c04637007a",
            "adfac564db5d48d690dc7933ecbbab95",
            "87590d67c50941c8bb2959b91aa6ecdc",
            "cd5ac808cac0498388b0bd8bc00dc17f",
            "c8510e1057a24d7fb445d1a9a4063f26",
            "a473e726b8d04b0fb72950822c10686d",
            "914031adf3244f97aff2ba478aa5eeda",
            "02ddbc0c86154ce8a847d82acb566a83",
            "d845d5a7385e45e7b9aa2ec29cac7cf5",
            "b2d899bc6de143d6bdca647203ae2f7c",
            "f71899436c584d57a6ded4de9eb6e240",
            "ba0a1a6279274715a515cece2a2b5028",
            "c348381d22a243ee84703ed085a98367",
            "ed86cbc4ea7342f380f7ecb8d2d5d4f0",
            "3ad588281075493c8e95f4c30d518214",
            "117e50a807dc4b468e317dce44425dd2",
            "d9e998b3ff264c4bbfbd6e0345c30cc9",
            "4255ccb0013c4479b8e9d3942971c796",
            "6827b2225a854dc8827ced8c6d0203a0",
            "4f03baf25a5e497ab1b4e957facc6144",
            "395c0ac88dc449ccace4b4bc2af69ed6",
            "cb395acf45f44bfab101ed15d425802b",
            "7a0e73d91ad844b4867e10d9273d24b8",
            "7a6dab74b0bd401cb096e26f466b7068",
            "7b32e6db6696426dbada3be0b92a9b35",
            "5f841169e6e74a12a4a179b4c2213d30",
            "b1c9b2b2b7e747028b2b41b86104649a",
            "2143f344c1794046b3637679f81371f0",
            "5965b63ae63b44d7a48bf66f9b7e98da",
            "3f5e143c27e14f7b8a23e261bfd147d7",
            "e9aefd66a5ac4e63a583ac59f65ba5ad",
            "0e135fb6c75a4d8facf7f2e9b011b758",
            "e26ba23d9d5e4e42a4ecfcdd30ecad8d",
            "9937c6ce576f41fabd99f49ca8cd91fb",
            "a0a4b456c6d94eefa54dfb6033e9eec2",
            "f48b2285dae14ed39ee3e775c4570203",
            "e10bfd280fd343f5a16e1ac312f16939",
            "cf16cd848ba0494f91f6a9e6f0a9fcbb",
            "27a529e24d684029b1b80cdbd1b28aa2",
            "b5013878192d4a32bbe44966a0dedc8e",
            "1aca9beb50ba4f41aac5c431502e4e5c",
            "a25629f049324c418771d8db824d0d4c",
            "2837f0043d6943518960685c0571bc70"
          ]
        },
        "id": "6EKUm3P3vKHk",
        "outputId": "a13255de-cfb5-438f-c4d0-1eac06f3a470"
      },
      "execution_count": 5,
      "outputs": [
        {
          "output_type": "stream",
          "name": "stderr",
          "text": [
            "/usr/local/lib/python3.11/dist-packages/huggingface_hub/utils/_auth.py:94: UserWarning: \n",
            "The secret `HF_TOKEN` does not exist in your Colab secrets.\n",
            "To authenticate with the Hugging Face Hub, create a token in your settings tab (https://huggingface.co/settings/tokens), set it as secret in your Google Colab and restart your session.\n",
            "You will be able to reuse this secret in all of your notebooks.\n",
            "Please note that authentication is recommended but still optional to access public models or datasets.\n",
            "  warnings.warn(\n"
          ]
        },
        {
          "output_type": "display_data",
          "data": {
            "text/plain": [
              "tokenizer_config.json:   0%|          | 0.00/229 [00:00<?, ?B/s]"
            ],
            "application/vnd.jupyter.widget-view+json": {
              "version_major": 2,
              "version_minor": 0,
              "model_id": "e859a929885744949d5f06ef9b2f1e21"
            }
          },
          "metadata": {}
        },
        {
          "output_type": "display_data",
          "data": {
            "text/plain": [
              "vocab.json: 0.00B [00:00, ?B/s]"
            ],
            "application/vnd.jupyter.widget-view+json": {
              "version_major": 2,
              "version_minor": 0,
              "model_id": "ae46300571f34a3fbecdc71f50b0b8c2"
            }
          },
          "metadata": {}
        },
        {
          "output_type": "display_data",
          "data": {
            "text/plain": [
              "merges.txt: 0.00B [00:00, ?B/s]"
            ],
            "application/vnd.jupyter.widget-view+json": {
              "version_major": 2,
              "version_minor": 0,
              "model_id": "9cfdc8327f4e42dd8d7575450225b8f1"
            }
          },
          "metadata": {}
        },
        {
          "output_type": "display_data",
          "data": {
            "text/plain": [
              "special_tokens_map.json:   0%|          | 0.00/129 [00:00<?, ?B/s]"
            ],
            "application/vnd.jupyter.widget-view+json": {
              "version_major": 2,
              "version_minor": 0,
              "model_id": "ab2bee132ff94a1bad5d49e190dc4c90"
            }
          },
          "metadata": {}
        },
        {
          "output_type": "display_data",
          "data": {
            "text/plain": [
              "config.json:   0%|          | 0.00/664 [00:00<?, ?B/s]"
            ],
            "application/vnd.jupyter.widget-view+json": {
              "version_major": 2,
              "version_minor": 0,
              "model_id": "f71899436c584d57a6ded4de9eb6e240"
            }
          },
          "metadata": {}
        },
        {
          "output_type": "stream",
          "name": "stderr",
          "text": [
            "You are using a model of type bert to instantiate a model of type roberta. This is not supported for all configurations of models and can yield errors.\n"
          ]
        },
        {
          "output_type": "display_data",
          "data": {
            "text/plain": [
              "pytorch_model.bin:   0%|          | 0.00/1.63G [00:00<?, ?B/s]"
            ],
            "application/vnd.jupyter.widget-view+json": {
              "version_major": 2,
              "version_minor": 0,
              "model_id": "cb395acf45f44bfab101ed15d425802b"
            }
          },
          "metadata": {}
        },
        {
          "output_type": "display_data",
          "data": {
            "text/plain": [
              "model.safetensors:   0%|          | 0.00/1.63G [00:00<?, ?B/s]"
            ],
            "application/vnd.jupyter.widget-view+json": {
              "version_major": 2,
              "version_minor": 0,
              "model_id": "e26ba23d9d5e4e42a4ecfcdd30ecad8d"
            }
          },
          "metadata": {}
        },
        {
          "output_type": "stream",
          "name": "stderr",
          "text": [
            "Some weights of RobertaModel were not initialized from the model checkpoint at allegro/herbert-large-cased and are newly initialized: ['embeddings.LayerNorm.bias', 'embeddings.LayerNorm.weight', 'embeddings.position_embeddings.weight', 'embeddings.token_type_embeddings.weight', 'embeddings.word_embeddings.weight', 'encoder.layer.0.attention.output.LayerNorm.bias', 'encoder.layer.0.attention.output.LayerNorm.weight', 'encoder.layer.0.attention.output.dense.bias', 'encoder.layer.0.attention.output.dense.weight', 'encoder.layer.0.attention.self.key.bias', 'encoder.layer.0.attention.self.key.weight', 'encoder.layer.0.attention.self.query.bias', 'encoder.layer.0.attention.self.query.weight', 'encoder.layer.0.attention.self.value.bias', 'encoder.layer.0.attention.self.value.weight', 'encoder.layer.0.intermediate.dense.bias', 'encoder.layer.0.intermediate.dense.weight', 'encoder.layer.0.output.LayerNorm.bias', 'encoder.layer.0.output.LayerNorm.weight', 'encoder.layer.0.output.dense.bias', 'encoder.layer.0.output.dense.weight', 'encoder.layer.1.attention.output.LayerNorm.bias', 'encoder.layer.1.attention.output.LayerNorm.weight', 'encoder.layer.1.attention.output.dense.bias', 'encoder.layer.1.attention.output.dense.weight', 'encoder.layer.1.attention.self.key.bias', 'encoder.layer.1.attention.self.key.weight', 'encoder.layer.1.attention.self.query.bias', 'encoder.layer.1.attention.self.query.weight', 'encoder.layer.1.attention.self.value.bias', 'encoder.layer.1.attention.self.value.weight', 'encoder.layer.1.intermediate.dense.bias', 'encoder.layer.1.intermediate.dense.weight', 'encoder.layer.1.output.LayerNorm.bias', 'encoder.layer.1.output.LayerNorm.weight', 'encoder.layer.1.output.dense.bias', 'encoder.layer.1.output.dense.weight', 'encoder.layer.10.attention.output.LayerNorm.bias', 'encoder.layer.10.attention.output.LayerNorm.weight', 'encoder.layer.10.attention.output.dense.bias', 'encoder.layer.10.attention.output.dense.weight', 'encoder.layer.10.attention.self.key.bias', 'encoder.layer.10.attention.self.key.weight', 'encoder.layer.10.attention.self.query.bias', 'encoder.layer.10.attention.self.query.weight', 'encoder.layer.10.attention.self.value.bias', 'encoder.layer.10.attention.self.value.weight', 'encoder.layer.10.intermediate.dense.bias', 'encoder.layer.10.intermediate.dense.weight', 'encoder.layer.10.output.LayerNorm.bias', 'encoder.layer.10.output.LayerNorm.weight', 'encoder.layer.10.output.dense.bias', 'encoder.layer.10.output.dense.weight', 'encoder.layer.11.attention.output.LayerNorm.bias', 'encoder.layer.11.attention.output.LayerNorm.weight', 'encoder.layer.11.attention.output.dense.bias', 'encoder.layer.11.attention.output.dense.weight', 'encoder.layer.11.attention.self.key.bias', 'encoder.layer.11.attention.self.key.weight', 'encoder.layer.11.attention.self.query.bias', 'encoder.layer.11.attention.self.query.weight', 'encoder.layer.11.attention.self.value.bias', 'encoder.layer.11.attention.self.value.weight', 'encoder.layer.11.intermediate.dense.bias', 'encoder.layer.11.intermediate.dense.weight', 'encoder.layer.11.output.LayerNorm.bias', 'encoder.layer.11.output.LayerNorm.weight', 'encoder.layer.11.output.dense.bias', 'encoder.layer.11.output.dense.weight', 'encoder.layer.12.attention.output.LayerNorm.bias', 'encoder.layer.12.attention.output.LayerNorm.weight', 'encoder.layer.12.attention.output.dense.bias', 'encoder.layer.12.attention.output.dense.weight', 'encoder.layer.12.attention.self.key.bias', 'encoder.layer.12.attention.self.key.weight', 'encoder.layer.12.attention.self.query.bias', 'encoder.layer.12.attention.self.query.weight', 'encoder.layer.12.attention.self.value.bias', 'encoder.layer.12.attention.self.value.weight', 'encoder.layer.12.intermediate.dense.bias', 'encoder.layer.12.intermediate.dense.weight', 'encoder.layer.12.output.LayerNorm.bias', 'encoder.layer.12.output.LayerNorm.weight', 'encoder.layer.12.output.dense.bias', 'encoder.layer.12.output.dense.weight', 'encoder.layer.13.attention.output.LayerNorm.bias', 'encoder.layer.13.attention.output.LayerNorm.weight', 'encoder.layer.13.attention.output.dense.bias', 'encoder.layer.13.attention.output.dense.weight', 'encoder.layer.13.attention.self.key.bias', 'encoder.layer.13.attention.self.key.weight', 'encoder.layer.13.attention.self.query.bias', 'encoder.layer.13.attention.self.query.weight', 'encoder.layer.13.attention.self.value.bias', 'encoder.layer.13.attention.self.value.weight', 'encoder.layer.13.intermediate.dense.bias', 'encoder.layer.13.intermediate.dense.weight', 'encoder.layer.13.output.LayerNorm.bias', 'encoder.layer.13.output.LayerNorm.weight', 'encoder.layer.13.output.dense.bias', 'encoder.layer.13.output.dense.weight', 'encoder.layer.14.attention.output.LayerNorm.bias', 'encoder.layer.14.attention.output.LayerNorm.weight', 'encoder.layer.14.attention.output.dense.bias', 'encoder.layer.14.attention.output.dense.weight', 'encoder.layer.14.attention.self.key.bias', 'encoder.layer.14.attention.self.key.weight', 'encoder.layer.14.attention.self.query.bias', 'encoder.layer.14.attention.self.query.weight', 'encoder.layer.14.attention.self.value.bias', 'encoder.layer.14.attention.self.value.weight', 'encoder.layer.14.intermediate.dense.bias', 'encoder.layer.14.intermediate.dense.weight', 'encoder.layer.14.output.LayerNorm.bias', 'encoder.layer.14.output.LayerNorm.weight', 'encoder.layer.14.output.dense.bias', 'encoder.layer.14.output.dense.weight', 'encoder.layer.15.attention.output.LayerNorm.bias', 'encoder.layer.15.attention.output.LayerNorm.weight', 'encoder.layer.15.attention.output.dense.bias', 'encoder.layer.15.attention.output.dense.weight', 'encoder.layer.15.attention.self.key.bias', 'encoder.layer.15.attention.self.key.weight', 'encoder.layer.15.attention.self.query.bias', 'encoder.layer.15.attention.self.query.weight', 'encoder.layer.15.attention.self.value.bias', 'encoder.layer.15.attention.self.value.weight', 'encoder.layer.15.intermediate.dense.bias', 'encoder.layer.15.intermediate.dense.weight', 'encoder.layer.15.output.LayerNorm.bias', 'encoder.layer.15.output.LayerNorm.weight', 'encoder.layer.15.output.dense.bias', 'encoder.layer.15.output.dense.weight', 'encoder.layer.16.attention.output.LayerNorm.bias', 'encoder.layer.16.attention.output.LayerNorm.weight', 'encoder.layer.16.attention.output.dense.bias', 'encoder.layer.16.attention.output.dense.weight', 'encoder.layer.16.attention.self.key.bias', 'encoder.layer.16.attention.self.key.weight', 'encoder.layer.16.attention.self.query.bias', 'encoder.layer.16.attention.self.query.weight', 'encoder.layer.16.attention.self.value.bias', 'encoder.layer.16.attention.self.value.weight', 'encoder.layer.16.intermediate.dense.bias', 'encoder.layer.16.intermediate.dense.weight', 'encoder.layer.16.output.LayerNorm.bias', 'encoder.layer.16.output.LayerNorm.weight', 'encoder.layer.16.output.dense.bias', 'encoder.layer.16.output.dense.weight', 'encoder.layer.17.attention.output.LayerNorm.bias', 'encoder.layer.17.attention.output.LayerNorm.weight', 'encoder.layer.17.attention.output.dense.bias', 'encoder.layer.17.attention.output.dense.weight', 'encoder.layer.17.attention.self.key.bias', 'encoder.layer.17.attention.self.key.weight', 'encoder.layer.17.attention.self.query.bias', 'encoder.layer.17.attention.self.query.weight', 'encoder.layer.17.attention.self.value.bias', 'encoder.layer.17.attention.self.value.weight', 'encoder.layer.17.intermediate.dense.bias', 'encoder.layer.17.intermediate.dense.weight', 'encoder.layer.17.output.LayerNorm.bias', 'encoder.layer.17.output.LayerNorm.weight', 'encoder.layer.17.output.dense.bias', 'encoder.layer.17.output.dense.weight', 'encoder.layer.18.attention.output.LayerNorm.bias', 'encoder.layer.18.attention.output.LayerNorm.weight', 'encoder.layer.18.attention.output.dense.bias', 'encoder.layer.18.attention.output.dense.weight', 'encoder.layer.18.attention.self.key.bias', 'encoder.layer.18.attention.self.key.weight', 'encoder.layer.18.attention.self.query.bias', 'encoder.layer.18.attention.self.query.weight', 'encoder.layer.18.attention.self.value.bias', 'encoder.layer.18.attention.self.value.weight', 'encoder.layer.18.intermediate.dense.bias', 'encoder.layer.18.intermediate.dense.weight', 'encoder.layer.18.output.LayerNorm.bias', 'encoder.layer.18.output.LayerNorm.weight', 'encoder.layer.18.output.dense.bias', 'encoder.layer.18.output.dense.weight', 'encoder.layer.19.attention.output.LayerNorm.bias', 'encoder.layer.19.attention.output.LayerNorm.weight', 'encoder.layer.19.attention.output.dense.bias', 'encoder.layer.19.attention.output.dense.weight', 'encoder.layer.19.attention.self.key.bias', 'encoder.layer.19.attention.self.key.weight', 'encoder.layer.19.attention.self.query.bias', 'encoder.layer.19.attention.self.query.weight', 'encoder.layer.19.attention.self.value.bias', 'encoder.layer.19.attention.self.value.weight', 'encoder.layer.19.intermediate.dense.bias', 'encoder.layer.19.intermediate.dense.weight', 'encoder.layer.19.output.LayerNorm.bias', 'encoder.layer.19.output.LayerNorm.weight', 'encoder.layer.19.output.dense.bias', 'encoder.layer.19.output.dense.weight', 'encoder.layer.2.attention.output.LayerNorm.bias', 'encoder.layer.2.attention.output.LayerNorm.weight', 'encoder.layer.2.attention.output.dense.bias', 'encoder.layer.2.attention.output.dense.weight', 'encoder.layer.2.attention.self.key.bias', 'encoder.layer.2.attention.self.key.weight', 'encoder.layer.2.attention.self.query.bias', 'encoder.layer.2.attention.self.query.weight', 'encoder.layer.2.attention.self.value.bias', 'encoder.layer.2.attention.self.value.weight', 'encoder.layer.2.intermediate.dense.bias', 'encoder.layer.2.intermediate.dense.weight', 'encoder.layer.2.output.LayerNorm.bias', 'encoder.layer.2.output.LayerNorm.weight', 'encoder.layer.2.output.dense.bias', 'encoder.layer.2.output.dense.weight', 'encoder.layer.20.attention.output.LayerNorm.bias', 'encoder.layer.20.attention.output.LayerNorm.weight', 'encoder.layer.20.attention.output.dense.bias', 'encoder.layer.20.attention.output.dense.weight', 'encoder.layer.20.attention.self.key.bias', 'encoder.layer.20.attention.self.key.weight', 'encoder.layer.20.attention.self.query.bias', 'encoder.layer.20.attention.self.query.weight', 'encoder.layer.20.attention.self.value.bias', 'encoder.layer.20.attention.self.value.weight', 'encoder.layer.20.intermediate.dense.bias', 'encoder.layer.20.intermediate.dense.weight', 'encoder.layer.20.output.LayerNorm.bias', 'encoder.layer.20.output.LayerNorm.weight', 'encoder.layer.20.output.dense.bias', 'encoder.layer.20.output.dense.weight', 'encoder.layer.21.attention.output.LayerNorm.bias', 'encoder.layer.21.attention.output.LayerNorm.weight', 'encoder.layer.21.attention.output.dense.bias', 'encoder.layer.21.attention.output.dense.weight', 'encoder.layer.21.attention.self.key.bias', 'encoder.layer.21.attention.self.key.weight', 'encoder.layer.21.attention.self.query.bias', 'encoder.layer.21.attention.self.query.weight', 'encoder.layer.21.attention.self.value.bias', 'encoder.layer.21.attention.self.value.weight', 'encoder.layer.21.intermediate.dense.bias', 'encoder.layer.21.intermediate.dense.weight', 'encoder.layer.21.output.LayerNorm.bias', 'encoder.layer.21.output.LayerNorm.weight', 'encoder.layer.21.output.dense.bias', 'encoder.layer.21.output.dense.weight', 'encoder.layer.22.attention.output.LayerNorm.bias', 'encoder.layer.22.attention.output.LayerNorm.weight', 'encoder.layer.22.attention.output.dense.bias', 'encoder.layer.22.attention.output.dense.weight', 'encoder.layer.22.attention.self.key.bias', 'encoder.layer.22.attention.self.key.weight', 'encoder.layer.22.attention.self.query.bias', 'encoder.layer.22.attention.self.query.weight', 'encoder.layer.22.attention.self.value.bias', 'encoder.layer.22.attention.self.value.weight', 'encoder.layer.22.intermediate.dense.bias', 'encoder.layer.22.intermediate.dense.weight', 'encoder.layer.22.output.LayerNorm.bias', 'encoder.layer.22.output.LayerNorm.weight', 'encoder.layer.22.output.dense.bias', 'encoder.layer.22.output.dense.weight', 'encoder.layer.23.attention.output.LayerNorm.bias', 'encoder.layer.23.attention.output.LayerNorm.weight', 'encoder.layer.23.attention.output.dense.bias', 'encoder.layer.23.attention.output.dense.weight', 'encoder.layer.23.attention.self.key.bias', 'encoder.layer.23.attention.self.key.weight', 'encoder.layer.23.attention.self.query.bias', 'encoder.layer.23.attention.self.query.weight', 'encoder.layer.23.attention.self.value.bias', 'encoder.layer.23.attention.self.value.weight', 'encoder.layer.23.intermediate.dense.bias', 'encoder.layer.23.intermediate.dense.weight', 'encoder.layer.23.output.LayerNorm.bias', 'encoder.layer.23.output.LayerNorm.weight', 'encoder.layer.23.output.dense.bias', 'encoder.layer.23.output.dense.weight', 'encoder.layer.3.attention.output.LayerNorm.bias', 'encoder.layer.3.attention.output.LayerNorm.weight', 'encoder.layer.3.attention.output.dense.bias', 'encoder.layer.3.attention.output.dense.weight', 'encoder.layer.3.attention.self.key.bias', 'encoder.layer.3.attention.self.key.weight', 'encoder.layer.3.attention.self.query.bias', 'encoder.layer.3.attention.self.query.weight', 'encoder.layer.3.attention.self.value.bias', 'encoder.layer.3.attention.self.value.weight', 'encoder.layer.3.intermediate.dense.bias', 'encoder.layer.3.intermediate.dense.weight', 'encoder.layer.3.output.LayerNorm.bias', 'encoder.layer.3.output.LayerNorm.weight', 'encoder.layer.3.output.dense.bias', 'encoder.layer.3.output.dense.weight', 'encoder.layer.4.attention.output.LayerNorm.bias', 'encoder.layer.4.attention.output.LayerNorm.weight', 'encoder.layer.4.attention.output.dense.bias', 'encoder.layer.4.attention.output.dense.weight', 'encoder.layer.4.attention.self.key.bias', 'encoder.layer.4.attention.self.key.weight', 'encoder.layer.4.attention.self.query.bias', 'encoder.layer.4.attention.self.query.weight', 'encoder.layer.4.attention.self.value.bias', 'encoder.layer.4.attention.self.value.weight', 'encoder.layer.4.intermediate.dense.bias', 'encoder.layer.4.intermediate.dense.weight', 'encoder.layer.4.output.LayerNorm.bias', 'encoder.layer.4.output.LayerNorm.weight', 'encoder.layer.4.output.dense.bias', 'encoder.layer.4.output.dense.weight', 'encoder.layer.5.attention.output.LayerNorm.bias', 'encoder.layer.5.attention.output.LayerNorm.weight', 'encoder.layer.5.attention.output.dense.bias', 'encoder.layer.5.attention.output.dense.weight', 'encoder.layer.5.attention.self.key.bias', 'encoder.layer.5.attention.self.key.weight', 'encoder.layer.5.attention.self.query.bias', 'encoder.layer.5.attention.self.query.weight', 'encoder.layer.5.attention.self.value.bias', 'encoder.layer.5.attention.self.value.weight', 'encoder.layer.5.intermediate.dense.bias', 'encoder.layer.5.intermediate.dense.weight', 'encoder.layer.5.output.LayerNorm.bias', 'encoder.layer.5.output.LayerNorm.weight', 'encoder.layer.5.output.dense.bias', 'encoder.layer.5.output.dense.weight', 'encoder.layer.6.attention.output.LayerNorm.bias', 'encoder.layer.6.attention.output.LayerNorm.weight', 'encoder.layer.6.attention.output.dense.bias', 'encoder.layer.6.attention.output.dense.weight', 'encoder.layer.6.attention.self.key.bias', 'encoder.layer.6.attention.self.key.weight', 'encoder.layer.6.attention.self.query.bias', 'encoder.layer.6.attention.self.query.weight', 'encoder.layer.6.attention.self.value.bias', 'encoder.layer.6.attention.self.value.weight', 'encoder.layer.6.intermediate.dense.bias', 'encoder.layer.6.intermediate.dense.weight', 'encoder.layer.6.output.LayerNorm.bias', 'encoder.layer.6.output.LayerNorm.weight', 'encoder.layer.6.output.dense.bias', 'encoder.layer.6.output.dense.weight', 'encoder.layer.7.attention.output.LayerNorm.bias', 'encoder.layer.7.attention.output.LayerNorm.weight', 'encoder.layer.7.attention.output.dense.bias', 'encoder.layer.7.attention.output.dense.weight', 'encoder.layer.7.attention.self.key.bias', 'encoder.layer.7.attention.self.key.weight', 'encoder.layer.7.attention.self.query.bias', 'encoder.layer.7.attention.self.query.weight', 'encoder.layer.7.attention.self.value.bias', 'encoder.layer.7.attention.self.value.weight', 'encoder.layer.7.intermediate.dense.bias', 'encoder.layer.7.intermediate.dense.weight', 'encoder.layer.7.output.LayerNorm.bias', 'encoder.layer.7.output.LayerNorm.weight', 'encoder.layer.7.output.dense.bias', 'encoder.layer.7.output.dense.weight', 'encoder.layer.8.attention.output.LayerNorm.bias', 'encoder.layer.8.attention.output.LayerNorm.weight', 'encoder.layer.8.attention.output.dense.bias', 'encoder.layer.8.attention.output.dense.weight', 'encoder.layer.8.attention.self.key.bias', 'encoder.layer.8.attention.self.key.weight', 'encoder.layer.8.attention.self.query.bias', 'encoder.layer.8.attention.self.query.weight', 'encoder.layer.8.attention.self.value.bias', 'encoder.layer.8.attention.self.value.weight', 'encoder.layer.8.intermediate.dense.bias', 'encoder.layer.8.intermediate.dense.weight', 'encoder.layer.8.output.LayerNorm.bias', 'encoder.layer.8.output.LayerNorm.weight', 'encoder.layer.8.output.dense.bias', 'encoder.layer.8.output.dense.weight', 'encoder.layer.9.attention.output.LayerNorm.bias', 'encoder.layer.9.attention.output.LayerNorm.weight', 'encoder.layer.9.attention.output.dense.bias', 'encoder.layer.9.attention.output.dense.weight', 'encoder.layer.9.attention.self.key.bias', 'encoder.layer.9.attention.self.key.weight', 'encoder.layer.9.attention.self.query.bias', 'encoder.layer.9.attention.self.query.weight', 'encoder.layer.9.attention.self.value.bias', 'encoder.layer.9.attention.self.value.weight', 'encoder.layer.9.intermediate.dense.bias', 'encoder.layer.9.intermediate.dense.weight', 'encoder.layer.9.output.LayerNorm.bias', 'encoder.layer.9.output.LayerNorm.weight', 'encoder.layer.9.output.dense.bias', 'encoder.layer.9.output.dense.weight', 'pooler.dense.bias', 'pooler.dense.weight']\n",
            "You should probably TRAIN this model on a down-stream task to be able to use it for predictions and inference.\n"
          ]
        }
      ]
    },
    {
      "cell_type": "code",
      "source": [
        "X_all, y_all = make_embedding(df_raw, herbert)"
      ],
      "metadata": {
        "id": "J-Qum4YdbdNB",
        "colab": {
          "base_uri": "https://localhost:8080/",
          "height": 1000
        },
        "outputId": "07718532-075c-4232-c00b-33bb4bea0484"
      },
      "execution_count": 6,
      "outputs": [
        {
          "output_type": "stream",
          "name": "stderr",
          "text": [
            "\n",
            "  0%|          | 0/400 [00:00<?, ?it/s]\u001b[A\n",
            "  0%|          | 1/400 [00:08<54:22,  8.18s/it]\u001b[A\n",
            "  0%|          | 2/400 [00:16<55:06,  8.31s/it]\u001b[A\n",
            "  1%|          | 3/400 [00:27<1:03:04,  9.53s/it]\u001b[A\n",
            "  1%|          | 4/400 [00:37<1:04:43,  9.81s/it]\u001b[A\n",
            "  1%|▏         | 5/400 [00:46<1:02:12,  9.45s/it]\u001b[A\n",
            "  2%|▏         | 6/400 [00:53<57:03,  8.69s/it]  \u001b[A\n",
            "  2%|▏         | 7/400 [01:04<1:00:32,  9.24s/it]\u001b[A\n",
            "  2%|▏         | 8/400 [01:12<58:29,  8.95s/it]  \u001b[A\n",
            "  2%|▏         | 9/400 [01:19<54:57,  8.43s/it]\u001b[A\n",
            "  2%|▎         | 10/400 [01:27<53:45,  8.27s/it]\u001b[A\n",
            "  3%|▎         | 11/400 [01:35<51:52,  8.00s/it]\u001b[A\n",
            "  3%|▎         | 12/400 [01:43<52:54,  8.18s/it]\u001b[A\n",
            "  3%|▎         | 13/400 [01:50<49:45,  7.72s/it]\u001b[A\n",
            "  4%|▎         | 14/400 [01:58<51:02,  7.93s/it]\u001b[A\n",
            "  4%|▍         | 15/400 [02:09<56:56,  8.87s/it]\u001b[A\n",
            "  4%|▍         | 16/400 [02:16<52:07,  8.14s/it]\u001b[A\n",
            "  4%|▍         | 17/400 [02:24<52:54,  8.29s/it]\u001b[A\n",
            "  4%|▍         | 18/400 [02:31<49:03,  7.71s/it]\u001b[A\n",
            "  5%|▍         | 19/400 [02:43<58:07,  9.15s/it]\u001b[A\n",
            "  5%|▌         | 20/400 [02:56<1:05:18, 10.31s/it]\u001b[A\n",
            "  5%|▌         | 21/400 [03:08<1:07:41, 10.72s/it]\u001b[A\n",
            "  6%|▌         | 22/400 [03:21<1:12:27, 11.50s/it]\u001b[A\n",
            "  6%|▌         | 23/400 [03:30<1:07:45, 10.78s/it]\u001b[A\n",
            "  6%|▌         | 24/400 [03:37<58:48,  9.38s/it]  \u001b[A\n",
            "  6%|▋         | 25/400 [03:44<54:36,  8.74s/it]\u001b[A\n",
            "  6%|▋         | 26/400 [03:53<54:29,  8.74s/it]\u001b[A\n",
            "  7%|▋         | 27/400 [04:00<52:05,  8.38s/it]\u001b[A\n",
            "  7%|▋         | 28/400 [04:07<49:02,  7.91s/it]\u001b[A\n",
            "  7%|▋         | 29/400 [04:14<46:52,  7.58s/it]\u001b[A\n",
            "  8%|▊         | 30/400 [04:20<45:13,  7.33s/it]\u001b[A\n",
            "  8%|▊         | 31/400 [04:27<43:48,  7.12s/it]\u001b[A\n",
            "  8%|▊         | 32/400 [04:34<43:36,  7.11s/it]\u001b[A\n",
            "  8%|▊         | 33/400 [04:41<42:13,  6.90s/it]\u001b[A\n",
            "  8%|▊         | 34/400 [04:48<42:42,  7.00s/it]\u001b[A\n",
            "  9%|▉         | 35/400 [04:54<41:11,  6.77s/it]\u001b[A\n",
            "  9%|▉         | 36/400 [05:01<41:57,  6.92s/it]\u001b[A\n",
            "  9%|▉         | 37/400 [05:17<58:25,  9.66s/it]\u001b[A\n",
            " 10%|▉         | 38/400 [05:23<51:41,  8.57s/it]\u001b[A\n",
            " 10%|▉         | 39/400 [05:31<49:02,  8.15s/it]\u001b[A\n",
            " 10%|█         | 40/400 [05:37<45:11,  7.53s/it]\u001b[A\n",
            " 10%|█         | 41/400 [05:47<49:49,  8.33s/it]\u001b[A\n",
            " 10%|█         | 42/400 [05:54<47:38,  7.99s/it]\u001b[A\n",
            " 11%|█         | 43/400 [06:00<44:02,  7.40s/it]\u001b[A\n",
            " 11%|█         | 44/400 [06:07<43:38,  7.35s/it]\u001b[A\n",
            " 11%|█▏        | 45/400 [06:13<41:13,  6.97s/it]\u001b[A\n",
            " 12%|█▏        | 46/400 [06:21<41:33,  7.04s/it]\u001b[A\n",
            " 12%|█▏        | 47/400 [06:27<39:42,  6.75s/it]\u001b[A\n",
            " 12%|█▏        | 48/400 [06:35<42:33,  7.25s/it]\u001b[A\n",
            " 12%|█▏        | 49/400 [06:42<41:07,  7.03s/it]\u001b[A\n",
            " 12%|█▎        | 50/400 [06:49<41:33,  7.12s/it]\u001b[A\n",
            " 13%|█▎        | 51/400 [06:55<39:36,  6.81s/it]\u001b[A\n",
            " 13%|█▎        | 52/400 [07:02<40:16,  6.94s/it]\u001b[A\n",
            " 13%|█▎        | 53/400 [07:08<38:48,  6.71s/it]\u001b[A\n",
            " 14%|█▎        | 54/400 [07:16<39:36,  6.87s/it]\u001b[A\n",
            " 14%|█▍        | 55/400 [07:22<38:04,  6.62s/it]\u001b[A\n",
            " 14%|█▍        | 56/400 [07:29<38:59,  6.80s/it]\u001b[A\n",
            " 14%|█▍        | 57/400 [07:35<37:40,  6.59s/it]\u001b[A\n",
            " 14%|█▍        | 58/400 [07:42<38:37,  6.78s/it]\u001b[A\n",
            " 15%|█▍        | 59/400 [07:48<37:14,  6.55s/it]\u001b[A\n",
            " 15%|█▌        | 60/400 [07:56<38:20,  6.77s/it]\u001b[A\n",
            " 15%|█▌        | 61/400 [08:02<37:18,  6.60s/it]\u001b[A\n",
            " 16%|█▌        | 62/400 [08:09<38:05,  6.76s/it]\u001b[A\n",
            " 16%|█▌        | 63/400 [08:15<37:08,  6.61s/it]\u001b[A\n",
            " 16%|█▌        | 64/400 [08:22<37:47,  6.75s/it]\u001b[A\n",
            " 16%|█▋        | 65/400 [08:29<37:24,  6.70s/it]\u001b[A\n",
            " 16%|█▋        | 66/400 [08:36<37:29,  6.73s/it]\u001b[A\n",
            " 17%|█▋        | 67/400 [08:42<37:17,  6.72s/it]\u001b[A\n",
            " 17%|█▋        | 68/400 [08:49<36:53,  6.67s/it]\u001b[A\n",
            " 17%|█▋        | 69/400 [08:56<37:02,  6.71s/it]\u001b[A\n",
            " 18%|█▊        | 70/400 [09:02<36:34,  6.65s/it]\u001b[A\n",
            " 18%|█▊        | 71/400 [09:09<37:18,  6.80s/it]\u001b[A\n",
            " 18%|█▊        | 72/400 [09:16<36:14,  6.63s/it]\u001b[A\n",
            " 18%|█▊        | 73/400 [09:23<37:07,  6.81s/it]\u001b[A\n",
            " 18%|█▊        | 74/400 [09:29<35:52,  6.60s/it]\u001b[A\n",
            " 19%|█▉        | 75/400 [09:36<36:53,  6.81s/it]\u001b[A\n",
            " 19%|█▉        | 76/400 [09:42<35:38,  6.60s/it]\u001b[A\n",
            " 19%|█▉        | 77/400 [09:49<36:27,  6.77s/it]\u001b[A\n",
            " 20%|█▉        | 78/400 [09:56<35:11,  6.56s/it]\u001b[A\n",
            " 20%|█▉        | 79/400 [10:03<36:06,  6.75s/it]\u001b[A\n",
            " 20%|██        | 80/400 [10:09<34:57,  6.56s/it]\u001b[A\n",
            " 20%|██        | 81/400 [10:16<36:00,  6.77s/it]\u001b[A\n",
            " 20%|██        | 82/400 [10:22<34:44,  6.56s/it]\u001b[A\n",
            " 21%|██        | 83/400 [10:29<35:44,  6.77s/it]\u001b[A\n",
            " 21%|██        | 84/400 [10:36<34:40,  6.58s/it]\u001b[A\n",
            " 21%|██▏       | 85/400 [10:43<35:34,  6.78s/it]\u001b[A\n",
            " 22%|██▏       | 86/400 [10:49<34:21,  6.56s/it]\u001b[A\n",
            " 22%|██▏       | 87/400 [10:56<35:14,  6.76s/it]\u001b[A\n",
            " 22%|██▏       | 88/400 [11:02<34:05,  6.55s/it]\u001b[A\n",
            " 22%|██▏       | 89/400 [11:09<35:10,  6.79s/it]\u001b[A\n",
            " 22%|██▎       | 90/400 [11:16<33:59,  6.58s/it]\u001b[A\n",
            " 23%|██▎       | 91/400 [11:23<34:58,  6.79s/it]\u001b[A\n",
            " 23%|██▎       | 92/400 [11:29<33:44,  6.57s/it]\u001b[A\n",
            " 23%|██▎       | 93/400 [11:36<34:42,  6.78s/it]\u001b[A\n",
            " 24%|██▎       | 94/400 [11:42<33:32,  6.58s/it]\u001b[A\n",
            " 24%|██▍       | 95/400 [11:50<34:30,  6.79s/it]\u001b[A\n",
            " 24%|██▍       | 96/400 [11:56<33:20,  6.58s/it]\u001b[A\n",
            " 24%|██▍       | 97/400 [12:03<34:22,  6.81s/it]\u001b[A\n",
            " 24%|██▍       | 98/400 [12:09<33:11,  6.59s/it]\u001b[A\n",
            " 25%|██▍       | 99/400 [12:16<34:05,  6.79s/it]\u001b[A\n",
            " 25%|██▌       | 100/400 [12:23<32:57,  6.59s/it]\u001b[A\n",
            " 25%|██▌       | 101/400 [12:30<33:57,  6.81s/it]\u001b[A\n",
            " 26%|██▌       | 102/400 [12:36<32:54,  6.63s/it]\u001b[A\n",
            " 26%|██▌       | 103/400 [12:43<33:54,  6.85s/it]\u001b[A\n",
            " 26%|██▌       | 104/400 [12:50<33:10,  6.72s/it]\u001b[A\n",
            " 26%|██▋       | 105/400 [12:57<33:28,  6.81s/it]\u001b[A\n",
            " 26%|██▋       | 106/400 [13:03<32:59,  6.73s/it]\u001b[A\n",
            " 27%|██▋       | 107/400 [13:10<33:03,  6.77s/it]\u001b[A\n",
            " 27%|██▋       | 108/400 [13:17<32:52,  6.75s/it]\u001b[A\n",
            " 27%|██▋       | 109/400 [13:24<32:31,  6.71s/it]\u001b[A\n",
            " 28%|██▊       | 110/400 [13:31<32:50,  6.79s/it]\u001b[A\n",
            " 28%|██▊       | 111/400 [13:37<32:07,  6.67s/it]\u001b[A\n",
            " 28%|██▊       | 112/400 [13:44<32:37,  6.80s/it]\u001b[A\n",
            " 28%|██▊       | 113/400 [13:50<31:35,  6.60s/it]\u001b[A\n",
            " 28%|██▊       | 114/400 [13:57<32:16,  6.77s/it]\u001b[A\n",
            " 29%|██▉       | 115/400 [14:04<31:20,  6.60s/it]\u001b[A\n",
            " 29%|██▉       | 116/400 [14:11<32:11,  6.80s/it]\u001b[A\n",
            " 29%|██▉       | 117/400 [14:17<31:01,  6.58s/it]\u001b[A\n",
            " 30%|██▉       | 118/400 [14:24<31:54,  6.79s/it]\u001b[A\n",
            " 30%|██▉       | 119/400 [14:30<30:46,  6.57s/it]\u001b[A\n",
            " 30%|███       | 120/400 [14:37<31:38,  6.78s/it]\u001b[A\n",
            " 30%|███       | 121/400 [14:44<30:35,  6.58s/it]\u001b[A\n",
            " 30%|███       | 122/400 [14:51<31:24,  6.78s/it]\u001b[A\n",
            " 31%|███       | 123/400 [14:57<30:18,  6.57s/it]\u001b[A\n",
            " 31%|███       | 124/400 [15:04<31:12,  6.78s/it]\u001b[A\n",
            " 31%|███▏      | 125/400 [15:10<30:12,  6.59s/it]\u001b[A\n",
            " 32%|███▏      | 126/400 [15:18<31:04,  6.81s/it]\u001b[A\n",
            " 32%|███▏      | 127/400 [15:24<29:59,  6.59s/it]\u001b[A\n",
            " 32%|███▏      | 128/400 [15:31<30:48,  6.80s/it]\u001b[A\n",
            " 32%|███▏      | 129/400 [15:37<29:43,  6.58s/it]\u001b[A\n",
            " 32%|███▎      | 130/400 [15:44<30:34,  6.79s/it]\u001b[A\n",
            " 33%|███▎      | 131/400 [15:50<29:28,  6.57s/it]\u001b[A\n",
            " 33%|███▎      | 132/400 [15:58<30:16,  6.78s/it]\u001b[A\n",
            " 33%|███▎      | 133/400 [16:04<29:17,  6.58s/it]\u001b[A\n",
            " 34%|███▎      | 134/400 [16:11<30:11,  6.81s/it]\u001b[A\n",
            " 34%|███▍      | 135/400 [16:17<29:07,  6.59s/it]\u001b[A\n",
            " 34%|███▍      | 136/400 [16:25<30:24,  6.91s/it]\u001b[A\n",
            " 34%|███▍      | 137/400 [16:31<29:13,  6.67s/it]\u001b[A\n",
            " 34%|███▍      | 138/400 [16:38<29:58,  6.86s/it]\u001b[A\n",
            " 35%|███▍      | 139/400 [16:45<29:02,  6.68s/it]\u001b[A\n",
            " 35%|███▌      | 140/400 [16:52<29:31,  6.81s/it]\u001b[A\n",
            " 35%|███▌      | 141/400 [16:58<28:42,  6.65s/it]\u001b[A\n",
            " 36%|███▌      | 142/400 [17:05<29:03,  6.76s/it]\u001b[A\n",
            " 36%|███▌      | 143/400 [17:12<28:44,  6.71s/it]\u001b[A\n",
            " 36%|███▌      | 144/400 [17:18<28:44,  6.74s/it]\u001b[A\n",
            " 36%|███▋      | 145/400 [17:25<28:35,  6.73s/it]\u001b[A\n",
            " 36%|███▋      | 146/400 [17:32<28:18,  6.69s/it]\u001b[A\n",
            " 37%|███▋      | 147/400 [17:39<28:36,  6.78s/it]\u001b[A\n",
            " 37%|███▋      | 148/400 [17:45<27:58,  6.66s/it]\u001b[A\n",
            " 37%|███▋      | 149/400 [17:52<28:22,  6.78s/it]\u001b[A\n",
            " 38%|███▊      | 150/400 [17:58<27:33,  6.61s/it]\u001b[A\n",
            " 38%|███▊      | 151/400 [18:06<28:15,  6.81s/it]\u001b[A\n",
            " 38%|███▊      | 152/400 [18:12<27:19,  6.61s/it]\u001b[A\n",
            " 38%|███▊      | 153/400 [18:19<28:04,  6.82s/it]\u001b[A\n",
            " 38%|███▊      | 154/400 [18:25<27:11,  6.63s/it]\u001b[A\n",
            " 39%|███▉      | 155/400 [18:33<27:55,  6.84s/it]\u001b[A\n",
            " 39%|███▉      | 156/400 [18:39<27:09,  6.68s/it]\u001b[A\n",
            " 39%|███▉      | 157/400 [18:46<27:48,  6.86s/it]\u001b[A\n",
            " 40%|███▉      | 158/400 [18:52<26:48,  6.65s/it]\u001b[A\n",
            " 40%|███▉      | 159/400 [19:00<27:27,  6.84s/it]\u001b[A\n",
            " 40%|████      | 160/400 [19:06<26:33,  6.64s/it]\u001b[A\n",
            " 40%|████      | 161/400 [19:13<27:19,  6.86s/it]\u001b[A\n",
            " 40%|████      | 162/400 [19:19<26:22,  6.65s/it]\u001b[A\n",
            " 41%|████      | 163/400 [19:27<27:06,  6.86s/it]\u001b[A\n",
            " 41%|████      | 164/400 [19:33<26:06,  6.64s/it]\u001b[A\n",
            " 41%|████▏     | 165/400 [19:40<26:48,  6.84s/it]\u001b[A\n",
            " 42%|████▏     | 166/400 [19:46<25:51,  6.63s/it]\u001b[A\n",
            " 42%|████▏     | 167/400 [19:54<26:31,  6.83s/it]\u001b[A\n",
            " 42%|████▏     | 168/400 [20:00<25:34,  6.61s/it]\u001b[A\n",
            " 42%|████▏     | 169/400 [20:07<26:16,  6.82s/it]\u001b[A\n",
            " 42%|████▎     | 170/400 [20:13<25:26,  6.64s/it]\u001b[A\n",
            " 43%|████▎     | 171/400 [20:20<26:05,  6.84s/it]\u001b[A\n",
            " 43%|████▎     | 172/400 [20:27<25:18,  6.66s/it]\u001b[A\n",
            " 43%|████▎     | 173/400 [20:34<25:42,  6.80s/it]\u001b[A\n",
            " 44%|████▎     | 174/400 [20:40<25:20,  6.73s/it]\u001b[A\n",
            " 44%|████▍     | 175/400 [20:47<25:23,  6.77s/it]\u001b[A\n",
            " 44%|████▍     | 176/400 [20:54<25:09,  6.74s/it]\u001b[A\n",
            " 44%|████▍     | 177/400 [21:01<24:59,  6.72s/it]\u001b[A\n",
            " 44%|████▍     | 178/400 [21:08<25:07,  6.79s/it]\u001b[A\n",
            " 45%|████▍     | 179/400 [21:14<24:39,  6.70s/it]\u001b[A\n",
            " 45%|████▌     | 180/400 [21:21<25:03,  6.83s/it]\u001b[A\n",
            " 45%|████▌     | 181/400 [21:27<24:15,  6.65s/it]\u001b[A\n",
            " 46%|████▌     | 182/400 [21:35<24:55,  6.86s/it]\u001b[A\n",
            " 46%|████▌     | 183/400 [21:41<24:00,  6.64s/it]\u001b[A\n",
            " 46%|████▌     | 184/400 [21:48<24:35,  6.83s/it]\u001b[A\n",
            " 46%|████▋     | 185/400 [21:54<23:42,  6.62s/it]\u001b[A\n",
            " 46%|████▋     | 186/400 [22:02<24:15,  6.80s/it]\u001b[A\n",
            " 47%|████▋     | 187/400 [22:08<23:23,  6.59s/it]\u001b[A\n",
            " 47%|████▋     | 188/400 [22:15<24:01,  6.80s/it]\u001b[A\n",
            " 47%|████▋     | 189/400 [22:21<23:07,  6.58s/it]\u001b[A\n",
            " 48%|████▊     | 190/400 [22:28<23:43,  6.78s/it]\u001b[A\n",
            " 48%|████▊     | 191/400 [22:34<22:53,  6.57s/it]\u001b[A\n",
            " 48%|████▊     | 192/400 [22:42<23:34,  6.80s/it]\u001b[A\n",
            " 48%|████▊     | 193/400 [22:48<22:42,  6.58s/it]\u001b[A\n",
            " 48%|████▊     | 194/400 [22:55<23:18,  6.79s/it]\u001b[A\n",
            " 49%|████▉     | 195/400 [23:01<22:27,  6.57s/it]\u001b[A\n",
            " 49%|████▉     | 196/400 [23:08<23:00,  6.77s/it]\u001b[A\n",
            " 49%|████▉     | 197/400 [23:14<22:16,  6.58s/it]\u001b[A\n",
            " 50%|████▉     | 198/400 [23:22<22:49,  6.78s/it]\u001b[A\n",
            " 50%|████▉     | 199/400 [23:28<21:58,  6.56s/it]\u001b[A\n",
            " 50%|█████     | 200/400 [23:35<22:32,  6.76s/it]\u001b[A\n",
            " 50%|█████     | 201/400 [23:41<21:43,  6.55s/it]\u001b[A\n",
            " 50%|█████     | 202/400 [23:48<22:18,  6.76s/it]\u001b[A\n",
            " 51%|█████     | 203/400 [23:54<21:31,  6.56s/it]\u001b[A\n",
            " 51%|█████     | 204/400 [24:02<22:07,  6.77s/it]\u001b[A\n",
            " 51%|█████▏    | 205/400 [24:08<21:18,  6.55s/it]\u001b[A\n",
            " 52%|█████▏    | 206/400 [24:15<21:55,  6.78s/it]\u001b[A\n",
            " 52%|█████▏    | 207/400 [24:21<21:16,  6.61s/it]\u001b[A\n",
            " 52%|█████▏    | 208/400 [24:28<21:36,  6.75s/it]\u001b[A\n",
            " 52%|█████▏    | 209/400 [24:35<21:08,  6.64s/it]\u001b[A\n",
            " 52%|█████▎    | 210/400 [24:42<21:15,  6.71s/it]\u001b[A\n",
            " 53%|█████▎    | 211/400 [24:48<21:05,  6.70s/it]\u001b[A\n",
            " 53%|█████▎    | 212/400 [24:55<20:56,  6.68s/it]\u001b[A\n",
            " 53%|█████▎    | 213/400 [25:02<20:56,  6.72s/it]\u001b[A\n",
            " 54%|█████▎    | 214/400 [25:08<20:37,  6.65s/it]\u001b[A\n",
            " 54%|█████▍    | 215/400 [25:15<20:51,  6.77s/it]\u001b[A\n",
            " 54%|█████▍    | 216/400 [25:21<20:20,  6.63s/it]\u001b[A\n",
            " 54%|█████▍    | 217/400 [25:29<20:45,  6.81s/it]\u001b[A\n",
            " 55%|█████▍    | 218/400 [25:35<20:00,  6.59s/it]\u001b[A\n",
            " 55%|█████▍    | 219/400 [25:42<20:29,  6.79s/it]\u001b[A\n",
            " 55%|█████▌    | 220/400 [25:48<19:42,  6.57s/it]\u001b[A\n",
            " 55%|█████▌    | 221/400 [25:55<20:07,  6.75s/it]\u001b[A\n",
            " 56%|█████▌    | 222/400 [26:01<19:25,  6.55s/it]\u001b[A\n",
            " 56%|█████▌    | 223/400 [26:09<19:56,  6.76s/it]\u001b[A\n",
            " 56%|█████▌    | 224/400 [26:15<19:14,  6.56s/it]\u001b[A\n",
            " 56%|█████▋    | 225/400 [26:22<19:47,  6.78s/it]\u001b[A\n",
            " 56%|█████▋    | 226/400 [26:28<19:05,  6.58s/it]\u001b[A\n",
            " 57%|█████▋    | 227/400 [26:35<19:34,  6.79s/it]\u001b[A\n",
            " 57%|█████▋    | 228/400 [26:41<18:51,  6.58s/it]\u001b[A\n",
            " 57%|█████▋    | 229/400 [26:49<19:19,  6.78s/it]\u001b[A\n",
            " 57%|█████▊    | 230/400 [26:55<18:36,  6.57s/it]\u001b[A\n",
            " 58%|█████▊    | 231/400 [27:02<19:04,  6.78s/it]\u001b[A\n",
            " 58%|█████▊    | 232/400 [27:08<18:22,  6.56s/it]\u001b[A\n",
            " 58%|█████▊    | 233/400 [27:15<18:49,  6.76s/it]\u001b[A\n",
            " 58%|█████▊    | 234/400 [27:21<18:06,  6.55s/it]\u001b[A\n",
            " 59%|█████▉    | 235/400 [27:29<18:34,  6.75s/it]\u001b[A\n",
            " 59%|█████▉    | 236/400 [27:35<17:54,  6.55s/it]\u001b[A\n",
            " 59%|█████▉    | 237/400 [27:42<18:18,  6.74s/it]\u001b[A\n",
            " 60%|█████▉    | 238/400 [27:48<17:39,  6.54s/it]\u001b[A\n",
            " 60%|█████▉    | 239/400 [27:55<18:04,  6.74s/it]\u001b[A\n",
            " 60%|██████    | 240/400 [28:01<17:24,  6.53s/it]\u001b[A\n",
            " 60%|██████    | 241/400 [28:08<17:49,  6.73s/it]\u001b[A\n",
            " 60%|██████    | 242/400 [28:14<17:11,  6.53s/it]\u001b[A\n",
            " 61%|██████    | 243/400 [28:22<17:38,  6.74s/it]\u001b[A\n",
            " 61%|██████    | 244/400 [28:28<16:59,  6.54s/it]\u001b[A\n",
            " 61%|██████▏   | 245/400 [28:35<17:23,  6.73s/it]\u001b[A\n",
            " 62%|██████▏   | 246/400 [28:41<16:49,  6.56s/it]\u001b[A\n",
            " 62%|██████▏   | 247/400 [28:48<17:08,  6.72s/it]\u001b[A\n",
            " 62%|██████▏   | 248/400 [28:54<16:39,  6.57s/it]\u001b[A\n",
            " 62%|██████▏   | 249/400 [29:01<16:53,  6.71s/it]\u001b[A\n",
            " 62%|██████▎   | 250/400 [29:08<16:33,  6.62s/it]\u001b[A\n",
            " 63%|██████▎   | 251/400 [29:15<16:39,  6.71s/it]\u001b[A\n",
            " 63%|██████▎   | 252/400 [29:21<16:29,  6.68s/it]\u001b[A\n",
            " 63%|██████▎   | 253/400 [29:28<16:22,  6.69s/it]\u001b[A\n",
            " 64%|██████▎   | 254/400 [29:35<16:25,  6.75s/it]\u001b[A\n",
            " 64%|██████▍   | 255/400 [29:41<16:04,  6.66s/it]\u001b[A\n",
            " 64%|██████▍   | 256/400 [29:48<16:15,  6.77s/it]\u001b[A\n",
            " 64%|██████▍   | 257/400 [29:55<15:44,  6.60s/it]\u001b[A\n",
            " 64%|██████▍   | 258/400 [30:02<16:03,  6.78s/it]\u001b[A\n",
            " 65%|██████▍   | 259/400 [30:08<15:28,  6.59s/it]\u001b[A\n",
            " 65%|██████▌   | 260/400 [30:15<15:52,  6.80s/it]\u001b[A\n",
            " 65%|██████▌   | 261/400 [30:21<15:15,  6.59s/it]\u001b[A\n",
            " 66%|██████▌   | 262/400 [30:29<15:36,  6.78s/it]\u001b[A\n",
            " 66%|██████▌   | 263/400 [30:35<14:59,  6.57s/it]\u001b[A\n",
            " 66%|██████▌   | 264/400 [30:42<15:19,  6.76s/it]\u001b[A\n",
            " 66%|██████▋   | 265/400 [30:48<14:45,  6.56s/it]\u001b[A\n",
            " 66%|██████▋   | 266/400 [30:55<15:05,  6.76s/it]\u001b[A\n",
            " 67%|██████▋   | 267/400 [31:01<14:29,  6.54s/it]\u001b[A\n",
            " 67%|██████▋   | 268/400 [31:08<14:49,  6.74s/it]\u001b[A\n",
            " 67%|██████▋   | 269/400 [31:15<14:16,  6.54s/it]\u001b[A\n",
            " 68%|██████▊   | 270/400 [31:22<14:36,  6.74s/it]\u001b[A\n",
            " 68%|██████▊   | 271/400 [31:28<14:01,  6.53s/it]\u001b[A\n",
            " 68%|██████▊   | 272/400 [31:35<14:22,  6.73s/it]\u001b[A\n",
            " 68%|██████▊   | 273/400 [31:41<13:48,  6.52s/it]\u001b[A\n",
            " 68%|██████▊   | 274/400 [31:48<14:08,  6.73s/it]\u001b[A\n",
            " 69%|██████▉   | 275/400 [31:54<13:35,  6.52s/it]\u001b[A\n",
            " 69%|██████▉   | 276/400 [32:02<13:55,  6.74s/it]\u001b[A\n",
            " 69%|██████▉   | 277/400 [32:08<13:23,  6.53s/it]\u001b[A\n",
            " 70%|██████▉   | 278/400 [32:15<13:41,  6.73s/it]\u001b[A\n",
            " 70%|██████▉   | 279/400 [32:21<13:09,  6.52s/it]\u001b[A\n",
            " 70%|███████   | 280/400 [32:28<13:28,  6.74s/it]\u001b[A\n",
            " 70%|███████   | 281/400 [32:34<12:57,  6.53s/it]\u001b[A\n",
            " 70%|███████   | 282/400 [32:41<13:15,  6.74s/it]\u001b[A\n",
            " 71%|███████   | 283/400 [32:47<12:43,  6.53s/it]\u001b[A\n",
            " 71%|███████   | 284/400 [32:55<12:59,  6.72s/it]\u001b[A\n",
            " 71%|███████▏  | 285/400 [33:01<12:29,  6.52s/it]\u001b[A\n",
            " 72%|███████▏  | 286/400 [33:08<12:46,  6.72s/it]\u001b[A\n",
            " 72%|███████▏  | 287/400 [33:14<12:16,  6.51s/it]\u001b[A\n",
            " 72%|███████▏  | 288/400 [33:21<12:35,  6.74s/it]\u001b[A\n",
            " 72%|███████▏  | 289/400 [33:27<12:04,  6.53s/it]\u001b[A\n",
            " 72%|███████▎  | 290/400 [33:34<12:20,  6.73s/it]\u001b[A\n",
            " 73%|███████▎  | 291/400 [33:40<11:48,  6.50s/it]\u001b[A\n",
            " 73%|███████▎  | 292/400 [33:47<12:04,  6.71s/it]\u001b[A\n",
            " 73%|███████▎  | 293/400 [33:54<11:42,  6.57s/it]\u001b[A\n",
            " 74%|███████▎  | 294/400 [34:01<11:50,  6.70s/it]\u001b[A\n",
            " 74%|███████▍  | 295/400 [34:07<11:32,  6.59s/it]\u001b[A\n",
            " 74%|███████▍  | 296/400 [34:14<11:34,  6.68s/it]\u001b[A\n",
            " 74%|███████▍  | 297/400 [34:21<11:24,  6.65s/it]\u001b[A\n",
            " 74%|███████▍  | 298/400 [34:27<11:20,  6.67s/it]\u001b[A\n",
            " 75%|███████▍  | 299/400 [34:34<11:24,  6.77s/it]\u001b[A\n",
            " 75%|███████▌  | 300/400 [34:41<11:06,  6.66s/it]\u001b[A\n",
            " 75%|███████▌  | 301/400 [34:48<11:09,  6.77s/it]\u001b[A\n",
            " 76%|███████▌  | 302/400 [34:54<10:49,  6.62s/it]\u001b[A\n",
            " 76%|███████▌  | 303/400 [35:01<10:57,  6.78s/it]\u001b[A\n",
            " 76%|███████▌  | 304/400 [35:07<10:31,  6.58s/it]\u001b[A\n",
            " 76%|███████▋  | 305/400 [35:14<10:42,  6.76s/it]\u001b[A\n",
            " 76%|███████▋  | 306/400 [35:20<10:16,  6.55s/it]\u001b[A\n",
            " 77%|███████▋  | 307/400 [35:28<10:28,  6.76s/it]\u001b[A\n",
            " 77%|███████▋  | 308/400 [35:34<10:02,  6.55s/it]\u001b[A\n",
            " 77%|███████▋  | 309/400 [35:41<10:13,  6.74s/it]\u001b[A\n",
            " 78%|███████▊  | 310/400 [35:47<09:48,  6.54s/it]\u001b[A\n",
            " 78%|███████▊  | 311/400 [35:54<09:58,  6.72s/it]\u001b[A\n",
            " 78%|███████▊  | 312/400 [36:00<09:33,  6.51s/it]\u001b[A\n",
            " 78%|███████▊  | 313/400 [36:07<09:45,  6.72s/it]\u001b[A\n",
            " 78%|███████▊  | 314/400 [36:14<09:21,  6.53s/it]\u001b[A\n",
            " 79%|███████▉  | 315/400 [36:21<09:32,  6.74s/it]\u001b[A\n",
            " 79%|███████▉  | 316/400 [36:27<09:09,  6.54s/it]\u001b[A\n",
            " 79%|███████▉  | 317/400 [36:34<09:19,  6.74s/it]\u001b[A\n",
            " 80%|███████▉  | 318/400 [36:40<08:56,  6.54s/it]\u001b[A\n",
            " 80%|███████▉  | 319/400 [36:47<09:06,  6.75s/it]\u001b[A\n",
            " 80%|████████  | 320/400 [36:53<08:42,  6.53s/it]\u001b[A\n",
            " 80%|████████  | 321/400 [37:01<08:51,  6.73s/it]\u001b[A\n",
            " 80%|████████  | 322/400 [37:07<08:28,  6.52s/it]\u001b[A\n",
            " 81%|████████  | 323/400 [37:14<08:38,  6.74s/it]\u001b[A\n",
            " 81%|████████  | 324/400 [37:20<08:16,  6.53s/it]\u001b[A\n",
            " 81%|████████▏ | 325/400 [37:27<08:24,  6.72s/it]\u001b[A\n",
            " 82%|████████▏ | 326/400 [37:33<08:02,  6.52s/it]\u001b[A\n",
            " 82%|████████▏ | 327/400 [37:40<08:11,  6.73s/it]\u001b[A\n",
            " 82%|████████▏ | 328/400 [37:46<07:49,  6.52s/it]\u001b[A\n",
            " 82%|████████▏ | 329/400 [37:54<07:58,  6.73s/it]\u001b[A\n",
            " 82%|████████▎ | 330/400 [38:00<07:36,  6.53s/it]\u001b[A\n",
            " 83%|████████▎ | 331/400 [38:07<07:44,  6.73s/it]\u001b[A\n",
            " 83%|████████▎ | 332/400 [38:13<07:23,  6.52s/it]\u001b[A\n",
            " 83%|████████▎ | 333/400 [38:20<07:30,  6.73s/it]\u001b[A\n",
            " 84%|████████▎ | 334/400 [38:26<07:10,  6.53s/it]\u001b[A\n",
            " 84%|████████▍ | 335/400 [38:33<07:17,  6.73s/it]\u001b[A\n",
            " 84%|████████▍ | 336/400 [38:39<07:00,  6.56s/it]\u001b[A\n",
            " 84%|████████▍ | 337/400 [38:47<07:03,  6.72s/it]\u001b[A\n",
            " 84%|████████▍ | 338/400 [38:53<06:51,  6.64s/it]\u001b[A\n",
            " 85%|████████▍ | 339/400 [39:00<06:49,  6.71s/it]\u001b[A\n",
            " 85%|████████▌ | 340/400 [39:07<06:41,  6.69s/it]\u001b[A\n",
            " 85%|████████▌ | 341/400 [39:13<06:34,  6.68s/it]\u001b[A\n",
            " 86%|████████▌ | 342/400 [39:20<06:32,  6.76s/it]\u001b[A\n",
            " 86%|████████▌ | 343/400 [39:27<06:19,  6.66s/it]\u001b[A\n",
            " 86%|████████▌ | 344/400 [39:34<06:19,  6.77s/it]\u001b[A\n",
            " 86%|████████▋ | 345/400 [39:40<06:03,  6.60s/it]\u001b[A\n",
            " 86%|████████▋ | 346/400 [39:47<06:05,  6.76s/it]\u001b[A\n",
            " 87%|████████▋ | 347/400 [39:53<05:48,  6.58s/it]\u001b[A\n",
            " 87%|████████▋ | 348/400 [40:00<05:51,  6.76s/it]\u001b[A\n",
            " 87%|████████▋ | 349/400 [40:06<05:33,  6.54s/it]\u001b[A\n",
            " 88%|████████▊ | 350/400 [40:13<05:36,  6.73s/it]\u001b[A\n",
            " 88%|████████▊ | 351/400 [40:20<05:19,  6.53s/it]\u001b[A\n",
            " 88%|████████▊ | 352/400 [40:27<05:24,  6.75s/it]\u001b[A\n",
            " 88%|████████▊ | 353/400 [40:33<05:07,  6.55s/it]\u001b[A\n",
            " 88%|████████▊ | 354/400 [40:40<05:10,  6.75s/it]\u001b[A\n",
            " 89%|████████▉ | 355/400 [40:46<04:54,  6.54s/it]\u001b[A\n",
            " 89%|████████▉ | 356/400 [40:53<04:56,  6.74s/it]\u001b[A\n",
            " 89%|████████▉ | 357/400 [40:59<04:40,  6.53s/it]\u001b[A\n",
            " 90%|████████▉ | 358/400 [41:07<04:43,  6.75s/it]\u001b[A\n",
            " 90%|████████▉ | 359/400 [41:13<04:28,  6.54s/it]\u001b[A\n",
            " 90%|█████████ | 360/400 [41:20<04:30,  6.75s/it]\u001b[A\n",
            " 90%|█████████ | 361/400 [41:26<04:15,  6.54s/it]\u001b[A\n",
            " 90%|█████████ | 362/400 [41:33<04:16,  6.74s/it]\u001b[A\n",
            " 91%|█████████ | 363/400 [41:39<04:01,  6.54s/it]\u001b[A\n",
            " 91%|█████████ | 364/400 [41:47<04:02,  6.74s/it]\u001b[A\n",
            " 91%|█████████▏| 365/400 [41:53<03:48,  6.54s/it]\u001b[A\n",
            " 92%|█████████▏| 366/400 [42:00<03:48,  6.73s/it]\u001b[A\n",
            " 92%|█████████▏| 367/400 [42:06<03:35,  6.52s/it]\u001b[A\n",
            " 92%|█████████▏| 368/400 [42:13<03:35,  6.72s/it]\u001b[A\n",
            " 92%|█████████▏| 369/400 [42:19<03:22,  6.52s/it]\u001b[A\n",
            " 92%|█████████▎| 370/400 [42:26<03:21,  6.73s/it]\u001b[A\n",
            " 93%|█████████▎| 371/400 [42:32<03:09,  6.53s/it]\u001b[A\n",
            " 93%|█████████▎| 372/400 [42:40<03:08,  6.73s/it]\u001b[A\n",
            " 93%|█████████▎| 373/400 [42:46<02:55,  6.52s/it]\u001b[A\n",
            " 94%|█████████▎| 374/400 [42:53<02:54,  6.72s/it]\u001b[A\n",
            " 94%|█████████▍| 375/400 [42:59<02:43,  6.53s/it]\u001b[A\n",
            " 94%|█████████▍| 376/400 [43:06<02:41,  6.73s/it]\u001b[A\n",
            " 94%|█████████▍| 377/400 [43:12<02:30,  6.54s/it]\u001b[A\n",
            " 94%|█████████▍| 378/400 [43:19<02:27,  6.72s/it]\u001b[A\n",
            " 95%|█████████▍| 379/400 [43:26<02:18,  6.59s/it]\u001b[A\n",
            " 95%|█████████▌| 380/400 [43:32<02:13,  6.69s/it]\u001b[A\n",
            " 95%|█████████▌| 381/400 [43:39<02:05,  6.60s/it]\u001b[A\n",
            " 96%|█████████▌| 382/400 [43:46<01:59,  6.66s/it]\u001b[A\n",
            " 96%|█████████▌| 383/400 [43:52<01:53,  6.66s/it]\u001b[A\n",
            " 96%|█████████▌| 384/400 [43:59<01:46,  6.63s/it]\u001b[A\n",
            " 96%|█████████▋| 385/400 [44:06<01:40,  6.71s/it]\u001b[A\n",
            " 96%|█████████▋| 386/400 [44:12<01:32,  6.64s/it]\u001b[A\n",
            " 97%|█████████▋| 387/400 [44:19<01:27,  6.75s/it]\u001b[A\n",
            " 97%|█████████▋| 388/400 [44:26<01:19,  6.64s/it]\u001b[A\n",
            " 97%|█████████▋| 389/400 [44:33<01:15,  6.83s/it]\u001b[A\n",
            " 98%|█████████▊| 390/400 [44:39<01:05,  6.60s/it]\u001b[A\n",
            " 98%|█████████▊| 391/400 [44:46<01:01,  6.80s/it]\u001b[A\n",
            " 98%|█████████▊| 392/400 [44:52<00:52,  6.59s/it]\u001b[A\n",
            " 98%|█████████▊| 393/400 [45:00<00:47,  6.78s/it]\u001b[A\n",
            " 98%|█████████▊| 394/400 [45:06<00:39,  6.60s/it]\u001b[A\n",
            " 99%|█████████▉| 395/400 [45:13<00:33,  6.79s/it]\u001b[A\n",
            " 99%|█████████▉| 396/400 [45:19<00:26,  6.59s/it]\u001b[A\n",
            " 99%|█████████▉| 397/400 [45:26<00:20,  6.80s/it]\u001b[A\n",
            "100%|█████████▉| 398/400 [45:33<00:13,  6.60s/it]\u001b[A\n",
            "100%|█████████▉| 399/400 [45:40<00:06,  6.79s/it]\u001b[A\n",
            "100%|██████████| 400/400 [45:46<00:00,  6.87s/it]\n"
          ]
        }
      ]
    },
    {
      "cell_type": "markdown",
      "source": [
        "# 7. Prepare X and y sets"
      ],
      "metadata": {
        "id": "iElwaJvHbcNM"
      }
    },
    {
      "cell_type": "code",
      "source": [
        "def get_splits(X, y, test_size=0.2, val_size=0.2):\n",
        "    X_train, X_test, y_train, y_test = train_test_split(X, y, test_size=test_size, stratify=y)\n",
        "    X_train, X_val, y_train, y_val = train_test_split(X_train, y_train, test_size=val_size, stratify=y_train)\n",
        "    return X_train, X_val, X_test, y_train, y_val, y_test\n",
        "\n"
      ],
      "metadata": {
        "id": "warB-uN7bVok"
      },
      "execution_count": 9,
      "outputs": []
    },
    {
      "cell_type": "markdown",
      "source": [
        "# 8. Machine learning model (Decision Tree)"
      ],
      "metadata": {
        "id": "pMaIqD6SbT1h"
      }
    },
    {
      "cell_type": "code",
      "source": [
        "def run_ml_model_multiple(X, y, model_class, model_name, n_realizations=20, test_size=0.2, val_size=0.2, **model_kwargs):\n",
        "    num_classes = len(np.unique(y))\n",
        "    cm_all = np.zeros((num_classes, num_classes, n_realizations))\n",
        "    scores_all = []\n",
        "\n",
        "    for r in range(n_realizations):\n",
        "        # Split dataset\n",
        "        X_train, X_test, y_train, y_test = train_test_split(\n",
        "            X, y, test_size=test_size, stratify=y\n",
        "        )\n",
        "\n",
        "        # Build ML model\n",
        "        model = model_class(**model_kwargs)\n",
        "        model.fit(X_train, y_train)\n",
        "        y_pred = model.predict(X_test)\n",
        "\n",
        "        # Accuracy and confusion matrix\n",
        "        acc = accuracy_score(y_test, y_pred)\n",
        "        cm = confusion_matrix(y_test, y_pred, normalize='true')\n",
        "\n",
        "        cm_all[:, :, r] = cm\n",
        "        scores_all.append(acc)\n",
        "\n",
        "    # Mean and std\n",
        "    cm_mean = cm_all.mean(axis=2)\n",
        "    cm_std = cm_all.std(axis=2)\n",
        "    acc_mean = np.mean(scores_all)\n",
        "    acc_std = np.std(scores_all)\n",
        "\n",
        "    # Visualization\n",
        "    disp = ConfusionMatrixDisplay(confusion_matrix=cm_mean)\n",
        "    disp.plot()\n",
        "    plt.title(f\"{model_name} | Acc: {acc_mean:.2f} ± {acc_std:.2f}\")\n",
        "    plt.show()\n",
        "\n",
        "    return acc_mean, acc_std, cm_mean, cm_std"
      ],
      "metadata": {
        "id": "rz1yLW0dbQiP"
      },
      "execution_count": 20,
      "outputs": []
    },
    {
      "cell_type": "code",
      "source": [
        "acc_mean, acc_std, cm_mean, cm_std = run_ml_model_multiple(\n",
        "    X_all, y_all,\n",
        "    DecisionTreeClassifier,\n",
        "    \"Decision Tree\",\n",
        "    n_realizations=20,\n",
        "    max_depth=20\n",
        ")"
      ],
      "metadata": {
        "colab": {
          "base_uri": "https://localhost:8080/",
          "height": 472
        },
        "id": "QFao8fFPwmma",
        "outputId": "0ff94a4d-55f9-48cc-ec38-570815cdcd50"
      },
      "execution_count": 21,
      "outputs": [
        {
          "output_type": "display_data",
          "data": {
            "text/plain": [
              "<Figure size 640x480 with 2 Axes>"
            ],
            "image/png": "[encoded data removed]"
          },
          "metadata": {}
        }
      ]
    },
    {
      "cell_type": "markdown",
      "source": [
        "# 9. Neural network model"
      ],
      "metadata": {
        "id": "bNKQ20UlbPaY"
      }
    },
    {
      "cell_type": "code",
      "source": [
        "def build_nn(input_size, num_classes):\n",
        "    model = Sequential([\n",
        "        Dense(input_size, activation='relu', input_shape=(input_size,)),\n",
        "        Dense(2 * input_size, activation='relu'),\n",
        "        Dense(4 * input_size, activation='relu'),\n",
        "        Dropout(0.2),\n",
        "        Dense(num_classes, activation='softmax')\n",
        "    ])\n",
        "    model.compile(loss='categorical_crossentropy', optimizer='adam', metrics=['accuracy'])\n",
        "    return model"
      ],
      "metadata": {
        "id": "oQWE0NwIbJoB"
      },
      "execution_count": 12,
      "outputs": []
    },
    {
      "cell_type": "code",
      "source": [
        "n_realizations = 20\n",
        "epochs = 50\n",
        "batch_size = 64\n",
        "num_classes = len(np.unique(y_all))\n",
        "input_size = X_all.shape[1]"
      ],
      "metadata": {
        "id": "VRtRA1hdvkog"
      },
      "execution_count": 13,
      "outputs": []
    },
    {
      "cell_type": "code",
      "source": [
        "train_loss_all = np.zeros((epochs, n_realizations))\n",
        "val_loss_all = np.zeros((epochs, n_realizations))\n",
        "train_acc_all = np.zeros((epochs, n_realizations))\n",
        "val_acc_all = np.zeros((epochs, n_realizations))\n",
        "cm_all = np.zeros((num_classes, num_classes, n_realizations))\n",
        "scores_all = []"
      ],
      "metadata": {
        "id": "nunYoD2CvokG"
      },
      "execution_count": 14,
      "outputs": []
    },
    {
      "cell_type": "code",
      "source": [
        "for r in range(n_realizations):\n",
        "    print(f\"Realization {r+1}/{n_realizations}\")\n",
        "    X_train, X_val, X_test, y_train, y_val, y_test = get_splits(X_all, y_all)\n",
        "    y_train_cat = to_categorical(y_train, num_classes)\n",
        "    y_val_cat = to_categorical(y_val, num_classes)\n",
        "\n",
        "    model = build_nn(input_size, num_classes)\n",
        "    history = model.fit(\n",
        "        X_train, y_train_cat,\n",
        "        validation_data=(X_val, y_val_cat),\n",
        "        epochs=epochs,\n",
        "        batch_size=batch_size,\n",
        "        verbose=0\n",
        "    )\n",
        "\n",
        "     # Learning rate\n",
        "    train_loss_all[:, r] = history.history['loss']\n",
        "    val_loss_all[:, r] = history.history['val_loss']\n",
        "    train_acc_all[:, r] = history.history['accuracy']\n",
        "    val_acc_all[:, r] = history.history['val_accuracy']\n",
        "\n",
        "    # Test set\n",
        "    y_pred = np.argmax(model.predict(X_test, verbose=0), axis=1)\n",
        "    score = accuracy_score(y_test, y_pred)\n",
        "    scores_all.append(score)\n",
        "\n",
        "    cm = confusion_matrix(y_test, y_pred, normalize='true')\n",
        "    cm_all[:, :, r] = cm"
      ],
      "metadata": {
        "colab": {
          "base_uri": "https://localhost:8080/"
        },
        "id": "znHI69bEvrXH",
        "outputId": "fd7f2dca-273e-455b-ea16-4e158c9974e8"
      },
      "execution_count": 15,
      "outputs": [
        {
          "output_type": "stream",
          "name": "stdout",
          "text": [
            "Realizacja 1/20\n"
          ]
        },
        {
          "output_type": "stream",
          "name": "stderr",
          "text": [
            "/usr/local/lib/python3.11/dist-packages/keras/src/layers/core/dense.py:93: UserWarning: Do not pass an `input_shape`/`input_dim` argument to a layer. When using Sequential models, prefer using an `Input(shape)` object as the first layer in the model instead.\n",
            "  super().__init__(activity_regularizer=activity_regularizer, **kwargs)\n"
          ]
        },
        {
          "output_type": "stream",
          "name": "stdout",
          "text": [
            "Realizacja 2/20\n"
          ]
        },
        {
          "output_type": "stream",
          "name": "stderr",
          "text": [
            "/usr/local/lib/python3.11/dist-packages/keras/src/layers/core/dense.py:93: UserWarning: Do not pass an `input_shape`/`input_dim` argument to a layer. When using Sequential models, prefer using an `Input(shape)` object as the first layer in the model instead.\n",
            "  super().__init__(activity_regularizer=activity_regularizer, **kwargs)\n"
          ]
        },
        {
          "output_type": "stream",
          "name": "stdout",
          "text": [
            "Realizacja 3/20\n"
          ]
        },
        {
          "output_type": "stream",
          "name": "stderr",
          "text": [
            "/usr/local/lib/python3.11/dist-packages/keras/src/layers/core/dense.py:93: UserWarning: Do not pass an `input_shape`/`input_dim` argument to a layer. When using Sequential models, prefer using an `Input(shape)` object as the first layer in the model instead.\n",
            "  super().__init__(activity_regularizer=activity_regularizer, **kwargs)\n",
            "WARNING:tensorflow:5 out of the last 7 calls to <function TensorFlowTrainer.make_predict_function.<locals>.one_step_on_data_distributed at 0x7e18a2ccdda0> triggered tf.function retracing. Tracing is expensive and the excessive number of tracings could be due to (1) creating @tf.function repeatedly in a loop, (2) passing tensors with different shapes, (3) passing Python objects instead of tensors. For (1), please define your @tf.function outside of the loop. For (2), @tf.function has reduce_retracing=True option that can avoid unnecessary retracing. For (3), please refer to https://www.tensorflow.org/guide/function#controlling_retracing and https://www.tensorflow.org/api_docs/python/tf/function for  more details.\n",
            "WARNING:tensorflow:6 out of the last 9 calls to <function TensorFlowTrainer.make_predict_function.<locals>.one_step_on_data_distributed at 0x7e18a2ccdda0> triggered tf.function retracing. Tracing is expensive and the excessive number of tracings could be due to (1) creating @tf.function repeatedly in a loop, (2) passing tensors with different shapes, (3) passing Python objects instead of tensors. For (1), please define your @tf.function outside of the loop. For (2), @tf.function has reduce_retracing=True option that can avoid unnecessary retracing. For (3), please refer to https://www.tensorflow.org/guide/function#controlling_retracing and https://www.tensorflow.org/api_docs/python/tf/function for  more details.\n",
            "/usr/local/lib/python3.11/dist-packages/keras/src/layers/core/dense.py:93: UserWarning: Do not pass an `input_shape`/`input_dim` argument to a layer. When using Sequential models, prefer using an `Input(shape)` object as the first layer in the model instead.\n",
            "  super().__init__(activity_regularizer=activity_regularizer, **kwargs)\n"
          ]
        },
        {
          "output_type": "stream",
          "name": "stdout",
          "text": [
            "Realizacja 4/20\n",
            "Realizacja 5/20\n"
          ]
        },
        {
          "output_type": "stream",
          "name": "stderr",
          "text": [
            "/usr/local/lib/python3.11/dist-packages/keras/src/layers/core/dense.py:93: UserWarning: Do not pass an `input_shape`/`input_dim` argument to a layer. When using Sequential models, prefer using an `Input(shape)` object as the first layer in the model instead.\n",
            "  super().__init__(activity_regularizer=activity_regularizer, **kwargs)\n"
          ]
        },
        {
          "output_type": "stream",
          "name": "stdout",
          "text": [
            "Realizacja 6/20\n"
          ]
        },
        {
          "output_type": "stream",
          "name": "stderr",
          "text": [
            "/usr/local/lib/python3.11/dist-packages/keras/src/layers/core/dense.py:93: UserWarning: Do not pass an `input_shape`/`input_dim` argument to a layer. When using Sequential models, prefer using an `Input(shape)` object as the first layer in the model instead.\n",
            "  super().__init__(activity_regularizer=activity_regularizer, **kwargs)\n"
          ]
        },
        {
          "output_type": "stream",
          "name": "stdout",
          "text": [
            "Realizacja 7/20\n"
          ]
        },
        {
          "output_type": "stream",
          "name": "stderr",
          "text": [
            "/usr/local/lib/python3.11/dist-packages/keras/src/layers/core/dense.py:93: UserWarning: Do not pass an `input_shape`/`input_dim` argument to a layer. When using Sequential models, prefer using an `Input(shape)` object as the first layer in the model instead.\n",
            "  super().__init__(activity_regularizer=activity_regularizer, **kwargs)\n"
          ]
        },
        {
          "output_type": "stream",
          "name": "stdout",
          "text": [
            "Realizacja 8/20\n"
          ]
        },
        {
          "output_type": "stream",
          "name": "stderr",
          "text": [
            "/usr/local/lib/python3.11/dist-packages/keras/src/layers/core/dense.py:93: UserWarning: Do not pass an `input_shape`/`input_dim` argument to a layer. When using Sequential models, prefer using an `Input(shape)` object as the first layer in the model instead.\n",
            "  super().__init__(activity_regularizer=activity_regularizer, **kwargs)\n"
          ]
        },
        {
          "output_type": "stream",
          "name": "stdout",
          "text": [
            "Realizacja 9/20\n"
          ]
        },
        {
          "output_type": "stream",
          "name": "stderr",
          "text": [
            "/usr/local/lib/python3.11/dist-packages/keras/src/layers/core/dense.py:93: UserWarning: Do not pass an `input_shape`/`input_dim` argument to a layer. When using Sequential models, prefer using an `Input(shape)` object as the first layer in the model instead.\n",
            "  super().__init__(activity_regularizer=activity_regularizer, **kwargs)\n"
          ]
        },
        {
          "output_type": "stream",
          "name": "stdout",
          "text": [
            "Realizacja 10/20\n"
          ]
        },
        {
          "output_type": "stream",
          "name": "stderr",
          "text": [
            "/usr/local/lib/python3.11/dist-packages/keras/src/layers/core/dense.py:93: UserWarning: Do not pass an `input_shape`/`input_dim` argument to a layer. When using Sequential models, prefer using an `Input(shape)` object as the first layer in the model instead.\n",
            "  super().__init__(activity_regularizer=activity_regularizer, **kwargs)\n"
          ]
        },
        {
          "output_type": "stream",
          "name": "stdout",
          "text": [
            "Realizacja 11/20\n"
          ]
        },
        {
          "output_type": "stream",
          "name": "stderr",
          "text": [
            "/usr/local/lib/python3.11/dist-packages/keras/src/layers/core/dense.py:93: UserWarning: Do not pass an `input_shape`/`input_dim` argument to a layer. When using Sequential models, prefer using an `Input(shape)` object as the first layer in the model instead.\n",
            "  super().__init__(activity_regularizer=activity_regularizer, **kwargs)\n"
          ]
        },
        {
          "output_type": "stream",
          "name": "stdout",
          "text": [
            "Realizacja 12/20\n"
          ]
        },
        {
          "output_type": "stream",
          "name": "stderr",
          "text": [
            "/usr/local/lib/python3.11/dist-packages/keras/src/layers/core/dense.py:93: UserWarning: Do not pass an `input_shape`/`input_dim` argument to a layer. When using Sequential models, prefer using an `Input(shape)` object as the first layer in the model instead.\n",
            "  super().__init__(activity_regularizer=activity_regularizer, **kwargs)\n"
          ]
        },
        {
          "output_type": "stream",
          "name": "stdout",
          "text": [
            "Realizacja 13/20\n"
          ]
        },
        {
          "output_type": "stream",
          "name": "stderr",
          "text": [
            "/usr/local/lib/python3.11/dist-packages/keras/src/layers/core/dense.py:93: UserWarning: Do not pass an `input_shape`/`input_dim` argument to a layer. When using Sequential models, prefer using an `Input(shape)` object as the first layer in the model instead.\n",
            "  super().__init__(activity_regularizer=activity_regularizer, **kwargs)\n"
          ]
        },
        {
          "output_type": "stream",
          "name": "stdout",
          "text": [
            "Realizacja 14/20\n"
          ]
        },
        {
          "output_type": "stream",
          "name": "stderr",
          "text": [
            "/usr/local/lib/python3.11/dist-packages/keras/src/layers/core/dense.py:93: UserWarning: Do not pass an `input_shape`/`input_dim` argument to a layer. When using Sequential models, prefer using an `Input(shape)` object as the first layer in the model instead.\n",
            "  super().__init__(activity_regularizer=activity_regularizer, **kwargs)\n"
          ]
        },
        {
          "output_type": "stream",
          "name": "stdout",
          "text": [
            "Realizacja 15/20\n"
          ]
        },
        {
          "output_type": "stream",
          "name": "stderr",
          "text": [
            "/usr/local/lib/python3.11/dist-packages/keras/src/layers/core/dense.py:93: UserWarning: Do not pass an `input_shape`/`input_dim` argument to a layer. When using Sequential models, prefer using an `Input(shape)` object as the first layer in the model instead.\n",
            "  super().__init__(activity_regularizer=activity_regularizer, **kwargs)\n"
          ]
        },
        {
          "output_type": "stream",
          "name": "stdout",
          "text": [
            "Realizacja 16/20\n"
          ]
        },
        {
          "output_type": "stream",
          "name": "stderr",
          "text": [
            "/usr/local/lib/python3.11/dist-packages/keras/src/layers/core/dense.py:93: UserWarning: Do not pass an `input_shape`/`input_dim` argument to a layer. When using Sequential models, prefer using an `Input(shape)` object as the first layer in the model instead.\n",
            "  super().__init__(activity_regularizer=activity_regularizer, **kwargs)\n"
          ]
        },
        {
          "output_type": "stream",
          "name": "stdout",
          "text": [
            "Realizacja 17/20\n"
          ]
        },
        {
          "output_type": "stream",
          "name": "stderr",
          "text": [
            "/usr/local/lib/python3.11/dist-packages/keras/src/layers/core/dense.py:93: UserWarning: Do not pass an `input_shape`/`input_dim` argument to a layer. When using Sequential models, prefer using an `Input(shape)` object as the first layer in the model instead.\n",
            "  super().__init__(activity_regularizer=activity_regularizer, **kwargs)\n"
          ]
        },
        {
          "output_type": "stream",
          "name": "stdout",
          "text": [
            "Realizacja 18/20\n"
          ]
        },
        {
          "output_type": "stream",
          "name": "stderr",
          "text": [
            "/usr/local/lib/python3.11/dist-packages/keras/src/layers/core/dense.py:93: UserWarning: Do not pass an `input_shape`/`input_dim` argument to a layer. When using Sequential models, prefer using an `Input(shape)` object as the first layer in the model instead.\n",
            "  super().__init__(activity_regularizer=activity_regularizer, **kwargs)\n"
          ]
        },
        {
          "output_type": "stream",
          "name": "stdout",
          "text": [
            "Realizacja 19/20\n"
          ]
        },
        {
          "output_type": "stream",
          "name": "stderr",
          "text": [
            "/usr/local/lib/python3.11/dist-packages/keras/src/layers/core/dense.py:93: UserWarning: Do not pass an `input_shape`/`input_dim` argument to a layer. When using Sequential models, prefer using an `Input(shape)` object as the first layer in the model instead.\n",
            "  super().__init__(activity_regularizer=activity_regularizer, **kwargs)\n"
          ]
        },
        {
          "output_type": "stream",
          "name": "stdout",
          "text": [
            "Realizacja 20/20\n"
          ]
        },
        {
          "output_type": "stream",
          "name": "stderr",
          "text": [
            "/usr/local/lib/python3.11/dist-packages/keras/src/layers/core/dense.py:93: UserWarning: Do not pass an `input_shape`/`input_dim` argument to a layer. When using Sequential models, prefer using an `Input(shape)` object as the first layer in the model instead.\n",
            "  super().__init__(activity_regularizer=activity_regularizer, **kwargs)\n"
          ]
        }
      ]
    },
    {
      "cell_type": "markdown",
      "source": [
        "# 8. Calculate mean and std"
      ],
      "metadata": {
        "id": "SlQj73Fxv0ar"
      }
    },
    {
      "cell_type": "code",
      "source": [
        "train_loss_mean = train_loss_all.mean(axis=1)\n",
        "val_loss_mean = val_loss_all.mean(axis=1)\n",
        "train_acc_mean = train_acc_all.mean(axis=1)\n",
        "val_acc_mean = val_acc_all.mean(axis=1)\n",
        "\n",
        "train_loss_std = train_loss_all.std(axis=1)\n",
        "val_loss_std = val_loss_all.std(axis=1)\n",
        "train_acc_std = train_acc_all.std(axis=1)\n",
        "val_acc_std = val_acc_all.std(axis=1)\n",
        "\n",
        "cm_mean = cm_all.mean(axis=2)\n",
        "cm_std = cm_all.std(axis=2)\n",
        "score_avg = np.mean(scores_all)"
      ],
      "metadata": {
        "id": "FtY-vYvqvzhK"
      },
      "execution_count": 16,
      "outputs": []
    },
    {
      "cell_type": "markdown",
      "source": [
        "# 10. Learning rate curve"
      ],
      "metadata": {
        "id": "0JKiAYkCbHB2"
      }
    },
    {
      "cell_type": "code",
      "source": [
        "epoch_vec = np.arange(1, epochs+1)\n",
        "clrs = sns.color_palette(\"flare\")\n",
        "\n",
        "fig, ax = plt.subplots(1, 2, figsize=(12, 5))\n",
        "# Accuracy\n",
        "ax[0].plot(epoch_vec, train_acc_mean, label='Train', color=clrs[0])\n",
        "ax[0].fill_between(epoch_vec, train_acc_mean-train_acc_std, train_acc_mean+train_acc_std, alpha=0.3)\n",
        "ax[0].plot(epoch_vec, val_acc_mean, label='Val', color=clrs[1])\n",
        "ax[0].fill_between(epoch_vec, val_acc_mean-val_acc_std, val_acc_mean+val_acc_std, alpha=0.3)\n",
        "ax[0].set_title(\"Accuracy\")\n",
        "ax[0].legend()\n",
        "\n",
        "# Loss\n",
        "ax[1].plot(epoch_vec, train_loss_mean, label='Train', color=clrs[0])\n",
        "ax[1].fill_between(epoch_vec, train_loss_mean-train_loss_std, train_loss_mean+train_loss_std, alpha=0.3)\n",
        "ax[1].plot(epoch_vec, val_loss_mean, label='Val', color=clrs[1])\n",
        "ax[1].fill_between(epoch_vec, val_loss_mean-val_loss_std, val_loss_mean+val_loss_std, alpha=0.3)\n",
        "ax[1].set_title(\"Loss\")\n",
        "ax[1].legend()\n",
        "\n",
        "plt.show()"
      ],
      "metadata": {
        "id": "puSVuZ0hbEce",
        "colab": {
          "base_uri": "https://localhost:8080/",
          "height": 441
        },
        "outputId": "de12ebfe-50aa-4486-a5ba-f78fede6dd14"
      },
      "execution_count": 17,
      "outputs": [
        {
          "output_type": "display_data",
          "data": {
            "text/plain": [
              "<Figure size 1200x500 with 2 Axes>"
            ],
            "image/png": "[encoded data removed]"
          },
          "metadata": {}
        }
      ]
    },
    {
      "cell_type": "markdown",
      "source": [
        "# 11. Neural network confusion matrix"
      ],
      "metadata": {
        "id": "lGpUNnDebCNE"
      }
    },
    {
      "cell_type": "code",
      "execution_count": 19,
      "metadata": {
        "id": "PabJ5wLEa24X",
        "colab": {
          "base_uri": "https://localhost:8080/",
          "height": 472
        },
        "outputId": "96ddcb79-b2d6-4d86-b888-17666e544a54"
      },
      "outputs": [
        {
          "output_type": "display_data",
          "data": {
            "text/plain": [
              "<Figure size 640x480 with 2 Axes>"
            ],
            "image/png": "[encoded data removed]"
          },
          "metadata": {}
        }
      ],
      "source": [
        "disp = ConfusionMatrixDisplay(confusion_matrix=cm_mean)\n",
        "disp.plot()\n",
        "plt.title(f\"Average Confusion Matrix | Accuracy: {score_avg:.2f}\")\n",
        "plt.show()"
      ]
    }
  ]
}
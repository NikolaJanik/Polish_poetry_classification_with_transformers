{
  "cells": [
    {
      "cell_type": "code",
      "execution_count": null,
      "metadata": {
        "colab": {
          "base_uri": "https://localhost:8080/"
        },
        "id": "5TIYb840rUKW",
        "outputId": "45975c0c-80a1-4bbc-a3f3-2617b4760367"
      },
      "outputs": [
        {
          "output_type": "stream",
          "name": "stdout",
          "text": [
            "Looking in indexes: https://pypi.org/simple, https://us-python.pkg.dev/colab-wheels/public/simple/\n",
            "Collecting transformers\n",
            "  Downloading transformers-4.29.2-py3-none-any.whl (7.1 MB)\n",
            "\u001b[2K     \u001b[90m━━━━━━━━━━━━━━━━━━━━━━━━━━━━━━━━━━━━━━━━\u001b[0m \u001b[32m7.1/7.1 MB\u001b[0m \u001b[31m53.7 MB/s\u001b[0m eta \u001b[36m0:00:00\u001b[0m\n",
            "\u001b[?25hRequirement already satisfied: filelock in /usr/local/lib/python3.10/dist-packages (from transformers) (3.12.0)\n",
            "Collecting huggingface-hub<1.0,>=0.14.1 (from transformers)\n",
            "  Downloading huggingface_hub-0.14.1-py3-none-any.whl (224 kB)\n",
            "\u001b[2K     \u001b[90m━━━━━━━━━━━━━━━━━━━━━━━━━━━━━━━━━━━━━━\u001b[0m \u001b[32m224.5/224.5 kB\u001b[0m \u001b[31m20.7 MB/s\u001b[0m eta \u001b[36m0:00:00\u001b[0m\n",
            "\u001b[?25hRequirement already satisfied: numpy>=1.17 in /usr/local/lib/python3.10/dist-packages (from transformers) (1.24.3)\n",
            "Requirement already satisfied: packaging>=20.0 in /usr/local/lib/python3.10/dist-packages (from transformers) (23.1)\n",
            "Requirement already satisfied: pyyaml>=5.1 in /usr/local/lib/python3.10/dist-packages (from transformers) (6.0)\n",
            "Requirement already satisfied: regex!=2019.12.17 in /usr/local/lib/python3.10/dist-packages (from transformers) (2022.10.31)\n",
            "Requirement already satisfied: requests in /usr/local/lib/python3.10/dist-packages (from transformers) (2.27.1)\n",
            "Collecting tokenizers!=0.11.3,<0.14,>=0.11.1 (from transformers)\n",
            "  Downloading tokenizers-0.13.3-cp310-cp310-manylinux_2_17_x86_64.manylinux2014_x86_64.whl (7.8 MB)\n",
            "\u001b[2K     \u001b[90m━━━━━━━━━━━━━━━━━━━━━━━━━━━━━━━━━━━━━━━━\u001b[0m \u001b[32m7.8/7.8 MB\u001b[0m \u001b[31m83.8 MB/s\u001b[0m eta \u001b[36m0:00:00\u001b[0m\n",
            "\u001b[?25hRequirement already satisfied: tqdm>=4.27 in /usr/local/lib/python3.10/dist-packages (from transformers) (4.65.0)\n",
            "Requirement already satisfied: fsspec in /usr/local/lib/python3.10/dist-packages (from huggingface-hub<1.0,>=0.14.1->transformers) (2023.4.0)\n",
            "Requirement already satisfied: typing-extensions>=3.7.4.3 in /usr/local/lib/python3.10/dist-packages (from huggingface-hub<1.0,>=0.14.1->transformers) (4.6.2)\n",
            "Requirement already satisfied: urllib3<1.27,>=1.21.1 in /usr/local/lib/python3.10/dist-packages (from requests->transformers) (1.26.15)\n",
            "Requirement already satisfied: certifi>=2017.4.17 in /usr/local/lib/python3.10/dist-packages (from requests->transformers) (2022.12.7)\n",
            "Requirement already satisfied: charset-normalizer~=2.0.0 in /usr/local/lib/python3.10/dist-packages (from requests->transformers) (2.0.12)\n",
            "Requirement already satisfied: idna<4,>=2.5 in /usr/local/lib/python3.10/dist-packages (from requests->transformers) (3.4)\n",
            "Installing collected packages: tokenizers, huggingface-hub, transformers\n",
            "Successfully installed huggingface-hub-0.14.1 tokenizers-0.13.3 transformers-4.29.2\n"
          ]
        }
      ],
      "source": [
        "!pip install transformers"
      ]
    },
    {
      "cell_type": "code",
      "source": [
        "pip install sacremoses"
      ],
      "metadata": {
        "id": "cjehNeSRALEU",
        "outputId": "283c11b4-b5cb-4800-ac5b-ab4593e54211",
        "colab": {
          "base_uri": "https://localhost:8080/"
        }
      },
      "execution_count": null,
      "outputs": [
        {
          "output_type": "stream",
          "name": "stdout",
          "text": [
            "Looking in indexes: https://pypi.org/simple, https://us-python.pkg.dev/colab-wheels/public/simple/\n",
            "Collecting sacremoses\n",
            "  Downloading sacremoses-0.0.53.tar.gz (880 kB)\n",
            "\u001b[2K     \u001b[90m━━━━━━━━━━━━━━━━━━━━━━━━━━━━━━━━━━━━━━\u001b[0m \u001b[32m880.6/880.6 kB\u001b[0m \u001b[31m14.8 MB/s\u001b[0m eta \u001b[36m0:00:00\u001b[0m\n",
            "\u001b[?25h  Preparing metadata (setup.py) ... \u001b[?25l\u001b[?25hdone\n",
            "Requirement already satisfied: regex in /usr/local/lib/python3.10/dist-packages (from sacremoses) (2022.10.31)\n",
            "Requirement already satisfied: six in /usr/local/lib/python3.10/dist-packages (from sacremoses) (1.16.0)\n",
            "Requirement already satisfied: click in /usr/local/lib/python3.10/dist-packages (from sacremoses) (8.1.3)\n",
            "Requirement already satisfied: joblib in /usr/local/lib/python3.10/dist-packages (from sacremoses) (1.2.0)\n",
            "Requirement already satisfied: tqdm in /usr/local/lib/python3.10/dist-packages (from sacremoses) (4.65.0)\n",
            "Building wheels for collected packages: sacremoses\n",
            "  Building wheel for sacremoses (setup.py) ... \u001b[?25l\u001b[?25hdone\n",
            "  Created wheel for sacremoses: filename=sacremoses-0.0.53-py3-none-any.whl size=895241 sha256=15a01291c0adb9c0fe14de803a3692381b19fe9558df706483a1353196be04eb\n",
            "  Stored in directory: /root/.cache/pip/wheels/00/24/97/a2ea5324f36bc626e1ea0267f33db6aa80d157ee977e9e42fb\n",
            "Successfully built sacremoses\n",
            "Installing collected packages: sacremoses\n",
            "Successfully installed sacremoses-0.0.53\n"
          ]
        }
      ]
    },
    {
      "cell_type": "code",
      "execution_count": null,
      "metadata": {
        "id": "GoEu1GjgqrDq"
      },
      "outputs": [],
      "source": [
        "from google.colab import files\n",
        "import pandas as pd\n",
        "import numpy as np\n",
        "from tqdm import tqdm\n",
        "import seaborn as sns\n",
        "from sklearn.model_selection import cross_val_score, train_test_split\n",
        "import joblib\n",
        "from sklearn.metrics import confusion_matrix, ConfusionMatrixDisplay, accuracy_score\n",
        "import matplotlib.pyplot as plt\n",
        "import torch\n",
        "from transformers import HerbertTokenizer, RobertaModel, AutoTokenizer, BertModel\n",
        "\n",
        "import tensorflow as tf\n",
        "import tensorflow.keras as keras\n",
        "\n",
        "from tensorflow.keras.models import Sequential\n",
        "from tensorflow.keras.layers import Dense, Dropout\n",
        "from tensorflow.keras.utils import to_categorical\n",
        "import tensorflow.keras.backend as K\n",
        "from tensorflow.keras.models import load_model\n",
        "\n",
        "from sklearn.tree import DecisionTreeClassifier\n",
        "from sklearn.ensemble import RandomForestClassifier\n",
        "import xgboost as xgb\n",
        "import lightgbm as lgb\n",
        "\n",
        "from sklearn.decomposition import PCA\n",
        "from sklearn.manifold import TSNE"
      ]
    },
    {
      "cell_type": "code",
      "source": [
        "tokenizer = HerbertTokenizer.from_pretrained(\"allegro/herbert-large-cased\")\n",
        "model = RobertaModel.from_pretrained(\"allegro/herbert-large-cased\")"
      ],
      "metadata": {
        "colab": {
          "base_uri": "https://localhost:8080/",
          "height": 327,
          "referenced_widgets": [
            "c83dc93951d44b9f9ac228eed905304a",
            "38c2bc6ce889498380d79ae2b9ea4b0f",
            "b280a3b9caed40d5ad2029352dac24a0",
            "77ba0c7728774025b559bbaae213c390",
            "49c5ddd3e48142aeb4093ef92edb9690",
            "d51e0fd8353c40728ec307df5ea2f69a",
            "d75a417f97594d69a5fa0df4026e4402",
            "76a88540919e44559424b9e5c78c430b",
            "ea80084971d3480896e5fe9d3bbc17b0",
            "ca1496b2918446959e0d3b42ef09fdcc",
            "8a40804b1dd34f1abc37244aa04834e3",
            "e961257519de41458a7ecf8a3c3adf26",
            "8820819bee3d4648a07cf6645f2878f2",
            "091803a6756540e59ab526bef3d64511",
            "59d15cc9db2447aeaab589e4ee6f8530",
            "be01fc8727864dae9cdac57dc7f40154",
            "580c66c6a8764a549b7f31677240cca2",
            "e3fab0f71ee543da9eb97ed743186675",
            "381fccee27134c898d695a47339d03e7",
            "69344dcb9b9348e19e788bd4b4dcd8c8",
            "8440ea51d05043d3a6f1c6a2181bf7ea",
            "23ca4b7f446d4936911591ab2994a5f2",
            "d5a23e8505e64b5a9d1fa0685e157524",
            "c522e3ae547949dd86d8bcd5d86db20a",
            "0883e83e3c4a46cca7179b18efd7e0cd",
            "e5d0213abab24f9e9d5e7dbc2792541b",
            "c2714d0d73d94d91929f7a67481a0391",
            "00908024de9641348904323a459d5950",
            "de28c1170c8949bebac0db2fc6203605",
            "fe35ae3dc8a44c049673fd7f14fcbb6d",
            "9027318222f74d1ba1013a17bd595613",
            "ca3ef4410d92462db9e18304f14b0a5a",
            "4938c2089c6e44e6b4ef1299204b95ef",
            "e6e11387a2c94a19ae253c8c63334a16",
            "da78e19120d74131bce043cd9b5661cf",
            "06b635d6f48a4fc2b7cdfd42cfda161a",
            "0b39e2dee1bb48bcb5e84a4980dee32d",
            "ae0c7b7181dc4175beba8867135eb459",
            "ba28024091de42c388ce0da72212c984",
            "4b258c6caac34f60892b00d5f3b5c562",
            "7bd5360b17254a73acc19db90e246ce6",
            "21452c3d0a184ac9bc157458a2d4d24e",
            "7c959faa6871424f850e1f67f91dce3d",
            "7c8d641c42934ef8996b5e133074e892",
            "d106bf6931e54dd9b0bdc888282b4893",
            "5d80506716ba46979991eb6bb25ea89c",
            "eb5eb3a4c76847aab6089c9288d9da89",
            "8227a17aa6e746598f1dcd24f5263d35",
            "3668873f69c94cca99694eb519582584",
            "1d96c2f15e994f0ba36d7c562dc0e025",
            "f34de9f35bc7467790948ce30c777ef1",
            "1fc7883a760b4dfaa582792d1b2a1041",
            "249aac97621a4804aace55cb96c94e05",
            "544b5befefa74601a361ca960ed5e390",
            "97ec8f8951074f8a93f4510218f1c21d",
            "030e999668f3413b9e4bd9afefa756cc",
            "8bbbc020922544b1b62cb52cbd46482c",
            "a9bc23df415b4a5c9a0b0d82fa364fce",
            "8d64c6fe026041a28c327cd3cecd9113",
            "3faf0b0122b54af299d36d17435ca054",
            "edd4b9d11c234a1ba2df1c38f8dd1b56",
            "d48f4a19b52346aa8f08b344fee31070",
            "8515d5f48a7244e8841057de0a491b96",
            "c3ff18c42968486f9f9e9b9da0b8433c",
            "75252421ae9649fdade286445815c2aa",
            "76e38ff5961f4c5f9ec22f1928d6aa71"
          ]
        },
        "id": "6bOZ-77XAOhZ",
        "outputId": "2fd45c90-9e75-4a3c-9b74-984d1472b832"
      },
      "execution_count": null,
      "outputs": [
        {
          "output_type": "display_data",
          "data": {
            "text/plain": [
              "Downloading (…)olve/main/vocab.json:   0%|          | 0.00/907k [00:00<?, ?B/s]"
            ],
            "application/vnd.jupyter.widget-view+json": {
              "version_major": 2,
              "version_minor": 0,
              "model_id": "c83dc93951d44b9f9ac228eed905304a"
            }
          },
          "metadata": {}
        },
        {
          "output_type": "display_data",
          "data": {
            "text/plain": [
              "Downloading (…)olve/main/merges.txt:   0%|          | 0.00/556k [00:00<?, ?B/s]"
            ],
            "application/vnd.jupyter.widget-view+json": {
              "version_major": 2,
              "version_minor": 0,
              "model_id": "e961257519de41458a7ecf8a3c3adf26"
            }
          },
          "metadata": {}
        },
        {
          "output_type": "display_data",
          "data": {
            "text/plain": [
              "Downloading (…)cial_tokens_map.json:   0%|          | 0.00/129 [00:00<?, ?B/s]"
            ],
            "application/vnd.jupyter.widget-view+json": {
              "version_major": 2,
              "version_minor": 0,
              "model_id": "d5a23e8505e64b5a9d1fa0685e157524"
            }
          },
          "metadata": {}
        },
        {
          "output_type": "display_data",
          "data": {
            "text/plain": [
              "Downloading (…)okenizer_config.json:   0%|          | 0.00/229 [00:00<?, ?B/s]"
            ],
            "application/vnd.jupyter.widget-view+json": {
              "version_major": 2,
              "version_minor": 0,
              "model_id": "e6e11387a2c94a19ae253c8c63334a16"
            }
          },
          "metadata": {}
        },
        {
          "output_type": "display_data",
          "data": {
            "text/plain": [
              "Downloading (…)lve/main/config.json:   0%|          | 0.00/664 [00:00<?, ?B/s]"
            ],
            "application/vnd.jupyter.widget-view+json": {
              "version_major": 2,
              "version_minor": 0,
              "model_id": "d106bf6931e54dd9b0bdc888282b4893"
            }
          },
          "metadata": {}
        },
        {
          "output_type": "stream",
          "name": "stderr",
          "text": [
            "You are using a model of type bert to instantiate a model of type roberta. This is not supported for all configurations of models and can yield errors.\n"
          ]
        },
        {
          "output_type": "display_data",
          "data": {
            "text/plain": [
              "Downloading pytorch_model.bin:   0%|          | 0.00/1.63G [00:00<?, ?B/s]"
            ],
            "application/vnd.jupyter.widget-view+json": {
              "version_major": 2,
              "version_minor": 0,
              "model_id": "030e999668f3413b9e4bd9afefa756cc"
            }
          },
          "metadata": {}
        },
        {
          "output_type": "stream",
          "name": "stderr",
          "text": [
            "Some weights of the model checkpoint at allegro/herbert-large-cased were not used when initializing RobertaModel: ['bert.encoder.layer.15.attention.self.key.weight', 'bert.encoder.layer.4.attention.self.value.weight', 'bert.encoder.layer.21.attention.output.LayerNorm.bias', 'bert.encoder.layer.20.intermediate.dense.bias', 'bert.embeddings.token_type_embeddings.weight', 'bert.encoder.layer.3.intermediate.dense.bias', 'bert.encoder.layer.16.attention.output.LayerNorm.bias', 'bert.encoder.layer.17.attention.self.query.bias', 'bert.encoder.layer.9.attention.self.query.weight', 'bert.encoder.layer.13.attention.self.query.bias', 'bert.encoder.layer.3.output.dense.weight', 'bert.encoder.layer.20.attention.self.value.bias', 'bert.encoder.layer.20.attention.output.dense.bias', 'bert.encoder.layer.12.intermediate.dense.weight', 'bert.encoder.layer.8.output.dense.bias', 'bert.encoder.layer.14.attention.self.value.weight', 'bert.encoder.layer.19.attention.self.query.bias', 'bert.encoder.layer.6.intermediate.dense.weight', 'bert.encoder.layer.13.intermediate.dense.weight', 'bert.encoder.layer.11.attention.self.key.bias', 'bert.encoder.layer.3.output.dense.bias', 'bert.encoder.layer.9.attention.output.dense.weight', 'bert.encoder.layer.10.attention.self.key.weight', 'bert.encoder.layer.18.output.LayerNorm.bias', 'bert.encoder.layer.12.attention.self.key.bias', 'bert.encoder.layer.3.attention.output.dense.weight', 'bert.encoder.layer.14.intermediate.dense.weight', 'bert.encoder.layer.4.attention.output.dense.bias', 'bert.encoder.layer.1.attention.self.value.bias', 'bert.encoder.layer.8.output.LayerNorm.weight', 'bert.encoder.layer.1.attention.output.LayerNorm.bias', 'bert.encoder.layer.12.output.dense.bias', 'bert.encoder.layer.19.intermediate.dense.weight', 'bert.encoder.layer.2.output.LayerNorm.bias', 'bert.encoder.layer.2.attention.self.key.bias', 'cls.predictions.transform.LayerNorm.bias', 'bert.encoder.layer.22.attention.output.LayerNorm.bias', 'bert.encoder.layer.14.output.dense.bias', 'bert.pooler.dense.weight', 'bert.encoder.layer.7.attention.output.LayerNorm.weight', 'bert.encoder.layer.16.attention.self.key.bias', 'bert.encoder.layer.4.attention.output.LayerNorm.weight', 'bert.encoder.layer.20.output.dense.bias', 'bert.encoder.layer.8.attention.output.LayerNorm.weight', 'bert.encoder.layer.6.attention.output.LayerNorm.weight', 'bert.encoder.layer.11.attention.self.query.weight', 'bert.encoder.layer.5.attention.output.dense.weight', 'bert.encoder.layer.0.intermediate.dense.bias', 'bert.encoder.layer.9.output.LayerNorm.bias', 'bert.encoder.layer.9.attention.self.query.bias', 'bert.encoder.layer.7.attention.output.dense.weight', 'bert.encoder.layer.0.output.dense.weight', 'bert.encoder.layer.0.attention.self.value.weight', 'bert.encoder.layer.15.output.LayerNorm.bias', 'bert.encoder.layer.20.output.LayerNorm.bias', 'bert.encoder.layer.17.output.LayerNorm.bias', 'bert.encoder.layer.19.output.LayerNorm.weight', 'bert.encoder.layer.11.intermediate.dense.bias', 'bert.encoder.layer.20.output.LayerNorm.weight', 'bert.encoder.layer.20.attention.output.LayerNorm.weight', 'bert.encoder.layer.23.attention.self.key.bias', 'bert.encoder.layer.10.attention.self.key.bias', 'bert.encoder.layer.1.output.dense.bias', 'bert.encoder.layer.10.output.LayerNorm.weight', 'bert.encoder.layer.9.attention.self.key.bias', 'bert.encoder.layer.10.attention.output.LayerNorm.weight', 'bert.encoder.layer.21.attention.self.query.bias', 'bert.encoder.layer.13.attention.self.value.weight', 'bert.encoder.layer.9.attention.output.LayerNorm.bias', 'bert.encoder.layer.5.attention.self.key.weight', 'bert.encoder.layer.15.output.dense.weight', 'bert.encoder.layer.20.attention.output.dense.weight', 'bert.encoder.layer.0.output.LayerNorm.bias', 'bert.encoder.layer.7.attention.self.value.bias', 'bert.encoder.layer.10.attention.self.query.bias', 'bert.encoder.layer.18.intermediate.dense.weight', 'bert.encoder.layer.13.attention.output.dense.bias', 'bert.encoder.layer.18.intermediate.dense.bias', 'bert.encoder.layer.0.attention.self.query.weight', 'bert.encoder.layer.23.attention.self.value.bias', 'bert.encoder.layer.9.attention.self.value.weight', 'bert.encoder.layer.13.output.LayerNorm.bias', 'bert.encoder.layer.2.attention.output.dense.weight', 'bert.encoder.layer.23.output.dense.bias', 'bert.encoder.layer.21.attention.self.value.weight', 'bert.encoder.layer.14.attention.self.query.bias', 'bert.encoder.layer.15.attention.output.LayerNorm.weight', 'bert.encoder.layer.6.output.dense.bias', 'bert.encoder.layer.17.output.dense.weight', 'bert.encoder.layer.5.attention.output.dense.bias', 'bert.encoder.layer.10.intermediate.dense.bias', 'bert.encoder.layer.22.output.LayerNorm.weight', 'bert.encoder.layer.19.attention.self.query.weight', 'bert.encoder.layer.14.attention.self.value.bias', 'bert.encoder.layer.8.output.LayerNorm.bias', 'bert.encoder.layer.16.attention.self.value.bias', 'bert.encoder.layer.12.output.LayerNorm.weight', 'bert.encoder.layer.16.output.dense.weight', 'bert.encoder.layer.19.attention.self.value.bias', 'bert.encoder.layer.4.intermediate.dense.bias', 'bert.encoder.layer.19.attention.self.key.weight', 'bert.encoder.layer.20.output.dense.weight', 'bert.encoder.layer.7.output.dense.bias', 'bert.encoder.layer.0.attention.self.key.weight', 'bert.encoder.layer.9.output.LayerNorm.weight', 'bert.encoder.layer.20.attention.self.key.weight', 'bert.encoder.layer.7.output.LayerNorm.weight', 'bert.encoder.layer.21.output.LayerNorm.weight', 'bert.encoder.layer.13.attention.self.query.weight', 'bert.encoder.layer.18.output.dense.bias', 'bert.encoder.layer.18.output.LayerNorm.weight', 'bert.encoder.layer.8.intermediate.dense.bias', 'bert.encoder.layer.13.output.dense.bias', 'bert.encoder.layer.6.output.LayerNorm.weight', 'bert.encoder.layer.15.output.LayerNorm.weight', 'bert.encoder.layer.8.attention.self.value.weight', 'bert.encoder.layer.0.attention.output.LayerNorm.bias', 'bert.encoder.layer.22.intermediate.dense.bias', 'bert.encoder.layer.8.intermediate.dense.weight', 'bert.encoder.layer.21.intermediate.dense.weight', 'bert.encoder.layer.12.attention.self.key.weight', 'bert.encoder.layer.19.attention.output.LayerNorm.bias', 'bert.encoder.layer.6.attention.self.query.bias', 'bert.encoder.layer.4.output.LayerNorm.weight', 'bert.encoder.layer.2.attention.self.query.bias', 'bert.encoder.layer.12.attention.output.LayerNorm.weight', 'bert.encoder.layer.16.output.LayerNorm.weight', 'bert.encoder.layer.23.attention.self.query.bias', 'bert.encoder.layer.16.attention.output.dense.bias', 'bert.encoder.layer.2.attention.self.query.weight', 'bert.encoder.layer.13.attention.output.LayerNorm.bias', 'bert.encoder.layer.19.attention.self.value.weight', 'bert.encoder.layer.17.intermediate.dense.weight', 'bert.encoder.layer.3.attention.output.LayerNorm.weight', 'bert.encoder.layer.14.attention.self.key.bias', 'bert.encoder.layer.14.attention.output.dense.weight', 'bert.encoder.layer.15.attention.self.value.weight', 'bert.encoder.layer.12.output.LayerNorm.bias', 'cls.sso.sso_relationship.weight', 'bert.encoder.layer.12.attention.self.value.bias', 'bert.encoder.layer.15.attention.self.query.bias', 'bert.encoder.layer.23.attention.output.LayerNorm.weight', 'bert.encoder.layer.11.attention.output.LayerNorm.weight', 'bert.encoder.layer.9.intermediate.dense.weight', 'bert.encoder.layer.14.output.LayerNorm.bias', 'bert.encoder.layer.17.attention.self.key.weight', 'bert.encoder.layer.7.intermediate.dense.bias', 'bert.encoder.layer.17.attention.self.key.bias', 'bert.encoder.layer.21.attention.output.LayerNorm.weight', 'bert.encoder.layer.9.output.dense.weight', 'bert.encoder.layer.14.attention.output.LayerNorm.bias', 'cls.predictions.transform.LayerNorm.weight', 'cls.predictions.transform.dense.weight', 'bert.encoder.layer.12.attention.output.dense.weight', 'bert.encoder.layer.9.attention.self.value.bias', 'bert.encoder.layer.16.output.LayerNorm.bias', 'bert.encoder.layer.19.output.dense.weight', 'bert.encoder.layer.4.attention.self.key.bias', 'bert.encoder.layer.10.attention.self.query.weight', 'bert.encoder.layer.22.output.dense.weight', 'bert.encoder.layer.6.output.dense.weight', 'bert.encoder.layer.11.attention.self.value.bias', 'bert.encoder.layer.4.output.dense.weight', 'bert.encoder.layer.4.output.dense.bias', 'bert.encoder.layer.6.attention.self.value.weight', 'bert.encoder.layer.9.attention.self.key.weight', 'bert.encoder.layer.4.output.LayerNorm.bias', 'bert.encoder.layer.5.attention.self.query.weight', 'bert.encoder.layer.23.intermediate.dense.bias', 'bert.encoder.layer.18.output.dense.weight', 'bert.encoder.layer.1.output.dense.weight', 'bert.encoder.layer.9.attention.output.dense.bias', 'bert.encoder.layer.13.attention.self.value.bias', 'bert.encoder.layer.22.attention.output.dense.bias', 'bert.encoder.layer.6.output.LayerNorm.bias', 'bert.encoder.layer.21.intermediate.dense.bias', 'bert.pooler.dense.bias', 'bert.encoder.layer.10.intermediate.dense.weight', 'bert.encoder.layer.1.output.LayerNorm.bias', 'bert.encoder.layer.4.intermediate.dense.weight', 'bert.encoder.layer.16.intermediate.dense.bias', 'bert.encoder.layer.0.output.dense.bias', 'bert.encoder.layer.4.attention.self.value.bias', 'bert.encoder.layer.15.attention.self.value.bias', 'bert.encoder.layer.20.attention.self.query.bias', 'bert.encoder.layer.15.intermediate.dense.weight', 'bert.embeddings.word_embeddings.weight', 'bert.encoder.layer.3.attention.self.query.weight', 'bert.encoder.layer.7.attention.self.value.weight', 'bert.encoder.layer.14.attention.self.query.weight', 'bert.encoder.layer.10.output.LayerNorm.bias', 'bert.encoder.layer.15.output.dense.bias', 'bert.encoder.layer.2.intermediate.dense.weight', 'bert.encoder.layer.23.attention.self.key.weight', 'bert.encoder.layer.10.attention.self.value.bias', 'bert.encoder.layer.5.intermediate.dense.weight', 'bert.encoder.layer.14.intermediate.dense.bias', 'bert.encoder.layer.10.attention.output.LayerNorm.bias', 'bert.encoder.layer.6.attention.self.key.bias', 'bert.encoder.layer.0.attention.output.LayerNorm.weight', 'bert.encoder.layer.22.intermediate.dense.weight', 'bert.encoder.layer.23.intermediate.dense.weight', 'bert.encoder.layer.6.intermediate.dense.bias', 'bert.encoder.layer.14.attention.output.LayerNorm.weight', 'bert.encoder.layer.17.attention.self.value.bias', 'bert.encoder.layer.11.attention.output.dense.bias', 'bert.encoder.layer.15.attention.output.dense.bias', 'bert.encoder.layer.21.attention.output.dense.bias', 'bert.encoder.layer.20.attention.output.LayerNorm.bias', 'bert.encoder.layer.2.attention.self.value.bias', 'bert.encoder.layer.2.attention.output.LayerNorm.weight', 'bert.encoder.layer.16.attention.self.value.weight', 'bert.encoder.layer.12.attention.self.query.weight', 'bert.encoder.layer.21.output.dense.weight', 'bert.encoder.layer.19.output.dense.bias', 'bert.encoder.layer.11.attention.self.key.weight', 'bert.encoder.layer.2.attention.output.dense.bias', 'bert.encoder.layer.23.attention.self.query.weight', 'bert.embeddings.LayerNorm.weight', 'bert.encoder.layer.8.attention.self.query.weight', 'bert.encoder.layer.10.attention.self.value.weight', 'bert.encoder.layer.1.output.LayerNorm.weight', 'bert.encoder.layer.11.output.dense.weight', 'bert.encoder.layer.16.intermediate.dense.weight', 'cls.predictions.decoder.bias', 'bert.encoder.layer.22.attention.self.key.weight', 'bert.encoder.layer.19.intermediate.dense.bias', 'bert.encoder.layer.6.attention.output.dense.weight', 'bert.encoder.layer.8.attention.self.key.bias', 'bert.encoder.layer.11.intermediate.dense.weight', 'bert.encoder.layer.8.attention.output.dense.weight', 'bert.encoder.layer.20.attention.self.value.weight', 'bert.encoder.layer.9.output.dense.bias', 'bert.encoder.layer.3.intermediate.dense.weight', 'bert.encoder.layer.7.attention.self.key.weight', 'bert.encoder.layer.17.output.dense.bias', 'bert.encoder.layer.0.attention.self.query.bias', 'bert.encoder.layer.3.attention.self.value.bias', 'bert.encoder.layer.17.attention.self.value.weight', 'bert.encoder.layer.1.intermediate.dense.bias', 'bert.encoder.layer.8.attention.self.key.weight', 'cls.predictions.transform.dense.bias', 'bert.encoder.layer.8.output.dense.weight', 'bert.encoder.layer.11.attention.self.query.bias', 'bert.encoder.layer.7.attention.self.query.bias', 'bert.encoder.layer.23.attention.output.LayerNorm.bias', 'bert.encoder.layer.11.output.dense.bias', 'bert.encoder.layer.17.attention.output.LayerNorm.weight', 'bert.encoder.layer.0.intermediate.dense.weight', 'bert.encoder.layer.5.output.dense.weight', 'bert.embeddings.LayerNorm.bias', 'bert.encoder.layer.1.attention.self.key.weight', 'bert.encoder.layer.2.attention.self.value.weight', 'bert.encoder.layer.13.attention.self.key.bias', 'bert.encoder.layer.23.attention.self.value.weight', 'bert.encoder.layer.17.attention.self.query.weight', 'bert.encoder.layer.1.attention.self.value.weight', 'bert.encoder.layer.18.attention.self.query.bias', 'bert.encoder.layer.12.intermediate.dense.bias', 'bert.encoder.layer.11.attention.output.LayerNorm.bias', 'bert.encoder.layer.5.output.LayerNorm.weight', 'bert.encoder.layer.7.attention.output.LayerNorm.bias', 'bert.encoder.layer.13.output.LayerNorm.weight', 'bert.encoder.layer.2.intermediate.dense.bias', 'bert.encoder.layer.21.attention.self.query.weight', 'bert.encoder.layer.6.attention.output.LayerNorm.bias', 'bert.encoder.layer.10.output.dense.weight', 'bert.encoder.layer.9.attention.output.LayerNorm.weight', 'bert.encoder.layer.22.attention.output.LayerNorm.weight', 'bert.encoder.layer.10.attention.output.dense.bias', 'bert.encoder.layer.11.output.LayerNorm.weight', 'bert.encoder.layer.6.attention.self.value.bias', 'bert.encoder.layer.1.attention.self.query.bias', 'bert.encoder.layer.17.attention.output.dense.weight', 'bert.encoder.layer.1.attention.output.LayerNorm.weight', 'bert.encoder.layer.4.attention.self.query.bias', 'bert.encoder.layer.18.attention.output.LayerNorm.bias', 'bert.encoder.layer.23.attention.output.dense.weight', 'bert.encoder.layer.15.intermediate.dense.bias', 'bert.encoder.layer.7.attention.self.query.weight', 'bert.encoder.layer.0.attention.self.key.bias', 'bert.encoder.layer.18.attention.output.dense.bias', 'bert.encoder.layer.7.attention.self.key.bias', 'bert.encoder.layer.3.output.LayerNorm.bias', 'bert.encoder.layer.9.intermediate.dense.bias', 'bert.encoder.layer.8.attention.output.dense.bias', 'bert.encoder.layer.1.attention.output.dense.weight', 'bert.encoder.layer.5.output.dense.bias', 'bert.encoder.layer.21.attention.self.key.bias', 'bert.encoder.layer.23.output.LayerNorm.bias', 'bert.encoder.layer.19.attention.output.dense.weight', 'bert.encoder.layer.23.attention.output.dense.bias', 'cls.predictions.decoder.weight', 'bert.encoder.layer.4.attention.self.query.weight', 'bert.encoder.layer.20.intermediate.dense.weight', 'bert.encoder.layer.14.output.LayerNorm.weight', 'bert.encoder.layer.17.intermediate.dense.bias', 'bert.encoder.layer.18.attention.self.value.bias', 'bert.encoder.layer.18.attention.self.query.weight', 'bert.encoder.layer.6.attention.output.dense.bias', 'cls.sso.sso_relationship.bias', 'bert.encoder.layer.18.attention.self.value.weight', 'bert.encoder.layer.7.attention.output.dense.bias', 'bert.encoder.layer.18.attention.self.key.weight', 'bert.encoder.layer.19.attention.output.dense.bias', 'bert.encoder.layer.1.intermediate.dense.weight', 'bert.encoder.layer.22.attention.self.key.bias', 'bert.encoder.layer.5.attention.self.query.bias', 'bert.encoder.layer.0.attention.output.dense.bias', 'bert.encoder.layer.22.attention.self.value.bias', 'bert.encoder.layer.2.output.dense.weight', 'bert.encoder.layer.16.attention.output.dense.weight', 'bert.encoder.layer.3.attention.self.query.bias', 'bert.encoder.layer.16.output.dense.bias', 'bert.encoder.layer.12.attention.output.dense.bias', 'bert.encoder.layer.15.attention.self.query.weight', 'bert.encoder.layer.22.attention.self.query.bias', 'bert.encoder.layer.22.output.LayerNorm.bias', 'bert.encoder.layer.19.output.LayerNorm.bias', 'bert.encoder.layer.3.output.LayerNorm.weight', 'cls.predictions.bias', 'bert.encoder.layer.11.output.LayerNorm.bias', 'bert.encoder.layer.11.attention.output.dense.weight', 'bert.encoder.layer.5.attention.self.value.bias', 'bert.encoder.layer.16.attention.self.key.weight', 'bert.encoder.layer.20.attention.self.key.bias', 'bert.encoder.layer.2.attention.self.key.weight', 'bert.encoder.layer.17.attention.output.dense.bias', 'bert.encoder.layer.12.attention.self.value.weight', 'bert.encoder.layer.2.output.LayerNorm.weight', 'bert.encoder.layer.4.attention.output.dense.weight', 'bert.encoder.layer.0.attention.output.dense.weight', 'bert.encoder.layer.23.output.dense.weight', 'bert.encoder.layer.22.output.dense.bias', 'bert.encoder.layer.12.output.dense.weight', 'bert.encoder.layer.5.output.LayerNorm.bias', 'bert.encoder.layer.11.attention.self.value.weight', 'bert.encoder.layer.22.attention.output.dense.weight', 'bert.encoder.layer.1.attention.self.query.weight', 'bert.encoder.layer.8.attention.self.query.bias', 'bert.encoder.layer.6.attention.self.key.weight', 'bert.encoder.layer.16.attention.output.LayerNorm.weight', 'bert.encoder.layer.10.output.dense.bias', 'bert.encoder.layer.18.attention.output.dense.weight', 'bert.encoder.layer.20.attention.self.query.weight', 'bert.encoder.layer.13.attention.output.dense.weight', 'bert.encoder.layer.10.attention.output.dense.weight', 'bert.encoder.layer.21.attention.self.key.weight', 'bert.encoder.layer.13.output.dense.weight', 'bert.encoder.layer.21.attention.self.value.bias', 'bert.encoder.layer.8.attention.output.LayerNorm.bias', 'bert.encoder.layer.12.attention.output.LayerNorm.bias', 'bert.encoder.layer.5.attention.output.LayerNorm.weight', 'bert.encoder.layer.2.attention.output.LayerNorm.bias', 'bert.encoder.layer.3.attention.self.key.weight', 'bert.encoder.layer.3.attention.self.key.bias', 'bert.encoder.layer.4.attention.output.LayerNorm.bias', 'bert.encoder.layer.17.attention.output.LayerNorm.bias', 'bert.encoder.layer.21.output.LayerNorm.bias', 'bert.encoder.layer.3.attention.output.dense.bias', 'bert.encoder.layer.13.attention.output.LayerNorm.weight', 'bert.encoder.layer.3.attention.output.LayerNorm.bias', 'bert.encoder.layer.7.output.LayerNorm.bias', 'bert.encoder.layer.0.attention.self.value.bias', 'bert.encoder.layer.13.attention.self.key.weight', 'bert.encoder.layer.5.attention.self.value.weight', 'bert.encoder.layer.22.attention.self.query.weight', 'bert.encoder.layer.13.intermediate.dense.bias', 'bert.encoder.layer.23.output.LayerNorm.weight', 'bert.encoder.layer.21.attention.output.dense.weight', 'bert.encoder.layer.7.output.dense.weight', 'bert.encoder.layer.14.attention.self.key.weight', 'bert.encoder.layer.8.attention.self.value.bias', 'bert.encoder.layer.14.attention.output.dense.bias', 'bert.encoder.layer.17.output.LayerNorm.weight', 'bert.encoder.layer.19.attention.self.key.bias', 'bert.encoder.layer.15.attention.output.dense.weight', 'bert.encoder.layer.16.attention.self.query.weight', 'bert.encoder.layer.16.attention.self.query.bias', 'bert.encoder.layer.4.attention.self.key.weight', 'bert.encoder.layer.2.output.dense.bias', 'bert.encoder.layer.1.attention.self.key.bias', 'bert.encoder.layer.5.attention.output.LayerNorm.bias', 'bert.encoder.layer.3.attention.self.value.weight', 'bert.encoder.layer.21.output.dense.bias', 'bert.encoder.layer.12.attention.self.query.bias', 'bert.encoder.layer.7.intermediate.dense.weight', 'bert.encoder.layer.5.attention.self.key.bias', 'bert.encoder.layer.18.attention.output.LayerNorm.weight', 'bert.encoder.layer.22.attention.self.value.weight', 'bert.encoder.layer.6.attention.self.query.weight', 'bert.encoder.layer.15.attention.output.LayerNorm.bias', 'bert.encoder.layer.18.attention.self.key.bias', 'bert.encoder.layer.1.attention.output.dense.bias', 'bert.encoder.layer.14.output.dense.weight', 'bert.encoder.layer.19.attention.output.LayerNorm.weight', 'bert.embeddings.position_embeddings.weight', 'bert.encoder.layer.5.intermediate.dense.bias', 'bert.encoder.layer.15.attention.self.key.bias', 'bert.encoder.layer.0.output.LayerNorm.weight']\n",
            "- This IS expected if you are initializing RobertaModel from the checkpoint of a model trained on another task or with another architecture (e.g. initializing a BertForSequenceClassification model from a BertForPreTraining model).\n",
            "- This IS NOT expected if you are initializing RobertaModel from the checkpoint of a model that you expect to be exactly identical (initializing a BertForSequenceClassification model from a BertForSequenceClassification model).\n",
            "Some weights of RobertaModel were not initialized from the model checkpoint at allegro/herbert-large-cased and are newly initialized: ['encoder.layer.15.attention.output.dense.weight', 'embeddings.position_embeddings.weight', 'encoder.layer.3.attention.output.LayerNorm.weight', 'encoder.layer.7.attention.output.dense.bias', 'encoder.layer.13.attention.self.value.weight', 'encoder.layer.17.attention.self.value.weight', 'encoder.layer.9.attention.self.value.weight', 'encoder.layer.6.attention.output.dense.bias', 'encoder.layer.13.output.LayerNorm.bias', 'encoder.layer.14.output.dense.weight', 'encoder.layer.12.attention.self.value.weight', 'encoder.layer.9.output.dense.weight', 'encoder.layer.9.output.LayerNorm.bias', 'encoder.layer.9.output.dense.bias', 'encoder.layer.14.attention.output.LayerNorm.bias', 'encoder.layer.4.attention.self.value.bias', 'encoder.layer.2.output.dense.bias', 'encoder.layer.22.attention.self.query.bias', 'encoder.layer.5.output.LayerNorm.bias', 'encoder.layer.0.attention.output.dense.weight', 'encoder.layer.6.attention.output.LayerNorm.weight', 'encoder.layer.11.attention.self.query.weight', 'encoder.layer.4.output.dense.weight', 'encoder.layer.8.attention.output.dense.bias', 'encoder.layer.11.output.dense.bias', 'pooler.dense.weight', 'encoder.layer.5.attention.output.dense.bias', 'encoder.layer.21.attention.self.query.weight', 'encoder.layer.7.attention.self.key.bias', 'encoder.layer.18.attention.self.query.weight', 'encoder.layer.21.intermediate.dense.bias', 'encoder.layer.1.attention.output.dense.bias', 'encoder.layer.5.attention.self.query.bias', 'encoder.layer.15.output.dense.bias', 'encoder.layer.23.output.LayerNorm.bias', 'encoder.layer.11.attention.self.value.weight', 'encoder.layer.8.output.LayerNorm.weight', 'encoder.layer.0.attention.self.query.bias', 'encoder.layer.7.attention.output.dense.weight', 'encoder.layer.9.attention.self.value.bias', 'encoder.layer.10.attention.output.dense.bias', 'encoder.layer.8.attention.self.key.bias', 'encoder.layer.12.output.dense.bias', 'encoder.layer.21.attention.self.value.bias', 'encoder.layer.14.output.LayerNorm.weight', 'encoder.layer.12.attention.output.dense.weight', 'encoder.layer.23.output.dense.weight', 'encoder.layer.22.output.LayerNorm.weight', 'embeddings.word_embeddings.weight', 'encoder.layer.11.output.LayerNorm.weight', 'encoder.layer.7.attention.output.LayerNorm.bias', 'encoder.layer.11.attention.self.query.bias', 'encoder.layer.4.intermediate.dense.weight', 'encoder.layer.2.attention.self.query.bias', 'encoder.layer.9.attention.self.query.bias', 'encoder.layer.10.output.dense.bias', 'encoder.layer.0.intermediate.dense.bias', 'encoder.layer.3.attention.output.LayerNorm.bias', 'encoder.layer.9.attention.self.key.bias', 'encoder.layer.19.attention.self.value.bias', 'encoder.layer.16.intermediate.dense.weight', 'encoder.layer.5.attention.self.key.bias', 'encoder.layer.11.attention.self.key.bias', 'encoder.layer.16.intermediate.dense.bias', 'encoder.layer.13.output.LayerNorm.weight', 'pooler.dense.bias', 'encoder.layer.23.intermediate.dense.weight', 'encoder.layer.21.attention.output.dense.bias', 'encoder.layer.3.attention.self.query.bias', 'encoder.layer.18.output.dense.weight', 'encoder.layer.18.attention.self.key.bias', 'encoder.layer.19.attention.output.LayerNorm.weight', 'encoder.layer.16.attention.self.key.bias', 'encoder.layer.16.attention.self.value.weight', 'encoder.layer.20.output.dense.bias', 'encoder.layer.14.attention.self.query.weight', 'encoder.layer.20.attention.output.LayerNorm.weight', 'encoder.layer.11.output.LayerNorm.bias', 'encoder.layer.21.attention.self.query.bias', 'encoder.layer.10.output.LayerNorm.weight', 'encoder.layer.18.attention.self.value.bias', 'encoder.layer.16.output.LayerNorm.bias', 'encoder.layer.14.attention.self.key.weight', 'encoder.layer.13.attention.self.value.bias', 'encoder.layer.2.intermediate.dense.bias', 'encoder.layer.11.attention.self.value.bias', 'encoder.layer.10.attention.self.query.bias', 'encoder.layer.22.attention.self.query.weight', 'encoder.layer.22.attention.output.LayerNorm.weight', 'encoder.layer.4.output.LayerNorm.weight', 'encoder.layer.21.attention.output.dense.weight', 'encoder.layer.20.intermediate.dense.bias', 'encoder.layer.11.attention.output.dense.bias', 'encoder.layer.10.attention.self.value.bias', 'encoder.layer.19.attention.output.LayerNorm.bias', 'encoder.layer.13.attention.output.LayerNorm.weight', 'encoder.layer.6.attention.self.key.bias', 'encoder.layer.10.output.dense.weight', 'encoder.layer.2.attention.output.dense.bias', 'embeddings.LayerNorm.bias', 'encoder.layer.3.attention.self.key.bias', 'encoder.layer.18.attention.output.dense.weight', 'encoder.layer.16.attention.self.query.bias', 'encoder.layer.4.attention.self.key.bias', 'encoder.layer.10.intermediate.dense.weight', 'encoder.layer.19.attention.self.key.weight', 'encoder.layer.2.output.LayerNorm.bias', 'encoder.layer.2.attention.output.LayerNorm.weight', 'encoder.layer.22.output.dense.bias', 'encoder.layer.1.intermediate.dense.weight', 'encoder.layer.3.output.LayerNorm.weight', 'encoder.layer.4.attention.output.LayerNorm.weight', 'encoder.layer.7.attention.self.query.weight', 'encoder.layer.20.attention.self.query.weight', 'encoder.layer.2.output.LayerNorm.weight', 'encoder.layer.13.intermediate.dense.weight', 'encoder.layer.5.attention.self.query.weight', 'encoder.layer.23.attention.output.LayerNorm.bias', 'encoder.layer.23.attention.self.key.weight', 'encoder.layer.7.attention.self.key.weight', 'encoder.layer.9.attention.output.LayerNorm.bias', 'encoder.layer.20.attention.self.query.bias', 'encoder.layer.16.attention.output.LayerNorm.weight', 'encoder.layer.15.output.LayerNorm.weight', 'encoder.layer.9.attention.output.LayerNorm.weight', 'encoder.layer.8.intermediate.dense.bias', 'encoder.layer.2.attention.self.query.weight', 'encoder.layer.1.output.LayerNorm.bias', 'encoder.layer.6.output.dense.weight', 'encoder.layer.0.output.dense.bias', 'encoder.layer.17.attention.self.value.bias', 'encoder.layer.1.attention.output.LayerNorm.bias', 'encoder.layer.12.output.LayerNorm.weight', 'encoder.layer.2.attention.self.value.weight', 'encoder.layer.18.attention.self.value.weight', 'encoder.layer.2.attention.self.key.bias', 'encoder.layer.0.intermediate.dense.weight', 'encoder.layer.23.attention.self.value.bias', 'encoder.layer.3.intermediate.dense.bias', 'encoder.layer.4.attention.self.query.bias', 'encoder.layer.7.output.dense.bias', 'encoder.layer.23.attention.output.LayerNorm.weight', 'encoder.layer.4.attention.output.dense.weight', 'encoder.layer.3.attention.output.dense.weight', 'embeddings.LayerNorm.weight', 'encoder.layer.6.output.dense.bias', 'encoder.layer.17.intermediate.dense.weight', 'encoder.layer.13.attention.self.query.bias', 'encoder.layer.10.attention.output.LayerNorm.bias', 'encoder.layer.5.attention.self.key.weight', 'encoder.layer.4.attention.output.LayerNorm.bias', 'encoder.layer.15.attention.output.LayerNorm.bias', 'encoder.layer.9.intermediate.dense.bias', 'encoder.layer.16.attention.self.query.weight', 'encoder.layer.18.output.LayerNorm.weight', 'encoder.layer.22.output.LayerNorm.bias', 'encoder.layer.11.output.dense.weight', 'encoder.layer.21.attention.self.key.weight', 'encoder.layer.1.attention.self.key.weight', 'encoder.layer.11.intermediate.dense.bias', 'encoder.layer.1.attention.self.value.weight', 'encoder.layer.8.attention.output.LayerNorm.weight', 'encoder.layer.5.attention.output.LayerNorm.weight', 'encoder.layer.22.attention.self.key.weight', 'encoder.layer.7.attention.self.value.weight', 'encoder.layer.8.attention.self.query.bias', 'encoder.layer.1.intermediate.dense.bias', 'encoder.layer.21.output.dense.weight', 'encoder.layer.13.attention.output.dense.bias', 'encoder.layer.14.attention.output.dense.bias', 'encoder.layer.12.attention.output.dense.bias', 'encoder.layer.6.attention.self.value.weight', 'encoder.layer.12.intermediate.dense.bias', 'encoder.layer.18.attention.output.LayerNorm.weight', 'encoder.layer.5.attention.self.value.bias', 'encoder.layer.17.output.dense.weight', 'encoder.layer.9.attention.self.query.weight', 'encoder.layer.3.attention.self.value.weight', 'encoder.layer.20.attention.self.key.bias', 'encoder.layer.7.intermediate.dense.bias', 'encoder.layer.17.attention.output.dense.bias', 'encoder.layer.19.output.LayerNorm.bias', 'encoder.layer.13.intermediate.dense.bias', 'encoder.layer.17.attention.output.LayerNorm.weight', 'encoder.layer.15.output.LayerNorm.bias', 'encoder.layer.4.intermediate.dense.bias', 'encoder.layer.12.attention.self.query.bias', 'encoder.layer.14.attention.self.query.bias', 'encoder.layer.14.attention.output.dense.weight', 'encoder.layer.19.output.dense.weight', 'encoder.layer.4.output.LayerNorm.bias', 'encoder.layer.8.intermediate.dense.weight', 'encoder.layer.5.output.LayerNorm.weight', 'encoder.layer.1.attention.self.query.bias', 'encoder.layer.12.output.LayerNorm.bias', 'encoder.layer.18.attention.output.dense.bias', 'encoder.layer.22.attention.self.key.bias', 'encoder.layer.22.attention.output.LayerNorm.bias', 'encoder.layer.19.attention.output.dense.bias', 'encoder.layer.1.attention.self.query.weight', 'encoder.layer.19.intermediate.dense.bias', 'encoder.layer.16.attention.self.key.weight', 'encoder.layer.19.output.dense.bias', 'encoder.layer.10.attention.output.LayerNorm.weight', 'encoder.layer.0.output.LayerNorm.bias', 'encoder.layer.14.attention.self.value.bias', 'encoder.layer.23.intermediate.dense.bias', 'encoder.layer.0.attention.self.value.bias', 'encoder.layer.6.output.LayerNorm.bias', 'encoder.layer.3.output.LayerNorm.bias', 'encoder.layer.9.attention.output.dense.bias', 'encoder.layer.13.attention.self.key.bias', 'encoder.layer.0.output.LayerNorm.weight', 'encoder.layer.0.attention.output.dense.bias', 'encoder.layer.3.attention.self.key.weight', 'encoder.layer.17.attention.self.query.bias', 'encoder.layer.22.intermediate.dense.weight', 'encoder.layer.6.intermediate.dense.bias', 'encoder.layer.7.output.LayerNorm.weight', 'encoder.layer.18.intermediate.dense.bias', 'encoder.layer.0.attention.self.key.bias', 'encoder.layer.14.attention.self.key.bias', 'encoder.layer.0.attention.self.value.weight', 'encoder.layer.17.attention.self.key.bias', 'encoder.layer.23.output.LayerNorm.weight', 'encoder.layer.3.intermediate.dense.weight', 'encoder.layer.6.attention.self.query.weight', 'encoder.layer.15.attention.output.dense.bias', 'encoder.layer.10.attention.self.key.weight', 'encoder.layer.18.output.dense.bias', 'encoder.layer.9.output.LayerNorm.weight', 'encoder.layer.4.attention.self.key.weight', 'encoder.layer.8.output.dense.bias', 'encoder.layer.6.attention.self.query.bias', 'encoder.layer.21.attention.output.LayerNorm.weight', 'encoder.layer.12.attention.self.key.bias', 'encoder.layer.22.attention.self.value.weight', 'encoder.layer.20.output.LayerNorm.bias', 'encoder.layer.17.output.dense.bias', 'encoder.layer.20.intermediate.dense.weight', 'encoder.layer.16.attention.output.dense.bias', 'encoder.layer.21.attention.self.key.bias', 'encoder.layer.19.attention.self.value.weight', 'encoder.layer.4.attention.output.dense.bias', 'encoder.layer.17.attention.output.LayerNorm.bias', 'encoder.layer.6.attention.output.dense.weight', 'encoder.layer.9.attention.output.dense.weight', 'encoder.layer.6.attention.output.LayerNorm.bias', 'encoder.layer.6.intermediate.dense.weight', 'encoder.layer.0.attention.output.LayerNorm.weight', 'encoder.layer.13.output.dense.bias', 'encoder.layer.17.attention.output.dense.weight', 'encoder.layer.18.attention.self.query.bias', 'encoder.layer.0.attention.output.LayerNorm.bias', 'encoder.layer.1.output.LayerNorm.weight', 'encoder.layer.1.output.dense.bias', 'encoder.layer.22.output.dense.weight', 'encoder.layer.11.intermediate.dense.weight', 'encoder.layer.20.attention.output.dense.weight', 'encoder.layer.23.attention.self.query.weight', 'encoder.layer.23.attention.output.dense.bias', 'encoder.layer.2.intermediate.dense.weight', 'encoder.layer.21.attention.output.LayerNorm.bias', 'encoder.layer.10.attention.output.dense.weight', 'encoder.layer.14.intermediate.dense.weight', 'encoder.layer.23.output.dense.bias', 'encoder.layer.10.intermediate.dense.bias', 'encoder.layer.8.attention.self.value.bias', 'encoder.layer.13.attention.output.dense.weight', 'encoder.layer.22.intermediate.dense.bias', 'encoder.layer.13.attention.self.query.weight', 'encoder.layer.1.attention.self.value.bias', 'encoder.layer.3.output.dense.weight', 'encoder.layer.5.output.dense.bias', 'encoder.layer.21.output.dense.bias', 'encoder.layer.15.intermediate.dense.bias', 'encoder.layer.18.attention.output.LayerNorm.bias', 'encoder.layer.16.attention.self.value.bias', 'encoder.layer.23.attention.self.query.bias', 'encoder.layer.5.output.dense.weight', 'encoder.layer.15.attention.self.value.bias', 'encoder.layer.20.attention.self.value.bias', 'encoder.layer.12.attention.output.LayerNorm.weight', 'encoder.layer.19.attention.self.query.bias', 'encoder.layer.3.attention.self.query.weight', 'encoder.layer.12.output.dense.weight', 'encoder.layer.16.attention.output.dense.weight', 'encoder.layer.15.attention.output.LayerNorm.weight', 'encoder.layer.9.attention.self.key.weight', 'encoder.layer.14.output.dense.bias', 'encoder.layer.4.output.dense.bias', 'encoder.layer.12.intermediate.dense.weight', 'encoder.layer.12.attention.self.query.weight', 'encoder.layer.8.attention.output.LayerNorm.bias', 'encoder.layer.11.attention.output.LayerNorm.weight', 'encoder.layer.12.attention.output.LayerNorm.bias', 'encoder.layer.3.output.dense.bias', 'embeddings.token_type_embeddings.weight', 'encoder.layer.8.attention.self.value.weight', 'encoder.layer.19.attention.output.dense.weight', 'encoder.layer.10.attention.self.query.weight', 'encoder.layer.4.attention.self.value.weight', 'encoder.layer.6.output.LayerNorm.weight', 'encoder.layer.3.attention.self.value.bias', 'encoder.layer.17.intermediate.dense.bias', 'encoder.layer.11.attention.output.LayerNorm.bias', 'encoder.layer.17.attention.self.query.weight', 'encoder.layer.1.attention.output.dense.weight', 'encoder.layer.1.output.dense.weight', 'encoder.layer.14.attention.self.value.weight', 'encoder.layer.15.attention.self.key.weight', 'encoder.layer.20.output.dense.weight', 'encoder.layer.2.attention.self.key.weight', 'encoder.layer.8.attention.output.dense.weight', 'encoder.layer.15.output.dense.weight', 'encoder.layer.0.output.dense.weight', 'encoder.layer.11.attention.output.dense.weight', 'encoder.layer.19.output.LayerNorm.weight', 'encoder.layer.12.attention.self.value.bias', 'encoder.layer.10.attention.self.value.weight', 'encoder.layer.18.attention.self.key.weight', 'encoder.layer.18.intermediate.dense.weight', 'encoder.layer.6.attention.self.key.weight', 'encoder.layer.5.intermediate.dense.bias', 'encoder.layer.2.attention.output.dense.weight', 'encoder.layer.22.attention.output.dense.bias', 'encoder.layer.22.attention.output.dense.weight', 'encoder.layer.7.attention.output.LayerNorm.weight', 'encoder.layer.14.attention.output.LayerNorm.weight', 'encoder.layer.16.output.dense.weight', 'encoder.layer.21.output.LayerNorm.weight', 'encoder.layer.22.attention.self.value.bias', 'encoder.layer.2.attention.self.value.bias', 'encoder.layer.20.attention.output.dense.bias', 'encoder.layer.16.output.LayerNorm.weight', 'encoder.layer.5.attention.output.LayerNorm.bias', 'encoder.layer.5.attention.output.dense.weight', 'encoder.layer.21.output.LayerNorm.bias', 'encoder.layer.8.attention.self.key.weight', 'encoder.layer.10.output.LayerNorm.bias', 'encoder.layer.15.intermediate.dense.weight', 'encoder.layer.14.output.LayerNorm.bias', 'encoder.layer.7.attention.self.value.bias', 'encoder.layer.17.attention.self.key.weight', 'encoder.layer.8.attention.self.query.weight', 'encoder.layer.21.attention.self.value.weight', 'encoder.layer.7.intermediate.dense.weight', 'encoder.layer.14.intermediate.dense.bias', 'encoder.layer.7.output.dense.weight', 'encoder.layer.7.attention.self.query.bias', 'encoder.layer.13.attention.self.key.weight', 'encoder.layer.23.attention.output.dense.weight', 'encoder.layer.5.attention.self.value.weight', 'encoder.layer.13.output.dense.weight', 'encoder.layer.10.attention.self.key.bias', 'encoder.layer.2.output.dense.weight', 'encoder.layer.20.output.LayerNorm.weight', 'encoder.layer.18.output.LayerNorm.bias', 'encoder.layer.5.intermediate.dense.weight', 'encoder.layer.19.intermediate.dense.weight', 'encoder.layer.0.attention.self.key.weight', 'encoder.layer.21.intermediate.dense.weight', 'encoder.layer.23.attention.self.key.bias', 'encoder.layer.4.attention.self.query.weight', 'encoder.layer.20.attention.output.LayerNorm.bias', 'encoder.layer.12.attention.self.key.weight', 'encoder.layer.16.output.dense.bias', 'encoder.layer.8.output.LayerNorm.bias', 'encoder.layer.6.attention.self.value.bias', 'encoder.layer.15.attention.self.query.bias', 'encoder.layer.17.output.LayerNorm.bias', 'encoder.layer.1.attention.self.key.bias', 'encoder.layer.20.attention.self.value.weight', 'encoder.layer.16.attention.output.LayerNorm.bias', 'encoder.layer.15.attention.self.query.weight', 'encoder.layer.17.output.LayerNorm.weight', 'encoder.layer.8.output.dense.weight', 'encoder.layer.7.output.LayerNorm.bias', 'encoder.layer.20.attention.self.key.weight', 'encoder.layer.2.attention.output.LayerNorm.bias', 'encoder.layer.23.attention.self.value.weight', 'encoder.layer.11.attention.self.key.weight', 'encoder.layer.15.attention.self.value.weight', 'encoder.layer.15.attention.self.key.bias', 'encoder.layer.9.intermediate.dense.weight', 'encoder.layer.3.attention.output.dense.bias', 'encoder.layer.19.attention.self.query.weight', 'encoder.layer.13.attention.output.LayerNorm.bias', 'encoder.layer.1.attention.output.LayerNorm.weight', 'encoder.layer.19.attention.self.key.bias', 'encoder.layer.0.attention.self.query.weight']\n",
            "You should probably TRAIN this model on a down-stream task to be able to use it for predictions and inference.\n"
          ]
        }
      ]
    },
    {
      "cell_type": "code",
      "source": [
        "def draw_learning_curve(history, key='accuracy'):\n",
        "\n",
        "  fig, ax = plt.subplots(1, 2, figsize=(12,6))\n",
        "  ax[0].plot(history.history[key])\n",
        "  ax[0].plot(history.history['val_'+ key] )\n",
        "  ax[0].set_ylabel(key.title())\n",
        "  ax[0].set_xlabel('Epoch')\n",
        "  ax[0].legend(['train', 'val'])\n",
        "\n",
        "  ax[1].plot(history.history['loss'])\n",
        "  ax[1].plot(history.history['val_loss'] )\n",
        " # ax[1].set_ylim([0,1])\n",
        "  ax[1].set_ylabel('loss'.title())\n",
        "  ax[1].set_xlabel('Epoch')\n",
        "  ax[1].legend(['train', 'val'])\n",
        "  fig.suptitle('Learning curve')\n",
        "  plt.show()"
      ],
      "metadata": {
        "id": "g8EcJezH7AOy"
      },
      "execution_count": null,
      "outputs": []
    },
    {
      "cell_type": "code",
      "source": [
        "def get_model():\n",
        "\n",
        "  models = [\n",
        "      [\"decision_tree\", DecisionTreeClassifier(max_depth=20)],\n",
        "      [\"random_forest\", RandomForestClassifier(n_estimators=50, max_depth=10, random_state=42)],\n",
        "      [\"xgboost\", xgb.XGBClassifier(n_estimators=100, random_state=0)],\n",
        "      [\"lgbm\", lgb.LGBMClassifier(n_estimators=50, random_state=0, max_depth=10)]\n",
        "  ]\n",
        "  return models"
      ],
      "metadata": {
        "id": "Ju2iNYkWSpw-"
      },
      "execution_count": null,
      "outputs": []
    },
    {
      "cell_type": "code",
      "source": [
        "def run_models(X_train, y_train, X_test, y_test, df, data_type):\n",
        "\n",
        "  for model_name, model_clf in get_model:\n",
        "\n",
        "    scores = model_clf.fit(X_train, y_train)\n",
        "    y_pred = model_clf.predict(X_test)\n",
        "    num_classes = len(df['Label'].unique())\n",
        "    score = accuracy_score(y_test, y_pred)\n",
        "    cm = confusion_matrix(y_test, y_pred, normalize='true')\n",
        "    disp = ConfusionMatrixDisplay(confusion_matrix=cm, display_labels=model_clf.classes_)\n",
        "    disp.plot()\n",
        "    disp.ax_.set_title(\"Model: {} | Data type: {} | Classes: {} | Acc: {}\".format(model_name, data_type, num_classes, score))\n",
        "    plt.savefig('/content/figs/{}_{}_{}_classes.png'.format(model_name, data_type, num_classes))\n",
        "    files.download('{}_{}_{}_classes.png'.format(model_name, data_type, num_classes))\n",
        "\n",
        "  return score\n"
      ],
      "metadata": {
        "id": "DulQp2TyRzUj"
      },
      "execution_count": null,
      "outputs": []
    },
    {
      "cell_type": "code",
      "execution_count": null,
      "metadata": {
        "colab": {
          "base_uri": "https://localhost:8080/"
        },
        "id": "8zfu0HJXB3r0",
        "outputId": "11c58077-3e90-4ce8-eee9-84cbfd773deb"
      },
      "outputs": [
        {
          "output_type": "stream",
          "name": "stderr",
          "text": [
            "<ipython-input-20-68c6b8c59a3f>:1: FutureWarning: In a future version of pandas all arguments of read_csv except for the argument 'filepath_or_buffer' will be keyword-only.\n",
            "  df_raw = pd.read_csv('/content/wiersze_do_BERT_light.csv', \";\")\n"
          ]
        },
        {
          "output_type": "execute_result",
          "data": {
            "text/plain": [
              "Index(['Author', 'Title', 'Text', 'From', 'Note', 'Words', 'Label', 'Gender',\n",
              "       'Unnamed: 8', 'Unnamed: 9', 'Unnamed: 10'],\n",
              "      dtype='object')"
            ]
          },
          "metadata": {},
          "execution_count": 20
        }
      ],
      "source": [
        "df_raw = pd.read_csv('/content/wiersze_do_BERT_light.csv', \";\")\n",
        "df_raw .columns"
      ]
    },
    {
      "cell_type": "code",
      "execution_count": null,
      "metadata": {
        "id": "6IlKv7VnCMje",
        "colab": {
          "base_uri": "https://localhost:8080/"
        },
        "outputId": "294c461c-900b-49c4-c09e-b419051aa0cd"
      },
      "outputs": [
        {
          "output_type": "execute_result",
          "data": {
            "text/plain": [
              "(400, 8)"
            ]
          },
          "metadata": {},
          "execution_count": 21
        }
      ],
      "source": [
        "df_raw  = df_raw .drop(columns = ['Unnamed: 8', 'Unnamed: 9', 'Unnamed: 10'])\n",
        "df_raw.shape"
      ]
    },
    {
      "cell_type": "code",
      "source": [
        "df_women = df_raw[200:]\n",
        "df_men = df_raw[:200]\n",
        "df_women = df_women.sample(frac = 1).reset_index(drop=True)\n",
        "df_men = df_men.sample(frac = 1).reset_index(drop=True)"
      ],
      "metadata": {
        "id": "PFeIUHl_kSff"
      },
      "execution_count": null,
      "outputs": []
    },
    {
      "cell_type": "code",
      "source": [
        "def get_data_set(labels, df):\n",
        "  idxs = []\n",
        "  for label in labels:\n",
        "    idxs_for_label, = np.where(df['Label'] == label)\n",
        "    for idx in idxs_for_label:\n",
        "      idxs.append(idx)\n",
        "\n",
        "  new_df = df.iloc[idxs]\n",
        "  new_df = new_df.sample(frac = 1).reset_index(drop=True)\n",
        "  return new_df"
      ],
      "metadata": {
        "id": "yYrMmthZ1I0J"
      },
      "execution_count": null,
      "outputs": []
    },
    {
      "cell_type": "code",
      "source": [
        "labels = [0,1,2,3,4,5,6,7]\n",
        "df_light = get_data_set(labels, df_raw)\n",
        "print(\"Number of classes: {}\".format(len(df_light['Label'].unique())))\n",
        "print(\"Shape of new data set: {}\".format(df_light.shape))"
      ],
      "metadata": {
        "id": "0k0c7URa3OW1",
        "colab": {
          "base_uri": "https://localhost:8080/"
        },
        "outputId": "0d090d7e-e1b3-4066-b4a7-8463e899a00a"
      },
      "execution_count": null,
      "outputs": [
        {
          "output_type": "stream",
          "name": "stdout",
          "text": [
            "Number of classes: 8\n",
            "Shape of new data set: (400, 8)\n"
          ]
        }
      ]
    },
    {
      "cell_type": "code",
      "source": [
        "herbert = [\"Herbert\", HerbertTokenizer.from_pretrained(\"allegro/herbert-large-cased\"), RobertaModel.from_pretrained(\"allegro/herbert-large-cased\")]\n",
        "bert = [\"Bert\", AutoTokenizer.from_pretrained(\"bert-base-uncased\"), BertModel.from_pretrained(\"bert-base-uncased\")]\n"
      ],
      "metadata": {
        "colab": {
          "base_uri": "https://localhost:8080/"
        },
        "id": "0-rG1HaVhIVO",
        "outputId": "c31d681e-4f80-4e25-a2b6-7765846ef4ed"
      },
      "execution_count": null,
      "outputs": [
        {
          "output_type": "stream",
          "name": "stderr",
          "text": [
            "You are using a model of type bert to instantiate a model of type roberta. This is not supported for all configurations of models and can yield errors.\n",
            "Some weights of the model checkpoint at allegro/herbert-large-cased were not used when initializing RobertaModel: ['bert.encoder.layer.9.intermediate.dense.bias', 'bert.encoder.layer.21.attention.self.value.bias', 'bert.encoder.layer.15.attention.self.key.bias', 'bert.encoder.layer.14.attention.self.key.weight', 'bert.encoder.layer.13.intermediate.dense.bias', 'bert.encoder.layer.6.attention.self.key.weight', 'bert.encoder.layer.11.attention.self.query.bias', 'bert.encoder.layer.12.attention.self.query.bias', 'bert.encoder.layer.16.output.dense.weight', 'bert.encoder.layer.7.output.LayerNorm.weight', 'bert.encoder.layer.11.attention.self.value.bias', 'bert.encoder.layer.5.attention.self.query.weight', 'bert.encoder.layer.9.intermediate.dense.weight', 'bert.encoder.layer.18.attention.self.value.weight', 'bert.encoder.layer.16.output.LayerNorm.bias', 'bert.encoder.layer.1.attention.self.key.bias', 'bert.encoder.layer.2.output.dense.bias', 'bert.encoder.layer.11.attention.output.LayerNorm.weight', 'bert.encoder.layer.19.attention.self.value.weight', 'bert.encoder.layer.2.output.dense.weight', 'bert.encoder.layer.15.attention.self.query.weight', 'bert.encoder.layer.8.attention.self.query.weight', 'bert.encoder.layer.22.output.LayerNorm.bias', 'bert.encoder.layer.0.output.LayerNorm.weight', 'bert.encoder.layer.2.attention.output.LayerNorm.bias', 'bert.encoder.layer.7.intermediate.dense.bias', 'cls.predictions.transform.LayerNorm.weight', 'bert.encoder.layer.11.attention.output.dense.bias', 'bert.encoder.layer.16.attention.output.dense.bias', 'bert.encoder.layer.1.attention.output.dense.bias', 'bert.encoder.layer.3.attention.output.dense.bias', 'bert.encoder.layer.9.attention.output.LayerNorm.weight', 'bert.encoder.layer.20.output.dense.weight', 'bert.encoder.layer.4.attention.self.key.bias', 'bert.encoder.layer.19.output.LayerNorm.bias', 'bert.encoder.layer.2.attention.self.value.weight', 'bert.encoder.layer.9.attention.self.value.weight', 'bert.encoder.layer.5.attention.self.key.bias', 'bert.encoder.layer.11.intermediate.dense.bias', 'bert.encoder.layer.3.output.LayerNorm.weight', 'bert.pooler.dense.weight', 'bert.encoder.layer.23.output.LayerNorm.weight', 'bert.encoder.layer.5.output.LayerNorm.bias', 'bert.encoder.layer.1.output.LayerNorm.bias', 'bert.encoder.layer.1.attention.output.dense.weight', 'bert.encoder.layer.11.output.LayerNorm.bias', 'cls.sso.sso_relationship.weight', 'bert.encoder.layer.13.attention.output.dense.weight', 'bert.encoder.layer.7.output.dense.bias', 'bert.encoder.layer.10.attention.self.query.weight', 'bert.encoder.layer.5.intermediate.dense.weight', 'bert.encoder.layer.7.intermediate.dense.weight', 'bert.encoder.layer.1.attention.output.LayerNorm.weight', 'bert.encoder.layer.18.intermediate.dense.bias', 'bert.encoder.layer.19.output.dense.bias', 'bert.encoder.layer.4.intermediate.dense.weight', 'bert.encoder.layer.23.attention.self.key.weight', 'bert.encoder.layer.14.attention.output.LayerNorm.weight', 'bert.encoder.layer.14.attention.self.value.bias', 'bert.encoder.layer.1.attention.self.value.bias', 'bert.encoder.layer.11.attention.self.query.weight', 'bert.encoder.layer.12.attention.self.value.bias', 'bert.encoder.layer.17.attention.output.dense.bias', 'bert.encoder.layer.19.attention.output.LayerNorm.bias', 'bert.encoder.layer.10.attention.self.value.weight', 'bert.encoder.layer.19.attention.self.key.bias', 'bert.encoder.layer.10.intermediate.dense.weight', 'bert.encoder.layer.23.attention.output.LayerNorm.bias', 'cls.predictions.transform.LayerNorm.bias', 'bert.encoder.layer.8.attention.self.key.weight', 'bert.encoder.layer.21.attention.self.key.weight', 'bert.encoder.layer.16.intermediate.dense.weight', 'bert.encoder.layer.5.output.LayerNorm.weight', 'bert.encoder.layer.23.attention.self.query.bias', 'bert.encoder.layer.18.attention.output.dense.bias', 'bert.encoder.layer.0.attention.self.query.weight', 'bert.encoder.layer.17.attention.self.key.weight', 'bert.encoder.layer.7.attention.self.query.bias', 'bert.encoder.layer.5.attention.output.dense.bias', 'bert.encoder.layer.12.attention.output.LayerNorm.bias', 'bert.encoder.layer.20.attention.output.dense.weight', 'bert.encoder.layer.0.intermediate.dense.weight', 'bert.encoder.layer.4.attention.output.LayerNorm.weight', 'bert.encoder.layer.13.output.LayerNorm.bias', 'bert.encoder.layer.2.attention.output.dense.weight', 'bert.encoder.layer.12.attention.output.LayerNorm.weight', 'bert.encoder.layer.6.attention.output.LayerNorm.bias', 'bert.encoder.layer.4.attention.output.LayerNorm.bias', 'bert.encoder.layer.6.attention.self.value.bias', 'bert.encoder.layer.6.output.LayerNorm.weight', 'bert.encoder.layer.23.attention.output.LayerNorm.weight', 'bert.encoder.layer.17.attention.output.LayerNorm.bias', 'bert.encoder.layer.21.attention.output.LayerNorm.bias', 'bert.encoder.layer.12.intermediate.dense.bias', 'bert.encoder.layer.16.attention.self.key.bias', 'bert.encoder.layer.16.attention.output.dense.weight', 'bert.encoder.layer.8.attention.output.dense.weight', 'bert.encoder.layer.8.attention.self.query.bias', 'bert.encoder.layer.22.attention.self.key.weight', 'bert.encoder.layer.12.intermediate.dense.weight', 'bert.encoder.layer.3.attention.self.value.weight', 'bert.encoder.layer.18.intermediate.dense.weight', 'bert.pooler.dense.bias', 'bert.encoder.layer.22.attention.self.key.bias', 'bert.encoder.layer.10.attention.output.LayerNorm.weight', 'bert.encoder.layer.15.output.dense.bias', 'bert.encoder.layer.3.intermediate.dense.weight', 'bert.encoder.layer.8.intermediate.dense.bias', 'bert.encoder.layer.10.attention.self.key.weight', 'bert.encoder.layer.19.attention.output.dense.weight', 'bert.encoder.layer.2.attention.output.dense.bias', 'bert.encoder.layer.14.intermediate.dense.weight', 'bert.encoder.layer.7.attention.output.dense.weight', 'bert.encoder.layer.6.intermediate.dense.weight', 'bert.encoder.layer.4.intermediate.dense.bias', 'bert.encoder.layer.16.output.dense.bias', 'bert.encoder.layer.2.output.LayerNorm.bias', 'bert.encoder.layer.13.intermediate.dense.weight', 'bert.encoder.layer.15.attention.self.value.bias', 'bert.encoder.layer.8.attention.output.LayerNorm.bias', 'bert.encoder.layer.1.attention.self.value.weight', 'bert.encoder.layer.7.attention.self.value.bias', 'bert.encoder.layer.13.attention.self.query.weight', 'bert.encoder.layer.21.attention.self.query.weight', 'bert.encoder.layer.6.intermediate.dense.bias', 'bert.encoder.layer.8.attention.output.LayerNorm.weight', 'bert.encoder.layer.14.attention.self.query.bias', 'bert.encoder.layer.5.intermediate.dense.bias', 'bert.encoder.layer.4.output.LayerNorm.weight', 'bert.encoder.layer.18.attention.self.value.bias', 'bert.encoder.layer.12.attention.self.key.weight', 'bert.encoder.layer.10.attention.output.LayerNorm.bias', 'bert.encoder.layer.20.attention.self.query.bias', 'bert.encoder.layer.11.attention.self.key.weight', 'bert.encoder.layer.17.attention.output.LayerNorm.weight', 'bert.encoder.layer.20.intermediate.dense.bias', 'bert.encoder.layer.23.attention.self.value.weight', 'bert.encoder.layer.16.attention.self.query.bias', 'bert.encoder.layer.0.output.dense.weight', 'bert.encoder.layer.6.attention.output.dense.bias', 'bert.encoder.layer.20.attention.output.LayerNorm.weight', 'cls.predictions.bias', 'bert.encoder.layer.13.output.dense.bias', 'bert.encoder.layer.23.attention.self.key.bias', 'bert.encoder.layer.19.attention.self.key.weight', 'bert.encoder.layer.9.attention.output.LayerNorm.bias', 'bert.encoder.layer.3.output.dense.weight', 'bert.encoder.layer.7.attention.output.LayerNorm.weight', 'bert.encoder.layer.9.attention.self.key.bias', 'bert.encoder.layer.23.intermediate.dense.bias', 'bert.encoder.layer.23.attention.self.value.bias', 'bert.encoder.layer.17.output.LayerNorm.weight', 'bert.embeddings.LayerNorm.bias', 'bert.encoder.layer.14.output.dense.bias', 'bert.encoder.layer.15.attention.self.key.weight', 'bert.encoder.layer.0.output.dense.bias', 'bert.encoder.layer.6.attention.self.query.bias', 'bert.encoder.layer.7.attention.output.dense.bias', 'bert.encoder.layer.23.attention.self.query.weight', 'bert.encoder.layer.11.attention.self.key.bias', 'bert.encoder.layer.5.attention.self.key.weight', 'bert.encoder.layer.11.output.dense.weight', 'bert.encoder.layer.22.intermediate.dense.weight', 'bert.encoder.layer.19.attention.self.query.bias', 'bert.encoder.layer.9.attention.output.dense.weight', 'cls.predictions.transform.dense.weight', 'bert.encoder.layer.16.intermediate.dense.bias', 'bert.encoder.layer.3.intermediate.dense.bias', 'bert.encoder.layer.21.attention.output.LayerNorm.weight', 'bert.encoder.layer.4.attention.output.dense.weight', 'bert.encoder.layer.5.attention.output.LayerNorm.bias', 'bert.encoder.layer.22.attention.output.LayerNorm.weight', 'bert.encoder.layer.2.attention.self.query.weight', 'bert.encoder.layer.6.attention.self.query.weight', 'bert.encoder.layer.11.attention.output.LayerNorm.bias', 'bert.encoder.layer.6.attention.output.LayerNorm.weight', 'bert.encoder.layer.20.output.dense.bias', 'bert.encoder.layer.19.intermediate.dense.weight', 'bert.encoder.layer.4.output.dense.bias', 'bert.encoder.layer.6.attention.self.value.weight', 'bert.encoder.layer.17.output.LayerNorm.bias', 'bert.encoder.layer.10.output.LayerNorm.bias', 'bert.encoder.layer.12.output.dense.bias', 'bert.encoder.layer.21.attention.self.key.bias', 'bert.encoder.layer.10.attention.self.key.bias', 'bert.encoder.layer.16.output.LayerNorm.weight', 'bert.encoder.layer.1.attention.self.query.weight', 'bert.encoder.layer.15.attention.output.LayerNorm.bias', 'cls.predictions.decoder.weight', 'bert.embeddings.token_type_embeddings.weight', 'bert.encoder.layer.0.attention.self.value.bias', 'bert.encoder.layer.21.attention.output.dense.bias', 'bert.encoder.layer.22.intermediate.dense.bias', 'cls.sso.sso_relationship.bias', 'bert.encoder.layer.9.output.dense.weight', 'bert.encoder.layer.8.attention.self.value.bias', 'bert.encoder.layer.17.output.dense.weight', 'bert.encoder.layer.17.attention.self.key.bias', 'bert.encoder.layer.0.attention.output.LayerNorm.bias', 'bert.encoder.layer.17.attention.self.value.bias', 'bert.encoder.layer.11.output.LayerNorm.weight', 'bert.encoder.layer.2.intermediate.dense.weight', 'bert.encoder.layer.10.attention.self.query.bias', 'bert.encoder.layer.22.output.dense.bias', 'bert.encoder.layer.6.output.dense.weight', 'bert.encoder.layer.18.attention.output.LayerNorm.weight', 'bert.encoder.layer.7.output.LayerNorm.bias', 'bert.encoder.layer.2.output.LayerNorm.weight', 'bert.encoder.layer.4.attention.self.key.weight', 'bert.encoder.layer.14.intermediate.dense.bias', 'bert.encoder.layer.12.attention.self.query.weight', 'bert.encoder.layer.23.output.dense.weight', 'bert.encoder.layer.1.attention.self.key.weight', 'bert.encoder.layer.6.output.dense.bias', 'bert.encoder.layer.22.output.dense.weight', 'bert.encoder.layer.17.intermediate.dense.weight', 'bert.encoder.layer.13.attention.output.LayerNorm.weight', 'bert.encoder.layer.23.output.dense.bias', 'bert.encoder.layer.3.output.LayerNorm.bias', 'bert.encoder.layer.1.intermediate.dense.bias', 'bert.encoder.layer.13.attention.self.value.bias', 'bert.encoder.layer.8.output.LayerNorm.bias', 'bert.encoder.layer.14.attention.self.key.bias', 'bert.encoder.layer.10.output.dense.weight', 'bert.encoder.layer.3.attention.output.dense.weight', 'bert.encoder.layer.15.attention.self.value.weight', 'bert.encoder.layer.3.attention.self.key.bias', 'bert.encoder.layer.1.output.dense.bias', 'bert.encoder.layer.17.attention.self.query.weight', 'bert.encoder.layer.7.attention.self.query.weight', 'bert.encoder.layer.5.attention.output.LayerNorm.weight', 'bert.encoder.layer.9.attention.self.value.bias', 'bert.encoder.layer.22.attention.self.query.bias', 'bert.encoder.layer.8.intermediate.dense.weight', 'bert.encoder.layer.0.attention.self.key.bias', 'bert.encoder.layer.16.attention.self.value.weight', 'bert.encoder.layer.15.attention.output.dense.bias', 'bert.encoder.layer.14.attention.self.query.weight', 'bert.encoder.layer.6.attention.self.key.bias', 'bert.encoder.layer.4.attention.self.value.bias', 'bert.encoder.layer.7.attention.self.key.bias', 'bert.encoder.layer.10.attention.output.dense.bias', 'bert.encoder.layer.9.attention.self.key.weight', 'bert.encoder.layer.14.output.dense.weight', 'bert.encoder.layer.17.attention.self.query.bias', 'bert.encoder.layer.13.attention.self.key.bias', 'bert.encoder.layer.4.attention.self.value.weight', 'bert.encoder.layer.5.attention.self.value.weight', 'bert.encoder.layer.8.attention.output.dense.bias', 'bert.encoder.layer.15.attention.output.dense.weight', 'bert.encoder.layer.16.attention.output.LayerNorm.bias', 'bert.encoder.layer.22.output.LayerNorm.weight', 'bert.encoder.layer.19.attention.self.value.bias', 'bert.encoder.layer.20.attention.output.dense.bias', 'bert.embeddings.LayerNorm.weight', 'bert.encoder.layer.4.output.LayerNorm.bias', 'bert.encoder.layer.0.attention.output.dense.bias', 'bert.encoder.layer.14.attention.self.value.weight', 'bert.encoder.layer.8.attention.self.value.weight', 'bert.encoder.layer.22.attention.output.LayerNorm.bias', 'bert.encoder.layer.15.output.dense.weight', 'bert.encoder.layer.0.attention.output.LayerNorm.weight', 'bert.encoder.layer.19.output.LayerNorm.weight', 'bert.encoder.layer.13.attention.output.LayerNorm.bias', 'bert.encoder.layer.16.attention.self.key.weight', 'bert.encoder.layer.9.attention.self.query.bias', 'bert.encoder.layer.1.output.dense.weight', 'bert.encoder.layer.4.attention.output.dense.bias', 'bert.encoder.layer.3.output.dense.bias', 'bert.encoder.layer.19.attention.output.LayerNorm.weight', 'bert.encoder.layer.23.output.LayerNorm.bias', 'bert.encoder.layer.2.attention.self.key.bias', 'bert.encoder.layer.0.attention.output.dense.weight', 'bert.encoder.layer.20.attention.self.key.bias', 'bert.encoder.layer.9.attention.self.query.weight', 'bert.encoder.layer.18.attention.self.query.bias', 'bert.encoder.layer.18.attention.output.dense.weight', 'bert.encoder.layer.15.intermediate.dense.weight', 'bert.encoder.layer.3.attention.self.query.weight', 'bert.encoder.layer.20.output.LayerNorm.bias', 'bert.encoder.layer.11.output.dense.bias', 'bert.encoder.layer.12.attention.output.dense.bias', 'bert.encoder.layer.9.output.LayerNorm.bias', 'bert.encoder.layer.12.attention.self.value.weight', 'bert.encoder.layer.19.attention.self.query.weight', 'bert.encoder.layer.18.attention.self.query.weight', 'bert.encoder.layer.2.attention.output.LayerNorm.weight', 'bert.encoder.layer.1.attention.output.LayerNorm.bias', 'bert.encoder.layer.9.output.dense.bias', 'bert.encoder.layer.20.attention.self.value.weight', 'bert.encoder.layer.18.attention.self.key.bias', 'cls.predictions.decoder.bias', 'bert.encoder.layer.5.output.dense.weight', 'bert.encoder.layer.5.attention.output.dense.weight', 'bert.encoder.layer.17.intermediate.dense.bias', 'bert.encoder.layer.8.output.LayerNorm.weight', 'bert.encoder.layer.10.attention.output.dense.weight', 'bert.encoder.layer.23.intermediate.dense.weight', 'bert.encoder.layer.22.attention.output.dense.bias', 'bert.encoder.layer.21.output.dense.weight', 'bert.encoder.layer.3.attention.output.LayerNorm.bias', 'bert.encoder.layer.5.attention.self.value.bias', 'bert.encoder.layer.10.output.LayerNorm.weight', 'bert.encoder.layer.17.attention.output.dense.weight', 'bert.encoder.layer.5.output.dense.bias', 'bert.encoder.layer.8.output.dense.bias', 'bert.encoder.layer.11.attention.output.dense.weight', 'bert.encoder.layer.4.attention.self.query.weight', 'bert.encoder.layer.22.attention.self.query.weight', 'bert.encoder.layer.0.attention.self.value.weight', 'bert.encoder.layer.3.attention.output.LayerNorm.weight', 'bert.encoder.layer.21.attention.self.value.weight', 'bert.encoder.layer.19.intermediate.dense.bias', 'bert.encoder.layer.13.attention.self.query.bias', 'bert.encoder.layer.16.attention.output.LayerNorm.weight', 'bert.encoder.layer.15.output.LayerNorm.weight', 'bert.encoder.layer.8.output.dense.weight', 'bert.encoder.layer.22.attention.self.value.weight', 'bert.encoder.layer.15.output.LayerNorm.bias', 'bert.encoder.layer.12.attention.self.key.bias', 'bert.encoder.layer.21.attention.self.query.bias', 'bert.encoder.layer.2.attention.self.value.bias', 'bert.encoder.layer.14.output.LayerNorm.weight', 'bert.encoder.layer.18.output.dense.weight', 'bert.encoder.layer.21.output.LayerNorm.bias', 'bert.encoder.layer.3.attention.self.value.bias', 'bert.encoder.layer.9.attention.output.dense.bias', 'bert.encoder.layer.0.attention.self.query.bias', 'bert.encoder.layer.15.attention.output.LayerNorm.weight', 'bert.encoder.layer.10.intermediate.dense.bias', 'bert.encoder.layer.12.output.LayerNorm.bias', 'bert.encoder.layer.23.attention.output.dense.bias', 'bert.embeddings.word_embeddings.weight', 'bert.encoder.layer.2.intermediate.dense.bias', 'bert.encoder.layer.14.attention.output.dense.bias', 'bert.encoder.layer.13.attention.output.dense.bias', 'bert.encoder.layer.3.attention.self.query.bias', 'bert.encoder.layer.1.intermediate.dense.weight', 'bert.encoder.layer.13.output.dense.weight', 'bert.encoder.layer.14.attention.output.LayerNorm.bias', 'bert.encoder.layer.20.attention.output.LayerNorm.bias', 'bert.encoder.layer.21.output.dense.bias', 'bert.encoder.layer.0.intermediate.dense.bias', 'bert.encoder.layer.12.output.dense.weight', 'bert.encoder.layer.4.output.dense.weight', 'bert.encoder.layer.10.attention.self.value.bias', 'bert.encoder.layer.2.attention.self.key.weight', 'bert.encoder.layer.7.attention.output.LayerNorm.bias', 'bert.encoder.layer.15.intermediate.dense.bias', 'bert.encoder.layer.17.output.dense.bias', 'bert.encoder.layer.18.attention.output.LayerNorm.bias', 'bert.encoder.layer.14.attention.output.dense.weight', 'bert.encoder.layer.9.output.LayerNorm.weight', 'bert.encoder.layer.20.attention.self.value.bias', 'bert.encoder.layer.13.output.LayerNorm.weight', 'bert.encoder.layer.19.attention.output.dense.bias', 'bert.encoder.layer.4.attention.self.query.bias', 'bert.encoder.layer.13.attention.self.key.weight', 'bert.encoder.layer.18.output.dense.bias', 'bert.encoder.layer.20.attention.self.query.weight', 'bert.encoder.layer.18.output.LayerNorm.weight', 'bert.encoder.layer.7.attention.self.key.weight', 'bert.encoder.layer.20.output.LayerNorm.weight', 'bert.encoder.layer.8.attention.self.key.bias', 'bert.encoder.layer.11.intermediate.dense.weight', 'bert.encoder.layer.18.output.LayerNorm.bias', 'bert.encoder.layer.2.attention.self.query.bias', 'bert.encoder.layer.1.output.LayerNorm.weight', 'bert.encoder.layer.5.attention.self.query.bias', 'bert.encoder.layer.16.attention.self.query.weight', 'bert.embeddings.position_embeddings.weight', 'bert.encoder.layer.7.output.dense.weight', 'bert.encoder.layer.10.output.dense.bias', 'bert.encoder.layer.18.attention.self.key.weight', 'bert.encoder.layer.14.output.LayerNorm.bias', 'bert.encoder.layer.7.attention.self.value.weight', 'bert.encoder.layer.23.attention.output.dense.weight', 'cls.predictions.transform.dense.bias', 'bert.encoder.layer.19.output.dense.weight', 'bert.encoder.layer.21.intermediate.dense.weight', 'bert.encoder.layer.6.output.LayerNorm.bias', 'bert.encoder.layer.6.attention.output.dense.weight', 'bert.encoder.layer.15.attention.self.query.bias', 'bert.encoder.layer.1.attention.self.query.bias', 'bert.encoder.layer.11.attention.self.value.weight', 'bert.encoder.layer.20.attention.self.key.weight', 'bert.encoder.layer.21.attention.output.dense.weight', 'bert.encoder.layer.22.attention.self.value.bias', 'bert.encoder.layer.0.output.LayerNorm.bias', 'bert.encoder.layer.16.attention.self.value.bias', 'bert.encoder.layer.22.attention.output.dense.weight', 'bert.encoder.layer.17.attention.self.value.weight', 'bert.encoder.layer.21.output.LayerNorm.weight', 'bert.encoder.layer.20.intermediate.dense.weight', 'bert.encoder.layer.0.attention.self.key.weight', 'bert.encoder.layer.12.output.LayerNorm.weight', 'bert.encoder.layer.3.attention.self.key.weight', 'bert.encoder.layer.12.attention.output.dense.weight', 'bert.encoder.layer.21.intermediate.dense.bias', 'bert.encoder.layer.13.attention.self.value.weight']\n",
            "- This IS expected if you are initializing RobertaModel from the checkpoint of a model trained on another task or with another architecture (e.g. initializing a BertForSequenceClassification model from a BertForPreTraining model).\n",
            "- This IS NOT expected if you are initializing RobertaModel from the checkpoint of a model that you expect to be exactly identical (initializing a BertForSequenceClassification model from a BertForSequenceClassification model).\n",
            "Some weights of RobertaModel were not initialized from the model checkpoint at allegro/herbert-large-cased and are newly initialized: ['pooler.dense.bias', 'encoder.layer.2.output.dense.bias', 'encoder.layer.1.intermediate.dense.bias', 'encoder.layer.13.attention.output.dense.weight', 'encoder.layer.5.attention.self.query.weight', 'encoder.layer.2.attention.self.value.weight', 'encoder.layer.19.attention.self.value.weight', 'encoder.layer.17.output.LayerNorm.weight', 'encoder.layer.14.output.LayerNorm.bias', 'encoder.layer.14.attention.self.key.bias', 'encoder.layer.3.intermediate.dense.bias', 'encoder.layer.21.attention.output.dense.bias', 'encoder.layer.3.intermediate.dense.weight', 'encoder.layer.23.attention.self.value.bias', 'encoder.layer.17.attention.self.key.bias', 'encoder.layer.4.attention.self.query.weight', 'encoder.layer.15.attention.self.value.weight', 'encoder.layer.11.intermediate.dense.weight', 'encoder.layer.17.output.dense.weight', 'encoder.layer.10.attention.self.query.bias', 'encoder.layer.12.attention.self.query.weight', 'encoder.layer.7.attention.self.query.bias', 'encoder.layer.13.attention.output.LayerNorm.bias', 'encoder.layer.6.attention.output.dense.bias', 'encoder.layer.16.intermediate.dense.bias', 'encoder.layer.19.attention.output.dense.bias', 'encoder.layer.1.attention.self.query.bias', 'encoder.layer.19.output.LayerNorm.bias', 'encoder.layer.19.attention.output.LayerNorm.weight', 'encoder.layer.19.attention.self.value.bias', 'encoder.layer.5.output.LayerNorm.bias', 'encoder.layer.22.attention.output.dense.weight', 'encoder.layer.15.attention.output.LayerNorm.weight', 'encoder.layer.16.output.dense.bias', 'encoder.layer.18.output.dense.bias', 'encoder.layer.21.output.LayerNorm.weight', 'encoder.layer.10.output.dense.weight', 'encoder.layer.15.output.LayerNorm.bias', 'encoder.layer.2.intermediate.dense.bias', 'encoder.layer.21.attention.self.value.weight', 'encoder.layer.1.attention.self.value.weight', 'encoder.layer.22.intermediate.dense.weight', 'encoder.layer.9.output.LayerNorm.bias', 'encoder.layer.13.attention.self.value.bias', 'encoder.layer.3.output.LayerNorm.bias', 'encoder.layer.20.output.LayerNorm.bias', 'encoder.layer.10.output.LayerNorm.weight', 'encoder.layer.18.output.dense.weight', 'encoder.layer.2.intermediate.dense.weight', 'encoder.layer.7.attention.self.query.weight', 'encoder.layer.18.attention.self.value.bias', 'encoder.layer.9.attention.self.value.weight', 'encoder.layer.8.attention.self.query.bias', 'encoder.layer.13.output.dense.bias', 'encoder.layer.8.attention.output.dense.bias', 'encoder.layer.21.output.LayerNorm.bias', 'encoder.layer.21.attention.self.key.weight', 'encoder.layer.16.attention.output.dense.weight', 'encoder.layer.19.attention.self.query.weight', 'encoder.layer.10.attention.self.key.weight', 'encoder.layer.12.attention.self.key.bias', 'encoder.layer.23.attention.output.LayerNorm.bias', 'encoder.layer.17.attention.output.LayerNorm.weight', 'encoder.layer.5.intermediate.dense.weight', 'encoder.layer.5.output.LayerNorm.weight', 'encoder.layer.9.attention.self.value.bias', 'encoder.layer.11.attention.self.value.bias', 'encoder.layer.11.attention.self.query.bias', 'encoder.layer.23.attention.self.value.weight', 'encoder.layer.22.attention.self.value.bias', 'encoder.layer.23.output.LayerNorm.weight', 'encoder.layer.9.attention.output.LayerNorm.bias', 'encoder.layer.2.attention.self.key.bias', 'encoder.layer.12.output.LayerNorm.bias', 'encoder.layer.7.attention.output.LayerNorm.bias', 'encoder.layer.2.output.dense.weight', 'encoder.layer.20.attention.self.value.weight', 'encoder.layer.10.attention.self.value.weight', 'encoder.layer.15.attention.self.query.bias', 'encoder.layer.17.intermediate.dense.weight', 'encoder.layer.17.intermediate.dense.bias', 'encoder.layer.22.attention.self.query.weight', 'encoder.layer.11.attention.self.query.weight', 'encoder.layer.15.attention.self.query.weight', 'encoder.layer.16.output.LayerNorm.weight', 'encoder.layer.23.output.dense.bias', 'encoder.layer.0.attention.output.LayerNorm.bias', 'encoder.layer.3.attention.self.query.weight', 'encoder.layer.15.attention.self.key.bias', 'encoder.layer.5.attention.output.dense.weight', 'encoder.layer.22.attention.output.dense.bias', 'encoder.layer.9.attention.self.query.bias', 'encoder.layer.5.attention.output.LayerNorm.weight', 'encoder.layer.5.intermediate.dense.bias', 'encoder.layer.20.attention.self.query.bias', 'pooler.dense.weight', 'embeddings.LayerNorm.bias', 'encoder.layer.16.attention.self.value.bias', 'encoder.layer.14.output.dense.bias', 'encoder.layer.16.attention.self.query.weight', 'encoder.layer.8.attention.output.LayerNorm.bias', 'encoder.layer.3.attention.output.dense.weight', 'encoder.layer.15.attention.self.key.weight', 'encoder.layer.20.attention.output.LayerNorm.bias', 'encoder.layer.8.output.LayerNorm.bias', 'encoder.layer.19.attention.self.key.bias', 'encoder.layer.7.intermediate.dense.bias', 'encoder.layer.12.output.dense.bias', 'encoder.layer.20.output.LayerNorm.weight', 'encoder.layer.5.attention.self.value.weight', 'encoder.layer.5.attention.self.value.bias', 'encoder.layer.13.attention.output.dense.bias', 'encoder.layer.7.attention.output.LayerNorm.weight', 'encoder.layer.7.output.dense.weight', 'encoder.layer.10.attention.self.query.weight', 'encoder.layer.3.output.LayerNorm.weight', 'encoder.layer.0.attention.output.dense.bias', 'encoder.layer.10.attention.output.dense.weight', 'encoder.layer.14.output.LayerNorm.weight', 'encoder.layer.14.attention.output.LayerNorm.bias', 'encoder.layer.6.attention.self.key.bias', 'encoder.layer.1.attention.output.dense.bias', 'encoder.layer.9.output.LayerNorm.weight', 'encoder.layer.18.attention.self.value.weight', 'encoder.layer.11.output.LayerNorm.bias', 'encoder.layer.14.attention.self.key.weight', 'encoder.layer.17.attention.output.dense.bias', 'encoder.layer.8.attention.self.key.bias', 'encoder.layer.23.intermediate.dense.bias', 'encoder.layer.1.attention.self.query.weight', 'encoder.layer.14.attention.self.value.bias', 'encoder.layer.0.attention.self.key.bias', 'encoder.layer.8.attention.output.LayerNorm.weight', 'encoder.layer.18.attention.self.key.bias', 'encoder.layer.10.output.dense.bias', 'encoder.layer.17.attention.output.dense.weight', 'encoder.layer.14.attention.self.value.weight', 'encoder.layer.12.attention.self.query.bias', 'encoder.layer.23.attention.self.query.weight', 'encoder.layer.8.output.dense.weight', 'encoder.layer.4.output.dense.weight', 'encoder.layer.13.attention.self.query.weight', 'encoder.layer.21.attention.self.value.bias', 'encoder.layer.9.attention.output.LayerNorm.weight', 'encoder.layer.17.output.dense.bias', 'encoder.layer.5.attention.output.LayerNorm.bias', 'encoder.layer.10.attention.self.value.bias', 'encoder.layer.7.attention.self.value.bias', 'encoder.layer.3.output.dense.bias', 'encoder.layer.12.attention.output.LayerNorm.weight', 'encoder.layer.21.attention.self.key.bias', 'encoder.layer.0.intermediate.dense.weight', 'encoder.layer.15.attention.self.value.bias', 'encoder.layer.16.attention.self.query.bias', 'encoder.layer.14.attention.self.query.bias', 'encoder.layer.21.output.dense.weight', 'encoder.layer.13.attention.self.key.weight', 'encoder.layer.6.attention.self.value.bias', 'embeddings.token_type_embeddings.weight', 'encoder.layer.2.attention.self.value.bias', 'encoder.layer.20.intermediate.dense.bias', 'encoder.layer.8.output.LayerNorm.weight', 'encoder.layer.9.attention.self.key.weight', 'encoder.layer.7.attention.output.dense.bias', 'encoder.layer.17.attention.output.LayerNorm.bias', 'encoder.layer.20.attention.output.LayerNorm.weight', 'encoder.layer.1.attention.output.LayerNorm.weight', 'encoder.layer.9.intermediate.dense.bias', 'encoder.layer.2.attention.output.LayerNorm.weight', 'encoder.layer.23.attention.output.dense.bias', 'encoder.layer.11.attention.output.dense.weight', 'encoder.layer.15.output.LayerNorm.weight', 'encoder.layer.0.output.dense.weight', 'encoder.layer.14.intermediate.dense.bias', 'encoder.layer.22.output.dense.bias', 'encoder.layer.9.output.dense.bias', 'encoder.layer.1.intermediate.dense.weight', 'encoder.layer.18.attention.self.query.bias', 'encoder.layer.3.attention.output.LayerNorm.weight', 'encoder.layer.18.attention.output.dense.weight', 'encoder.layer.3.attention.self.value.weight', 'encoder.layer.23.attention.output.LayerNorm.weight', 'encoder.layer.1.output.LayerNorm.bias', 'encoder.layer.19.attention.self.query.bias', 'encoder.layer.13.attention.self.key.bias', 'encoder.layer.4.attention.output.LayerNorm.bias', 'encoder.layer.19.intermediate.dense.weight', 'encoder.layer.4.output.LayerNorm.weight', 'encoder.layer.13.attention.self.value.weight', 'encoder.layer.20.attention.self.key.weight', 'encoder.layer.8.attention.self.value.weight', 'encoder.layer.16.attention.output.LayerNorm.weight', 'encoder.layer.2.attention.self.key.weight', 'encoder.layer.13.output.LayerNorm.bias', 'encoder.layer.18.output.LayerNorm.weight', 'encoder.layer.0.attention.self.value.bias', 'encoder.layer.18.attention.self.key.weight', 'encoder.layer.6.output.LayerNorm.bias', 'encoder.layer.6.attention.output.LayerNorm.weight', 'encoder.layer.21.intermediate.dense.bias', 'encoder.layer.9.attention.output.dense.weight', 'encoder.layer.16.attention.output.LayerNorm.bias', 'encoder.layer.11.attention.self.key.bias', 'encoder.layer.12.intermediate.dense.bias', 'encoder.layer.20.attention.self.value.bias', 'encoder.layer.16.output.LayerNorm.bias', 'encoder.layer.11.output.LayerNorm.weight', 'encoder.layer.18.output.LayerNorm.bias', 'encoder.layer.17.attention.self.key.weight', 'encoder.layer.12.attention.self.value.weight', 'encoder.layer.19.output.LayerNorm.weight', 'encoder.layer.4.output.dense.bias', 'encoder.layer.7.attention.self.key.weight', 'encoder.layer.10.attention.output.LayerNorm.bias', 'encoder.layer.22.intermediate.dense.bias', 'encoder.layer.14.attention.output.dense.bias', 'encoder.layer.10.attention.output.dense.bias', 'encoder.layer.2.output.LayerNorm.weight', 'encoder.layer.21.output.dense.bias', 'encoder.layer.17.attention.self.query.weight', 'encoder.layer.0.attention.output.LayerNorm.weight', 'encoder.layer.12.attention.output.LayerNorm.bias', 'encoder.layer.23.output.LayerNorm.bias', 'encoder.layer.23.attention.self.key.weight', 'encoder.layer.11.intermediate.dense.bias', 'encoder.layer.15.output.dense.weight', 'encoder.layer.7.attention.self.value.weight', 'encoder.layer.13.output.LayerNorm.weight', 'encoder.layer.3.attention.output.dense.bias', 'encoder.layer.17.attention.self.query.bias', 'encoder.layer.22.output.dense.weight', 'encoder.layer.5.attention.self.key.bias', 'encoder.layer.2.attention.self.query.bias', 'encoder.layer.15.intermediate.dense.weight', 'encoder.layer.6.attention.self.query.weight', 'encoder.layer.6.attention.output.dense.weight', 'encoder.layer.8.attention.self.value.bias', 'encoder.layer.15.attention.output.dense.weight', 'encoder.layer.16.attention.self.value.weight', 'encoder.layer.0.output.LayerNorm.weight', 'encoder.layer.17.attention.self.value.bias', 'encoder.layer.12.attention.output.dense.bias', 'encoder.layer.3.attention.output.LayerNorm.bias', 'encoder.layer.4.attention.self.key.bias', 'encoder.layer.17.attention.self.value.weight', 'encoder.layer.1.output.LayerNorm.weight', 'encoder.layer.1.attention.self.value.bias', 'encoder.layer.4.intermediate.dense.weight', 'encoder.layer.7.attention.output.dense.weight', 'encoder.layer.23.output.dense.weight', 'encoder.layer.16.attention.self.key.bias', 'encoder.layer.18.attention.output.dense.bias', 'encoder.layer.3.attention.self.key.weight', 'encoder.layer.1.output.dense.bias', 'encoder.layer.14.attention.output.dense.weight', 'encoder.layer.7.output.dense.bias', 'encoder.layer.3.output.dense.weight', 'encoder.layer.10.intermediate.dense.bias', 'encoder.layer.5.attention.self.query.bias', 'encoder.layer.7.output.LayerNorm.bias', 'encoder.layer.22.output.LayerNorm.weight', 'encoder.layer.11.attention.output.dense.bias', 'encoder.layer.23.attention.self.key.bias', 'encoder.layer.6.attention.output.LayerNorm.bias', 'encoder.layer.0.output.LayerNorm.bias', 'encoder.layer.4.attention.output.dense.weight', 'encoder.layer.11.attention.self.value.weight', 'embeddings.LayerNorm.weight', 'encoder.layer.4.attention.self.key.weight', 'encoder.layer.9.attention.self.query.weight', 'encoder.layer.4.attention.output.LayerNorm.weight', 'encoder.layer.14.intermediate.dense.weight', 'encoder.layer.15.attention.output.LayerNorm.bias', 'encoder.layer.13.attention.output.LayerNorm.weight', 'encoder.layer.4.attention.self.query.bias', 'encoder.layer.12.attention.self.value.bias', 'encoder.layer.20.attention.output.dense.bias', 'encoder.layer.22.output.LayerNorm.bias', 'encoder.layer.6.output.LayerNorm.weight', 'embeddings.position_embeddings.weight', 'encoder.layer.6.attention.self.value.weight', 'encoder.layer.1.attention.self.key.bias', 'encoder.layer.19.output.dense.weight', 'encoder.layer.0.intermediate.dense.bias', 'encoder.layer.1.attention.self.key.weight', 'encoder.layer.5.output.dense.weight', 'encoder.layer.9.attention.self.key.bias', 'encoder.layer.5.attention.output.dense.bias', 'encoder.layer.8.attention.self.query.weight', 'encoder.layer.22.attention.output.LayerNorm.bias', 'encoder.layer.12.output.LayerNorm.weight', 'encoder.layer.6.intermediate.dense.weight', 'encoder.layer.9.output.dense.weight', 'encoder.layer.16.attention.output.dense.bias', 'encoder.layer.3.attention.self.value.bias', 'encoder.layer.6.output.dense.bias', 'encoder.layer.17.output.LayerNorm.bias', 'encoder.layer.23.intermediate.dense.weight', 'encoder.layer.3.attention.self.key.bias', 'encoder.layer.8.intermediate.dense.weight', 'encoder.layer.2.output.LayerNorm.bias', 'encoder.layer.19.attention.self.key.weight', 'encoder.layer.18.intermediate.dense.bias', 'encoder.layer.4.output.LayerNorm.bias', 'encoder.layer.19.attention.output.dense.weight', 'encoder.layer.13.intermediate.dense.weight', 'encoder.layer.1.attention.output.dense.weight', 'encoder.layer.11.output.dense.bias', 'encoder.layer.1.attention.output.LayerNorm.bias', 'encoder.layer.6.intermediate.dense.bias', 'encoder.layer.18.attention.output.LayerNorm.bias', 'encoder.layer.15.attention.output.dense.bias', 'encoder.layer.12.intermediate.dense.weight', 'encoder.layer.13.output.dense.weight', 'encoder.layer.19.attention.output.LayerNorm.bias', 'encoder.layer.0.attention.self.query.weight', 'encoder.layer.1.output.dense.weight', 'encoder.layer.22.attention.self.value.weight', 'encoder.layer.0.output.dense.bias', 'encoder.layer.18.attention.self.query.weight', 'encoder.layer.21.attention.output.LayerNorm.bias', 'encoder.layer.23.attention.self.query.bias', 'encoder.layer.12.output.dense.weight', 'encoder.layer.8.attention.output.dense.weight', 'encoder.layer.4.attention.output.dense.bias', 'encoder.layer.15.intermediate.dense.bias', 'encoder.layer.11.attention.self.key.weight', 'encoder.layer.0.attention.self.value.weight', 'encoder.layer.4.attention.self.value.bias', 'encoder.layer.16.intermediate.dense.weight', 'encoder.layer.22.attention.self.query.bias', 'encoder.layer.22.attention.output.LayerNorm.weight', 'encoder.layer.15.output.dense.bias', 'encoder.layer.8.attention.self.key.weight', 'embeddings.word_embeddings.weight', 'encoder.layer.14.attention.output.LayerNorm.weight', 'encoder.layer.7.attention.self.key.bias', 'encoder.layer.21.attention.output.dense.weight', 'encoder.layer.20.output.dense.weight', 'encoder.layer.18.intermediate.dense.weight', 'encoder.layer.8.intermediate.dense.bias', 'encoder.layer.22.attention.self.key.weight', 'encoder.layer.4.attention.self.value.weight', 'encoder.layer.16.attention.self.key.weight', 'encoder.layer.22.attention.self.key.bias', 'encoder.layer.7.intermediate.dense.weight', 'encoder.layer.14.output.dense.weight', 'encoder.layer.10.attention.self.key.bias', 'encoder.layer.20.attention.self.key.bias', 'encoder.layer.20.intermediate.dense.weight', 'encoder.layer.23.attention.output.dense.weight', 'encoder.layer.13.attention.self.query.bias', 'encoder.layer.3.attention.self.query.bias', 'encoder.layer.4.intermediate.dense.bias', 'encoder.layer.10.attention.output.LayerNorm.weight', 'encoder.layer.14.attention.self.query.weight', 'encoder.layer.10.intermediate.dense.weight', 'encoder.layer.11.output.dense.weight', 'encoder.layer.16.output.dense.weight', 'encoder.layer.21.attention.self.query.weight', 'encoder.layer.21.attention.self.query.bias', 'encoder.layer.11.attention.output.LayerNorm.bias', 'encoder.layer.9.attention.output.dense.bias', 'encoder.layer.11.attention.output.LayerNorm.weight', 'encoder.layer.5.attention.self.key.weight', 'encoder.layer.0.attention.self.key.weight', 'encoder.layer.9.intermediate.dense.weight', 'encoder.layer.6.attention.self.key.weight', 'encoder.layer.19.output.dense.bias', 'encoder.layer.2.attention.output.dense.weight', 'encoder.layer.2.attention.output.dense.bias', 'encoder.layer.2.attention.output.LayerNorm.bias', 'encoder.layer.20.attention.self.query.weight', 'encoder.layer.0.attention.output.dense.weight', 'encoder.layer.12.attention.output.dense.weight', 'encoder.layer.2.attention.self.query.weight', 'encoder.layer.12.attention.self.key.weight', 'encoder.layer.18.attention.output.LayerNorm.weight', 'encoder.layer.21.attention.output.LayerNorm.weight', 'encoder.layer.13.intermediate.dense.bias', 'encoder.layer.5.output.dense.bias', 'encoder.layer.21.intermediate.dense.weight', 'encoder.layer.20.output.dense.bias', 'encoder.layer.0.attention.self.query.bias', 'encoder.layer.20.attention.output.dense.weight', 'encoder.layer.6.output.dense.weight', 'encoder.layer.7.output.LayerNorm.weight', 'encoder.layer.19.intermediate.dense.bias', 'encoder.layer.8.output.dense.bias', 'encoder.layer.6.attention.self.query.bias', 'encoder.layer.10.output.LayerNorm.bias']\n",
            "You should probably TRAIN this model on a down-stream task to be able to use it for predictions and inference.\n",
            "Some weights of the model checkpoint at bert-base-uncased were not used when initializing BertModel: ['cls.seq_relationship.weight', 'cls.predictions.decoder.weight', 'cls.seq_relationship.bias', 'cls.predictions.transform.LayerNorm.bias', 'cls.predictions.transform.LayerNorm.weight', 'cls.predictions.bias', 'cls.predictions.transform.dense.weight', 'cls.predictions.transform.dense.bias']\n",
            "- This IS expected if you are initializing BertModel from the checkpoint of a model trained on another task or with another architecture (e.g. initializing a BertForSequenceClassification model from a BertForPreTraining model).\n",
            "- This IS NOT expected if you are initializing BertModel from the checkpoint of a model that you expect to be exactly identical (initializing a BertForSequenceClassification model from a BertForSequenceClassification model).\n"
          ]
        }
      ]
    },
    {
      "cell_type": "code",
      "source": [
        "from transformers import AutoTokenizer, BertModel"
      ],
      "metadata": {
        "id": "erdC2pxjy04k"
      },
      "execution_count": null,
      "outputs": []
    },
    {
      "cell_type": "code",
      "source": [
        "def make_embedding(df, model):\n",
        "\n",
        "  X_stack = []\n",
        "\n",
        "  model_name, tokenizer, model = model\n",
        "  embedded = {}\n",
        "  num_idxs = df.shape[0]\n",
        "  for idx in tqdm(range(0,num_idxs)):\n",
        "    single_poem_input = df['Text'][idx]\n",
        "    inputs = tokenizer.batch_encode_plus([single_poem_input], max_length = 512, padding=\"longest\", add_special_tokens=True, return_tensors=\"pt\",)\n",
        "    single_poem_output = model(**inputs)\n",
        "    X_single_poem = single_poem_output[0][:,0,:].detach().numpy()\n",
        "    X_stack.append(X_single_poem[0])\n",
        "\n",
        "    embedded[idx] = X_single_poem[0], df['Label'][idx]\n",
        "\n",
        "  df_embedded = pd.DataFrame.from_dict(embedded,  orient='index', columns=['{}_embedding'.format(model_name), 'label'])\n",
        "\n",
        "  return df_embedded"
      ],
      "metadata": {
        "id": "A1wEen-Znwye"
      },
      "execution_count": null,
      "outputs": []
    },
    {
      "cell_type": "code",
      "source": [
        "df_light = df_women"
      ],
      "metadata": {
        "id": "dMgeXGCWtCrm"
      },
      "execution_count": null,
      "outputs": []
    },
    {
      "cell_type": "code",
      "source": [
        "embedded = make_embedding(df_light, herbert)"
      ],
      "metadata": {
        "colab": {
          "base_uri": "https://localhost:8080/"
        },
        "id": "uqcDjxtydX78",
        "outputId": "c9b402f1-5d8e-4ecc-9ab6-fd63ad191e12"
      },
      "execution_count": null,
      "outputs": [
        {
          "output_type": "stream",
          "name": "stderr",
          "text": [
            "100%|██████████| 200/200 [00:34<00:00,  5.85it/s]\n"
          ]
        }
      ]
    },
    {
      "cell_type": "code",
      "source": [
        "df_light['Text'][8]"
      ],
      "metadata": {
        "colab": {
          "base_uri": "https://localhost:8080/",
          "height": 123
        },
        "id": "WdxUS-yC7xK8",
        "outputId": "6927a8e8-12dd-46ee-da2d-a053383b597b"
      },
      "execution_count": null,
      "outputs": [
        {
          "output_type": "execute_result",
          "data": {
            "text/plain": [
              "'Jaś z jarmarku przywiózł figę. Józio dwie figi — dla intrygi. Adaś z traw uplótł pierścioneczek, w ciągu dalekich w las wycieczek. Ten przyniósł bukiet z ostromleczów — (bo jest pogodny — lubi żarty —) — tamten — w prezencie — (jakby przeczuł, że się ucieszę): stare karty. — Zepsuty kompas — — nudną powieść — którą mnie czytać nikt nie zmusi, i granat znaleziony w rowie, który wybuchnąć kiedyś musi. W skrzynce cedrowej chowam dary moich kochanków, tych trzech króli… — pierścionek z trawy — — kompas stary, — granat podobny srebrnej kuli… Wreszcie za żonę wziął mnie Zbyszek. (Wmawiano w niego: ty idioto!) A ten — o dziwy, co za zbytek! obrączkę dał mi szczerozłotą. Nie bez wzdychania, wzdychał bowiem, sam jeździł po nią swą Minerwą, — jak się targował! — wreszcie z werwą rzekł: «Drogo, ale nic nie powiem!» (Bo już od wieków i Wierzynków, sarmacka szlachta gardzi złotem, a ceni miedź! i stal uczynków! złoto do złota idź z powrotem.) Na tym się wprawdzie i skończyło z podarunkami już na amen. Choć, by nie skłamać — coś tam było… — ach tak! Gazeta i atrament. Lecz na obrączkę patrzę z pychą — że nie jest dęta, wiem dokładnie. Niejeden patrząc na nią wzdycha… jeszcze mnie kiedyś zbój napadnie! Gdy mi potrzeba płaszcza, sukni, gdy mam trzewiczki jak rzeszoto, Zbych mówi: „W czółko ty się puknij! a kto obrączkę dostał złotą?” — Ha! znikli Jasio, Józio, Adaś, poodprawiani w świat kolejno — Zbigniew już o rozwodzie'"
            ],
            "application/vnd.google.colaboratory.intrinsic+json": {
              "type": "string"
            }
          },
          "metadata": {},
          "execution_count": 217
        }
      ]
    },
    {
      "cell_type": "code",
      "source": [
        "embedded_bert = make_embedding(df_light, bert)"
      ],
      "metadata": {
        "id": "Bau_gQZj6f-y"
      },
      "execution_count": null,
      "outputs": []
    },
    {
      "cell_type": "code",
      "source": [
        "embedded"
      ],
      "metadata": {
        "colab": {
          "base_uri": "https://localhost:8080/",
          "height": 411
        },
        "id": "Nu3aq6v-stfp",
        "outputId": "0fcaa747-7b28-4af4-801e-c3fde3b4f54b"
      },
      "execution_count": null,
      "outputs": [
        {
          "output_type": "execute_result",
          "data": {
            "text/plain": [
              "                                     Herbert_embedding  label\n",
              "0    [0.89399993, -0.2852554, 1.2329097, 2.262266, ...      6\n",
              "1    [0.6954153, -0.4211708, 1.4730368, 2.2048836, ...      5\n",
              "2    [0.6737245, -0.46535006, 1.3316852, 2.223329, ...      4\n",
              "3    [0.664843, -0.515572, 1.3359684, 2.055219, 0.1...      4\n",
              "4    [0.66640323, -0.54636365, 1.3193268, 2.1869056...      6\n",
              "..                                                 ...    ...\n",
              "195  [0.62609434, -0.57244605, 1.3011361, 2.117001,...      4\n",
              "196  [0.5622949, -0.47818857, 1.1856289, 1.8680024,...      7\n",
              "197  [0.6926743, -0.55398434, 1.2953496, 2.1067302,...      7\n",
              "198  [0.67652816, -0.62237394, 1.1974002, 2.134405,...      4\n",
              "199  [0.63051325, -0.4556318, 1.3875865, 2.1794012,...      4\n",
              "\n",
              "[200 rows x 2 columns]"
            ],
            "text/html": [
              "\n",
              "  <div id=\"df-f40c865e-75b5-49f4-b6f8-9506449b5fe0\">\n",
              "    <div class=\"colab-df-container\">\n",
              "      <div>\n",
              "<style scoped>\n",
              "    .dataframe tbody tr th:only-of-type {\n",
              "        vertical-align: middle;\n",
              "    }\n",
              "\n",
              "    .dataframe tbody tr th {\n",
              "        vertical-align: top;\n",
              "    }\n",
              "\n",
              "    .dataframe thead th {\n",
              "        text-align: right;\n",
              "    }\n",
              "</style>\n",
              "<table border=\"1\" class=\"dataframe\">\n",
              "  <thead>\n",
              "    <tr style=\"text-align: right;\">\n",
              "      <th></th>\n",
              "      <th>Herbert_embedding</th>\n",
              "      <th>label</th>\n",
              "    </tr>\n",
              "  </thead>\n",
              "  <tbody>\n",
              "    <tr>\n",
              "      <th>0</th>\n",
              "      <td>[0.89399993, -0.2852554, 1.2329097, 2.262266, ...</td>\n",
              "      <td>6</td>\n",
              "    </tr>\n",
              "    <tr>\n",
              "      <th>1</th>\n",
              "      <td>[0.6954153, -0.4211708, 1.4730368, 2.2048836, ...</td>\n",
              "      <td>5</td>\n",
              "    </tr>\n",
              "    <tr>\n",
              "      <th>2</th>\n",
              "      <td>[0.6737245, -0.46535006, 1.3316852, 2.223329, ...</td>\n",
              "      <td>4</td>\n",
              "    </tr>\n",
              "    <tr>\n",
              "      <th>3</th>\n",
              "      <td>[0.664843, -0.515572, 1.3359684, 2.055219, 0.1...</td>\n",
              "      <td>4</td>\n",
              "    </tr>\n",
              "    <tr>\n",
              "      <th>4</th>\n",
              "      <td>[0.66640323, -0.54636365, 1.3193268, 2.1869056...</td>\n",
              "      <td>6</td>\n",
              "    </tr>\n",
              "    <tr>\n",
              "      <th>...</th>\n",
              "      <td>...</td>\n",
              "      <td>...</td>\n",
              "    </tr>\n",
              "    <tr>\n",
              "      <th>195</th>\n",
              "      <td>[0.62609434, -0.57244605, 1.3011361, 2.117001,...</td>\n",
              "      <td>4</td>\n",
              "    </tr>\n",
              "    <tr>\n",
              "      <th>196</th>\n",
              "      <td>[0.5622949, -0.47818857, 1.1856289, 1.8680024,...</td>\n",
              "      <td>7</td>\n",
              "    </tr>\n",
              "    <tr>\n",
              "      <th>197</th>\n",
              "      <td>[0.6926743, -0.55398434, 1.2953496, 2.1067302,...</td>\n",
              "      <td>7</td>\n",
              "    </tr>\n",
              "    <tr>\n",
              "      <th>198</th>\n",
              "      <td>[0.67652816, -0.62237394, 1.1974002, 2.134405,...</td>\n",
              "      <td>4</td>\n",
              "    </tr>\n",
              "    <tr>\n",
              "      <th>199</th>\n",
              "      <td>[0.63051325, -0.4556318, 1.3875865, 2.1794012,...</td>\n",
              "      <td>4</td>\n",
              "    </tr>\n",
              "  </tbody>\n",
              "</table>\n",
              "<p>200 rows × 2 columns</p>\n",
              "</div>\n",
              "      <button class=\"colab-df-convert\" onclick=\"convertToInteractive('df-f40c865e-75b5-49f4-b6f8-9506449b5fe0')\"\n",
              "              title=\"Convert this dataframe to an interactive table.\"\n",
              "              style=\"display:none;\">\n",
              "        \n",
              "  <svg xmlns=\"http://www.w3.org/2000/svg\" height=\"24px\"viewBox=\"0 0 24 24\"\n",
              "       width=\"24px\">\n",
              "    <path d=\"M0 0h24v24H0V0z\" fill=\"none\"/>\n",
              "    <path d=\"M18.56 5.44l.94 2.06.94-2.06 2.06-.94-2.06-.94-.94-2.06-.94 2.06-2.06.94zm-11 1L8.5 8.5l.94-2.06 2.06-.94-2.06-.94L8.5 2.5l-.94 2.06-2.06.94zm10 10l.94 2.06.94-2.06 2.06-.94-2.06-.94-.94-2.06-.94 2.06-2.06.94z\"/><path d=\"M17.41 7.96l-1.37-1.37c-.4-.4-.92-.59-1.43-.59-.52 0-1.04.2-1.43.59L10.3 9.45l-7.72 7.72c-.78.78-.78 2.05 0 2.83L4 21.41c.39.39.9.59 1.41.59.51 0 1.02-.2 1.41-.59l7.78-7.78 2.81-2.81c.8-.78.8-2.07 0-2.86zM5.41 20L4 18.59l7.72-7.72 1.47 1.35L5.41 20z\"/>\n",
              "  </svg>\n",
              "      </button>\n",
              "      \n",
              "  <style>\n",
              "    .colab-df-container {\n",
              "      display:flex;\n",
              "      flex-wrap:wrap;\n",
              "      gap: 12px;\n",
              "    }\n",
              "\n",
              "    .colab-df-convert {\n",
              "      background-color: #E8F0FE;\n",
              "      border: none;\n",
              "      border-radius: 50%;\n",
              "      cursor: pointer;\n",
              "      display: none;\n",
              "      fill: #1967D2;\n",
              "      height: 32px;\n",
              "      padding: 0 0 0 0;\n",
              "      width: 32px;\n",
              "    }\n",
              "\n",
              "    .colab-df-convert:hover {\n",
              "      background-color: #E2EBFA;\n",
              "      box-shadow: 0px 1px 2px rgba(60, 64, 67, 0.3), 0px 1px 3px 1px rgba(60, 64, 67, 0.15);\n",
              "      fill: #174EA6;\n",
              "    }\n",
              "\n",
              "    [theme=dark] .colab-df-convert {\n",
              "      background-color: #3B4455;\n",
              "      fill: #D2E3FC;\n",
              "    }\n",
              "\n",
              "    [theme=dark] .colab-df-convert:hover {\n",
              "      background-color: #434B5C;\n",
              "      box-shadow: 0px 1px 3px 1px rgba(0, 0, 0, 0.15);\n",
              "      filter: drop-shadow(0px 1px 2px rgba(0, 0, 0, 0.3));\n",
              "      fill: #FFFFFF;\n",
              "    }\n",
              "  </style>\n",
              "\n",
              "      <script>\n",
              "        const buttonEl =\n",
              "          document.querySelector('#df-f40c865e-75b5-49f4-b6f8-9506449b5fe0 button.colab-df-convert');\n",
              "        buttonEl.style.display =\n",
              "          google.colab.kernel.accessAllowed ? 'block' : 'none';\n",
              "\n",
              "        async function convertToInteractive(key) {\n",
              "          const element = document.querySelector('#df-f40c865e-75b5-49f4-b6f8-9506449b5fe0');\n",
              "          const dataTable =\n",
              "            await google.colab.kernel.invokeFunction('convertToInteractive',\n",
              "                                                     [key], {});\n",
              "          if (!dataTable) return;\n",
              "\n",
              "          const docLinkHtml = 'Like what you see? Visit the ' +\n",
              "            '<a target=\"_blank\" href=https://colab.research.google.com/notebooks/data_table.ipynb>data table notebook</a>'\n",
              "            + ' to learn more about interactive tables.';\n",
              "          element.innerHTML = '';\n",
              "          dataTable['output_type'] = 'display_data';\n",
              "          await google.colab.output.renderOutput(dataTable, element);\n",
              "          const docLink = document.createElement('div');\n",
              "          docLink.innerHTML = docLinkHtml;\n",
              "          element.appendChild(docLink);\n",
              "        }\n",
              "      </script>\n",
              "    </div>\n",
              "  </div>\n",
              "  "
            ]
          },
          "metadata": {},
          "execution_count": 199
        }
      ]
    },
    {
      "cell_type": "code",
      "source": [
        "X_stack = []\n",
        "    num_idxs = df.shape[0]\n",
        "    for idx in tqdm(range(0,num_idxs)):\n",
        "      single_poem_input = df['Text'][idx]\n",
        "      inputs = tokenizer.batch_encode_plus([single_poem_input], padding=\"longest\", add_special_tokens=True, return_tensors=\"pt\",)\n",
        "      single_poem_output = model(**inputs)\n",
        "      X_single_poem = single_poem_output[0][:,0,:].detach().numpy()\n",
        "      X_stack.append(X_single_poem[0])"
      ],
      "metadata": {
        "id": "slIHSwJ9YGrW"
      },
      "execution_count": null,
      "outputs": []
    },
    {
      "cell_type": "code",
      "source": [
        "X = np.stack(embedded['Herbert_embedding'])\n",
        "#y = df_light['Label']\n",
        "\n",
        "#jeśli jest mniej niż 8 klas:\n",
        "y = df_light['Label'].factorize()[0]\n",
        "print(X.shape)\n"
      ],
      "metadata": {
        "colab": {
          "base_uri": "https://localhost:8080/"
        },
        "id": "6jI7yzhNr1sm",
        "outputId": "afa5b6dd-d5a7-458f-dd16-26a5575622fb"
      },
      "execution_count": null,
      "outputs": [
        {
          "output_type": "stream",
          "name": "stdout",
          "text": [
            "(200, 1024)\n"
          ]
        }
      ]
    },
    {
      "cell_type": "code",
      "source": [
        "X[0]"
      ],
      "metadata": {
        "colab": {
          "base_uri": "https://localhost:8080/"
        },
        "id": "mJLB2oKBt41f",
        "outputId": "e2d984c6-efe0-4a1e-fbba-ab4a559b5734"
      },
      "execution_count": null,
      "outputs": [
        {
          "output_type": "execute_result",
          "data": {
            "text/plain": [
              "array([ 0.89399993, -0.2852554 ,  1.2329097 , ...,  0.20117314,\n",
              "        0.86354864, -0.24321513], dtype=float32)"
            ]
          },
          "metadata": {},
          "execution_count": 166
        }
      ]
    },
    {
      "cell_type": "code",
      "source": [
        "X_normalized = np.zeros(X.shape)\n",
        "for idx in range(0, X.shape[0]):\n",
        "  x = X[idx,:]\n",
        "  X_normalized[idx,:] = (x - np.mean(x)) / np.std(x)"
      ],
      "metadata": {
        "id": "mmekpAmLDi86"
      },
      "execution_count": null,
      "outputs": []
    },
    {
      "cell_type": "code",
      "source": [
        "pca = PCA(n_components=2)\n",
        "X_r = pca.fit_transform(X)\n",
        "\n",
        "plt.figure()\n",
        "#colors = [\"0\", \"1\", \"2\", \"3\", \"4\", \"5\", \"6\", \"7\"]\n",
        "colors = [\"navy\", \"turquoise\", \"darkorange\", 'red', 'yellow', 'orange', 'magenta', 'blue']\n",
        "lw = 2\n",
        "target_names = [0, 1, 2, 3, 4, 5, 6, 7]\n",
        "\n",
        "for color, i, target_name in zip(colors, [0, 1, 2, 3, 4, 5, 6, 7], target_names):\n",
        "    plt.scatter(\n",
        "        X_r[y == i, 0], X_r[y == i, 1], color=color, alpha=0.8, lw=lw, label=target_name\n",
        "    )\n",
        "plt.legend(loc=\"best\", shadow=False, scatterpoints=1)\n",
        "plt.title(\"PCA of Poems dataset\")"
      ],
      "metadata": {
        "colab": {
          "base_uri": "https://localhost:8080/",
          "height": 468
        },
        "id": "pDJrjV1hTSmc",
        "outputId": "f8df1004-4563-4912-d63a-9867f0d38528"
      },
      "execution_count": null,
      "outputs": [
        {
          "output_type": "execute_result",
          "data": {
            "text/plain": [
              "Text(0.5, 1.0, 'PCA of Poems dataset')"
            ]
          },
          "metadata": {},
          "execution_count": 142
        },
        {
          "output_type": "display_data",
          "data": {
            "text/plain": [
              "<Figure size 640x480 with 1 Axes>"
            ],
            "image/png": "[encoded data removed]"
          },
          "metadata": {}
        }
      ]
    },
    {
      "cell_type": "code",
      "source": [
        "df_tsne = pd.DataFrame()\n",
        "df_tsne[\"y\"] = df_light['Autor']\n",
        "\n",
        "perps = [5, 10, 15, 20, 25, 30, 35, 40]\n",
        "\n",
        "for perp in perps:\n",
        "\n",
        "  plt.figure(figsize = (10,10))\n",
        "  z = TSNE(n_components=2, learning_rate='auto', init='pca', perplexity=perp).fit_transform(X, y)\n",
        "\n",
        "  df_tsne[\"comp-1{}\".format(perp)] = z[:,0]\n",
        "  df_tsne[\"comp-2{}\".format(perp)] = z[:,1]\n",
        "\n",
        "  sns.scatterplot(x=\"comp-1{}\".format(perp), y=\"comp-2{}\".format(perp), hue=df_tsne.y.tolist(),\n",
        "                palette=sns.color_palette(\"Set2\", 4),\n",
        "                data=df_tsne, s=100).set(title=\"Poems data t-SNE projection | perplexity: {}\".format(perp))\n",
        "\n"
      ],
      "metadata": {
        "id": "9LISgULZWKLk"
      },
      "execution_count": null,
      "outputs": []
    },
    {
      "cell_type": "code",
      "source": [
        "df_tsne\n"
      ],
      "metadata": {
        "colab": {
          "base_uri": "https://localhost:8080/",
          "height": 492
        },
        "id": "PXHLWVNzgegB",
        "outputId": "88a97aba-b98d-442f-dd93-bcfc6838746f"
      },
      "execution_count": null,
      "outputs": [
        {
          "output_type": "execute_result",
          "data": {
            "text/plain": [
              "     y    comp-15    comp-25   comp-110   comp-210   comp-115  comp-215  \\\n",
              "0    7  41.606277   0.290051  27.772623  -8.223926 -10.538333 -9.713636   \n",
              "1    2  -3.470707 -27.208366 -19.949039   3.280273  16.369085 -4.704470   \n",
              "2    3   8.038198  -2.456364  -3.999078 -14.215513  -6.245975 -1.867928   \n",
              "3    2 -22.123758  10.799695 -15.066751   6.462897   6.769877  8.037064   \n",
              "4    4  -4.767189  15.096381  -3.758413  -4.990580   0.667572  3.496280   \n",
              "..  ..        ...        ...        ...        ...        ...       ...   \n",
              "395  0 -22.151808   2.667478  -8.135688  15.833131   6.928785  5.024508   \n",
              "396  1 -36.649078   7.763465 -16.036087  13.140695  14.516376  6.287373   \n",
              "397  4  -4.129408 -16.541330   9.114930  14.608679   8.278451 -9.990342   \n",
              "398  5  32.123978 -27.351805  25.875366 -19.957558 -22.940170 -5.337823   \n",
              "399  0 -41.022907   3.079011 -11.640533  15.035732  10.302955  9.354695   \n",
              "\n",
              "      comp-120   comp-220   comp-125   comp-225  comp-130   comp-230  \\\n",
              "0    -8.720895  -6.500459  -6.605505   7.989352  5.114269  -7.095960   \n",
              "1    -2.758612   4.513546   7.993317   1.561222 -7.799418   2.446577   \n",
              "2    -0.760515  -6.173198   0.153895   4.038137  4.635808  -1.184904   \n",
              "3     9.201137   1.312530   7.553075  -2.254946 -6.467607   4.003677   \n",
              "4    -5.897579  -4.018786  -7.541899   0.325408  1.115328  -3.320661   \n",
              "..         ...        ...        ...        ...       ...        ...   \n",
              "395   4.999339   5.252172   2.994550  -5.624554 -1.882897   3.580200   \n",
              "396   8.833744   5.853962   7.027433  -4.702816 -4.223432   5.644330   \n",
              "397  -3.954268   8.052116   4.839083   1.716102 -6.574735  -0.867964   \n",
              "398 -15.966838 -13.653769 -12.690042  11.114897  6.310147 -11.660033   \n",
              "399   7.108927   7.722440   3.326597  -7.983652 -1.634972   5.369413   \n",
              "\n",
              "      comp-135  comp-235  comp-140  comp-240  \n",
              "0    -5.995740  4.468844 -3.841214 -1.995270  \n",
              "1     1.660388 -6.067751 -0.791563  5.249575  \n",
              "2    -1.747301 -0.726658  2.127193 -2.596311  \n",
              "3     4.842926 -4.727655  0.470234  5.363458  \n",
              "4    -3.164736  0.984963  0.007205 -4.520576  \n",
              "..         ...       ...       ...       ...  \n",
              "395   3.845778 -0.529476  1.184695  2.830484  \n",
              "396   5.393829 -2.776178  2.239283  4.671076  \n",
              "397   0.796384 -4.725613 -2.568286  3.206907  \n",
              "398 -10.948814 -1.907576 -6.587263 -5.458401  \n",
              "399   5.176520  0.033022  3.455291  3.090654  \n",
              "\n",
              "[400 rows x 17 columns]"
            ],
            "text/html": [
              "\n",
              "  <div id=\"df-6e6632ea-7e27-49bd-8adb-f6b6d7dc5e62\">\n",
              "    <div class=\"colab-df-container\">\n",
              "      <div>\n",
              "<style scoped>\n",
              "    .dataframe tbody tr th:only-of-type {\n",
              "        vertical-align: middle;\n",
              "    }\n",
              "\n",
              "    .dataframe tbody tr th {\n",
              "        vertical-align: top;\n",
              "    }\n",
              "\n",
              "    .dataframe thead th {\n",
              "        text-align: right;\n",
              "    }\n",
              "</style>\n",
              "<table border=\"1\" class=\"dataframe\">\n",
              "  <thead>\n",
              "    <tr style=\"text-align: right;\">\n",
              "      <th></th>\n",
              "      <th>y</th>\n",
              "      <th>comp-15</th>\n",
              "      <th>comp-25</th>\n",
              "      <th>comp-110</th>\n",
              "      <th>comp-210</th>\n",
              "      <th>comp-115</th>\n",
              "      <th>comp-215</th>\n",
              "      <th>comp-120</th>\n",
              "      <th>comp-220</th>\n",
              "      <th>comp-125</th>\n",
              "      <th>comp-225</th>\n",
              "      <th>comp-130</th>\n",
              "      <th>comp-230</th>\n",
              "      <th>comp-135</th>\n",
              "      <th>comp-235</th>\n",
              "      <th>comp-140</th>\n",
              "      <th>comp-240</th>\n",
              "    </tr>\n",
              "  </thead>\n",
              "  <tbody>\n",
              "    <tr>\n",
              "      <th>0</th>\n",
              "      <td>7</td>\n",
              "      <td>41.606277</td>\n",
              "      <td>0.290051</td>\n",
              "      <td>27.772623</td>\n",
              "      <td>-8.223926</td>\n",
              "      <td>-10.538333</td>\n",
              "      <td>-9.713636</td>\n",
              "      <td>-8.720895</td>\n",
              "      <td>-6.500459</td>\n",
              "      <td>-6.605505</td>\n",
              "      <td>7.989352</td>\n",
              "      <td>5.114269</td>\n",
              "      <td>-7.095960</td>\n",
              "      <td>-5.995740</td>\n",
              "      <td>4.468844</td>\n",
              "      <td>-3.841214</td>\n",
              "      <td>-1.995270</td>\n",
              "    </tr>\n",
              "    <tr>\n",
              "      <th>1</th>\n",
              "      <td>2</td>\n",
              "      <td>-3.470707</td>\n",
              "      <td>-27.208366</td>\n",
              "      <td>-19.949039</td>\n",
              "      <td>3.280273</td>\n",
              "      <td>16.369085</td>\n",
              "      <td>-4.704470</td>\n",
              "      <td>-2.758612</td>\n",
              "      <td>4.513546</td>\n",
              "      <td>7.993317</td>\n",
              "      <td>1.561222</td>\n",
              "      <td>-7.799418</td>\n",
              "      <td>2.446577</td>\n",
              "      <td>1.660388</td>\n",
              "      <td>-6.067751</td>\n",
              "      <td>-0.791563</td>\n",
              "      <td>5.249575</td>\n",
              "    </tr>\n",
              "    <tr>\n",
              "      <th>2</th>\n",
              "      <td>3</td>\n",
              "      <td>8.038198</td>\n",
              "      <td>-2.456364</td>\n",
              "      <td>-3.999078</td>\n",
              "      <td>-14.215513</td>\n",
              "      <td>-6.245975</td>\n",
              "      <td>-1.867928</td>\n",
              "      <td>-0.760515</td>\n",
              "      <td>-6.173198</td>\n",
              "      <td>0.153895</td>\n",
              "      <td>4.038137</td>\n",
              "      <td>4.635808</td>\n",
              "      <td>-1.184904</td>\n",
              "      <td>-1.747301</td>\n",
              "      <td>-0.726658</td>\n",
              "      <td>2.127193</td>\n",
              "      <td>-2.596311</td>\n",
              "    </tr>\n",
              "    <tr>\n",
              "      <th>3</th>\n",
              "      <td>2</td>\n",
              "      <td>-22.123758</td>\n",
              "      <td>10.799695</td>\n",
              "      <td>-15.066751</td>\n",
              "      <td>6.462897</td>\n",
              "      <td>6.769877</td>\n",
              "      <td>8.037064</td>\n",
              "      <td>9.201137</td>\n",
              "      <td>1.312530</td>\n",
              "      <td>7.553075</td>\n",
              "      <td>-2.254946</td>\n",
              "      <td>-6.467607</td>\n",
              "      <td>4.003677</td>\n",
              "      <td>4.842926</td>\n",
              "      <td>-4.727655</td>\n",
              "      <td>0.470234</td>\n",
              "      <td>5.363458</td>\n",
              "    </tr>\n",
              "    <tr>\n",
              "      <th>4</th>\n",
              "      <td>4</td>\n",
              "      <td>-4.767189</td>\n",
              "      <td>15.096381</td>\n",
              "      <td>-3.758413</td>\n",
              "      <td>-4.990580</td>\n",
              "      <td>0.667572</td>\n",
              "      <td>3.496280</td>\n",
              "      <td>-5.897579</td>\n",
              "      <td>-4.018786</td>\n",
              "      <td>-7.541899</td>\n",
              "      <td>0.325408</td>\n",
              "      <td>1.115328</td>\n",
              "      <td>-3.320661</td>\n",
              "      <td>-3.164736</td>\n",
              "      <td>0.984963</td>\n",
              "      <td>0.007205</td>\n",
              "      <td>-4.520576</td>\n",
              "    </tr>\n",
              "    <tr>\n",
              "      <th>...</th>\n",
              "      <td>...</td>\n",
              "      <td>...</td>\n",
              "      <td>...</td>\n",
              "      <td>...</td>\n",
              "      <td>...</td>\n",
              "      <td>...</td>\n",
              "      <td>...</td>\n",
              "      <td>...</td>\n",
              "      <td>...</td>\n",
              "      <td>...</td>\n",
              "      <td>...</td>\n",
              "      <td>...</td>\n",
              "      <td>...</td>\n",
              "      <td>...</td>\n",
              "      <td>...</td>\n",
              "      <td>...</td>\n",
              "      <td>...</td>\n",
              "    </tr>\n",
              "    <tr>\n",
              "      <th>395</th>\n",
              "      <td>0</td>\n",
              "      <td>-22.151808</td>\n",
              "      <td>2.667478</td>\n",
              "      <td>-8.135688</td>\n",
              "      <td>15.833131</td>\n",
              "      <td>6.928785</td>\n",
              "      <td>5.024508</td>\n",
              "      <td>4.999339</td>\n",
              "      <td>5.252172</td>\n",
              "      <td>2.994550</td>\n",
              "      <td>-5.624554</td>\n",
              "      <td>-1.882897</td>\n",
              "      <td>3.580200</td>\n",
              "      <td>3.845778</td>\n",
              "      <td>-0.529476</td>\n",
              "      <td>1.184695</td>\n",
              "      <td>2.830484</td>\n",
              "    </tr>\n",
              "    <tr>\n",
              "      <th>396</th>\n",
              "      <td>1</td>\n",
              "      <td>-36.649078</td>\n",
              "      <td>7.763465</td>\n",
              "      <td>-16.036087</td>\n",
              "      <td>13.140695</td>\n",
              "      <td>14.516376</td>\n",
              "      <td>6.287373</td>\n",
              "      <td>8.833744</td>\n",
              "      <td>5.853962</td>\n",
              "      <td>7.027433</td>\n",
              "      <td>-4.702816</td>\n",
              "      <td>-4.223432</td>\n",
              "      <td>5.644330</td>\n",
              "      <td>5.393829</td>\n",
              "      <td>-2.776178</td>\n",
              "      <td>2.239283</td>\n",
              "      <td>4.671076</td>\n",
              "    </tr>\n",
              "    <tr>\n",
              "      <th>397</th>\n",
              "      <td>4</td>\n",
              "      <td>-4.129408</td>\n",
              "      <td>-16.541330</td>\n",
              "      <td>9.114930</td>\n",
              "      <td>14.608679</td>\n",
              "      <td>8.278451</td>\n",
              "      <td>-9.990342</td>\n",
              "      <td>-3.954268</td>\n",
              "      <td>8.052116</td>\n",
              "      <td>4.839083</td>\n",
              "      <td>1.716102</td>\n",
              "      <td>-6.574735</td>\n",
              "      <td>-0.867964</td>\n",
              "      <td>0.796384</td>\n",
              "      <td>-4.725613</td>\n",
              "      <td>-2.568286</td>\n",
              "      <td>3.206907</td>\n",
              "    </tr>\n",
              "    <tr>\n",
              "      <th>398</th>\n",
              "      <td>5</td>\n",
              "      <td>32.123978</td>\n",
              "      <td>-27.351805</td>\n",
              "      <td>25.875366</td>\n",
              "      <td>-19.957558</td>\n",
              "      <td>-22.940170</td>\n",
              "      <td>-5.337823</td>\n",
              "      <td>-15.966838</td>\n",
              "      <td>-13.653769</td>\n",
              "      <td>-12.690042</td>\n",
              "      <td>11.114897</td>\n",
              "      <td>6.310147</td>\n",
              "      <td>-11.660033</td>\n",
              "      <td>-10.948814</td>\n",
              "      <td>-1.907576</td>\n",
              "      <td>-6.587263</td>\n",
              "      <td>-5.458401</td>\n",
              "    </tr>\n",
              "    <tr>\n",
              "      <th>399</th>\n",
              "      <td>0</td>\n",
              "      <td>-41.022907</td>\n",
              "      <td>3.079011</td>\n",
              "      <td>-11.640533</td>\n",
              "      <td>15.035732</td>\n",
              "      <td>10.302955</td>\n",
              "      <td>9.354695</td>\n",
              "      <td>7.108927</td>\n",
              "      <td>7.722440</td>\n",
              "      <td>3.326597</td>\n",
              "      <td>-7.983652</td>\n",
              "      <td>-1.634972</td>\n",
              "      <td>5.369413</td>\n",
              "      <td>5.176520</td>\n",
              "      <td>0.033022</td>\n",
              "      <td>3.455291</td>\n",
              "      <td>3.090654</td>\n",
              "    </tr>\n",
              "  </tbody>\n",
              "</table>\n",
              "<p>400 rows × 17 columns</p>\n",
              "</div>\n",
              "      <button class=\"colab-df-convert\" onclick=\"convertToInteractive('df-6e6632ea-7e27-49bd-8adb-f6b6d7dc5e62')\"\n",
              "              title=\"Convert this dataframe to an interactive table.\"\n",
              "              style=\"display:none;\">\n",
              "        \n",
              "  <svg xmlns=\"http://www.w3.org/2000/svg\" height=\"24px\"viewBox=\"0 0 24 24\"\n",
              "       width=\"24px\">\n",
              "    <path d=\"M0 0h24v24H0V0z\" fill=\"none\"/>\n",
              "    <path d=\"M18.56 5.44l.94 2.06.94-2.06 2.06-.94-2.06-.94-.94-2.06-.94 2.06-2.06.94zm-11 1L8.5 8.5l.94-2.06 2.06-.94-2.06-.94L8.5 2.5l-.94 2.06-2.06.94zm10 10l.94 2.06.94-2.06 2.06-.94-2.06-.94-.94-2.06-.94 2.06-2.06.94z\"/><path d=\"M17.41 7.96l-1.37-1.37c-.4-.4-.92-.59-1.43-.59-.52 0-1.04.2-1.43.59L10.3 9.45l-7.72 7.72c-.78.78-.78 2.05 0 2.83L4 21.41c.39.39.9.59 1.41.59.51 0 1.02-.2 1.41-.59l7.78-7.78 2.81-2.81c.8-.78.8-2.07 0-2.86zM5.41 20L4 18.59l7.72-7.72 1.47 1.35L5.41 20z\"/>\n",
              "  </svg>\n",
              "      </button>\n",
              "      \n",
              "  <style>\n",
              "    .colab-df-container {\n",
              "      display:flex;\n",
              "      flex-wrap:wrap;\n",
              "      gap: 12px;\n",
              "    }\n",
              "\n",
              "    .colab-df-convert {\n",
              "      background-color: #E8F0FE;\n",
              "      border: none;\n",
              "      border-radius: 50%;\n",
              "      cursor: pointer;\n",
              "      display: none;\n",
              "      fill: #1967D2;\n",
              "      height: 32px;\n",
              "      padding: 0 0 0 0;\n",
              "      width: 32px;\n",
              "    }\n",
              "\n",
              "    .colab-df-convert:hover {\n",
              "      background-color: #E2EBFA;\n",
              "      box-shadow: 0px 1px 2px rgba(60, 64, 67, 0.3), 0px 1px 3px 1px rgba(60, 64, 67, 0.15);\n",
              "      fill: #174EA6;\n",
              "    }\n",
              "\n",
              "    [theme=dark] .colab-df-convert {\n",
              "      background-color: #3B4455;\n",
              "      fill: #D2E3FC;\n",
              "    }\n",
              "\n",
              "    [theme=dark] .colab-df-convert:hover {\n",
              "      background-color: #434B5C;\n",
              "      box-shadow: 0px 1px 3px 1px rgba(0, 0, 0, 0.15);\n",
              "      filter: drop-shadow(0px 1px 2px rgba(0, 0, 0, 0.3));\n",
              "      fill: #FFFFFF;\n",
              "    }\n",
              "  </style>\n",
              "\n",
              "      <script>\n",
              "        const buttonEl =\n",
              "          document.querySelector('#df-6e6632ea-7e27-49bd-8adb-f6b6d7dc5e62 button.colab-df-convert');\n",
              "        buttonEl.style.display =\n",
              "          google.colab.kernel.accessAllowed ? 'block' : 'none';\n",
              "\n",
              "        async function convertToInteractive(key) {\n",
              "          const element = document.querySelector('#df-6e6632ea-7e27-49bd-8adb-f6b6d7dc5e62');\n",
              "          const dataTable =\n",
              "            await google.colab.kernel.invokeFunction('convertToInteractive',\n",
              "                                                     [key], {});\n",
              "          if (!dataTable) return;\n",
              "\n",
              "          const docLinkHtml = 'Like what you see? Visit the ' +\n",
              "            '<a target=\"_blank\" href=https://colab.research.google.com/notebooks/data_table.ipynb>data table notebook</a>'\n",
              "            + ' to learn more about interactive tables.';\n",
              "          element.innerHTML = '';\n",
              "          dataTable['output_type'] = 'display_data';\n",
              "          await google.colab.output.renderOutput(dataTable, element);\n",
              "          const docLink = document.createElement('div');\n",
              "          docLink.innerHTML = docLinkHtml;\n",
              "          element.appendChild(docLink);\n",
              "        }\n",
              "      </script>\n",
              "    </div>\n",
              "  </div>\n",
              "  "
            ]
          },
          "metadata": {},
          "execution_count": 170
        }
      ]
    },
    {
      "cell_type": "code",
      "source": [
        "def print_classes(df):\n",
        "  authors = {}\n",
        "  num_classes = len(df['Label'].unique())\n",
        "  for label in range(0, num_classes):\n",
        "    i, = np.where(y == label)\n",
        "    authors['{}'.format(df['Autor'][i[0]])] = label\n",
        "\n",
        "  return authors"
      ],
      "metadata": {
        "id": "aobyg7r5gURD"
      },
      "execution_count": null,
      "outputs": []
    },
    {
      "cell_type": "code",
      "source": [
        "classes = print_classes(df_light)"
      ],
      "metadata": {
        "id": "0iZ8Im7WDbYd"
      },
      "execution_count": null,
      "outputs": []
    },
    {
      "cell_type": "code",
      "source": [
        "classes"
      ],
      "metadata": {
        "colab": {
          "base_uri": "https://localhost:8080/"
        },
        "id": "Vkrr_WksEilh",
        "outputId": "f85be52c-e0ea-436e-dd24-4a5c9cc1f7c5"
      },
      "execution_count": null,
      "outputs": [
        {
          "output_type": "execute_result",
          "data": {
            "text/plain": [
              "{'Krzysztof Kamil Baczyński': 0,\n",
              " 'Adam Mickiewicz': 1,\n",
              " 'Jan Kochanowksi': 2,\n",
              " 'Czesław Miłosz': 3,\n",
              " 'Wisława Szymborska': 4,\n",
              " 'Halina Poświatowska': 5,\n",
              " 'Maria Pawlikowska-Jasnorzewska': 6,\n",
              " 'Ewa Lipska': 7}"
            ]
          },
          "metadata": {},
          "execution_count": 20
        }
      ]
    },
    {
      "cell_type": "code",
      "execution_count": null,
      "metadata": {
        "id": "SBOBLaVx0luZ"
      },
      "outputs": [],
      "source": [
        "X_train, X_test, y_train, y_test = train_test_split(X, y, test_size=0.2, random_state=42)"
      ]
    },
    {
      "cell_type": "code",
      "execution_count": null,
      "metadata": {
        "colab": {
          "base_uri": "https://localhost:8080/"
        },
        "id": "1M-mlF4L0oom",
        "outputId": "dffe1223-4971-4b20-893e-605d2b0bb62c"
      },
      "outputs": [
        {
          "output_type": "stream",
          "name": "stdout",
          "text": [
            "CPU times: user 75.8 ms, sys: 3 µs, total: 75.8 ms\n",
            "Wall time: 75.4 ms\n"
          ]
        }
      ],
      "source": [
        "model_clf = DecisionTreeClassifier(max_depth=20)\n",
        "%time scores = model_clf.fit(X_train, y_train)"
      ]
    },
    {
      "cell_type": "code",
      "source": [
        "model_name = \"decision_tree\"\n",
        "y_pred = model_clf.predict(X_test)\n",
        "num_classes = len(df_light['Label'].unique())\n",
        "score = accuracy_score(y_test, y_pred)\n",
        "cm = confusion_matrix(y_test, y_pred, normalize='true')\n",
        "disp = ConfusionMatrixDisplay(confusion_matrix=cm, display_labels=model_clf.classes_)\n",
        "disp.plot()\n",
        "disp.ax_.set_title(\"Model: {} | Classes: {} | Acc: {}\".format(model_name, num_classes, score))\n",
        "#plt.savefig('/content/figs/{}_{}_classes_vol2.png'.format(model_name, num_classes))"
      ],
      "metadata": {
        "colab": {
          "base_uri": "https://localhost:8080/",
          "height": 488
        },
        "id": "dT5uzLisuTHE",
        "outputId": "0551b049-639a-4828-fb39-3a5134792e12"
      },
      "execution_count": null,
      "outputs": [
        {
          "output_type": "execute_result",
          "data": {
            "text/plain": [
              "Text(0.5, 1.0, 'Model: decision_tree | Classes: 4 | Acc: 0.65')"
            ]
          },
          "metadata": {},
          "execution_count": 203
        },
        {
          "output_type": "display_data",
          "data": {
            "text/plain": [
              "<Figure size 640x480 with 2 Axes>"
            ],
            "image/png": "[encoded data removed]"
          },
          "metadata": {}
        }
      ]
    },
    {
      "cell_type": "code",
      "execution_count": null,
      "metadata": {
        "colab": {
          "base_uri": "https://localhost:8080/"
        },
        "id": "jf6Y9k23LDrl",
        "outputId": "2604855b-3388-41e0-8df0-ef8e0e604633"
      },
      "outputs": [
        {
          "output_type": "stream",
          "name": "stdout",
          "text": [
            "CPU times: user 304 ms, sys: 0 ns, total: 304 ms\n",
            "Wall time: 302 ms\n"
          ]
        }
      ],
      "source": [
        "model_clf = RandomForestClassifier(n_estimators=50, max_depth=10, random_state=42)\n",
        "%time scores = model_clf.fit(X_train, y_train)"
      ]
    },
    {
      "cell_type": "code",
      "execution_count": null,
      "metadata": {
        "colab": {
          "base_uri": "https://localhost:8080/",
          "height": 488
        },
        "id": "9y0yFEgQ0qkB",
        "outputId": "283e9466-7b31-4139-f0e8-3513b712ce06"
      },
      "outputs": [
        {
          "output_type": "execute_result",
          "data": {
            "text/plain": [
              "Text(0.5, 1.0, 'Model: random_forest | Classes: 8 | Acc: 0.575')"
            ]
          },
          "metadata": {},
          "execution_count": 123
        },
        {
          "output_type": "display_data",
          "data": {
            "text/plain": [
              "<Figure size 640x480 with 2 Axes>"
            ],
            "image/png": "[encoded data removed]"
          },
          "metadata": {}
        }
      ],
      "source": [
        "model_name = 'random_forest'\n",
        "y_pred = model_clf.predict(X_test)\n",
        "num_classes = len(df_light['Label'].unique())\n",
        "score = accuracy_score(y_test, y_pred)\n",
        "cm = confusion_matrix(y_test, y_pred, normalize='true')\n",
        "disp = ConfusionMatrixDisplay(confusion_matrix=cm, display_labels=model_clf.classes_)\n",
        "disp.plot()\n",
        "disp.ax_.set_title(\"Model: {} | Classes: {} | Acc: {}\".format(model_name, num_classes, score))\n",
        "#plt.savefig('/content/figs/{}_{}_classes_vol2.png'.format(model_name, num_classes))"
      ]
    },
    {
      "cell_type": "code",
      "source": [
        "model_clf = xgb.XGBClassifier(n_estimators=100, random_state=0)\n",
        "%time scores = model_clf.fit(X_train, y_train)"
      ],
      "metadata": {
        "colab": {
          "base_uri": "https://localhost:8080/"
        },
        "id": "cqQ5CQQ4UHAg",
        "outputId": "83a930d2-6a69-4479-d30f-d0d9b61490b5"
      },
      "execution_count": null,
      "outputs": [
        {
          "output_type": "stream",
          "name": "stdout",
          "text": [
            "CPU times: user 17.8 s, sys: 25 ms, total: 17.9 s\n",
            "Wall time: 910 ms\n"
          ]
        }
      ]
    },
    {
      "cell_type": "code",
      "source": [
        "model_name = 'xgboost'\n",
        "y_pred = model_clf.predict(X_test)\n",
        "num_classes = len(df_light['Label'].unique())\n",
        "score = accuracy_score(y_test, y_pred)\n",
        "cm = confusion_matrix(y_test, y_pred, normalize='true')\n",
        "disp = ConfusionMatrixDisplay(confusion_matrix=cm, display_labels=model_clf.classes_)\n",
        "disp.plot()\n",
        "disp.ax_.set_title(\"Model: {} | Classes: {} | Acc: {}\".format(model_name, num_classes, score))\n",
        "#plt.savefig('/content/figs/{}_{}_classes_vol2.png'.format(model_name, num_classes))"
      ],
      "metadata": {
        "colab": {
          "base_uri": "https://localhost:8080/",
          "height": 488
        },
        "id": "Jmq46-20WXoh",
        "outputId": "ea683379-95ee-45ec-a803-da76d3372b06"
      },
      "execution_count": null,
      "outputs": [
        {
          "output_type": "execute_result",
          "data": {
            "text/plain": [
              "Text(0.5, 1.0, 'Model: xgboost | Classes: 8 | Acc: 0.6375')"
            ]
          },
          "metadata": {},
          "execution_count": 121
        },
        {
          "output_type": "display_data",
          "data": {
            "text/plain": [
              "<Figure size 640x480 with 2 Axes>"
            ],
            "image/png": "[encoded data removed]"
          },
          "metadata": {}
        }
      ]
    },
    {
      "cell_type": "code",
      "source": [
        "model_clf = lgb.LGBMClassifier(n_estimators=50, random_state=0, max_depth=10)\n",
        "%time scores = model_clf.fit(X_train, y_train)"
      ],
      "metadata": {
        "colab": {
          "base_uri": "https://localhost:8080/"
        },
        "id": "_WqdXIyWZRAA",
        "outputId": "27d5b5e4-93fe-4c91-bbbe-00ea6631ee17"
      },
      "execution_count": null,
      "outputs": [
        {
          "output_type": "stream",
          "name": "stdout",
          "text": [
            "CPU times: user 18.9 s, sys: 31.3 ms, total: 19 s\n",
            "Wall time: 987 ms\n"
          ]
        }
      ]
    },
    {
      "cell_type": "code",
      "source": [
        "model_name = 'lgbm'\n",
        "y_pred = model_clf.predict(X_test)\n",
        "num_classes = len(df_light['Label'].unique())\n",
        "score = accuracy_score(y_test, y_pred)\n",
        "cm = confusion_matrix(y_test, y_pred, normalize='true')\n",
        "disp = ConfusionMatrixDisplay(confusion_matrix=cm, display_labels=model_clf.classes_)\n",
        "disp.plot()\n",
        "disp.ax_.set_title(\"Model: {} | Classes: {} | Acc: {}\".format(model_name, num_classes, score))\n",
        "#plt.savefig('/content/figs/{}_{}_classes_vol2.png'.format(model_name, num_classes))"
      ],
      "metadata": {
        "colab": {
          "base_uri": "https://localhost:8080/",
          "height": 488
        },
        "id": "a_mapo84ZQtG",
        "outputId": "f222814d-b36c-4f6a-ebcf-027110189d19"
      },
      "execution_count": null,
      "outputs": [
        {
          "output_type": "execute_result",
          "data": {
            "text/plain": [
              "Text(0.5, 1.0, 'Model: lgbm | Classes: 8 | Acc: 0.65')"
            ]
          },
          "metadata": {},
          "execution_count": 119
        },
        {
          "output_type": "display_data",
          "data": {
            "text/plain": [
              "<Figure size 640x480 with 2 Axes>"
            ],
            "image/png": "[encoded data removed]"
          },
          "metadata": {}
        }
      ]
    },
    {
      "cell_type": "code",
      "source": [
        "def get_confusion_matrix(model, X_test, y_test):\n",
        "\n",
        "  y_pred = model.predict(X_test)\n",
        "\n",
        "  pred_labels=[]\n",
        "  for idx in range(len(y_pred)):\n",
        "    pred_label = np.argmax(y_pred[idx])\n",
        "    pred_labels.append(pred_label)\n",
        "\n",
        "  true_labels = y_test\n",
        "  score = accuracy_score(true_labels, pred_labels)\n",
        "\n",
        "  ConfusionMatrixDisplay.from_predictions(true_labels, pred_labels, normalize='true')\n",
        "\n",
        "  return score"
      ],
      "metadata": {
        "id": "y_HxDkwPMKfi"
      },
      "execution_count": null,
      "outputs": []
    },
    {
      "cell_type": "code",
      "source": [
        "X_train, X_test, y_train, y_test = train_test_split(X, y, test_size=0.2, random_state=42)\n",
        "X_train, X_val, y_train, y_val = train_test_split(X_train, y_train, test_size=0.2, random_state=42)"
      ],
      "metadata": {
        "id": "QIq3UTXX-Op0"
      },
      "execution_count": null,
      "outputs": []
    },
    {
      "cell_type": "code",
      "source": [
        "X_train_normalized, X_test_normalized, y_train_normalized, y_test_normalized = train_test_split(X_normalized, y, test_size=0.2, random_state=42)\n",
        "X_train_normalized, X_val_normalized, y_train_normalized, y_val_normalized = train_test_split(X_train_normalized, y_train_normalized, test_size=0.2, random_state=42)"
      ],
      "metadata": {
        "id": "qIbtt-eEH9rX"
      },
      "execution_count": null,
      "outputs": []
    },
    {
      "cell_type": "code",
      "execution_count": null,
      "metadata": {
        "id": "zgMZ2xtsOMap"
      },
      "outputs": [],
      "source": [
        "y_train = to_categorical(y_train)\n",
        "y_val = to_categorical(y_val)"
      ]
    },
    {
      "cell_type": "code",
      "source": [
        "y_train_normalized = to_categorical(y_train_normalized)\n",
        "y_val_normalized = to_categorical(y_val_normalized)"
      ],
      "metadata": {
        "id": "46ETcR0qIld-"
      },
      "execution_count": null,
      "outputs": []
    },
    {
      "cell_type": "code",
      "execution_count": null,
      "metadata": {
        "id": "pux04LQTKkZ7"
      },
      "outputs": [],
      "source": [
        "input_size = 1024\n",
        "num_classes = len(df_light['Label'].unique())\n",
        "batch_size = 512\n",
        "epochs = 200\n",
        "\n",
        "model_NN = Sequential([\n",
        "    Dense(input_size, input_dim=input_size, activation='relu'),\n",
        "    Dense(2*input_size, activation='relu'),\n",
        "   # Dropout(0.1),\n",
        "   # Dense(2*input_size, activation='relu'),\n",
        "    #Dropout(0.1),\n",
        "   # Dense(2*input_size, activation='relu'),\n",
        "    # Dense(2*input_size, activation='relu'),\n",
        "    # Dropout(0.2),\n",
        "    # Dense(2*input_size, activation='relu'),\n",
        "    # Dense(2*input_size, activation='relu'),\n",
        "   #  Dropout(0.2),\n",
        "   #  Dense(4*input_size, activation='relu'),\n",
        "     Dense(4*input_size, activation='relu'),\n",
        "    # Dropout(0.3),\n",
        "    Dense(num_classes, activation='softmax')\n",
        "  ])\n",
        "\n",
        "model_NN.compile(loss='categorical_crossentropy', optimizer='Adam', metrics='accuracy')\n",
        "#callback = keras.callbacks.EarlyStopping(monitor='loss', patience=25)\n",
        "history = model_NN.fit(X_train, y_train,\n",
        "          batch_size=batch_size, epochs=epochs, verbose=1,\n",
        "          validation_data=(X_val, y_val))\n",
        "\n"
      ]
    },
    {
      "cell_type": "code",
      "source": [
        "history_normalized = model_NN.fit(X_train_normalized, y_train_normalized,\n",
        "          batch_size=batch_size, epochs=epochs, verbose=1,\n",
        "          validation_data=(X_val_normalized, y_val_normalized))"
      ],
      "metadata": {
        "id": "jQczgx4sIS9J"
      },
      "execution_count": null,
      "outputs": []
    },
    {
      "cell_type": "code",
      "execution_count": null,
      "metadata": {
        "colab": {
          "base_uri": "https://localhost:8080/",
          "height": 481
        },
        "id": "uMSV74ijQDnl",
        "outputId": "47a0325b-4827-4add-c091-29e1d02c18ef"
      },
      "outputs": [
        {
          "output_type": "stream",
          "name": "stdout",
          "text": [
            "3/3 [==============================] - 0s 6ms/step\n",
            "0.6125\n"
          ]
        },
        {
          "output_type": "display_data",
          "data": {
            "text/plain": [
              "<Figure size 640x480 with 2 Axes>"
            ],
            "image/png": "[encoded data removed]"
          },
          "metadata": {}
        }
      ],
      "source": [
        "score = get_confusion_matrix(model_NN, X_test, y_test)\n",
        "print(score)"
      ]
    },
    {
      "cell_type": "code",
      "source": [
        "score = get_confusion_matrix(model_NN, X_test_normalized, y_test_normalized)\n",
        "print(score)"
      ],
      "metadata": {
        "colab": {
          "base_uri": "https://localhost:8080/",
          "height": 487
        },
        "id": "RrERaldPHL8b",
        "outputId": "510876e5-475f-4b0f-fd9f-7e2d738ba7a7"
      },
      "execution_count": null,
      "outputs": [
        {
          "output_type": "stream",
          "name": "stdout",
          "text": [
            "3/3 [==============================] - 0s 6ms/step\n",
            "0.575\n"
          ]
        },
        {
          "output_type": "display_data",
          "data": {
            "text/plain": [
              "<Figure size 640x480 with 2 Axes>"
            ],
            "image/png": "[encoded data removed]"
          },
          "metadata": {}
        }
      ]
    },
    {
      "cell_type": "code",
      "source": [
        "draw_learning_curve(history, key='accuracy')"
      ],
      "metadata": {
        "colab": {
          "base_uri": "https://localhost:8080/",
          "height": 601
        },
        "id": "ouu2ueod8AYi",
        "outputId": "a7a6ee0d-1763-422b-c88b-288ed1ca430d"
      },
      "execution_count": null,
      "outputs": [
        {
          "output_type": "display_data",
          "data": {
            "text/plain": [
              "<Figure size 1200x600 with 2 Axes>"
            ],
            "image/png": "[encoded data removed]"
          },
          "metadata": {}
        }
      ]
    },
    {
      "cell_type": "code",
      "source": [
        "draw_learning_curve(history_normalized, key='accuracy')"
      ],
      "metadata": {
        "colab": {
          "base_uri": "https://localhost:8080/",
          "height": 601
        },
        "id": "lQT420JaHSeH",
        "outputId": "2a13c7d7-0753-4a44-87ef-c0c35e1869a3"
      },
      "execution_count": null,
      "outputs": [
        {
          "output_type": "display_data",
          "data": {
            "text/plain": [
              "<Figure size 1200x600 with 2 Axes>"
            ],
            "image/png": "[encoded data removed]"
          },
          "metadata": {}
        }
      ]
    },
    {
      "cell_type": "code",
      "source": [
        "model_name = 'neural_network'\n",
        "y_pred = model_NN.predict(X_test)\n",
        "num_classes = len(y_test.unique())\n",
        "score = accuracy_score(y_test, y_pred)\n",
        "cm = confusion_matrix(y_test, y_pred, normalize='true')\n",
        "disp = ConfusionMatrixDisplay(confusion_matrix=cm, display_labels=model_clf.classes_)\n",
        "disp.plot()\n",
        "disp.ax_.set_title(\"Model: {} | Classes: {} | Acc: {}\".format(model_name, num_classes, score))\n",
        "plt.savefig('/content/figs/{}_{}_classes.png'.format(model_name, num_classes))"
      ],
      "metadata": {
        "id": "c3rJ5C1Q7dQo"
      },
      "execution_count": null,
      "outputs": []
    },
    {
      "cell_type": "code",
      "execution_count": null,
      "metadata": {
        "id": "ebmsN_vmQs-y"
      },
      "outputs": [],
      "source": [
        "tokenize = lambda sent: tokenizer.encode_plus(sent, max_length=512, padding='max_length', truncation=True)\n",
        "df['tokens'] = df['Tekst'].map(tokenize)\n",
        "df['input_ids'] = df['tokens'].map(lambda t: t['input_ids'] )\n",
        "df['token_type_ids'] = df['tokens'].map(lambda t: t['token_type_ids'] )\n",
        "df['attention_mask'] = df['tokens'].map(lambda t: t['attention_mask'] )"
      ]
    },
    {
      "cell_type": "code",
      "source": [
        "df['input_ids'] = df['tokens'].map(lambda t: t['input_ids'] )\n",
        "df['token_type_ids'] = df['tokens'].map(lambda t: t['token_type_ids'] )\n",
        "df['attention_mask'] = df['tokens'].map(lambda t: t['attention_mask'] )\n",
        "\n",
        "df.sample(3)"
      ],
      "metadata": {
        "id": "9NeJqyBT0MxY"
      },
      "execution_count": null,
      "outputs": []
    },
    {
      "cell_type": "code",
      "source": [
        "input_ids = np.stack(df['input_ids'])\n",
        "token_type_ids = np.stack(df['token_type_ids'])\n",
        "attention_mask = np.stack(df['attention_mask'])\n",
        "\n",
        "input_ids.shape, token_type_ids.shape, attention_mask.shape"
      ],
      "metadata": {
        "id": "tksrO-f60Nle"
      },
      "execution_count": null,
      "outputs": []
    },
    {
      "cell_type": "code",
      "source": [
        "model = model.to('cuda:0')\n",
        "inputs = tokenizer.batch_encode_plus(list(df['Tekst'].head(50).values), padding=\"longest\", add_special_tokens=True, return_tensors=\"pt\",).to('cuda:0')\n",
        "outputs   = model(**inputs)"
      ],
      "metadata": {
        "id": "TseEjRudAX_5"
      },
      "execution_count": null,
      "outputs": []
    },
    {
      "cell_type": "code",
      "source": [
        "inputs = tokenizer.batch_encode_plus(list(df['Tekst'].head(50).values), padding=\"longest\", add_special_tokens=True, return_tensors=\"pt\",)\n",
        "outputs   = model(**inputs)"
      ],
      "metadata": {
        "id": "SmYzraPSAfJt"
      },
      "execution_count": null,
      "outputs": []
    },
    {
      "cell_type": "code",
      "source": [
        "output = model(\n",
        "    **tokenizer.batch_encode_plus(\n",
        "        list(df['Tekst'].head(5).values),\n",
        "        padding=\"longest\",\n",
        "        add_special_tokens=True,\n",
        "        return_tensors=\"pt\",\n",
        "    )\n",
        ")"
      ],
      "metadata": {
        "id": "cvfzeiFbAoM5"
      },
      "execution_count": null,
      "outputs": []
    },
    {
      "cell_type": "code",
      "source": [
        "X = output[0][:,0,:].detach().numpy()\n",
        "y = df['Autor'][:100].factorize()[0]"
      ],
      "metadata": {
        "id": "FXKXLLN9Ar2f"
      },
      "execution_count": null,
      "outputs": []
    }
  ],
  "metadata": {
    "accelerator": "TPU",
    "colab": {
      "machine_shape": "hm",
      "provenance": []
    },
    "gpuClass": "standard",
    "kernelspec": {
      "display_name": "Python 3",
      "name": "python3"
    },
    "language_info": {
      "name": "python"
    },
    "widgets": {
      "application/vnd.jupyter.widget-state+json": {
        "c83dc93951d44b9f9ac228eed905304a": {
          "model_module": "@jupyter-widgets/controls",
          "model_name": "HBoxModel",
          "model_module_version": "1.5.0",
          "state": {
            "_dom_classes": [],
            "_model_module": "@jupyter-widgets/controls",
            "_model_module_version": "1.5.0",
            "_model_name": "HBoxModel",
            "_view_count": null,
            "_view_module": "@jupyter-widgets/controls",
            "_view_module_version": "1.5.0",
            "_view_name": "HBoxView",
            "box_style": "",
            "children": [
              "IPY_MODEL_38c2bc6ce889498380d79ae2b9ea4b0f",
              "IPY_MODEL_b280a3b9caed40d5ad2029352dac24a0",
              "IPY_MODEL_77ba0c7728774025b559bbaae213c390"
            ],
            "layout": "IPY_MODEL_49c5ddd3e48142aeb4093ef92edb9690"
          }
        },
        "38c2bc6ce889498380d79ae2b9ea4b0f": {
          "model_module": "@jupyter-widgets/controls",
          "model_name": "HTMLModel",
          "model_module_version": "1.5.0",
          "state": {
            "_dom_classes": [],
            "_model_module": "@jupyter-widgets/controls",
            "_model_module_version": "1.5.0",
            "_model_name": "HTMLModel",
            "_view_count": null,
            "_view_module": "@jupyter-widgets/controls",
            "_view_module_version": "1.5.0",
            "_view_name": "HTMLView",
            "description": "",
            "description_tooltip": null,
            "layout": "IPY_MODEL_d51e0fd8353c40728ec307df5ea2f69a",
            "placeholder": "​",
            "style": "IPY_MODEL_d75a417f97594d69a5fa0df4026e4402",
            "value": "Downloading (…)olve/main/vocab.json: 100%"
          }
        },
        "b280a3b9caed40d5ad2029352dac24a0": {
          "model_module": "@jupyter-widgets/controls",
          "model_name": "FloatProgressModel",
          "model_module_version": "1.5.0",
          "state": {
            "_dom_classes": [],
            "_model_module": "@jupyter-widgets/controls",
            "_model_module_version": "1.5.0",
            "_model_name": "FloatProgressModel",
            "_view_count": null,
            "_view_module": "@jupyter-widgets/controls",
            "_view_module_version": "1.5.0",
            "_view_name": "ProgressView",
            "bar_style": "success",
            "description": "",
            "description_tooltip": null,
            "layout": "IPY_MODEL_76a88540919e44559424b9e5c78c430b",
            "max": 906984,
            "min": 0,
            "orientation": "horizontal",
            "style": "IPY_MODEL_ea80084971d3480896e5fe9d3bbc17b0",
            "value": 906984
          }
        },
        "77ba0c7728774025b559bbaae213c390": {
          "model_module": "@jupyter-widgets/controls",
          "model_name": "HTMLModel",
          "model_module_version": "1.5.0",
          "state": {
            "_dom_classes": [],
            "_model_module": "@jupyter-widgets/controls",
            "_model_module_version": "1.5.0",
            "_model_name": "HTMLModel",
            "_view_count": null,
            "_view_module": "@jupyter-widgets/controls",
            "_view_module_version": "1.5.0",
            "_view_name": "HTMLView",
            "description": "",
            "description_tooltip": null,
            "layout": "IPY_MODEL_ca1496b2918446959e0d3b42ef09fdcc",
            "placeholder": "​",
            "style": "IPY_MODEL_8a40804b1dd34f1abc37244aa04834e3",
            "value": " 907k/907k [00:00&lt;00:00, 10.6MB/s]"
          }
        },
        "49c5ddd3e48142aeb4093ef92edb9690": {
          "model_module": "@jupyter-widgets/base",
          "model_name": "LayoutModel",
          "model_module_version": "1.2.0",
          "state": {
            "_model_module": "@jupyter-widgets/base",
            "_model_module_version": "1.2.0",
            "_model_name": "LayoutModel",
            "_view_count": null,
            "_view_module": "@jupyter-widgets/base",
            "_view_module_version": "1.2.0",
            "_view_name": "LayoutView",
            "align_content": null,
            "align_items": null,
            "align_self": null,
            "border": null,
            "bottom": null,
            "display": null,
            "flex": null,
            "flex_flow": null,
            "grid_area": null,
            "grid_auto_columns": null,
            "grid_auto_flow": null,
            "grid_auto_rows": null,
            "grid_column": null,
            "grid_gap": null,
            "grid_row": null,
            "grid_template_areas": null,
            "grid_template_columns": null,
            "grid_template_rows": null,
            "height": null,
            "justify_content": null,
            "justify_items": null,
            "left": null,
            "margin": null,
            "max_height": null,
            "max_width": null,
            "min_height": null,
            "min_width": null,
            "object_fit": null,
            "object_position": null,
            "order": null,
            "overflow": null,
            "overflow_x": null,
            "overflow_y": null,
            "padding": null,
            "right": null,
            "top": null,
            "visibility": null,
            "width": null
          }
        },
        "d51e0fd8353c40728ec307df5ea2f69a": {
          "model_module": "@jupyter-widgets/base",
          "model_name": "LayoutModel",
          "model_module_version": "1.2.0",
          "state": {
            "_model_module": "@jupyter-widgets/base",
            "_model_module_version": "1.2.0",
            "_model_name": "LayoutModel",
            "_view_count": null,
            "_view_module": "@jupyter-widgets/base",
            "_view_module_version": "1.2.0",
            "_view_name": "LayoutView",
            "align_content": null,
            "align_items": null,
            "align_self": null,
            "border": null,
            "bottom": null,
            "display": null,
            "flex": null,
            "flex_flow": null,
            "grid_area": null,
            "grid_auto_columns": null,
            "grid_auto_flow": null,
            "grid_auto_rows": null,
            "grid_column": null,
            "grid_gap": null,
            "grid_row": null,
            "grid_template_areas": null,
            "grid_template_columns": null,
            "grid_template_rows": null,
            "height": null,
            "justify_content": null,
            "justify_items": null,
            "left": null,
            "margin": null,
            "max_height": null,
            "max_width": null,
            "min_height": null,
            "min_width": null,
            "object_fit": null,
            "object_position": null,
            "order": null,
            "overflow": null,
            "overflow_x": null,
            "overflow_y": null,
            "padding": null,
            "right": null,
            "top": null,
            "visibility": null,
            "width": null
          }
        },
        "d75a417f97594d69a5fa0df4026e4402": {
          "model_module": "@jupyter-widgets/controls",
          "model_name": "DescriptionStyleModel",
          "model_module_version": "1.5.0",
          "state": {
            "_model_module": "@jupyter-widgets/controls",
            "_model_module_version": "1.5.0",
            "_model_name": "DescriptionStyleModel",
            "_view_count": null,
            "_view_module": "@jupyter-widgets/base",
            "_view_module_version": "1.2.0",
            "_view_name": "StyleView",
            "description_width": ""
          }
        },
        "76a88540919e44559424b9e5c78c430b": {
          "model_module": "@jupyter-widgets/base",
          "model_name": "LayoutModel",
          "model_module_version": "1.2.0",
          "state": {
            "_model_module": "@jupyter-widgets/base",
            "_model_module_version": "1.2.0",
            "_model_name": "LayoutModel",
            "_view_count": null,
            "_view_module": "@jupyter-widgets/base",
            "_view_module_version": "1.2.0",
            "_view_name": "LayoutView",
            "align_content": null,
            "align_items": null,
            "align_self": null,
            "border": null,
            "bottom": null,
            "display": null,
            "flex": null,
            "flex_flow": null,
            "grid_area": null,
            "grid_auto_columns": null,
            "grid_auto_flow": null,
            "grid_auto_rows": null,
            "grid_column": null,
            "grid_gap": null,
            "grid_row": null,
            "grid_template_areas": null,
            "grid_template_columns": null,
            "grid_template_rows": null,
            "height": null,
            "justify_content": null,
            "justify_items": null,
            "left": null,
            "margin": null,
            "max_height": null,
            "max_width": null,
            "min_height": null,
            "min_width": null,
            "object_fit": null,
            "object_position": null,
            "order": null,
            "overflow": null,
            "overflow_x": null,
            "overflow_y": null,
            "padding": null,
            "right": null,
            "top": null,
            "visibility": null,
            "width": null
          }
        },
        "ea80084971d3480896e5fe9d3bbc17b0": {
          "model_module": "@jupyter-widgets/controls",
          "model_name": "ProgressStyleModel",
          "model_module_version": "1.5.0",
          "state": {
            "_model_module": "@jupyter-widgets/controls",
            "_model_module_version": "1.5.0",
            "_model_name": "ProgressStyleModel",
            "_view_count": null,
            "_view_module": "@jupyter-widgets/base",
            "_view_module_version": "1.2.0",
            "_view_name": "StyleView",
            "bar_color": null,
            "description_width": ""
          }
        },
        "ca1496b2918446959e0d3b42ef09fdcc": {
          "model_module": "@jupyter-widgets/base",
          "model_name": "LayoutModel",
          "model_module_version": "1.2.0",
          "state": {
            "_model_module": "@jupyter-widgets/base",
            "_model_module_version": "1.2.0",
            "_model_name": "LayoutModel",
            "_view_count": null,
            "_view_module": "@jupyter-widgets/base",
            "_view_module_version": "1.2.0",
            "_view_name": "LayoutView",
            "align_content": null,
            "align_items": null,
            "align_self": null,
            "border": null,
            "bottom": null,
            "display": null,
            "flex": null,
            "flex_flow": null,
            "grid_area": null,
            "grid_auto_columns": null,
            "grid_auto_flow": null,
            "grid_auto_rows": null,
            "grid_column": null,
            "grid_gap": null,
            "grid_row": null,
            "grid_template_areas": null,
            "grid_template_columns": null,
            "grid_template_rows": null,
            "height": null,
            "justify_content": null,
            "justify_items": null,
            "left": null,
            "margin": null,
            "max_height": null,
            "max_width": null,
            "min_height": null,
            "min_width": null,
            "object_fit": null,
            "object_position": null,
            "order": null,
            "overflow": null,
            "overflow_x": null,
            "overflow_y": null,
            "padding": null,
            "right": null,
            "top": null,
            "visibility": null,
            "width": null
          }
        },
        "8a40804b1dd34f1abc37244aa04834e3": {
          "model_module": "@jupyter-widgets/controls",
          "model_name": "DescriptionStyleModel",
          "model_module_version": "1.5.0",
          "state": {
            "_model_module": "@jupyter-widgets/controls",
            "_model_module_version": "1.5.0",
            "_model_name": "DescriptionStyleModel",
            "_view_count": null,
            "_view_module": "@jupyter-widgets/base",
            "_view_module_version": "1.2.0",
            "_view_name": "StyleView",
            "description_width": ""
          }
        },
        "e961257519de41458a7ecf8a3c3adf26": {
          "model_module": "@jupyter-widgets/controls",
          "model_name": "HBoxModel",
          "model_module_version": "1.5.0",
          "state": {
            "_dom_classes": [],
            "_model_module": "@jupyter-widgets/controls",
            "_model_module_version": "1.5.0",
            "_model_name": "HBoxModel",
            "_view_count": null,
            "_view_module": "@jupyter-widgets/controls",
            "_view_module_version": "1.5.0",
            "_view_name": "HBoxView",
            "box_style": "",
            "children": [
              "IPY_MODEL_8820819bee3d4648a07cf6645f2878f2",
              "IPY_MODEL_091803a6756540e59ab526bef3d64511",
              "IPY_MODEL_59d15cc9db2447aeaab589e4ee6f8530"
            ],
            "layout": "IPY_MODEL_be01fc8727864dae9cdac57dc7f40154"
          }
        },
        "8820819bee3d4648a07cf6645f2878f2": {
          "model_module": "@jupyter-widgets/controls",
          "model_name": "HTMLModel",
          "model_module_version": "1.5.0",
          "state": {
            "_dom_classes": [],
            "_model_module": "@jupyter-widgets/controls",
            "_model_module_version": "1.5.0",
            "_model_name": "HTMLModel",
            "_view_count": null,
            "_view_module": "@jupyter-widgets/controls",
            "_view_module_version": "1.5.0",
            "_view_name": "HTMLView",
            "description": "",
            "description_tooltip": null,
            "layout": "IPY_MODEL_580c66c6a8764a549b7f31677240cca2",
            "placeholder": "​",
            "style": "IPY_MODEL_e3fab0f71ee543da9eb97ed743186675",
            "value": "Downloading (…)olve/main/merges.txt: 100%"
          }
        },
        "091803a6756540e59ab526bef3d64511": {
          "model_module": "@jupyter-widgets/controls",
          "model_name": "FloatProgressModel",
          "model_module_version": "1.5.0",
          "state": {
            "_dom_classes": [],
            "_model_module": "@jupyter-widgets/controls",
            "_model_module_version": "1.5.0",
            "_model_name": "FloatProgressModel",
            "_view_count": null,
            "_view_module": "@jupyter-widgets/controls",
            "_view_module_version": "1.5.0",
            "_view_name": "ProgressView",
            "bar_style": "success",
            "description": "",
            "description_tooltip": null,
            "layout": "IPY_MODEL_381fccee27134c898d695a47339d03e7",
            "max": 555571,
            "min": 0,
            "orientation": "horizontal",
            "style": "IPY_MODEL_69344dcb9b9348e19e788bd4b4dcd8c8",
            "value": 555571
          }
        },
        "59d15cc9db2447aeaab589e4ee6f8530": {
          "model_module": "@jupyter-widgets/controls",
          "model_name": "HTMLModel",
          "model_module_version": "1.5.0",
          "state": {
            "_dom_classes": [],
            "_model_module": "@jupyter-widgets/controls",
            "_model_module_version": "1.5.0",
            "_model_name": "HTMLModel",
            "_view_count": null,
            "_view_module": "@jupyter-widgets/controls",
            "_view_module_version": "1.5.0",
            "_view_name": "HTMLView",
            "description": "",
            "description_tooltip": null,
            "layout": "IPY_MODEL_8440ea51d05043d3a6f1c6a2181bf7ea",
            "placeholder": "​",
            "style": "IPY_MODEL_23ca4b7f446d4936911591ab2994a5f2",
            "value": " 556k/556k [00:00&lt;00:00, 38.5MB/s]"
          }
        },
        "be01fc8727864dae9cdac57dc7f40154": {
          "model_module": "@jupyter-widgets/base",
          "model_name": "LayoutModel",
          "model_module_version": "1.2.0",
          "state": {
            "_model_module": "@jupyter-widgets/base",
            "_model_module_version": "1.2.0",
            "_model_name": "LayoutModel",
            "_view_count": null,
            "_view_module": "@jupyter-widgets/base",
            "_view_module_version": "1.2.0",
            "_view_name": "LayoutView",
            "align_content": null,
            "align_items": null,
            "align_self": null,
            "border": null,
            "bottom": null,
            "display": null,
            "flex": null,
            "flex_flow": null,
            "grid_area": null,
            "grid_auto_columns": null,
            "grid_auto_flow": null,
            "grid_auto_rows": null,
            "grid_column": null,
            "grid_gap": null,
            "grid_row": null,
            "grid_template_areas": null,
            "grid_template_columns": null,
            "grid_template_rows": null,
            "height": null,
            "justify_content": null,
            "justify_items": null,
            "left": null,
            "margin": null,
            "max_height": null,
            "max_width": null,
            "min_height": null,
            "min_width": null,
            "object_fit": null,
            "object_position": null,
            "order": null,
            "overflow": null,
            "overflow_x": null,
            "overflow_y": null,
            "padding": null,
            "right": null,
            "top": null,
            "visibility": null,
            "width": null
          }
        },
        "580c66c6a8764a549b7f31677240cca2": {
          "model_module": "@jupyter-widgets/base",
          "model_name": "LayoutModel",
          "model_module_version": "1.2.0",
          "state": {
            "_model_module": "@jupyter-widgets/base",
            "_model_module_version": "1.2.0",
            "_model_name": "LayoutModel",
            "_view_count": null,
            "_view_module": "@jupyter-widgets/base",
            "_view_module_version": "1.2.0",
            "_view_name": "LayoutView",
            "align_content": null,
            "align_items": null,
            "align_self": null,
            "border": null,
            "bottom": null,
            "display": null,
            "flex": null,
            "flex_flow": null,
            "grid_area": null,
            "grid_auto_columns": null,
            "grid_auto_flow": null,
            "grid_auto_rows": null,
            "grid_column": null,
            "grid_gap": null,
            "grid_row": null,
            "grid_template_areas": null,
            "grid_template_columns": null,
            "grid_template_rows": null,
            "height": null,
            "justify_content": null,
            "justify_items": null,
            "left": null,
            "margin": null,
            "max_height": null,
            "max_width": null,
            "min_height": null,
            "min_width": null,
            "object_fit": null,
            "object_position": null,
            "order": null,
            "overflow": null,
            "overflow_x": null,
            "overflow_y": null,
            "padding": null,
            "right": null,
            "top": null,
            "visibility": null,
            "width": null
          }
        },
        "e3fab0f71ee543da9eb97ed743186675": {
          "model_module": "@jupyter-widgets/controls",
          "model_name": "DescriptionStyleModel",
          "model_module_version": "1.5.0",
          "state": {
            "_model_module": "@jupyter-widgets/controls",
            "_model_module_version": "1.5.0",
            "_model_name": "DescriptionStyleModel",
            "_view_count": null,
            "_view_module": "@jupyter-widgets/base",
            "_view_module_version": "1.2.0",
            "_view_name": "StyleView",
            "description_width": ""
          }
        },
        "381fccee27134c898d695a47339d03e7": {
          "model_module": "@jupyter-widgets/base",
          "model_name": "LayoutModel",
          "model_module_version": "1.2.0",
          "state": {
            "_model_module": "@jupyter-widgets/base",
            "_model_module_version": "1.2.0",
            "_model_name": "LayoutModel",
            "_view_count": null,
            "_view_module": "@jupyter-widgets/base",
            "_view_module_version": "1.2.0",
            "_view_name": "LayoutView",
            "align_content": null,
            "align_items": null,
            "align_self": null,
            "border": null,
            "bottom": null,
            "display": null,
            "flex": null,
            "flex_flow": null,
            "grid_area": null,
            "grid_auto_columns": null,
            "grid_auto_flow": null,
            "grid_auto_rows": null,
            "grid_column": null,
            "grid_gap": null,
            "grid_row": null,
            "grid_template_areas": null,
            "grid_template_columns": null,
            "grid_template_rows": null,
            "height": null,
            "justify_content": null,
            "justify_items": null,
            "left": null,
            "margin": null,
            "max_height": null,
            "max_width": null,
            "min_height": null,
            "min_width": null,
            "object_fit": null,
            "object_position": null,
            "order": null,
            "overflow": null,
            "overflow_x": null,
            "overflow_y": null,
            "padding": null,
            "right": null,
            "top": null,
            "visibility": null,
            "width": null
          }
        },
        "69344dcb9b9348e19e788bd4b4dcd8c8": {
          "model_module": "@jupyter-widgets/controls",
          "model_name": "ProgressStyleModel",
          "model_module_version": "1.5.0",
          "state": {
            "_model_module": "@jupyter-widgets/controls",
            "_model_module_version": "1.5.0",
            "_model_name": "ProgressStyleModel",
            "_view_count": null,
            "_view_module": "@jupyter-widgets/base",
            "_view_module_version": "1.2.0",
            "_view_name": "StyleView",
            "bar_color": null,
            "description_width": ""
          }
        },
        "8440ea51d05043d3a6f1c6a2181bf7ea": {
          "model_module": "@jupyter-widgets/base",
          "model_name": "LayoutModel",
          "model_module_version": "1.2.0",
          "state": {
            "_model_module": "@jupyter-widgets/base",
            "_model_module_version": "1.2.0",
            "_model_name": "LayoutModel",
            "_view_count": null,
            "_view_module": "@jupyter-widgets/base",
            "_view_module_version": "1.2.0",
            "_view_name": "LayoutView",
            "align_content": null,
            "align_items": null,
            "align_self": null,
            "border": null,
            "bottom": null,
            "display": null,
            "flex": null,
            "flex_flow": null,
            "grid_area": null,
            "grid_auto_columns": null,
            "grid_auto_flow": null,
            "grid_auto_rows": null,
            "grid_column": null,
            "grid_gap": null,
            "grid_row": null,
            "grid_template_areas": null,
            "grid_template_columns": null,
            "grid_template_rows": null,
            "height": null,
            "justify_content": null,
            "justify_items": null,
            "left": null,
            "margin": null,
            "max_height": null,
            "max_width": null,
            "min_height": null,
            "min_width": null,
            "object_fit": null,
            "object_position": null,
            "order": null,
            "overflow": null,
            "overflow_x": null,
            "overflow_y": null,
            "padding": null,
            "right": null,
            "top": null,
            "visibility": null,
            "width": null
          }
        },
        "23ca4b7f446d4936911591ab2994a5f2": {
          "model_module": "@jupyter-widgets/controls",
          "model_name": "DescriptionStyleModel",
          "model_module_version": "1.5.0",
          "state": {
            "_model_module": "@jupyter-widgets/controls",
            "_model_module_version": "1.5.0",
            "_model_name": "DescriptionStyleModel",
            "_view_count": null,
            "_view_module": "@jupyter-widgets/base",
            "_view_module_version": "1.2.0",
            "_view_name": "StyleView",
            "description_width": ""
          }
        },
        "d5a23e8505e64b5a9d1fa0685e157524": {
          "model_module": "@jupyter-widgets/controls",
          "model_name": "HBoxModel",
          "model_module_version": "1.5.0",
          "state": {
            "_dom_classes": [],
            "_model_module": "@jupyter-widgets/controls",
            "_model_module_version": "1.5.0",
            "_model_name": "HBoxModel",
            "_view_count": null,
            "_view_module": "@jupyter-widgets/controls",
            "_view_module_version": "1.5.0",
            "_view_name": "HBoxView",
            "box_style": "",
            "children": [
              "IPY_MODEL_c522e3ae547949dd86d8bcd5d86db20a",
              "IPY_MODEL_0883e83e3c4a46cca7179b18efd7e0cd",
              "IPY_MODEL_e5d0213abab24f9e9d5e7dbc2792541b"
            ],
            "layout": "IPY_MODEL_c2714d0d73d94d91929f7a67481a0391"
          }
        },
        "c522e3ae547949dd86d8bcd5d86db20a": {
          "model_module": "@jupyter-widgets/controls",
          "model_name": "HTMLModel",
          "model_module_version": "1.5.0",
          "state": {
            "_dom_classes": [],
            "_model_module": "@jupyter-widgets/controls",
            "_model_module_version": "1.5.0",
            "_model_name": "HTMLModel",
            "_view_count": null,
            "_view_module": "@jupyter-widgets/controls",
            "_view_module_version": "1.5.0",
            "_view_name": "HTMLView",
            "description": "",
            "description_tooltip": null,
            "layout": "IPY_MODEL_00908024de9641348904323a459d5950",
            "placeholder": "​",
            "style": "IPY_MODEL_de28c1170c8949bebac0db2fc6203605",
            "value": "Downloading (…)cial_tokens_map.json: 100%"
          }
        },
        "0883e83e3c4a46cca7179b18efd7e0cd": {
          "model_module": "@jupyter-widgets/controls",
          "model_name": "FloatProgressModel",
          "model_module_version": "1.5.0",
          "state": {
            "_dom_classes": [],
            "_model_module": "@jupyter-widgets/controls",
            "_model_module_version": "1.5.0",
            "_model_name": "FloatProgressModel",
            "_view_count": null,
            "_view_module": "@jupyter-widgets/controls",
            "_view_module_version": "1.5.0",
            "_view_name": "ProgressView",
            "bar_style": "success",
            "description": "",
            "description_tooltip": null,
            "layout": "IPY_MODEL_fe35ae3dc8a44c049673fd7f14fcbb6d",
            "max": 129,
            "min": 0,
            "orientation": "horizontal",
            "style": "IPY_MODEL_9027318222f74d1ba1013a17bd595613",
            "value": 129
          }
        },
        "e5d0213abab24f9e9d5e7dbc2792541b": {
          "model_module": "@jupyter-widgets/controls",
          "model_name": "HTMLModel",
          "model_module_version": "1.5.0",
          "state": {
            "_dom_classes": [],
            "_model_module": "@jupyter-widgets/controls",
            "_model_module_version": "1.5.0",
            "_model_name": "HTMLModel",
            "_view_count": null,
            "_view_module": "@jupyter-widgets/controls",
            "_view_module_version": "1.5.0",
            "_view_name": "HTMLView",
            "description": "",
            "description_tooltip": null,
            "layout": "IPY_MODEL_ca3ef4410d92462db9e18304f14b0a5a",
            "placeholder": "​",
            "style": "IPY_MODEL_4938c2089c6e44e6b4ef1299204b95ef",
            "value": " 129/129 [00:00&lt;00:00, 10.8kB/s]"
          }
        },
        "c2714d0d73d94d91929f7a67481a0391": {
          "model_module": "@jupyter-widgets/base",
          "model_name": "LayoutModel",
          "model_module_version": "1.2.0",
          "state": {
            "_model_module": "@jupyter-widgets/base",
            "_model_module_version": "1.2.0",
            "_model_name": "LayoutModel",
            "_view_count": null,
            "_view_module": "@jupyter-widgets/base",
            "_view_module_version": "1.2.0",
            "_view_name": "LayoutView",
            "align_content": null,
            "align_items": null,
            "align_self": null,
            "border": null,
            "bottom": null,
            "display": null,
            "flex": null,
            "flex_flow": null,
            "grid_area": null,
            "grid_auto_columns": null,
            "grid_auto_flow": null,
            "grid_auto_rows": null,
            "grid_column": null,
            "grid_gap": null,
            "grid_row": null,
            "grid_template_areas": null,
            "grid_template_columns": null,
            "grid_template_rows": null,
            "height": null,
            "justify_content": null,
            "justify_items": null,
            "left": null,
            "margin": null,
            "max_height": null,
            "max_width": null,
            "min_height": null,
            "min_width": null,
            "object_fit": null,
            "object_position": null,
            "order": null,
            "overflow": null,
            "overflow_x": null,
            "overflow_y": null,
            "padding": null,
            "right": null,
            "top": null,
            "visibility": null,
            "width": null
          }
        },
        "00908024de9641348904323a459d5950": {
          "model_module": "@jupyter-widgets/base",
          "model_name": "LayoutModel",
          "model_module_version": "1.2.0",
          "state": {
            "_model_module": "@jupyter-widgets/base",
            "_model_module_version": "1.2.0",
            "_model_name": "LayoutModel",
            "_view_count": null,
            "_view_module": "@jupyter-widgets/base",
            "_view_module_version": "1.2.0",
            "_view_name": "LayoutView",
            "align_content": null,
            "align_items": null,
            "align_self": null,
            "border": null,
            "bottom": null,
            "display": null,
            "flex": null,
            "flex_flow": null,
            "grid_area": null,
            "grid_auto_columns": null,
            "grid_auto_flow": null,
            "grid_auto_rows": null,
            "grid_column": null,
            "grid_gap": null,
            "grid_row": null,
            "grid_template_areas": null,
            "grid_template_columns": null,
            "grid_template_rows": null,
            "height": null,
            "justify_content": null,
            "justify_items": null,
            "left": null,
            "margin": null,
            "max_height": null,
            "max_width": null,
            "min_height": null,
            "min_width": null,
            "object_fit": null,
            "object_position": null,
            "order": null,
            "overflow": null,
            "overflow_x": null,
            "overflow_y": null,
            "padding": null,
            "right": null,
            "top": null,
            "visibility": null,
            "width": null
          }
        },
        "de28c1170c8949bebac0db2fc6203605": {
          "model_module": "@jupyter-widgets/controls",
          "model_name": "DescriptionStyleModel",
          "model_module_version": "1.5.0",
          "state": {
            "_model_module": "@jupyter-widgets/controls",
            "_model_module_version": "1.5.0",
            "_model_name": "DescriptionStyleModel",
            "_view_count": null,
            "_view_module": "@jupyter-widgets/base",
            "_view_module_version": "1.2.0",
            "_view_name": "StyleView",
            "description_width": ""
          }
        },
        "fe35ae3dc8a44c049673fd7f14fcbb6d": {
          "model_module": "@jupyter-widgets/base",
          "model_name": "LayoutModel",
          "model_module_version": "1.2.0",
          "state": {
            "_model_module": "@jupyter-widgets/base",
            "_model_module_version": "1.2.0",
            "_model_name": "LayoutModel",
            "_view_count": null,
            "_view_module": "@jupyter-widgets/base",
            "_view_module_version": "1.2.0",
            "_view_name": "LayoutView",
            "align_content": null,
            "align_items": null,
            "align_self": null,
            "border": null,
            "bottom": null,
            "display": null,
            "flex": null,
            "flex_flow": null,
            "grid_area": null,
            "grid_auto_columns": null,
            "grid_auto_flow": null,
            "grid_auto_rows": null,
            "grid_column": null,
            "grid_gap": null,
            "grid_row": null,
            "grid_template_areas": null,
            "grid_template_columns": null,
            "grid_template_rows": null,
            "height": null,
            "justify_content": null,
            "justify_items": null,
            "left": null,
            "margin": null,
            "max_height": null,
            "max_width": null,
            "min_height": null,
            "min_width": null,
            "object_fit": null,
            "object_position": null,
            "order": null,
            "overflow": null,
            "overflow_x": null,
            "overflow_y": null,
            "padding": null,
            "right": null,
            "top": null,
            "visibility": null,
            "width": null
          }
        },
        "9027318222f74d1ba1013a17bd595613": {
          "model_module": "@jupyter-widgets/controls",
          "model_name": "ProgressStyleModel",
          "model_module_version": "1.5.0",
          "state": {
            "_model_module": "@jupyter-widgets/controls",
            "_model_module_version": "1.5.0",
            "_model_name": "ProgressStyleModel",
            "_view_count": null,
            "_view_module": "@jupyter-widgets/base",
            "_view_module_version": "1.2.0",
            "_view_name": "StyleView",
            "bar_color": null,
            "description_width": ""
          }
        },
        "ca3ef4410d92462db9e18304f14b0a5a": {
          "model_module": "@jupyter-widgets/base",
          "model_name": "LayoutModel",
          "model_module_version": "1.2.0",
          "state": {
            "_model_module": "@jupyter-widgets/base",
            "_model_module_version": "1.2.0",
            "_model_name": "LayoutModel",
            "_view_count": null,
            "_view_module": "@jupyter-widgets/base",
            "_view_module_version": "1.2.0",
            "_view_name": "LayoutView",
            "align_content": null,
            "align_items": null,
            "align_self": null,
            "border": null,
            "bottom": null,
            "display": null,
            "flex": null,
            "flex_flow": null,
            "grid_area": null,
            "grid_auto_columns": null,
            "grid_auto_flow": null,
            "grid_auto_rows": null,
            "grid_column": null,
            "grid_gap": null,
            "grid_row": null,
            "grid_template_areas": null,
            "grid_template_columns": null,
            "grid_template_rows": null,
            "height": null,
            "justify_content": null,
            "justify_items": null,
            "left": null,
            "margin": null,
            "max_height": null,
            "max_width": null,
            "min_height": null,
            "min_width": null,
            "object_fit": null,
            "object_position": null,
            "order": null,
            "overflow": null,
            "overflow_x": null,
            "overflow_y": null,
            "padding": null,
            "right": null,
            "top": null,
            "visibility": null,
            "width": null
          }
        },
        "4938c2089c6e44e6b4ef1299204b95ef": {
          "model_module": "@jupyter-widgets/controls",
          "model_name": "DescriptionStyleModel",
          "model_module_version": "1.5.0",
          "state": {
            "_model_module": "@jupyter-widgets/controls",
            "_model_module_version": "1.5.0",
            "_model_name": "DescriptionStyleModel",
            "_view_count": null,
            "_view_module": "@jupyter-widgets/base",
            "_view_module_version": "1.2.0",
            "_view_name": "StyleView",
            "description_width": ""
          }
        },
        "e6e11387a2c94a19ae253c8c63334a16": {
          "model_module": "@jupyter-widgets/controls",
          "model_name": "HBoxModel",
          "model_module_version": "1.5.0",
          "state": {
            "_dom_classes": [],
            "_model_module": "@jupyter-widgets/controls",
            "_model_module_version": "1.5.0",
            "_model_name": "HBoxModel",
            "_view_count": null,
            "_view_module": "@jupyter-widgets/controls",
            "_view_module_version": "1.5.0",
            "_view_name": "HBoxView",
            "box_style": "",
            "children": [
              "IPY_MODEL_da78e19120d74131bce043cd9b5661cf",
              "IPY_MODEL_06b635d6f48a4fc2b7cdfd42cfda161a",
              "IPY_MODEL_0b39e2dee1bb48bcb5e84a4980dee32d"
            ],
            "layout": "IPY_MODEL_ae0c7b7181dc4175beba8867135eb459"
          }
        },
        "da78e19120d74131bce043cd9b5661cf": {
          "model_module": "@jupyter-widgets/controls",
          "model_name": "HTMLModel",
          "model_module_version": "1.5.0",
          "state": {
            "_dom_classes": [],
            "_model_module": "@jupyter-widgets/controls",
            "_model_module_version": "1.5.0",
            "_model_name": "HTMLModel",
            "_view_count": null,
            "_view_module": "@jupyter-widgets/controls",
            "_view_module_version": "1.5.0",
            "_view_name": "HTMLView",
            "description": "",
            "description_tooltip": null,
            "layout": "IPY_MODEL_ba28024091de42c388ce0da72212c984",
            "placeholder": "​",
            "style": "IPY_MODEL_4b258c6caac34f60892b00d5f3b5c562",
            "value": "Downloading (…)okenizer_config.json: 100%"
          }
        },
        "06b635d6f48a4fc2b7cdfd42cfda161a": {
          "model_module": "@jupyter-widgets/controls",
          "model_name": "FloatProgressModel",
          "model_module_version": "1.5.0",
          "state": {
            "_dom_classes": [],
            "_model_module": "@jupyter-widgets/controls",
            "_model_module_version": "1.5.0",
            "_model_name": "FloatProgressModel",
            "_view_count": null,
            "_view_module": "@jupyter-widgets/controls",
            "_view_module_version": "1.5.0",
            "_view_name": "ProgressView",
            "bar_style": "success",
            "description": "",
            "description_tooltip": null,
            "layout": "IPY_MODEL_7bd5360b17254a73acc19db90e246ce6",
            "max": 229,
            "min": 0,
            "orientation": "horizontal",
            "style": "IPY_MODEL_21452c3d0a184ac9bc157458a2d4d24e",
            "value": 229
          }
        },
        "0b39e2dee1bb48bcb5e84a4980dee32d": {
          "model_module": "@jupyter-widgets/controls",
          "model_name": "HTMLModel",
          "model_module_version": "1.5.0",
          "state": {
            "_dom_classes": [],
            "_model_module": "@jupyter-widgets/controls",
            "_model_module_version": "1.5.0",
            "_model_name": "HTMLModel",
            "_view_count": null,
            "_view_module": "@jupyter-widgets/controls",
            "_view_module_version": "1.5.0",
            "_view_name": "HTMLView",
            "description": "",
            "description_tooltip": null,
            "layout": "IPY_MODEL_7c959faa6871424f850e1f67f91dce3d",
            "placeholder": "​",
            "style": "IPY_MODEL_7c8d641c42934ef8996b5e133074e892",
            "value": " 229/229 [00:00&lt;00:00, 18.8kB/s]"
          }
        },
        "ae0c7b7181dc4175beba8867135eb459": {
          "model_module": "@jupyter-widgets/base",
          "model_name": "LayoutModel",
          "model_module_version": "1.2.0",
          "state": {
            "_model_module": "@jupyter-widgets/base",
            "_model_module_version": "1.2.0",
            "_model_name": "LayoutModel",
            "_view_count": null,
            "_view_module": "@jupyter-widgets/base",
            "_view_module_version": "1.2.0",
            "_view_name": "LayoutView",
            "align_content": null,
            "align_items": null,
            "align_self": null,
            "border": null,
            "bottom": null,
            "display": null,
            "flex": null,
            "flex_flow": null,
            "grid_area": null,
            "grid_auto_columns": null,
            "grid_auto_flow": null,
            "grid_auto_rows": null,
            "grid_column": null,
            "grid_gap": null,
            "grid_row": null,
            "grid_template_areas": null,
            "grid_template_columns": null,
            "grid_template_rows": null,
            "height": null,
            "justify_content": null,
            "justify_items": null,
            "left": null,
            "margin": null,
            "max_height": null,
            "max_width": null,
            "min_height": null,
            "min_width": null,
            "object_fit": null,
            "object_position": null,
            "order": null,
            "overflow": null,
            "overflow_x": null,
            "overflow_y": null,
            "padding": null,
            "right": null,
            "top": null,
            "visibility": null,
            "width": null
          }
        },
        "ba28024091de42c388ce0da72212c984": {
          "model_module": "@jupyter-widgets/base",
          "model_name": "LayoutModel",
          "model_module_version": "1.2.0",
          "state": {
            "_model_module": "@jupyter-widgets/base",
            "_model_module_version": "1.2.0",
            "_model_name": "LayoutModel",
            "_view_count": null,
            "_view_module": "@jupyter-widgets/base",
            "_view_module_version": "1.2.0",
            "_view_name": "LayoutView",
            "align_content": null,
            "align_items": null,
            "align_self": null,
            "border": null,
            "bottom": null,
            "display": null,
            "flex": null,
            "flex_flow": null,
            "grid_area": null,
            "grid_auto_columns": null,
            "grid_auto_flow": null,
            "grid_auto_rows": null,
            "grid_column": null,
            "grid_gap": null,
            "grid_row": null,
            "grid_template_areas": null,
            "grid_template_columns": null,
            "grid_template_rows": null,
            "height": null,
            "justify_content": null,
            "justify_items": null,
            "left": null,
            "margin": null,
            "max_height": null,
            "max_width": null,
            "min_height": null,
            "min_width": null,
            "object_fit": null,
            "object_position": null,
            "order": null,
            "overflow": null,
            "overflow_x": null,
            "overflow_y": null,
            "padding": null,
            "right": null,
            "top": null,
            "visibility": null,
            "width": null
          }
        },
        "4b258c6caac34f60892b00d5f3b5c562": {
          "model_module": "@jupyter-widgets/controls",
          "model_name": "DescriptionStyleModel",
          "model_module_version": "1.5.0",
          "state": {
            "_model_module": "@jupyter-widgets/controls",
            "_model_module_version": "1.5.0",
            "_model_name": "DescriptionStyleModel",
            "_view_count": null,
            "_view_module": "@jupyter-widgets/base",
            "_view_module_version": "1.2.0",
            "_view_name": "StyleView",
            "description_width": ""
          }
        },
        "7bd5360b17254a73acc19db90e246ce6": {
          "model_module": "@jupyter-widgets/base",
          "model_name": "LayoutModel",
          "model_module_version": "1.2.0",
          "state": {
            "_model_module": "@jupyter-widgets/base",
            "_model_module_version": "1.2.0",
            "_model_name": "LayoutModel",
            "_view_count": null,
            "_view_module": "@jupyter-widgets/base",
            "_view_module_version": "1.2.0",
            "_view_name": "LayoutView",
            "align_content": null,
            "align_items": null,
            "align_self": null,
            "border": null,
            "bottom": null,
            "display": null,
            "flex": null,
            "flex_flow": null,
            "grid_area": null,
            "grid_auto_columns": null,
            "grid_auto_flow": null,
            "grid_auto_rows": null,
            "grid_column": null,
            "grid_gap": null,
            "grid_row": null,
            "grid_template_areas": null,
            "grid_template_columns": null,
            "grid_template_rows": null,
            "height": null,
            "justify_content": null,
            "justify_items": null,
            "left": null,
            "margin": null,
            "max_height": null,
            "max_width": null,
            "min_height": null,
            "min_width": null,
            "object_fit": null,
            "object_position": null,
            "order": null,
            "overflow": null,
            "overflow_x": null,
            "overflow_y": null,
            "padding": null,
            "right": null,
            "top": null,
            "visibility": null,
            "width": null
          }
        },
        "21452c3d0a184ac9bc157458a2d4d24e": {
          "model_module": "@jupyter-widgets/controls",
          "model_name": "ProgressStyleModel",
          "model_module_version": "1.5.0",
          "state": {
            "_model_module": "@jupyter-widgets/controls",
            "_model_module_version": "1.5.0",
            "_model_name": "ProgressStyleModel",
            "_view_count": null,
            "_view_module": "@jupyter-widgets/base",
            "_view_module_version": "1.2.0",
            "_view_name": "StyleView",
            "bar_color": null,
            "description_width": ""
          }
        },
        "7c959faa6871424f850e1f67f91dce3d": {
          "model_module": "@jupyter-widgets/base",
          "model_name": "LayoutModel",
          "model_module_version": "1.2.0",
          "state": {
            "_model_module": "@jupyter-widgets/base",
            "_model_module_version": "1.2.0",
            "_model_name": "LayoutModel",
            "_view_count": null,
            "_view_module": "@jupyter-widgets/base",
            "_view_module_version": "1.2.0",
            "_view_name": "LayoutView",
            "align_content": null,
            "align_items": null,
            "align_self": null,
            "border": null,
            "bottom": null,
            "display": null,
            "flex": null,
            "flex_flow": null,
            "grid_area": null,
            "grid_auto_columns": null,
            "grid_auto_flow": null,
            "grid_auto_rows": null,
            "grid_column": null,
            "grid_gap": null,
            "grid_row": null,
            "grid_template_areas": null,
            "grid_template_columns": null,
            "grid_template_rows": null,
            "height": null,
            "justify_content": null,
            "justify_items": null,
            "left": null,
            "margin": null,
            "max_height": null,
            "max_width": null,
            "min_height": null,
            "min_width": null,
            "object_fit": null,
            "object_position": null,
            "order": null,
            "overflow": null,
            "overflow_x": null,
            "overflow_y": null,
            "padding": null,
            "right": null,
            "top": null,
            "visibility": null,
            "width": null
          }
        },
        "7c8d641c42934ef8996b5e133074e892": {
          "model_module": "@jupyter-widgets/controls",
          "model_name": "DescriptionStyleModel",
          "model_module_version": "1.5.0",
          "state": {
            "_model_module": "@jupyter-widgets/controls",
            "_model_module_version": "1.5.0",
            "_model_name": "DescriptionStyleModel",
            "_view_count": null,
            "_view_module": "@jupyter-widgets/base",
            "_view_module_version": "1.2.0",
            "_view_name": "StyleView",
            "description_width": ""
          }
        },
        "d106bf6931e54dd9b0bdc888282b4893": {
          "model_module": "@jupyter-widgets/controls",
          "model_name": "HBoxModel",
          "model_module_version": "1.5.0",
          "state": {
            "_dom_classes": [],
            "_model_module": "@jupyter-widgets/controls",
            "_model_module_version": "1.5.0",
            "_model_name": "HBoxModel",
            "_view_count": null,
            "_view_module": "@jupyter-widgets/controls",
            "_view_module_version": "1.5.0",
            "_view_name": "HBoxView",
            "box_style": "",
            "children": [
              "IPY_MODEL_5d80506716ba46979991eb6bb25ea89c",
              "IPY_MODEL_eb5eb3a4c76847aab6089c9288d9da89",
              "IPY_MODEL_8227a17aa6e746598f1dcd24f5263d35"
            ],
            "layout": "IPY_MODEL_3668873f69c94cca99694eb519582584"
          }
        },
        "5d80506716ba46979991eb6bb25ea89c": {
          "model_module": "@jupyter-widgets/controls",
          "model_name": "HTMLModel",
          "model_module_version": "1.5.0",
          "state": {
            "_dom_classes": [],
            "_model_module": "@jupyter-widgets/controls",
            "_model_module_version": "1.5.0",
            "_model_name": "HTMLModel",
            "_view_count": null,
            "_view_module": "@jupyter-widgets/controls",
            "_view_module_version": "1.5.0",
            "_view_name": "HTMLView",
            "description": "",
            "description_tooltip": null,
            "layout": "IPY_MODEL_1d96c2f15e994f0ba36d7c562dc0e025",
            "placeholder": "​",
            "style": "IPY_MODEL_f34de9f35bc7467790948ce30c777ef1",
            "value": "Downloading (…)lve/main/config.json: 100%"
          }
        },
        "eb5eb3a4c76847aab6089c9288d9da89": {
          "model_module": "@jupyter-widgets/controls",
          "model_name": "FloatProgressModel",
          "model_module_version": "1.5.0",
          "state": {
            "_dom_classes": [],
            "_model_module": "@jupyter-widgets/controls",
            "_model_module_version": "1.5.0",
            "_model_name": "FloatProgressModel",
            "_view_count": null,
            "_view_module": "@jupyter-widgets/controls",
            "_view_module_version": "1.5.0",
            "_view_name": "ProgressView",
            "bar_style": "success",
            "description": "",
            "description_tooltip": null,
            "layout": "IPY_MODEL_1fc7883a760b4dfaa582792d1b2a1041",
            "max": 664,
            "min": 0,
            "orientation": "horizontal",
            "style": "IPY_MODEL_249aac97621a4804aace55cb96c94e05",
            "value": 664
          }
        },
        "8227a17aa6e746598f1dcd24f5263d35": {
          "model_module": "@jupyter-widgets/controls",
          "model_name": "HTMLModel",
          "model_module_version": "1.5.0",
          "state": {
            "_dom_classes": [],
            "_model_module": "@jupyter-widgets/controls",
            "_model_module_version": "1.5.0",
            "_model_name": "HTMLModel",
            "_view_count": null,
            "_view_module": "@jupyter-widgets/controls",
            "_view_module_version": "1.5.0",
            "_view_name": "HTMLView",
            "description": "",
            "description_tooltip": null,
            "layout": "IPY_MODEL_544b5befefa74601a361ca960ed5e390",
            "placeholder": "​",
            "style": "IPY_MODEL_97ec8f8951074f8a93f4510218f1c21d",
            "value": " 664/664 [00:00&lt;00:00, 55.2kB/s]"
          }
        },
        "3668873f69c94cca99694eb519582584": {
          "model_module": "@jupyter-widgets/base",
          "model_name": "LayoutModel",
          "model_module_version": "1.2.0",
          "state": {
            "_model_module": "@jupyter-widgets/base",
            "_model_module_version": "1.2.0",
            "_model_name": "LayoutModel",
            "_view_count": null,
            "_view_module": "@jupyter-widgets/base",
            "_view_module_version": "1.2.0",
            "_view_name": "LayoutView",
            "align_content": null,
            "align_items": null,
            "align_self": null,
            "border": null,
            "bottom": null,
            "display": null,
            "flex": null,
            "flex_flow": null,
            "grid_area": null,
            "grid_auto_columns": null,
            "grid_auto_flow": null,
            "grid_auto_rows": null,
            "grid_column": null,
            "grid_gap": null,
            "grid_row": null,
            "grid_template_areas": null,
            "grid_template_columns": null,
            "grid_template_rows": null,
            "height": null,
            "justify_content": null,
            "justify_items": null,
            "left": null,
            "margin": null,
            "max_height": null,
            "max_width": null,
            "min_height": null,
            "min_width": null,
            "object_fit": null,
            "object_position": null,
            "order": null,
            "overflow": null,
            "overflow_x": null,
            "overflow_y": null,
            "padding": null,
            "right": null,
            "top": null,
            "visibility": null,
            "width": null
          }
        },
        "1d96c2f15e994f0ba36d7c562dc0e025": {
          "model_module": "@jupyter-widgets/base",
          "model_name": "LayoutModel",
          "model_module_version": "1.2.0",
          "state": {
            "_model_module": "@jupyter-widgets/base",
            "_model_module_version": "1.2.0",
            "_model_name": "LayoutModel",
            "_view_count": null,
            "_view_module": "@jupyter-widgets/base",
            "_view_module_version": "1.2.0",
            "_view_name": "LayoutView",
            "align_content": null,
            "align_items": null,
            "align_self": null,
            "border": null,
            "bottom": null,
            "display": null,
            "flex": null,
            "flex_flow": null,
            "grid_area": null,
            "grid_auto_columns": null,
            "grid_auto_flow": null,
            "grid_auto_rows": null,
            "grid_column": null,
            "grid_gap": null,
            "grid_row": null,
            "grid_template_areas": null,
            "grid_template_columns": null,
            "grid_template_rows": null,
            "height": null,
            "justify_content": null,
            "justify_items": null,
            "left": null,
            "margin": null,
            "max_height": null,
            "max_width": null,
            "min_height": null,
            "min_width": null,
            "object_fit": null,
            "object_position": null,
            "order": null,
            "overflow": null,
            "overflow_x": null,
            "overflow_y": null,
            "padding": null,
            "right": null,
            "top": null,
            "visibility": null,
            "width": null
          }
        },
        "f34de9f35bc7467790948ce30c777ef1": {
          "model_module": "@jupyter-widgets/controls",
          "model_name": "DescriptionStyleModel",
          "model_module_version": "1.5.0",
          "state": {
            "_model_module": "@jupyter-widgets/controls",
            "_model_module_version": "1.5.0",
            "_model_name": "DescriptionStyleModel",
            "_view_count": null,
            "_view_module": "@jupyter-widgets/base",
            "_view_module_version": "1.2.0",
            "_view_name": "StyleView",
            "description_width": ""
          }
        },
        "1fc7883a760b4dfaa582792d1b2a1041": {
          "model_module": "@jupyter-widgets/base",
          "model_name": "LayoutModel",
          "model_module_version": "1.2.0",
          "state": {
            "_model_module": "@jupyter-widgets/base",
            "_model_module_version": "1.2.0",
            "_model_name": "LayoutModel",
            "_view_count": null,
            "_view_module": "@jupyter-widgets/base",
            "_view_module_version": "1.2.0",
            "_view_name": "LayoutView",
            "align_content": null,
            "align_items": null,
            "align_self": null,
            "border": null,
            "bottom": null,
            "display": null,
            "flex": null,
            "flex_flow": null,
            "grid_area": null,
            "grid_auto_columns": null,
            "grid_auto_flow": null,
            "grid_auto_rows": null,
            "grid_column": null,
            "grid_gap": null,
            "grid_row": null,
            "grid_template_areas": null,
            "grid_template_columns": null,
            "grid_template_rows": null,
            "height": null,
            "justify_content": null,
            "justify_items": null,
            "left": null,
            "margin": null,
            "max_height": null,
            "max_width": null,
            "min_height": null,
            "min_width": null,
            "object_fit": null,
            "object_position": null,
            "order": null,
            "overflow": null,
            "overflow_x": null,
            "overflow_y": null,
            "padding": null,
            "right": null,
            "top": null,
            "visibility": null,
            "width": null
          }
        },
        "249aac97621a4804aace55cb96c94e05": {
          "model_module": "@jupyter-widgets/controls",
          "model_name": "ProgressStyleModel",
          "model_module_version": "1.5.0",
          "state": {
            "_model_module": "@jupyter-widgets/controls",
            "_model_module_version": "1.5.0",
            "_model_name": "ProgressStyleModel",
            "_view_count": null,
            "_view_module": "@jupyter-widgets/base",
            "_view_module_version": "1.2.0",
            "_view_name": "StyleView",
            "bar_color": null,
            "description_width": ""
          }
        },
        "544b5befefa74601a361ca960ed5e390": {
          "model_module": "@jupyter-widgets/base",
          "model_name": "LayoutModel",
          "model_module_version": "1.2.0",
          "state": {
            "_model_module": "@jupyter-widgets/base",
            "_model_module_version": "1.2.0",
            "_model_name": "LayoutModel",
            "_view_count": null,
            "_view_module": "@jupyter-widgets/base",
            "_view_module_version": "1.2.0",
            "_view_name": "LayoutView",
            "align_content": null,
            "align_items": null,
            "align_self": null,
            "border": null,
            "bottom": null,
            "display": null,
            "flex": null,
            "flex_flow": null,
            "grid_area": null,
            "grid_auto_columns": null,
            "grid_auto_flow": null,
            "grid_auto_rows": null,
            "grid_column": null,
            "grid_gap": null,
            "grid_row": null,
            "grid_template_areas": null,
            "grid_template_columns": null,
            "grid_template_rows": null,
            "height": null,
            "justify_content": null,
            "justify_items": null,
            "left": null,
            "margin": null,
            "max_height": null,
            "max_width": null,
            "min_height": null,
            "min_width": null,
            "object_fit": null,
            "object_position": null,
            "order": null,
            "overflow": null,
            "overflow_x": null,
            "overflow_y": null,
            "padding": null,
            "right": null,
            "top": null,
            "visibility": null,
            "width": null
          }
        },
        "97ec8f8951074f8a93f4510218f1c21d": {
          "model_module": "@jupyter-widgets/controls",
          "model_name": "DescriptionStyleModel",
          "model_module_version": "1.5.0",
          "state": {
            "_model_module": "@jupyter-widgets/controls",
            "_model_module_version": "1.5.0",
            "_model_name": "DescriptionStyleModel",
            "_view_count": null,
            "_view_module": "@jupyter-widgets/base",
            "_view_module_version": "1.2.0",
            "_view_name": "StyleView",
            "description_width": ""
          }
        },
        "030e999668f3413b9e4bd9afefa756cc": {
          "model_module": "@jupyter-widgets/controls",
          "model_name": "HBoxModel",
          "model_module_version": "1.5.0",
          "state": {
            "_dom_classes": [],
            "_model_module": "@jupyter-widgets/controls",
            "_model_module_version": "1.5.0",
            "_model_name": "HBoxModel",
            "_view_count": null,
            "_view_module": "@jupyter-widgets/controls",
            "_view_module_version": "1.5.0",
            "_view_name": "HBoxView",
            "box_style": "",
            "children": [
              "IPY_MODEL_8bbbc020922544b1b62cb52cbd46482c",
              "IPY_MODEL_a9bc23df415b4a5c9a0b0d82fa364fce",
              "IPY_MODEL_8d64c6fe026041a28c327cd3cecd9113"
            ],
            "layout": "IPY_MODEL_3faf0b0122b54af299d36d17435ca054"
          }
        },
        "8bbbc020922544b1b62cb52cbd46482c": {
          "model_module": "@jupyter-widgets/controls",
          "model_name": "HTMLModel",
          "model_module_version": "1.5.0",
          "state": {
            "_dom_classes": [],
            "_model_module": "@jupyter-widgets/controls",
            "_model_module_version": "1.5.0",
            "_model_name": "HTMLModel",
            "_view_count": null,
            "_view_module": "@jupyter-widgets/controls",
            "_view_module_version": "1.5.0",
            "_view_name": "HTMLView",
            "description": "",
            "description_tooltip": null,
            "layout": "IPY_MODEL_edd4b9d11c234a1ba2df1c38f8dd1b56",
            "placeholder": "​",
            "style": "IPY_MODEL_d48f4a19b52346aa8f08b344fee31070",
            "value": "Downloading pytorch_model.bin: 100%"
          }
        },
        "a9bc23df415b4a5c9a0b0d82fa364fce": {
          "model_module": "@jupyter-widgets/controls",
          "model_name": "FloatProgressModel",
          "model_module_version": "1.5.0",
          "state": {
            "_dom_classes": [],
            "_model_module": "@jupyter-widgets/controls",
            "_model_module_version": "1.5.0",
            "_model_name": "FloatProgressModel",
            "_view_count": null,
            "_view_module": "@jupyter-widgets/controls",
            "_view_module_version": "1.5.0",
            "_view_name": "ProgressView",
            "bar_style": "success",
            "description": "",
            "description_tooltip": null,
            "layout": "IPY_MODEL_8515d5f48a7244e8841057de0a491b96",
            "max": 1629877663,
            "min": 0,
            "orientation": "horizontal",
            "style": "IPY_MODEL_c3ff18c42968486f9f9e9b9da0b8433c",
            "value": 1629877663
          }
        },
        "8d64c6fe026041a28c327cd3cecd9113": {
          "model_module": "@jupyter-widgets/controls",
          "model_name": "HTMLModel",
          "model_module_version": "1.5.0",
          "state": {
            "_dom_classes": [],
            "_model_module": "@jupyter-widgets/controls",
            "_model_module_version": "1.5.0",
            "_model_name": "HTMLModel",
            "_view_count": null,
            "_view_module": "@jupyter-widgets/controls",
            "_view_module_version": "1.5.0",
            "_view_name": "HTMLView",
            "description": "",
            "description_tooltip": null,
            "layout": "IPY_MODEL_75252421ae9649fdade286445815c2aa",
            "placeholder": "​",
            "style": "IPY_MODEL_76e38ff5961f4c5f9ec22f1928d6aa71",
            "value": " 1.63G/1.63G [00:37&lt;00:00, 32.3MB/s]"
          }
        },
        "3faf0b0122b54af299d36d17435ca054": {
          "model_module": "@jupyter-widgets/base",
          "model_name": "LayoutModel",
          "model_module_version": "1.2.0",
          "state": {
            "_model_module": "@jupyter-widgets/base",
            "_model_module_version": "1.2.0",
            "_model_name": "LayoutModel",
            "_view_count": null,
            "_view_module": "@jupyter-widgets/base",
            "_view_module_version": "1.2.0",
            "_view_name": "LayoutView",
            "align_content": null,
            "align_items": null,
            "align_self": null,
            "border": null,
            "bottom": null,
            "display": null,
            "flex": null,
            "flex_flow": null,
            "grid_area": null,
            "grid_auto_columns": null,
            "grid_auto_flow": null,
            "grid_auto_rows": null,
            "grid_column": null,
            "grid_gap": null,
            "grid_row": null,
            "grid_template_areas": null,
            "grid_template_columns": null,
            "grid_template_rows": null,
            "height": null,
            "justify_content": null,
            "justify_items": null,
            "left": null,
            "margin": null,
            "max_height": null,
            "max_width": null,
            "min_height": null,
            "min_width": null,
            "object_fit": null,
            "object_position": null,
            "order": null,
            "overflow": null,
            "overflow_x": null,
            "overflow_y": null,
            "padding": null,
            "right": null,
            "top": null,
            "visibility": null,
            "width": null
          }
        },
        "edd4b9d11c234a1ba2df1c38f8dd1b56": {
          "model_module": "@jupyter-widgets/base",
          "model_name": "LayoutModel",
          "model_module_version": "1.2.0",
          "state": {
            "_model_module": "@jupyter-widgets/base",
            "_model_module_version": "1.2.0",
            "_model_name": "LayoutModel",
            "_view_count": null,
            "_view_module": "@jupyter-widgets/base",
            "_view_module_version": "1.2.0",
            "_view_name": "LayoutView",
            "align_content": null,
            "align_items": null,
            "align_self": null,
            "border": null,
            "bottom": null,
            "display": null,
            "flex": null,
            "flex_flow": null,
            "grid_area": null,
            "grid_auto_columns": null,
            "grid_auto_flow": null,
            "grid_auto_rows": null,
            "grid_column": null,
            "grid_gap": null,
            "grid_row": null,
            "grid_template_areas": null,
            "grid_template_columns": null,
            "grid_template_rows": null,
            "height": null,
            "justify_content": null,
            "justify_items": null,
            "left": null,
            "margin": null,
            "max_height": null,
            "max_width": null,
            "min_height": null,
            "min_width": null,
            "object_fit": null,
            "object_position": null,
            "order": null,
            "overflow": null,
            "overflow_x": null,
            "overflow_y": null,
            "padding": null,
            "right": null,
            "top": null,
            "visibility": null,
            "width": null
          }
        },
        "d48f4a19b52346aa8f08b344fee31070": {
          "model_module": "@jupyter-widgets/controls",
          "model_name": "DescriptionStyleModel",
          "model_module_version": "1.5.0",
          "state": {
            "_model_module": "@jupyter-widgets/controls",
            "_model_module_version": "1.5.0",
            "_model_name": "DescriptionStyleModel",
            "_view_count": null,
            "_view_module": "@jupyter-widgets/base",
            "_view_module_version": "1.2.0",
            "_view_name": "StyleView",
            "description_width": ""
          }
        },
        "8515d5f48a7244e8841057de0a491b96": {
          "model_module": "@jupyter-widgets/base",
          "model_name": "LayoutModel",
          "model_module_version": "1.2.0",
          "state": {
            "_model_module": "@jupyter-widgets/base",
            "_model_module_version": "1.2.0",
            "_model_name": "LayoutModel",
            "_view_count": null,
            "_view_module": "@jupyter-widgets/base",
            "_view_module_version": "1.2.0",
            "_view_name": "LayoutView",
            "align_content": null,
            "align_items": null,
            "align_self": null,
            "border": null,
            "bottom": null,
            "display": null,
            "flex": null,
            "flex_flow": null,
            "grid_area": null,
            "grid_auto_columns": null,
            "grid_auto_flow": null,
            "grid_auto_rows": null,
            "grid_column": null,
            "grid_gap": null,
            "grid_row": null,
            "grid_template_areas": null,
            "grid_template_columns": null,
            "grid_template_rows": null,
            "height": null,
            "justify_content": null,
            "justify_items": null,
            "left": null,
            "margin": null,
            "max_height": null,
            "max_width": null,
            "min_height": null,
            "min_width": null,
            "object_fit": null,
            "object_position": null,
            "order": null,
            "overflow": null,
            "overflow_x": null,
            "overflow_y": null,
            "padding": null,
            "right": null,
            "top": null,
            "visibility": null,
            "width": null
          }
        },
        "c3ff18c42968486f9f9e9b9da0b8433c": {
          "model_module": "@jupyter-widgets/controls",
          "model_name": "ProgressStyleModel",
          "model_module_version": "1.5.0",
          "state": {
            "_model_module": "@jupyter-widgets/controls",
            "_model_module_version": "1.5.0",
            "_model_name": "ProgressStyleModel",
            "_view_count": null,
            "_view_module": "@jupyter-widgets/base",
            "_view_module_version": "1.2.0",
            "_view_name": "StyleView",
            "bar_color": null,
            "description_width": ""
          }
        },
        "75252421ae9649fdade286445815c2aa": {
          "model_module": "@jupyter-widgets/base",
          "model_name": "LayoutModel",
          "model_module_version": "1.2.0",
          "state": {
            "_model_module": "@jupyter-widgets/base",
            "_model_module_version": "1.2.0",
            "_model_name": "LayoutModel",
            "_view_count": null,
            "_view_module": "@jupyter-widgets/base",
            "_view_module_version": "1.2.0",
            "_view_name": "LayoutView",
            "align_content": null,
            "align_items": null,
            "align_self": null,
            "border": null,
            "bottom": null,
            "display": null,
            "flex": null,
            "flex_flow": null,
            "grid_area": null,
            "grid_auto_columns": null,
            "grid_auto_flow": null,
            "grid_auto_rows": null,
            "grid_column": null,
            "grid_gap": null,
            "grid_row": null,
            "grid_template_areas": null,
            "grid_template_columns": null,
            "grid_template_rows": null,
            "height": null,
            "justify_content": null,
            "justify_items": null,
            "left": null,
            "margin": null,
            "max_height": null,
            "max_width": null,
            "min_height": null,
            "min_width": null,
            "object_fit": null,
            "object_position": null,
            "order": null,
            "overflow": null,
            "overflow_x": null,
            "overflow_y": null,
            "padding": null,
            "right": null,
            "top": null,
            "visibility": null,
            "width": null
          }
        },
        "76e38ff5961f4c5f9ec22f1928d6aa71": {
          "model_module": "@jupyter-widgets/controls",
          "model_name": "DescriptionStyleModel",
          "model_module_version": "1.5.0",
          "state": {
            "_model_module": "@jupyter-widgets/controls",
            "_model_module_version": "1.5.0",
            "_model_name": "DescriptionStyleModel",
            "_view_count": null,
            "_view_module": "@jupyter-widgets/base",
            "_view_module_version": "1.2.0",
            "_view_name": "StyleView",
            "description_width": ""
          }
        }
      }
    }
  },
  "nbformat": 4,
  "nbformat_minor": 0
}
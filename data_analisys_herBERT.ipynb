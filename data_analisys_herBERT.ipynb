{
  "nbformat": 4,
  "nbformat_minor": 0,
  "metadata": {
    "colab": {
      "provenance": [],
      "authorship_tag": "ABX9TyO6LzEdRPwQkdOGltcrrQVl",
      "include_colab_link": true
    },
    "kernelspec": {
      "name": "python3",
      "display_name": "Python 3"
    },
    "language_info": {
      "name": "python"
    }
  },
  "cells": [
    {
      "cell_type": "markdown",
      "metadata": {
        "id": "view-in-github",
        "colab_type": "text"
      },
      "source": [
        "<a href=\"https://colab.research.google.com/github/NikolaJanik/Polish_poetry_classification_with_transformers/blob/main/data_analisys_herBERT.ipynb\" target=\"_parent\"><img src=\"https://colab.research.google.com/assets/colab-badge.svg\" alt=\"Open In Colab\"/></a>"
      ]
    },
    {
      "cell_type": "markdown",
      "source": [
        "# Poetry Classification and Embedding Analysis with HerBERT"
      ],
      "metadata": {
        "id": "gyCBoICL49Ge"
      }
    },
    {
      "cell_type": "markdown",
      "source": [
        "# 1. Install Dependencies (for Colab)"
      ],
      "metadata": {
        "id": "2f6axYpi4wkv"
      }
    },
    {
      "cell_type": "code",
      "source": [
        "!pip install -q transformers sacremoses umap-learn"
      ],
      "metadata": {
        "id": "IqqR3sX54rPA"
      },
      "execution_count": null,
      "outputs": []
    },
    {
      "cell_type": "markdown",
      "source": [
        "# 2. Import Libraries"
      ],
      "metadata": {
        "id": "Nttdk_Ax4bE6"
      }
    },
    {
      "cell_type": "code",
      "source": [
        "import pandas as pd\n",
        "import numpy as np\n",
        "import matplotlib.pyplot as plt\n",
        "import seaborn as sns\n",
        "from tqdm import tqdm\n",
        "from sklearn.model_selection import train_test_split\n",
        "from sklearn.preprocessing import StandardScaler\n",
        "from sklearn.decomposition import PCA\n",
        "import umap\n",
        "import torch\n",
        "from transformers import HerbertTokenizer, RobertaModel"
      ],
      "metadata": {
        "id": "CvW2CylA4k1c"
      },
      "execution_count": null,
      "outputs": []
    },
    {
      "cell_type": "markdown",
      "source": [
        "# 3. Load and Clean Data"
      ],
      "metadata": {
        "id": "Ykg9kJkM4hZ5"
      }
    },
    {
      "cell_type": "code",
      "source": [
        "df = pd.read_csv(\"/mnt/data/polish_poetry.csv\", sep=\";\")\n",
        "df = df.drop(columns=[col for col in df.columns if \"Unnamed\" in col])\n",
        "df = df.dropna(subset=[\"Text\", \"Label\", \"Author-short\"])\n",
        "df = df.reset_index(drop=True)"
      ],
      "metadata": {
        "id": "mu-59eHu4eHG"
      },
      "execution_count": null,
      "outputs": []
    },
    {
      "cell_type": "markdown",
      "source": [
        "# 4. Initialize HerBERT Model"
      ],
      "metadata": {
        "id": "uRSg0CqH4dUj"
      }
    },
    {
      "cell_type": "code",
      "source": [
        "herbert_tokenizer = HerbertTokenizer.from_pretrained(\"allegro/herbert-large-cased\")\n",
        "herbert_model = RobertaModel.from_pretrained(\"allegro/herbert-large-cased\")"
      ],
      "metadata": {
        "id": "YJAnQsxs4YQE"
      },
      "execution_count": null,
      "outputs": []
    },
    {
      "cell_type": "markdown",
      "source": [
        "# 5. Generate Embeddings"
      ],
      "metadata": {
        "id": "yKEXpOeN4V_C"
      }
    },
    {
      "cell_type": "code",
      "source": [
        "def generate_embeddings(texts, tokenizer, model):\n",
        "    embeddings = []\n",
        "    for text in tqdm(texts):\n",
        "        inputs = tokenizer(text, return_tensors=\"pt\", truncation=True, padding=\"max_length\", max_length=512)\n",
        "        with torch.no_grad():\n",
        "            outputs = model(**inputs)\n",
        "        cls_embedding = outputs.last_hidden_state[:, 0, :].squeeze().numpy()\n",
        "        embeddings.append(cls_embedding)\n",
        "    return np.array(embeddings)"
      ],
      "metadata": {
        "id": "maAkTJfS4TT8"
      },
      "execution_count": null,
      "outputs": []
    },
    {
      "cell_type": "code",
      "source": [
        "X_embeddings = generate_embeddings(df[\"Text\"], herbert_tokenizer, herbert_model)\n",
        "df[\"Herbert_embedding\"] = list(X_embeddings)"
      ],
      "metadata": {
        "id": "wY-fGX1o4Onb"
      },
      "execution_count": null,
      "outputs": []
    },
    {
      "cell_type": "markdown",
      "source": [
        "# 6. Prepare X and y"
      ],
      "metadata": {
        "id": "YsguJvsT4Lf4"
      }
    },
    {
      "cell_type": "code",
      "source": [
        "X = np.stack(df[\"Herbert_embedding\"].values)\n",
        "y = df[\"Label\"].values"
      ],
      "metadata": {
        "id": "SFBPmju94KaI"
      },
      "execution_count": null,
      "outputs": []
    },
    {
      "cell_type": "markdown",
      "source": [
        "# 7. Normalize Data"
      ],
      "metadata": {
        "id": "JIHDA_D84EVZ"
      }
    },
    {
      "cell_type": "code",
      "source": [
        "def normalize_data(X: np.ndarray) -> np.ndarray:\n",
        "    return (X - X.mean(axis=1, keepdims=True)) / X.std(axis=1, keepdims=True)\n",
        "\n",
        "X_normalized = normalize_data(X)"
      ],
      "metadata": {
        "id": "liWKBfXx3_Rb"
      },
      "execution_count": null,
      "outputs": []
    },
    {
      "cell_type": "markdown",
      "source": [
        "# 8. UMAP Projection"
      ],
      "metadata": {
        "id": "zhYOgwKL36nU"
      }
    },
    {
      "cell_type": "code",
      "source": [
        "reducer = umap.UMAP(n_neighbors=10, min_dist=0.1, n_components=2, metric='euclidean')\n",
        "X_umap = reducer.fit_transform(StandardScaler().fit_transform(X))\n",
        "\n",
        "plt.figure(figsize=(10,10))\n",
        "sns.scatterplot(x=X_umap[:,0], y=X_umap[:,1], hue=df['Author-short'], palette='Set2')\n",
        "plt.title(\"UMAP Projection of Poem Embeddings\")\n",
        "plt.show()"
      ],
      "metadata": {
        "id": "H8q1A63-3tK2"
      },
      "execution_count": null,
      "outputs": []
    },
    {
      "cell_type": "markdown",
      "source": [
        "## 9. PCA 3D Projection"
      ],
      "metadata": {
        "id": "ZkQ3iARF3vjp"
      }
    },
    {
      "cell_type": "code",
      "source": [
        "pca = PCA(n_components=3)\n",
        "X_pca = pca.fit_transform(StandardScaler().fit_transform(X))\n",
        "\n",
        "from mpl_toolkits.mplot3d import Axes3D\n",
        "fig = plt.figure(figsize=(12,8))\n",
        "ax = fig.add_subplot(111, projection='3d')\n",
        "\n",
        "for label in np.unique(y):\n",
        "    idx = np.where(y == label)\n",
        "    ax.scatter(X_pca[idx,0], X_pca[idx,1], X_pca[idx,2], label=df['Author-short'].iloc[idx[0]])\n",
        "\n",
        "ax.set_title(\"3D PCA Projection\")\n",
        "ax.legend()\n",
        "plt.show()"
      ],
      "metadata": {
        "id": "IPHwHI313pCT"
      },
      "execution_count": null,
      "outputs": []
    },
    {
      "cell_type": "markdown",
      "source": [
        "# 10. Distance Matrices (Euclidean & Cosine)"
      ],
      "metadata": {
        "id": "Rw3IpjMW3mYW"
      }
    },
    {
      "cell_type": "code",
      "source": [
        "euc_dist = np.linalg.norm(X_normalized[:, None, :] - X_normalized[None, :, :], axis=-1)\n",
        "cos_dist = np.dot(X_normalized, X_normalized.T) / X.shape[1]"
      ],
      "metadata": {
        "id": "haQ1DT3r3jeA"
      },
      "execution_count": null,
      "outputs": []
    },
    {
      "cell_type": "code",
      "source": [
        "fig, ax = plt.subplots(1, 2, figsize=(18, 8))\n",
        "ax[0].imshow(euc_dist)\n",
        "ax[0].set_title(\"Euclidean Distance\")\n",
        "ax[1].imshow(cos_dist)\n",
        "ax[1].set_title(\"Cosine Similarity\")\n",
        "plt.show()"
      ],
      "metadata": {
        "id": "v1UQUjfK3X5C"
      },
      "execution_count": null,
      "outputs": []
    },
    {
      "cell_type": "markdown",
      "source": [
        "# 11. Save Results (Optional)"
      ],
      "metadata": {
        "id": "CGOEaqre3ak-"
      }
    },
    {
      "cell_type": "code",
      "execution_count": null,
      "metadata": {
        "id": "68V_mGF53ASO"
      },
      "outputs": [],
      "source": [
        "# %%\n",
        "# df.to_csv(\"poetry_with_embeddings.csv\", index=False)\n",
        "# np.save(\"X_normalized.npy\", X_normalized)\n",
        "# np.save(\"euclidean_distance.npy\", euc_dist)\n",
        "# np.save(\"cosine_similarity.npy\", cos_dist)"
      ]
    }
  ]
}
{
  "nbformat": 4,
  "nbformat_minor": 0,
  "metadata": {
    "colab": {
      "provenance": [],
      "authorship_tag": "ABX9TyMp2xtncHivg2mzDCOpbBYu",
      "include_colab_link": true
    },
    "kernelspec": {
      "name": "python3",
      "display_name": "Python 3"
    },
    "language_info": {
      "name": "python"
    }
  },
  "cells": [
    {
      "cell_type": "markdown",
      "metadata": {
        "id": "view-in-github",
        "colab_type": "text"
      },
      "source": [
        "<a href=\"https://colab.research.google.com/github/NikolaJanik/Polish_poetry_classification_with_transformers/blob/main/data_analisis_herBERT_men_women.ipynb\" target=\"_parent\"><img src=\"https://colab.research.google.com/assets/colab-badge.svg\" alt=\"Open In Colab\"/></a>"
      ]
    },
    {
      "cell_type": "markdown",
      "source": [
        "# Gender-Based Poetry Embedding Analysis with HerBERT"
      ],
      "metadata": {
        "id": "O4YxTwsQLhQt"
      }
    },
    {
      "cell_type": "markdown",
      "source": [
        "# 1. Install Dependencies (only needed in Colab)"
      ],
      "metadata": {
        "id": "A8oltfJ2LkDg"
      }
    },
    {
      "cell_type": "code",
      "execution_count": null,
      "metadata": {
        "id": "aSeOag4sLPDi"
      },
      "outputs": [],
      "source": [
        "!pip install -q transformers sacremoses umap-learn"
      ]
    },
    {
      "cell_type": "markdown",
      "source": [
        "# 2. Import Libraries"
      ],
      "metadata": {
        "id": "VHEWebRELpa-"
      }
    },
    {
      "cell_type": "code",
      "source": [
        "import pandas as pd\n",
        "import numpy as np\n",
        "import matplotlib.pyplot as plt\n",
        "import seaborn as sns\n",
        "from tqdm import tqdm\n",
        "from sklearn.preprocessing import StandardScaler\n",
        "from sklearn.decomposition import PCA\n",
        "from sklearn.manifold import TSNE\n",
        "import umap\n",
        "import torch\n",
        "from transformers import HerbertTokenizer, RobertaModel"
      ],
      "metadata": {
        "id": "QrvXGyLeLrQj"
      },
      "execution_count": null,
      "outputs": []
    },
    {
      "cell_type": "markdown",
      "source": [
        "# 3. Load and Prepare Data"
      ],
      "metadata": {
        "id": "MoZSGJlbLuRB"
      }
    },
    {
      "cell_type": "code",
      "source": [
        "df = pd.read_csv(\"/mnt/data/polish_poetry.csv\", sep=\";\")\n",
        "df = df.drop(columns=[col for col in df.columns if \"Unnamed\" in col])"
      ],
      "metadata": {
        "id": "2GI-wmjjLsUZ"
      },
      "execution_count": null,
      "outputs": []
    },
    {
      "cell_type": "code",
      "source": [
        "# Assign Gender: first 200 = men, next 200 = women\n",
        "df_men = df.iloc[:200].copy()\n",
        "df_women = df.iloc[200:400].copy()\n",
        "df_men[\"Gender\"] = \"M\"\n",
        "df_women[\"Gender\"] = \"K\"\n",
        "df_all = pd.concat([df_men, df_women]).reset_index(drop=True)"
      ],
      "metadata": {
        "id": "DVsraVkgL0vB"
      },
      "execution_count": null,
      "outputs": []
    },
    {
      "cell_type": "markdown",
      "source": [
        "# 4. Initialize HerBERT Model"
      ],
      "metadata": {
        "id": "zh-MVNaoL27F"
      }
    },
    {
      "cell_type": "code",
      "source": [
        "tokenizer = HerbertTokenizer.from_pretrained(\"allegro/herbert-large-cased\")\n",
        "model = RobertaModel.from_pretrained(\"allegro/herbert-large-cased\")"
      ],
      "metadata": {
        "id": "i26NJk5IL-Wn"
      },
      "execution_count": null,
      "outputs": []
    },
    {
      "cell_type": "markdown",
      "source": [
        "# 5. Generate Embeddings"
      ],
      "metadata": {
        "id": "vff-R0lSMA5P"
      }
    },
    {
      "cell_type": "code",
      "source": [
        "def generate_embeddings(texts, tokenizer, model):\n",
        "    embeddings = []\n",
        "    for text in tqdm(texts):\n",
        "        inputs = tokenizer(text, return_tensors=\"pt\", truncation=True, padding=\"max_length\", max_length=512)\n",
        "        with torch.no_grad():\n",
        "            outputs = model(**inputs)\n",
        "        cls_embedding = outputs.last_hidden_state[:, 0, :].squeeze().numpy()\n",
        "        embeddings.append(cls_embedding)\n",
        "    return np.array(embeddings)"
      ],
      "metadata": {
        "id": "N6KPHR7TMAlu"
      },
      "execution_count": null,
      "outputs": []
    },
    {
      "cell_type": "code",
      "source": [
        "X_embeddings = generate_embeddings(df_all[\"Text\"], tokenizer, model)\n",
        "df_all[\"Embedding\"] = list(X_embeddings)"
      ],
      "metadata": {
        "id": "pm7Ep8qyMAZN"
      },
      "execution_count": null,
      "outputs": []
    },
    {
      "cell_type": "markdown",
      "source": [
        "# 6. Normalize Embeddings"
      ],
      "metadata": {
        "id": "y7iHqLAwMGfQ"
      }
    },
    {
      "cell_type": "code",
      "source": [
        "def normalize_embeddings(X):\n",
        "    return (X - X.mean(axis=1, keepdims=True)) / X.std(axis=1, keepdims=True)"
      ],
      "metadata": {
        "id": "dV65d9XDMAKg"
      },
      "execution_count": null,
      "outputs": []
    },
    {
      "cell_type": "code",
      "source": [
        "X = np.stack(df_all[\"Embedding\"].values)\n",
        "X_norm = normalize_embeddings(X)"
      ],
      "metadata": {
        "id": "AY0OsNgoMKij"
      },
      "execution_count": null,
      "outputs": []
    },
    {
      "cell_type": "markdown",
      "source": [
        "# 7. Dimensionality Reduction (UMAP, PCA, t-SNE)"
      ],
      "metadata": {
        "id": "zNUEHe1FMOiK"
      }
    },
    {
      "cell_type": "code",
      "source": [
        "scaler = StandardScaler()\n",
        "X_scaled = scaler.fit_transform(X)\n"
      ],
      "metadata": {
        "id": "yNfriurKMOS5"
      },
      "execution_count": null,
      "outputs": []
    },
    {
      "cell_type": "code",
      "source": [
        "umap_2d = umap.UMAP(n_components=2).fit_transform(X_scaled)\n",
        "pca_2d = PCA(n_components=2).fit_transform(X_scaled)\n",
        "tsne_2d = TSNE(n_components=2, perplexity=30, random_state=42).fit_transform(X_scaled)"
      ],
      "metadata": {
        "id": "SOod_AqWMKcD"
      },
      "execution_count": null,
      "outputs": []
    },
    {
      "cell_type": "code",
      "source": [
        "def plot_projection(data_2d, labels, title):\n",
        "    plt.figure(figsize=(8, 6))\n",
        "    sns.scatterplot(x=data_2d[:, 0], y=data_2d[:, 1], hue=labels, palette=\"Set2\")\n",
        "    plt.title(title)\n",
        "    plt.xlabel(\"Dim 1\")\n",
        "    plt.ylabel(\"Dim 2\")\n",
        "    plt.legend()\n",
        "    plt.tight_layout()\n",
        "    plt.show()"
      ],
      "metadata": {
        "id": "TlKDxic5MKVA"
      },
      "execution_count": null,
      "outputs": []
    },
    {
      "cell_type": "code",
      "source": [
        "plot_projection(umap_2d, df_all[\"Gender\"], \"UMAP Projection by Gender\")\n",
        "plot_projection(pca_2d, df_all[\"Gender\"], \"PCA Projection by Gender\")\n",
        "plot_projection(tsne_2d, df_all[\"Gender\"], \"t-SNE Projection by Gender\")"
      ],
      "metadata": {
        "id": "B7ytvHz7MKNQ"
      },
      "execution_count": null,
      "outputs": []
    },
    {
      "cell_type": "markdown",
      "source": [
        "# 9. Distance Matrices (Euclidean, Cosine)"
      ],
      "metadata": {
        "id": "HADPO7F-MV4W"
      }
    },
    {
      "cell_type": "code",
      "source": [
        "euc_dist = np.linalg.norm(X_norm[:, None, :] - X_norm[None, :, :], axis=-1)\n",
        "cos_sim = np.dot(X_norm, X_norm.T)"
      ],
      "metadata": {
        "id": "QvMswP8dMVox"
      },
      "execution_count": null,
      "outputs": []
    },
    {
      "cell_type": "code",
      "source": [
        "fig, ax = plt.subplots(1, 2, figsize=(16, 6))\n",
        "sns.heatmap(euc_dist, ax=ax[0], cmap=\"viridis\")\n",
        "ax[0].set_title(\"Euclidean Distance\")\n",
        "sns.heatmap(cos_sim, ax=ax[1], cmap=\"coolwarm\")\n",
        "ax[1].set_title(\"Cosine Similarity\")\n",
        "plt.tight_layout()\n",
        "plt.show()"
      ],
      "metadata": {
        "id": "IoGkHf03MUtd"
      },
      "execution_count": null,
      "outputs": []
    },
    {
      "cell_type": "markdown",
      "source": [
        "# 10. Save (Optional)"
      ],
      "metadata": {
        "id": "wJAGwLxcMcAJ"
      }
    },
    {
      "cell_type": "code",
      "source": [
        "# df_all.to_csv(\"poetry_gender_embeddings.csv\", index=False)\n",
        "# np.save(\"embeddings_normalized.npy\", X_norm)\n",
        "# np.save(\"euclidean_distance.npy\", euc_dist)\n",
        "# np.save(\"cosine_similarity.npy\", cos_sim)"
      ],
      "metadata": {
        "id": "0vWvN6KMMbvo"
      },
      "execution_count": null,
      "outputs": []
    }
  ]
}
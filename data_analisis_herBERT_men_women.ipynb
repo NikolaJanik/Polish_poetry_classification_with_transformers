{
  "nbformat": 4,
  "nbformat_minor": 0,
  "metadata": {
    "colab": {
      "provenance": [],
      "authorship_tag": "ABX9TyNxgONktgiMOikmTdb/99NU",
      "include_colab_link": true
    },
    "kernelspec": {
      "name": "python3",
      "display_name": "Python 3"
    },
    "language_info": {
      "name": "python"
    }
  },
  "cells": [
    {
      "cell_type": "markdown",
      "metadata": {
        "id": "view-in-github",
        "colab_type": "text"
      },
      "source": [
        "<a href=\"https://colab.research.google.com/github/NikolaJanik/Polish_poetry_classification_with_transformers/blob/main/data_analisis_herBERT_men_women.ipynb\" target=\"_parent\"><img src=\"https://colab.research.google.com/assets/colab-badge.svg\" alt=\"Open In Colab\"/></a>"
      ]
    },
    {
      "cell_type": "markdown",
      "source": [
        "# Gender-Based Poetry Embedding Analysis with HerBERT"
      ],
      "metadata": {
        "id": "O4YxTwsQLhQt"
      }
    },
    {
      "cell_type": "markdown",
      "source": [
        "# 1. Install Dependencies (only needed in Colab)"
      ],
      "metadata": {
        "id": "A8oltfJ2LkDg"
      }
    },
    {
      "cell_type": "code",
      "execution_count": null,
      "metadata": {
        "id": "aSeOag4sLPDi"
      },
      "outputs": [],
      "source": [
        "!pip install -q transformers sacremoses umap-learn"
      ]
    },
    {
      "cell_type": "markdown",
      "source": [
        "# 2. Import Libraries"
      ],
      "metadata": {
        "id": "VHEWebRELpa-"
      }
    },
    {
      "cell_type": "code",
      "source": [
        "import pandas as pd\n",
        "import numpy as np\n",
        "import matplotlib.pyplot as plt\n",
        "import seaborn as sns\n",
        "from tqdm import tqdm\n",
        "from sklearn.preprocessing import StandardScaler\n",
        "from sklearn.decomposition import PCA\n",
        "from sklearn.manifold import TSNE\n",
        "import umap\n",
        "import torch\n",
        "from transformers import HerbertTokenizer, RobertaModel"
      ],
      "metadata": {
        "id": "QrvXGyLeLrQj"
      },
      "execution_count": null,
      "outputs": []
    },
    {
      "cell_type": "markdown",
      "source": [
        "# 3. Load and Prepare Data"
      ],
      "metadata": {
        "id": "MoZSGJlbLuRB"
      }
    },
    {
      "cell_type": "code",
      "source": [
        "df = pd.read_csv(\"/mnt/data/polish_poetry.csv\", sep=\";\")\n",
        "df = df.dropna(subset=[\"Text\", \"Label\", \"Author-short\"]).reset_index(drop=True)"
      ],
      "metadata": {
        "id": "2GI-wmjjLsUZ"
      },
      "execution_count": null,
      "outputs": []
    },
    {
      "cell_type": "code",
      "source": [
        "# Assign Gender: first 200 = men, next 200 = women\n",
        "df_men = df.iloc[:200].reset_index(drop=True)\n",
        "df_women = df.iloc[200:400].reset_index(drop=True)"
      ],
      "metadata": {
        "id": "DVsraVkgL0vB"
      },
      "execution_count": null,
      "outputs": []
    },
    {
      "cell_type": "markdown",
      "source": [
        "# 4. Initialize HerBERT Model"
      ],
      "metadata": {
        "id": "zh-MVNaoL27F"
      }
    },
    {
      "cell_type": "code",
      "source": [
        "tokenizer = HerbertTokenizer.from_pretrained(\"allegro/herbert-large-cased\")\n",
        "model = RobertaModel.from_pretrained(\"allegro/herbert-large-cased\")"
      ],
      "metadata": {
        "id": "i26NJk5IL-Wn"
      },
      "execution_count": null,
      "outputs": []
    },
    {
      "cell_type": "markdown",
      "source": [
        "# 5. Generate Embeddings"
      ],
      "metadata": {
        "id": "vff-R0lSMA5P"
      }
    },
    {
      "cell_type": "code",
      "source": [
        "def generate_embeddings(texts, tokenizer, model):\n",
        "    embeddings = []\n",
        "    for text in tqdm(texts):\n",
        "        inputs = tokenizer(text, return_tensors=\"pt\", truncation=True, padding=\"max_length\", max_length=512)\n",
        "        with torch.no_grad():\n",
        "            outputs = model(**inputs)\n",
        "        cls_embedding = outputs.last_hidden_state[:, 0, :].squeeze().numpy()\n",
        "        embeddings.append(cls_embedding)\n",
        "    return np.array(embeddings)"
      ],
      "metadata": {
        "id": "N6KPHR7TMAlu"
      },
      "execution_count": null,
      "outputs": []
    },
    {
      "cell_type": "code",
      "source": [
        "X_men = generate_embeddings(df_men[\"Text\"], tokenizer, model)\n",
        "X_women = generate_embeddings(df_women[\"Text\"], tokenizer, model)"
      ],
      "metadata": {
        "id": "pm7Ep8qyMAZN"
      },
      "execution_count": null,
      "outputs": []
    },
    {
      "cell_type": "markdown",
      "source": [
        "# 6. Normalize Embeddings"
      ],
      "metadata": {
        "id": "y7iHqLAwMGfQ"
      }
    },
    {
      "cell_type": "code",
      "source": [
        "def normalize_embeddings(X):\n",
        "    return (X - X.mean(axis=1, keepdims=True)) / X.std(axis=1, keepdims=True)"
      ],
      "metadata": {
        "id": "dV65d9XDMAKg"
      },
      "execution_count": null,
      "outputs": []
    },
    {
      "cell_type": "code",
      "source": [
        "X_men_norm = normalize(X_men)\n",
        "X_women_norm = normalize(X_women)"
      ],
      "metadata": {
        "id": "AY0OsNgoMKij"
      },
      "execution_count": null,
      "outputs": []
    },
    {
      "cell_type": "markdown",
      "source": [
        "# 7. Function to make plots (UMAP, PCA, t-SNE)"
      ],
      "metadata": {
        "id": "zNUEHe1FMOiK"
      }
    },
    {
      "cell_type": "code",
      "source": [
        "def plot_projection(X, labels, method=\"UMAP\", title=\"\"):\n",
        "    if method == \"UMAP\":\n",
        "        reducer = umap.UMAP(n_neighbors=10, min_dist=0.1, n_components=2)\n",
        "        X_proj = reducer.fit_transform(StandardScaler().fit_transform(X))\n",
        "    elif method == \"PCA\":\n",
        "        X_proj = PCA(n_components=2).fit_transform(X)\n",
        "    elif method == \"TSNE\":\n",
        "        X_proj = TSNE(n_components=2, perplexity=20).fit_transform(X)\n",
        "    else:\n",
        "        raise ValueError(\"Unsupported method\")\n",
        "\n",
        "    plt.figure(figsize=(10,10))\n",
        "    sns.scatterplot(x=X_proj[:,0], y=X_proj[:,1], hue=labels, palette=\"Set2\", s=100)\n",
        "    plt.title(f\"{title} — {method}\")\n",
        "    plt.show()"
      ],
      "metadata": {
        "id": "BQ11mwugAKUi"
      },
      "execution_count": null,
      "outputs": []
    },
    {
      "cell_type": "markdown",
      "source": [
        "# 8. 2D visualization"
      ],
      "metadata": {
        "id": "wJVP48hzAkm4"
      }
    },
    {
      "cell_type": "code",
      "source": [
        "plot_projection(X_men_norm, df_men[\"Author-short\"], method=\"UMAP\", title=\"Men\")\n",
        "plot_projection(X_women_norm, df_women[\"Author-short\"], method=\"UMAP\", title=\"Women\")\n",
        "plot_projection(X_men_norm, df_men[\"Author-short\"], method=\"PCA\", title=\"Men\")\n",
        "plot_projection(X_women_norm, df_women[\"Author-short\"], method=\"PCA\", title=\"Women\")\n",
        "plot_projection(X_men_norm, df_men[\"Author-short\"], method=\"TSNE\", title=\"Men\")\n",
        "plot_projection(X_women_norm, df_women[\"Author-short\"], method=\"TSNE\", title=\"Women\")"
      ],
      "metadata": {
        "id": "Vcg4X3S3AVyd"
      },
      "execution_count": null,
      "outputs": []
    },
    {
      "cell_type": "markdown",
      "source": [
        "# 9. PCA 3D"
      ],
      "metadata": {
        "id": "xEYs4E2hAtah"
      }
    },
    {
      "cell_type": "code",
      "source": [
        "from mpl_toolkits.mplot3d import Axes3D\n",
        "\n",
        "def plot_pca_3d(X, labels, title=\"\"):\n",
        "    pca = PCA(n_components=3)\n",
        "    X_pca = pca.fit_transform(X)\n",
        "\n",
        "    fig = plt.figure(figsize=(12,8))\n",
        "    ax = fig.add_subplot(111, projection='3d')\n",
        "    for label in np.unique(labels):\n",
        "        idx = labels == label\n",
        "        ax.scatter(X_pca[idx,0], X_pca[idx,1], X_pca[idx,2], label=label)\n",
        "    ax.set_title(f\"3D PCA Projection — {title}\")\n",
        "    ax.legend()\n",
        "    plt.show()\n"
      ],
      "metadata": {
        "id": "5FYzCwQZA0gD"
      },
      "execution_count": null,
      "outputs": []
    },
    {
      "cell_type": "code",
      "source": [
        "plot_pca_3d(X_men_norm, df_men[\"Author-short\"], \"Men\")\n",
        "plot_pca_3d(X_women_norm, df_women[\"Author-short\"], \"Women\")"
      ],
      "metadata": {
        "id": "YvctYQRkA4en"
      },
      "execution_count": null,
      "outputs": []
    },
    {
      "cell_type": "markdown",
      "source": [
        "# 9. Distance Matrices (Euclidean, Cosine)"
      ],
      "metadata": {
        "id": "HADPO7F-MV4W"
      }
    },
    {
      "cell_type": "code",
      "source": [
        "def plot_distance_matrices(X, title=\"\"):\n",
        "    euc_dist = np.linalg.norm(X[:, None, :] - X[None, :, :], axis=-1)\n",
        "    cos_sim = np.dot(X, X.T) / X.shape[1]\n",
        "\n",
        "    fig, ax = plt.subplots(1, 2, figsize=(20, 8))\n",
        "    ax[0].imshow(euc_dist)\n",
        "    ax[0].set_title(f\"{title} — Euclidean Distance\")\n",
        "    ax[1].imshow(cos_sim)\n",
        "    ax[1].set_title(f\"{title} — Cosine Similarity\")\n",
        "    plt.show()"
      ],
      "metadata": {
        "id": "ODymdTXQA75s"
      },
      "execution_count": null,
      "outputs": []
    },
    {
      "cell_type": "code",
      "source": [
        "plot_distance_matrices(X_men_norm, title=\"Men\")\n",
        "plot_distance_matrices(X_women_norm, title=\"Women\")"
      ],
      "metadata": {
        "id": "LmcLVLHpA_K2"
      },
      "execution_count": null,
      "outputs": []
    },
    {
      "cell_type": "markdown",
      "source": [
        "# 10. Save (Optional)"
      ],
      "metadata": {
        "id": "wJAGwLxcMcAJ"
      }
    },
    {
      "cell_type": "code",
      "source": [
        "# np.save(\"X_men.npy\", X_men)\n",
        "# np.save(\"X_women.npy\", X_women)\n",
        "# df_men.to_csv(\"men_poems_with_embeddings.csv\", index=False)\n",
        "# df_women.to_csv(\"women_poems_with_embeddings.csv\", index=False)"
      ],
      "metadata": {
        "id": "0vWvN6KMMbvo"
      },
      "execution_count": null,
      "outputs": []
    }
  ]
}